{
 "cells": [
  {
   "cell_type": "code",
   "execution_count": 1,
   "id": "cell-1",
   "metadata": {
    "slideshow": {
     "slide_type": "slide"
    }
   },
   "outputs": [
    {
     "name": "stderr",
     "output_type": "stream",
     "text": [
      "c:\\Users\\varas\\AppData\\Local\\Programs\\Python\\Python310\\lib\\site-packages\\tqdm\\auto.py:21: TqdmWarning: IProgress not found. Please update jupyter and ipywidgets. See https://ipywidgets.readthedocs.io/en/stable/user_install.html\n",
      "  from .autonotebook import tqdm as notebook_tqdm\n"
     ]
    }
   ],
   "source": [
    "import pandas as pd\n",
    "import numpy as np\n",
    "import torch\n",
    "from scipy.stats import gamma, norm\n",
    "from darts.models import RNNModel,RegressionModel , RandomForest, XGBModel\n",
    "from darts.metrics import rmse, mape,mae, smape\n",
    "# from darts.utils.preprocessing import Scaler\n",
    "from sklearn.metrics import mean_absolute_error, mean_squared_error, r2_score\n",
    "from darts.dataprocessing.transformers.scaler import Scaler\n",
    "# from darts.ad import ThresholdAD\n",
    "from darts import TimeSeries\n",
    "\n",
    "import pywt\n",
    "from sklearn.svm import SVR\n",
    "from sklearn.metrics import mean_squared_error\n",
    "import json\n",
    "import matplotlib.pyplot as plt\n",
    "import seaborn as sns\n",
    "import os\n",
    "from statsmodels.tsa.seasonal import seasonal_decompose\n",
    "\n",
    "\n",
    "from pptx import Presentation\n",
    "from pptx.util import Inches, Pt\n",
    "from pptx.enum.shapes import MSO_SHAPE\n",
    "from pptx.dml.color import RGBColor\n",
    "\n",
    "import geopandas as gpd\n",
    "from shapely.geometry import Point\n",
    "from mpl_toolkits.axes_grid1.inset_locator import inset_axes\n",
    "from matplotlib.lines import Line2D\n",
    "from scipy.stats import pearsonr\n",
    "from pandas.tseries.offsets import MonthEnd\n",
    "\n",
    "# Set random seed for reproducibility\n",
    "SEED = 42\n",
    "np.random.seed(SEED)\n",
    "torch.manual_seed(SEED)\n",
    "torch.backends.cudnn.deterministic = True\n",
    "torch.backends.cudnn.benchmark = False\n"
   ]
  },
  {
   "cell_type": "markdown",
   "id": "cell-2",
   "metadata": {},
   "source": [
    "\n",
    "Read and preprocess the input data\n"
   ]
  },
  {
   "cell_type": "code",
   "execution_count": 2,
   "id": "8b43e97b",
   "metadata": {},
   "outputs": [],
   "source": [
    "\n",
    "def load_data(csv_path):\n",
    "    df = pd.read_csv(csv_path, parse_dates=[\"ds\"])\n",
    "    df.rename(columns={\n",
    "        \"ds\": \"date\",\n",
    "        \"precip\": \"rainfall\",\n",
    "        \"SPI_1\": \"spi1\",\n",
    "        \"SPI_3\": \"spi3\",\n",
    "        \"SPI_6\": \"spi6\",\n",
    "        \"SPI_9\": \"spi9\",\n",
    "        \"SPI_12\": \"spi12\",\n",
    "        \"SPI_24\": \"spi24\",\n",
    "        \"station_id\": \"station\"\n",
    "    }, inplace=True)\n",
    "    df.set_index(\"date\", inplace=True)\n",
    "\n",
    "    return df\n",
    "\n",
    "\n",
    "def remove_seasonality(series):\n",
    "    decomposition = seasonal_decompose(series, model='additive', period=12, extrapolate_trend='freq')\n",
    "    deseasonalized = series - decomposition.seasonal\n",
    "    return deseasonalized, decomposition.seasonal\n",
    "\n",
    "\n",
    "def make_features(df, timescale, lags=12):\n",
    "    # Use SPI timescale and rainfall as covariates\n",
    "    data = df[[f\"spi{timescale}\", \"rainfall\"]].copy()\n",
    "    data = data.rename(columns={f\"spi{timescale}\": \"spi\"})\n",
    "    data.dropna(inplace=True)\n",
    "\n",
    "\n",
    "\n",
    "    # remove seasonality\n",
    "    # data['spi_deseason'] = remove_seasonality(data['spi'])\n",
    "    data['spi_deseason'], seasonal = remove_seasonality(data['spi'])\n",
    "    data['seasonal'] = seasonal\n",
    "\n",
    "    # lag features\n",
    "    for lag in range(1, lags+1):\n",
    "        data[f'spi_lag_{lag}'] = data['spi_deseason'].shift(lag)\n",
    "    data.dropna(inplace=True)\n",
    "    return data\n",
    "\n"
   ]
  },
  {
   "cell_type": "markdown",
   "id": "ff6d6455",
   "metadata": {},
   "source": [
    "class TaylorDiagram"
   ]
  },
  {
   "cell_type": "code",
   "execution_count": 3,
   "id": "d0f24f71",
   "metadata": {},
   "outputs": [],
   "source": [
    "\n",
    "class TaylorDiagram:\n",
    "    def __init__(self, ref_std, fig=None, rect=111, label='Reference'):\n",
    "        self.ref_std = ref_std\n",
    "        self.sample_points = []\n",
    "\n",
    "        self.fig = fig if fig is not None else plt.figure(figsize=(8, 6))\n",
    "        self.ax = self.fig.add_subplot(rect, polar=True)\n",
    "\n",
    "        # Configure polar axes\n",
    "        self.ax.set_theta_zero_location('E')\n",
    "\n",
    "        self.ax.set_theta_direction(-1)\n",
    "        self.ax.set_theta_offset(np.pi / 2)\n",
    "        self.ax.set_ylim(0, 1.5 * ref_std)\n",
    "        self.ax.set_thetamin(0)\n",
    "        self.ax.set_thetamax(90)\n",
    "\n",
    "        # Set up correlation coefficient grid\n",
    "        self._setup_axes()\n",
    "\n",
    "        # Plot reference point\n",
    "        self.ax.plot([0], [ref_std], 'k*', markersize=12, label=label)\n",
    "\n",
    "    def _setup_axes(self):\n",
    "        corrs = np.array([0.0, 0.2, 0.4, 0.6, 0.8, 0.9, 0.95, 0.99, 1.0])\n",
    "        angles = np.arccos(corrs)\n",
    "\n",
    "        self.ax.set_thetagrids(np.degrees(angles), labels=[f\"{c:.2f}\" for c in corrs], fontsize=10)\n",
    "        self.ax.set_rlabel_position(135)\n",
    "        self.ax.set_ylabel('Standard Deviation', fontsize=12)\n",
    "\n",
    "        # Add radial grid lines manually\n",
    "        for angle in angles:\n",
    "            self.ax.plot([angle, angle], [0, self.ax.get_ylim()[1]], color='lightgray', linestyle='--', linewidth=0.5)\n",
    "\n",
    "    def add_sample(self, stddev, corrcoef, label, marker='o', color=None):\n",
    "        theta = np.arccos(corrcoef)\n",
    "        point, = self.ax.plot(theta, stddev, marker=marker, label=label, color=color, markersize=8)\n",
    "        self.sample_points.append(point)\n",
    "\n",
    "    def add_contours(self, levels=6, cmap='coolwarm', linewidths=1.2):\n",
    "        rs, ts = np.meshgrid(\n",
    "            np.linspace(0, self.ax.get_ylim()[1], 300),\n",
    "            np.linspace(0, np.pi / 2, 300)\n",
    "        )\n",
    "        rms = np.sqrt(\n",
    "            self.ref_std**2 + rs**2 - 2 * self.ref_std * rs * np.cos(ts)\n",
    "        )\n",
    "        contours = self.ax.contour(\n",
    "            ts, rs, rms,\n",
    "            levels=np.linspace(0, self.ax.get_ylim()[1], levels),\n",
    "            cmap=cmap,\n",
    "            linewidths=linewidths\n",
    "        )\n",
    "        self.fig.colorbar(contours, ax=self.ax, pad=0.1, orientation='vertical', label=\"RMS Difference\")\n",
    "        return contours\n",
    "\n",
    "    def show(self, title='Taylor Diagram'):\n",
    "        self.ax.set_title(title, fontsize=14, pad=20)\n",
    "        self.ax.legend(loc='upper right', bbox_to_anchor=(1.3, 1.1))\n",
    "        plt.tight_layout()\n",
    "        plt.show()\n"
   ]
  },
  {
   "cell_type": "markdown",
   "id": "f926e076",
   "metadata": {
    "tags": [
     "parameters"
    ]
   },
   "source": [
    "Define Models and train\n"
   ]
  },
  {
   "cell_type": "code",
   "execution_count": 20,
   "id": "99bb81f6",
   "metadata": {},
   "outputs": [],
   "source": [
    "\n",
    "class WBBLSTMModel:\n",
    "    def __init__(self, wavelet='db1', level=1, **lstm_kwargs):\n",
    "        self.wavelet = wavelet\n",
    "        self.level = level\n",
    "        self.lstm_kwargs = lstm_kwargs\n",
    "        self.lstm_model = RNNModel(model='LSTM', **lstm_kwargs)\n",
    "        \n",
    "    def wavelet_decompose(self, series: TimeSeries):\n",
    "        coeffs = pywt.wavedec(series.values().flatten(), self.wavelet, level=self.level)\n",
    "        return coeffs\n",
    "    \n",
    "    def wavelet_reconstruct(self, coeffs):\n",
    "        return pywt.waverec(coeffs, self.wavelet)\n",
    "    \n",
    "    def fit(self, series: TimeSeries, future_covariates: TimeSeries = None):\n",
    "        # Decompose\n",
    "        coeffs = self.wavelet_decompose(series)\n",
    "        approx = coeffs[0]  # Use approximation coeffs as input to LSTM\n",
    "        approx_series = TimeSeries.from_values(approx.reshape(-1, 1))\n",
    "\n",
    "        if future_covariates is not None:\n",
    "            future_covariates = future_covariates.slice_intersect(series)\n",
    "            approx_covariates = TimeSeries.from_values(future_covariates.values())\n",
    "        else:\n",
    "            approx_covariates = None\n",
    "            \n",
    "        # Fit the internal LSTM model\n",
    "        self.lstm_model.fit(approx_series,future_covariates=approx_covariates)\n",
    "        \n",
    "\n",
    "    def predict(self, n,series: TimeSeries, future_covariates: TimeSeries = None):\n",
    "        coeffs = self.wavelet_decompose(series)\n",
    "        approx = coeffs[0]\n",
    "        approx_series = TimeSeries.from_values(approx.reshape(-1, 1))\n",
    "\n",
    "        if future_covariates is not None:\n",
    "            future_covariates = future_covariates.slice_intersect(series)\n",
    "            approx_covariates = TimeSeries.from_values(future_covariates.values())\n",
    "        else:\n",
    "            approx_covariates = None\n",
    "\n",
    "        approx_pred_ts  = self.lstm_model.predict(n, series=approx_series, future_covariates=approx_covariates)\n",
    "        approx_pred = approx_pred_ts .values().flatten()\n",
    "\n",
    "        dummy_signal = np.zeros(n)\n",
    "        dummy_coeffs = pywt.wavedec(dummy_signal, self.wavelet, level=self.level)\n",
    "        expected_len = dummy_coeffs[0].shape[0]\n",
    "\n",
    "        if len(approx_pred) < expected_len:\n",
    "            approx_pred = np.pad(approx_pred, (0, expected_len - len(approx_pred)), mode='edge')\n",
    "        elif len(approx_pred) > expected_len:\n",
    "            approx_pred = approx_pred[:expected_len]\n",
    "\n",
    "        pred_coeffs = [approx_pred] + [np.zeros_like(c) for c in dummy_coeffs[1:]]\n",
    "        full_series = self.wavelet_reconstruct(pred_coeffs)\n",
    "\n",
    "        output_len = len(approx_pred_ts.time_index)\n",
    "        if len(full_series) > output_len:\n",
    "            full_series = full_series[:output_len]\n",
    "        elif len(full_series) < output_len:\n",
    "            full_series = np.pad(full_series, (0, output_len - len(full_series)), mode='edge')\n",
    "\n",
    "        # 3) Build a new approximation array: [historic approx | predicted approx]\n",
    "        # full_approx = np.concatenate([hist_approx, approx_pred])\n",
    "\n",
    "\n",
    "\n",
    "        # full_coeffs   = [full_approx] + [np.zeros_like(c) for c in dummy_coeffs[1:]]\n",
    "\n",
    "        # 3. Replace only the *approximation level* with your forecast (but RESHAPED to the correct length)\n",
    "        # approx_pred_downsampled = pywt.wavedec(approx_pred, self.wavelet, level=self.level)[0]\n",
    "\n",
    "        # 4. Now use it with the correct detail coeff shapes\n",
    "        # coeffs = [approx_pred_downsampled] + [np.zeros_like(c) for c in dummy_coeffs[1:]]\n",
    "\n",
    "        # 5. Reconstruct\n",
    "        # full_series = self.wavelet_reconstruct(coeffs)\n",
    "\n",
    "        # 5) zero out all detail levels (you could also keep hist_details if you want)\n",
    "\n",
    "        # # 6) reconstruct the full signal\n",
    "        # full_series   = self.wavelet_reconstruct(full_coeffs)\n",
    "\n",
    "        # 7) extract just the last n points (the forecast window)\n",
    "        # forecast_vals = full_series[-n:]\n",
    "\n",
    "        # 8) wrap back into TimeSeries with the right ds index\n",
    "        return TimeSeries.from_times_and_values(\n",
    "            series.time_index[-n:],  # Use real datetime index for forecast\n",
    "            full_series[-n:].reshape(-1, 1),\n",
    "            columns=approx_pred_ts.components\n",
    "        )\n",
    "    def save(self, path):\n",
    "        # os.makedirs(path, exist_ok=True)\n",
    "\n",
    "        # Save LSTM model\n",
    "        self.lstm_model.save(path)\n",
    "\n",
    "        # Save wavelet settings and kwargs\n",
    "        meta = {\n",
    "        'wavelet': self.wavelet,\n",
    "            'level': self.level,\n",
    "            'lstm_kwargs': self.lstm_kwargs\n",
    "        }\n",
    "\n",
    "        with open(os.path.join(os.path.dirname(path), \"WBILSTMmeta.json\"), \"w\") as f:\n",
    "            json.dump(meta, f)\n",
    "\n",
    "    @classmethod\n",
    "    def load(cls, path):\n",
    "        with open(os.path.join(os.path.dirname(path), \"WBILSTMmeta.json\"), \"r\") as f:\n",
    "            meta = json.load(f)\n",
    "\n",
    "\n",
    "        wavelet = meta['wavelet']\n",
    "        level = meta['level']\n",
    "        lstm_kwargs = meta['lstm_kwargs']\n",
    "        instance = cls(wavelet=wavelet, level=level, **lstm_kwargs)\n",
    "\n",
    "        # instance = cls(**meta)\n",
    "        instance.lstm_model = RNNModel.load(path)\n",
    "        return instance\n",
    "\n",
    "\n",
    "\n",
    "window_size = 12\n",
    "num_epochs=100\n",
    "horizon = 1 \n",
    "\n",
    "\n",
    "model_constructors = {\n",
    "       'ExtraTF': lambda: XGBModel(\n",
    "         lags=window_size,\n",
    "        lags_future_covariates=[0],\n",
    "         output_chunk_length=horizon,\n",
    "         random_state=SEED,\n",
    "         objective='reg:squarederror'\n",
    "    ),\n",
    "    'RandomRF': lambda: RandomForest(\n",
    "         lags=window_size,\n",
    "         lags_future_covariates=[0],\n",
    "         output_chunk_length=horizon,\n",
    "         n_estimators=200,\n",
    "         criterion=\"absolute_error\",\n",
    "         random_state=SEED\n",
    "    ),\n",
    "    'SVR': lambda: RegressionModel(\n",
    "         model=SVR(kernel='rbf'),\n",
    "         lags_future_covariates=[0],\n",
    "         lags=window_size,\n",
    "         output_chunk_length=horizon\n",
    "    ),\n",
    "    'LSTM': lambda: RNNModel(\n",
    "         model='LSTM',\n",
    "         input_chunk_length=window_size,\n",
    "         output_chunk_length=horizon,\n",
    "         hidden_dim=25,\n",
    "         n_rnn_layers=2,\n",
    "         dropout=0.1,\n",
    "         batch_size=16,\n",
    "         n_epochs=num_epochs,\n",
    "         optimizer_kwargs={'lr':1e-3},\n",
    "         random_state=SEED\n",
    "    ),\n",
    "    'WBBLSTM'   : lambda: WBBLSTMModel(\n",
    "        wavelet='db1',\n",
    "        level=1,\n",
    "        input_chunk_length=window_size,\n",
    "        output_chunk_length=horizon,\n",
    "        hidden_dim=25,\n",
    "        n_rnn_layers=2,\n",
    "        dropout=0.1,\n",
    "        batch_size=16,\n",
    "        n_epochs=num_epochs,\n",
    "        optimizer_kwargs={'lr':1e-3},\n",
    "        random_state=SEED\n",
    "    )\n",
    "}\n",
    "\n"
   ]
  },
  {
   "cell_type": "markdown",
   "id": "e7f4fc8a",
   "metadata": {},
   "source": [
    "main loop\n"
   ]
  },
  {
   "cell_type": "code",
   "execution_count": null,
   "id": "16601ef9",
   "metadata": {},
   "outputs": [
    {
     "name": "stdout",
     "output_type": "stream",
     "text": [
      "\n",
      "=== Station 40700 | 1 ===\n",
      "Model ExtraTF already trained. Skipping.\n",
      "!!!@@@-----Loading ExtraTF model from results\\40700/1\\ExtraTF…\n",
      "Model RandomRF already trained. Skipping.\n",
      "!!!@@@-----Loading RandomRF model from results\\40700/1\\RandomRF…\n"
     ]
    },
    {
     "name": "stderr",
     "output_type": "stream",
     "text": [
      "GPU available: False, used: False\n",
      "TPU available: False, using: 0 TPU cores\n",
      "HPU available: False, using: 0 HPUs\n"
     ]
    },
    {
     "name": "stdout",
     "output_type": "stream",
     "text": [
      "Model SVR already trained. Skipping.\n",
      "!!!@@@-----Loading SVR model from results\\40700/1\\SVR…\n",
      "Model LSTM already trained. Skipping.\n",
      "!!!@@@-----Loading LSTM model from results\\40700/1\\LSTM…\n",
      "Predicting DataLoader 0: 100%|██████████| 1/1 [00:00<00:00, 96.00it/s]"
     ]
    },
    {
     "name": "stderr",
     "output_type": "stream",
     "text": [
      "ignoring user defined `output_chunk_length`. RNNModel uses a fixed `output_chunk_length=1`.\n",
      "GPU available: False, used: False\n",
      "TPU available: False, using: 0 TPU cores\n",
      "HPU available: False, using: 0 HPUs\n"
     ]
    },
    {
     "name": "stdout",
     "output_type": "stream",
     "text": [
      "\n",
      "Model WBBLSTM already trained. Skipping.\n",
      "!!!@@@-----Loading WBBLSTM model from results\\40700/1\\WBBLSTM…\n",
      "Predicting DataLoader 0: 100%|██████████| 1/1 [00:00<00:00, 57.94it/s]\n",
      "negative corr\n",
      "Epoch 5:  16%|█▌        | 3/19 [20:08<1:47:27,  0.00it/s, train_loss=0.199]\n",
      "Epoch 56:  26%|██▋       | 5/19 [02:19<06:29,  0.04it/s, train_loss=0.0368] \n",
      "std_p: 0.73, corr: 0.81, rmse: 0.48, mae_v: 0.37,sm: 86.98 - ExtraTF \n",
      "std_p: 0.68, corr: 0.83, rmse: 0.46, mae_v: 0.34,sm: 77.22 - RandomRF \n",
      "std_p: 0.67, corr: 0.84, rmse: 0.45, mae_v: 0.32,sm: 69.37 - SVR \n",
      "std_p: 0.81, corr: 0.82, rmse: 0.49, mae_v: 0.39,sm: 90.37 - LSTM \n",
      "std_p: 0.41, corr: 0.11, rmse: 0.88, mae_v: 0.69,sm: 146.19 - WBBLSTM \n",
      "✔️ Done with 40700 | 1\n",
      "\n",
      "\n",
      "=== Station 40700 | 3 ===\n",
      "Model ExtraTF already trained. Skipping.\n",
      "!!!@@@-----Loading ExtraTF model from results\\40700/3\\ExtraTF…\n",
      "Model RandomRF already trained. Skipping.\n",
      "!!!@@@-----Loading RandomRF model from results\\40700/3\\RandomRF…\n"
     ]
    },
    {
     "name": "stderr",
     "output_type": "stream",
     "text": [
      "GPU available: False, used: False\n",
      "TPU available: False, using: 0 TPU cores\n",
      "HPU available: False, using: 0 HPUs\n"
     ]
    },
    {
     "name": "stdout",
     "output_type": "stream",
     "text": [
      "Model SVR already trained. Skipping.\n",
      "!!!@@@-----Loading SVR model from results\\40700/3\\SVR…\n",
      "Model LSTM already trained. Skipping.\n",
      "!!!@@@-----Loading LSTM model from results\\40700/3\\LSTM…\n",
      "Predicting DataLoader 0: 100%|██████████| 1/1 [00:00<00:00, 90.60it/s]"
     ]
    },
    {
     "name": "stderr",
     "output_type": "stream",
     "text": [
      "ignoring user defined `output_chunk_length`. RNNModel uses a fixed `output_chunk_length=1`.\n",
      "GPU available: False, used: False\n",
      "TPU available: False, using: 0 TPU cores\n",
      "HPU available: False, using: 0 HPUs\n"
     ]
    },
    {
     "name": "stdout",
     "output_type": "stream",
     "text": [
      "\n",
      "Model WBBLSTM already trained. Skipping.\n",
      "!!!@@@-----Loading WBBLSTM model from results\\40700/3\\WBBLSTM…\n",
      "Predicting DataLoader 0: 100%|██████████| 1/1 [00:00<00:00, 103.50it/s]\n",
      "std_p: 0.55, corr: 0.55, rmse: 0.71, mae_v: 0.51,sm: 116.86 - ExtraTF \n",
      "std_p: 0.50, corr: 0.72, rmse: 0.61, mae_v: 0.37,sm: 97.34 - RandomRF \n",
      "std_p: 0.36, corr: 0.68, rmse: 0.68, mae_v: 0.42,sm: 108.90 - SVR \n",
      "std_p: 0.67, corr: 0.73, rmse: 0.60, mae_v: 0.42,sm: 96.72 - LSTM \n",
      "std_p: 0.55, corr: 0.25, rmse: 0.92, mae_v: 0.67,sm: 137.96 - WBBLSTM \n",
      "✔️ Done with 40700 | 3\n",
      "\n",
      "\n",
      "=== Station 40700 | 6 ===\n",
      "Model ExtraTF already trained. Skipping.\n",
      "!!!@@@-----Loading ExtraTF model from results\\40700/6\\ExtraTF…\n",
      "Model RandomRF already trained. Skipping.\n",
      "!!!@@@-----Loading RandomRF model from results\\40700/6\\RandomRF…\n"
     ]
    },
    {
     "name": "stderr",
     "output_type": "stream",
     "text": [
      "GPU available: False, used: False\n",
      "TPU available: False, using: 0 TPU cores\n",
      "HPU available: False, using: 0 HPUs\n"
     ]
    },
    {
     "name": "stdout",
     "output_type": "stream",
     "text": [
      "Model SVR already trained. Skipping.\n",
      "!!!@@@-----Loading SVR model from results\\40700/6\\SVR…\n",
      "Model LSTM already trained. Skipping.\n",
      "!!!@@@-----Loading LSTM model from results\\40700/6\\LSTM…\n",
      "Predicting DataLoader 0: 100%|██████████| 1/1 [00:00<00:00, 44.88it/s]"
     ]
    },
    {
     "name": "stderr",
     "output_type": "stream",
     "text": [
      "ignoring user defined `output_chunk_length`. RNNModel uses a fixed `output_chunk_length=1`.\n",
      "GPU available: False, used: False\n",
      "TPU available: False, using: 0 TPU cores\n",
      "HPU available: False, using: 0 HPUs\n"
     ]
    },
    {
     "name": "stdout",
     "output_type": "stream",
     "text": [
      "\n",
      "Model WBBLSTM already trained. Skipping.\n",
      "!!!@@@-----Loading WBBLSTM model from results\\40700/6\\WBBLSTM…\n",
      "Predicting DataLoader 0: 100%|██████████| 1/1 [00:00<00:00, 91.29it/s]\n",
      "negative corr\n",
      "std_p: 0.50, corr: 0.78, rmse: 0.54, mae_v: 0.40,sm: 82.35 - ExtraTF \n",
      "std_p: 0.60, corr: 0.89, rmse: 0.40, mae_v: 0.29,sm: 72.49 - RandomRF \n",
      "std_p: 0.44, corr: 0.88, rmse: 0.55, mae_v: 0.41,sm: 90.36 - SVR \n",
      "std_p: 0.74, corr: 0.93, rmse: 0.32, mae_v: 0.25,sm: 69.05 - LSTM \n",
      "std_p: 0.89, corr: 0.44, rmse: 1.03, mae_v: 0.80,sm: 129.80 - WBBLSTM \n",
      "✔️ Done with 40700 | 6\n",
      "\n",
      "\n",
      "=== Station 40700 | 9 ===\n",
      "Model ExtraTF already trained. Skipping.\n",
      "!!!@@@-----Loading ExtraTF model from results\\40700/9\\ExtraTF…\n",
      "Model RandomRF already trained. Skipping.\n",
      "!!!@@@-----Loading RandomRF model from results\\40700/9\\RandomRF…\n"
     ]
    },
    {
     "name": "stderr",
     "output_type": "stream",
     "text": [
      "GPU available: False, used: False\n",
      "TPU available: False, using: 0 TPU cores\n",
      "HPU available: False, using: 0 HPUs\n"
     ]
    },
    {
     "name": "stdout",
     "output_type": "stream",
     "text": [
      "Model SVR already trained. Skipping.\n",
      "!!!@@@-----Loading SVR model from results\\40700/9\\SVR…\n",
      "Model LSTM already trained. Skipping.\n",
      "!!!@@@-----Loading LSTM model from results\\40700/9\\LSTM…\n",
      "Predicting DataLoader 0: 100%|██████████| 1/1 [00:00<00:00, 63.12it/s]"
     ]
    },
    {
     "name": "stderr",
     "output_type": "stream",
     "text": [
      "ignoring user defined `output_chunk_length`. RNNModel uses a fixed `output_chunk_length=1`.\n",
      "GPU available: False, used: False\n",
      "TPU available: False, using: 0 TPU cores\n",
      "HPU available: False, using: 0 HPUs\n"
     ]
    },
    {
     "name": "stdout",
     "output_type": "stream",
     "text": [
      "\n",
      "Model WBBLSTM already trained. Skipping.\n",
      "!!!@@@-----Loading WBBLSTM model from results\\40700/9\\WBBLSTM…\n",
      "Predicting DataLoader 0: 100%|██████████| 1/1 [00:00<00:00, 403.84it/s]\n",
      "std_p: 0.46, corr: 0.71, rmse: 0.61, mae_v: 0.48,sm: 100.30 - ExtraTF \n",
      "std_p: 0.54, corr: 0.89, rmse: 0.42, mae_v: 0.32,sm: 69.22 - RandomRF \n",
      "std_p: 0.49, corr: 0.87, rmse: 0.53, mae_v: 0.40,sm: 84.99 - SVR \n",
      "std_p: 0.67, corr: 0.94, rmse: 0.31, mae_v: 0.23,sm: 55.43 - LSTM \n",
      "std_p: 0.51, corr: 0.14, rmse: 0.94, mae_v: 0.74,sm: 131.33 - WBBLSTM \n",
      "✔️ Done with 40700 | 9\n",
      "\n",
      "\n",
      "=== Station 40700 | 12 ===\n",
      "Model ExtraTF already trained. Skipping.\n",
      "!!!@@@-----Loading ExtraTF model from results\\40700/12\\ExtraTF…\n",
      "Model RandomRF already trained. Skipping.\n",
      "!!!@@@-----Loading RandomRF model from results\\40700/12\\RandomRF…\n"
     ]
    },
    {
     "name": "stderr",
     "output_type": "stream",
     "text": [
      "GPU available: False, used: False\n",
      "TPU available: False, using: 0 TPU cores\n",
      "HPU available: False, using: 0 HPUs\n"
     ]
    },
    {
     "name": "stdout",
     "output_type": "stream",
     "text": [
      "Model SVR already trained. Skipping.\n",
      "!!!@@@-----Loading SVR model from results\\40700/12\\SVR…\n",
      "Model LSTM already trained. Skipping.\n",
      "!!!@@@-----Loading LSTM model from results\\40700/12\\LSTM…\n",
      "Predicting DataLoader 0: 100%|██████████| 1/1 [00:00<00:00, 84.17it/s]"
     ]
    },
    {
     "name": "stderr",
     "output_type": "stream",
     "text": [
      "ignoring user defined `output_chunk_length`. RNNModel uses a fixed `output_chunk_length=1`.\n",
      "GPU available: False, used: False\n",
      "TPU available: False, using: 0 TPU cores\n",
      "HPU available: False, using: 0 HPUs\n"
     ]
    },
    {
     "name": "stdout",
     "output_type": "stream",
     "text": [
      "\n",
      "Model WBBLSTM already trained. Skipping.\n",
      "!!!@@@-----Loading WBBLSTM model from results\\40700/12\\WBBLSTM…\n",
      "Predicting DataLoader 0: 100%|██████████| 1/1 [00:00<00:00, 100.13it/s]\n",
      "negative corr\n",
      "std_p: 0.33, corr: 0.49, rmse: 0.73, mae_v: 0.58,sm: 97.35 - ExtraTF \n",
      "std_p: 0.52, corr: 0.91, rmse: 0.35, mae_v: 0.26,sm: 56.94 - RandomRF \n",
      "std_p: 0.40, corr: 0.78, rmse: 0.60, mae_v: 0.45,sm: 87.35 - SVR \n",
      "std_p: 0.61, corr: 0.88, rmse: 0.37, mae_v: 0.25,sm: 49.68 - LSTM \n",
      "std_p: 0.54, corr: 0.37, rmse: 0.96, mae_v: 0.76,sm: 139.30 - WBBLSTM \n",
      "✔️ Done with 40700 | 12\n",
      "\n",
      "\n",
      "=== Station 40700 | 24 ===\n",
      "Model ExtraTF already trained. Skipping.\n",
      "!!!@@@-----Loading ExtraTF model from results\\40700/24\\ExtraTF…\n",
      "Model RandomRF already trained. Skipping.\n",
      "!!!@@@-----Loading RandomRF model from results\\40700/24\\RandomRF…\n"
     ]
    },
    {
     "name": "stderr",
     "output_type": "stream",
     "text": [
      "GPU available: False, used: False\n",
      "TPU available: False, using: 0 TPU cores\n",
      "HPU available: False, using: 0 HPUs\n"
     ]
    },
    {
     "name": "stdout",
     "output_type": "stream",
     "text": [
      "Model SVR already trained. Skipping.\n",
      "!!!@@@-----Loading SVR model from results\\40700/24\\SVR…\n",
      "Model LSTM already trained. Skipping.\n",
      "!!!@@@-----Loading LSTM model from results\\40700/24\\LSTM…\n",
      "Predicting DataLoader 0: 100%|██████████| 1/1 [00:00<00:00, 99.67it/s]"
     ]
    },
    {
     "name": "stderr",
     "output_type": "stream",
     "text": [
      "ignoring user defined `output_chunk_length`. RNNModel uses a fixed `output_chunk_length=1`.\n",
      "GPU available: False, used: False\n",
      "TPU available: False, using: 0 TPU cores\n",
      "HPU available: False, using: 0 HPUs\n"
     ]
    },
    {
     "name": "stdout",
     "output_type": "stream",
     "text": [
      "\n",
      "Model WBBLSTM already trained. Skipping.\n",
      "!!!@@@-----Loading WBBLSTM model from results\\40700/24\\WBBLSTM…\n",
      "Predicting DataLoader 0: 100%|██████████| 1/1 [00:00<00:00, 108.58it/s]\n",
      "negative corr\n",
      "std_p: 0.18, corr: 0.28, rmse: 0.93, mae_v: 0.74,sm: 123.35 - ExtraTF \n",
      "std_p: 0.30, corr: 0.76, rmse: 0.47, mae_v: 0.28,sm: 39.23 - RandomRF \n",
      "std_p: 0.39, corr: 0.83, rmse: 0.49, mae_v: 0.37,sm: 61.46 - SVR \n",
      "std_p: 0.40, corr: 0.85, rmse: 0.40, mae_v: 0.30,sm: 47.82 - LSTM \n",
      "std_p: 0.52, corr: 0.48, rmse: 0.59, mae_v: 0.49,sm: 70.19 - WBBLSTM \n",
      "✔️ Done with 40700 | 24\n",
      "\n",
      "📄 Results saved as CSV: results\\results_summary.csv\n",
      "\n",
      "=== Station 40701 | 1 ===\n",
      "Model ExtraTF already trained. Skipping.\n",
      "!!!@@@-----Loading ExtraTF model from results\\40701/1\\ExtraTF…\n",
      "Model RandomRF already trained. Skipping.\n",
      "!!!@@@-----Loading RandomRF model from results\\40701/1\\RandomRF…\n"
     ]
    },
    {
     "name": "stderr",
     "output_type": "stream",
     "text": [
      "ignoring user defined `output_chunk_length`. RNNModel uses a fixed `output_chunk_length=1`.\n",
      "GPU available: False, used: False\n",
      "TPU available: False, using: 0 TPU cores\n",
      "HPU available: False, using: 0 HPUs\n",
      "\n",
      "  | Name            | Type             | Params | Mode \n",
      "-------------------------------------------------------------\n",
      "0 | criterion       | MSELoss          | 0      | train\n",
      "1 | train_criterion | MSELoss          | 0      | train\n",
      "2 | val_criterion   | MSELoss          | 0      | train\n",
      "3 | train_metrics   | MetricCollection | 0      | train\n",
      "4 | val_metrics     | MetricCollection | 0      | train\n",
      "5 | rnn             | LSTM             | 9.3 K  | train\n",
      "6 | V               | Linear           | 26     | train\n",
      "-------------------------------------------------------------\n",
      "9.3 K     Trainable params\n",
      "0         Non-trainable params\n",
      "9.3 K     Total params\n",
      "0.037     Total estimated model params size (MB)\n",
      "7         Modules in train mode\n",
      "0         Modules in eval mode\n"
     ]
    },
    {
     "name": "stdout",
     "output_type": "stream",
     "text": [
      "Model SVR already trained. Skipping.\n",
      "!!!@@@-----Loading SVR model from results\\40701/1\\SVR…\n",
      "Epoch 99: 100%|██████████| 19/19 [00:00<00:00, 83.51it/s, train_loss=0.0226] "
     ]
    },
    {
     "name": "stderr",
     "output_type": "stream",
     "text": [
      "`Trainer.fit` stopped: `max_epochs=100` reached.\n"
     ]
    },
    {
     "name": "stdout",
     "output_type": "stream",
     "text": [
      "Epoch 99: 100%|██████████| 19/19 [00:00<00:00, 83.24it/s, train_loss=0.0226]\n",
      " saved.\n"
     ]
    },
    {
     "name": "stderr",
     "output_type": "stream",
     "text": [
      "GPU available: False, used: False\n",
      "TPU available: False, using: 0 TPU cores\n",
      "HPU available: False, using: 0 HPUs\n"
     ]
    },
    {
     "name": "stdout",
     "output_type": "stream",
     "text": [
      "Predicting DataLoader 0: 100%|██████████| 1/1 [00:00<00:00, 83.48it/s] \n"
     ]
    },
    {
     "name": "stderr",
     "output_type": "stream",
     "text": [
      "ignoring user defined `output_chunk_length`. RNNModel uses a fixed `output_chunk_length=1`.\n"
     ]
    },
    {
     "name": "stdout",
     "output_type": "stream",
     "text": [
      "!!!@@@------Training WBBLSTM…"
     ]
    },
    {
     "name": "stderr",
     "output_type": "stream",
     "text": [
      "GPU available: False, used: False\n",
      "TPU available: False, using: 0 TPU cores\n",
      "HPU available: False, using: 0 HPUs\n",
      "\n",
      "  | Name            | Type             | Params | Mode \n",
      "-------------------------------------------------------------\n",
      "0 | criterion       | MSELoss          | 0      | train\n",
      "1 | train_criterion | MSELoss          | 0      | train\n",
      "2 | val_criterion   | MSELoss          | 0      | train\n",
      "3 | train_metrics   | MetricCollection | 0      | train\n",
      "4 | val_metrics     | MetricCollection | 0      | train\n",
      "5 | rnn             | LSTM             | 9.3 K  | train\n",
      "6 | V               | Linear           | 26     | train\n",
      "-------------------------------------------------------------\n",
      "9.3 K     Trainable params\n",
      "0         Non-trainable params\n",
      "9.3 K     Total params\n",
      "0.037     Total estimated model params size (MB)\n",
      "7         Modules in train mode\n",
      "0         Modules in eval mode\n"
     ]
    },
    {
     "name": "stdout",
     "output_type": "stream",
     "text": [
      "Epoch 99: 100%|██████████| 9/9 [00:00<00:00, 84.03it/s, train_loss=0.0516] "
     ]
    },
    {
     "name": "stderr",
     "output_type": "stream",
     "text": [
      "`Trainer.fit` stopped: `max_epochs=100` reached.\n"
     ]
    },
    {
     "name": "stdout",
     "output_type": "stream",
     "text": [
      "Epoch 99: 100%|██████████| 9/9 [00:00<00:00, 84.03it/s, train_loss=0.0516]\n",
      " saved.\n"
     ]
    },
    {
     "name": "stderr",
     "output_type": "stream",
     "text": [
      "GPU available: False, used: False\n",
      "TPU available: False, using: 0 TPU cores\n",
      "HPU available: False, using: 0 HPUs\n"
     ]
    },
    {
     "name": "stdout",
     "output_type": "stream",
     "text": [
      "Predicting DataLoader 0: 100%|██████████| 1/1 [00:00<00:00, 71.86it/s]  \n",
      "negative corr\n",
      "std_p: 0.79, corr: 0.82, rmse: 0.48, mae_v: 0.37,sm: 91.40 - ExtraTF \n",
      "std_p: 0.72, corr: 0.84, rmse: 0.45, mae_v: 0.34,sm: 83.00 - RandomRF \n",
      "std_p: 0.57, corr: 0.78, rmse: 0.53, mae_v: 0.37,sm: 82.56 - SVR \n",
      "std_p: 0.72, corr: 0.85, rmse: 0.43, mae_v: 0.33,sm: 74.30 - LSTM \n",
      "std_p: 0.31, corr: 0.30, rmse: 0.79, mae_v: 0.60,sm: 138.07 - WBBLSTM \n",
      "✔️ Done with 40701 | 1\n",
      "\n",
      "\n",
      "=== Station 40701 | 3 ===\n",
      "!!!@@@------Training ExtraTF… saved.\n",
      "!!!@@@------Training RandomRF… saved.\n"
     ]
    },
    {
     "name": "stderr",
     "output_type": "stream",
     "text": [
      "ignoring user defined `output_chunk_length`. RNNModel uses a fixed `output_chunk_length=1`.\n",
      "GPU available: False, used: False\n",
      "TPU available: False, using: 0 TPU cores\n",
      "HPU available: False, using: 0 HPUs\n",
      "\n",
      "  | Name            | Type             | Params | Mode \n",
      "-------------------------------------------------------------\n",
      "0 | criterion       | MSELoss          | 0      | train\n",
      "1 | train_criterion | MSELoss          | 0      | train\n",
      "2 | val_criterion   | MSELoss          | 0      | train\n",
      "3 | train_metrics   | MetricCollection | 0      | train\n",
      "4 | val_metrics     | MetricCollection | 0      | train\n",
      "5 | rnn             | LSTM             | 9.3 K  | train\n",
      "6 | V               | Linear           | 26     | train\n",
      "-------------------------------------------------------------\n",
      "9.3 K     Trainable params\n",
      "0         Non-trainable params\n",
      "9.3 K     Total params\n",
      "0.037     Total estimated model params size (MB)\n",
      "7         Modules in train mode\n",
      "0         Modules in eval mode\n"
     ]
    },
    {
     "name": "stdout",
     "output_type": "stream",
     "text": [
      "!!!@@@------Training SVR… saved.\n",
      "Epoch 99: 100%|██████████| 19/19 [00:00<00:00, 75.00it/s, train_loss=0.0158]"
     ]
    },
    {
     "name": "stderr",
     "output_type": "stream",
     "text": [
      "`Trainer.fit` stopped: `max_epochs=100` reached.\n"
     ]
    },
    {
     "name": "stdout",
     "output_type": "stream",
     "text": [
      "Epoch 99: 100%|██████████| 19/19 [00:00<00:00, 74.41it/s, train_loss=0.0158]\n",
      " saved.\n"
     ]
    },
    {
     "name": "stderr",
     "output_type": "stream",
     "text": [
      "GPU available: False, used: False\n",
      "TPU available: False, using: 0 TPU cores\n",
      "HPU available: False, using: 0 HPUs\n"
     ]
    },
    {
     "name": "stdout",
     "output_type": "stream",
     "text": [
      "Predicting DataLoader 0: 100%|██████████| 1/1 [00:00<00:00, 332.04it/s]\n",
      "!!!@@@------Training WBBLSTM…"
     ]
    },
    {
     "name": "stderr",
     "output_type": "stream",
     "text": [
      "ignoring user defined `output_chunk_length`. RNNModel uses a fixed `output_chunk_length=1`.\n",
      "GPU available: False, used: False\n",
      "TPU available: False, using: 0 TPU cores\n",
      "HPU available: False, using: 0 HPUs\n",
      "\n",
      "  | Name            | Type             | Params | Mode \n",
      "-------------------------------------------------------------\n",
      "0 | criterion       | MSELoss          | 0      | train\n",
      "1 | train_criterion | MSELoss          | 0      | train\n",
      "2 | val_criterion   | MSELoss          | 0      | train\n",
      "3 | train_metrics   | MetricCollection | 0      | train\n",
      "4 | val_metrics     | MetricCollection | 0      | train\n",
      "5 | rnn             | LSTM             | 9.3 K  | train\n",
      "6 | V               | Linear           | 26     | train\n",
      "-------------------------------------------------------------\n",
      "9.3 K     Trainable params\n",
      "0         Non-trainable params\n",
      "9.3 K     Total params\n",
      "0.037     Total estimated model params size (MB)\n",
      "7         Modules in train mode\n",
      "0         Modules in eval mode\n"
     ]
    },
    {
     "name": "stdout",
     "output_type": "stream",
     "text": [
      "Epoch 99: 100%|██████████| 9/9 [00:00<00:00, 74.97it/s, train_loss=0.0433] "
     ]
    },
    {
     "name": "stderr",
     "output_type": "stream",
     "text": [
      "`Trainer.fit` stopped: `max_epochs=100` reached.\n"
     ]
    },
    {
     "name": "stdout",
     "output_type": "stream",
     "text": [
      "Epoch 99: 100%|██████████| 9/9 [00:00<00:00, 73.74it/s, train_loss=0.0433]\n",
      " saved.\n"
     ]
    },
    {
     "name": "stderr",
     "output_type": "stream",
     "text": [
      "GPU available: False, used: False\n",
      "TPU available: False, using: 0 TPU cores\n",
      "HPU available: False, using: 0 HPUs\n"
     ]
    },
    {
     "name": "stdout",
     "output_type": "stream",
     "text": [
      "Predicting DataLoader 0: 100%|██████████| 1/1 [00:00<00:00, 39.87it/s]\n",
      "std_p: 0.64, corr: 0.56, rmse: 0.68, mae_v: 0.50,sm: 111.58 - ExtraTF \n",
      "std_p: 0.48, corr: 0.75, rmse: 0.52, mae_v: 0.36,sm: 93.59 - RandomRF \n",
      "std_p: 0.32, corr: 0.66, rmse: 0.62, mae_v: 0.43,sm: 116.40 - SVR \n",
      "std_p: 0.53, corr: 0.71, rmse: 0.54, mae_v: 0.39,sm: 101.06 - LSTM \n",
      "std_p: 0.50, corr: 0.10, rmse: 1.00, mae_v: 0.79,sm: 136.51 - WBBLSTM \n",
      "✔️ Done with 40701 | 3\n",
      "\n",
      "\n",
      "=== Station 40701 | 6 ===\n",
      "!!!@@@------Training ExtraTF… saved.\n",
      "!!!@@@------Training RandomRF… saved.\n"
     ]
    },
    {
     "name": "stderr",
     "output_type": "stream",
     "text": [
      "ignoring user defined `output_chunk_length`. RNNModel uses a fixed `output_chunk_length=1`.\n",
      "GPU available: False, used: False\n",
      "TPU available: False, using: 0 TPU cores\n",
      "HPU available: False, using: 0 HPUs\n",
      "\n",
      "  | Name            | Type             | Params | Mode \n",
      "-------------------------------------------------------------\n",
      "0 | criterion       | MSELoss          | 0      | train\n",
      "1 | train_criterion | MSELoss          | 0      | train\n",
      "2 | val_criterion   | MSELoss          | 0      | train\n",
      "3 | train_metrics   | MetricCollection | 0      | train\n",
      "4 | val_metrics     | MetricCollection | 0      | train\n",
      "5 | rnn             | LSTM             | 9.3 K  | train\n",
      "6 | V               | Linear           | 26     | train\n",
      "-------------------------------------------------------------\n",
      "9.3 K     Trainable params\n",
      "0         Non-trainable params\n",
      "9.3 K     Total params\n",
      "0.037     Total estimated model params size (MB)\n",
      "7         Modules in train mode\n",
      "0         Modules in eval mode\n"
     ]
    },
    {
     "name": "stdout",
     "output_type": "stream",
     "text": [
      "!!!@@@------Training SVR… saved.\n",
      "Epoch 99: 100%|██████████| 19/19 [00:00<00:00, 80.34it/s, train_loss=0.00895]"
     ]
    },
    {
     "name": "stderr",
     "output_type": "stream",
     "text": [
      "`Trainer.fit` stopped: `max_epochs=100` reached.\n"
     ]
    },
    {
     "name": "stdout",
     "output_type": "stream",
     "text": [
      "Epoch 99: 100%|██████████| 19/19 [00:00<00:00, 80.34it/s, train_loss=0.00895]\n",
      " saved.\n"
     ]
    },
    {
     "name": "stderr",
     "output_type": "stream",
     "text": [
      "GPU available: False, used: False\n",
      "TPU available: False, using: 0 TPU cores\n",
      "HPU available: False, using: 0 HPUs\n"
     ]
    },
    {
     "name": "stdout",
     "output_type": "stream",
     "text": [
      "Predicting DataLoader 0: 100%|██████████| 1/1 [00:00<00:00, 62.28it/s]\n",
      "!!!@@@------Training WBBLSTM…"
     ]
    },
    {
     "name": "stderr",
     "output_type": "stream",
     "text": [
      "ignoring user defined `output_chunk_length`. RNNModel uses a fixed `output_chunk_length=1`.\n",
      "GPU available: False, used: False\n",
      "TPU available: False, using: 0 TPU cores\n",
      "HPU available: False, using: 0 HPUs\n",
      "\n",
      "  | Name            | Type             | Params | Mode \n",
      "-------------------------------------------------------------\n",
      "0 | criterion       | MSELoss          | 0      | train\n",
      "1 | train_criterion | MSELoss          | 0      | train\n",
      "2 | val_criterion   | MSELoss          | 0      | train\n",
      "3 | train_metrics   | MetricCollection | 0      | train\n",
      "4 | val_metrics     | MetricCollection | 0      | train\n",
      "5 | rnn             | LSTM             | 9.3 K  | train\n",
      "6 | V               | Linear           | 26     | train\n",
      "-------------------------------------------------------------\n",
      "9.3 K     Trainable params\n",
      "0         Non-trainable params\n",
      "9.3 K     Total params\n",
      "0.037     Total estimated model params size (MB)\n",
      "7         Modules in train mode\n",
      "0         Modules in eval mode\n"
     ]
    },
    {
     "name": "stdout",
     "output_type": "stream",
     "text": [
      "Epoch 99: 100%|██████████| 9/9 [00:00<00:00, 78.63it/s, train_loss=0.0404] "
     ]
    },
    {
     "name": "stderr",
     "output_type": "stream",
     "text": [
      "`Trainer.fit` stopped: `max_epochs=100` reached.\n"
     ]
    },
    {
     "name": "stdout",
     "output_type": "stream",
     "text": [
      "Epoch 99: 100%|██████████| 9/9 [00:00<00:00, 78.63it/s, train_loss=0.0404]"
     ]
    },
    {
     "name": "stderr",
     "output_type": "stream",
     "text": [
      "GPU available: False, used: False\n"
     ]
    },
    {
     "name": "stdout",
     "output_type": "stream",
     "text": [
      "\n",
      " saved.\n"
     ]
    },
    {
     "name": "stderr",
     "output_type": "stream",
     "text": [
      "TPU available: False, using: 0 TPU cores\n",
      "HPU available: False, using: 0 HPUs\n"
     ]
    },
    {
     "name": "stdout",
     "output_type": "stream",
     "text": [
      "Predicting DataLoader 0: 100%|██████████| 1/1 [00:00<00:00, 85.91it/s]\n",
      "negative corr\n",
      "std_p: 0.34, corr: 0.38, rmse: 0.72, mae_v: 0.54,sm: 127.52 - ExtraTF \n",
      "std_p: 0.56, corr: 0.87, rmse: 0.42, mae_v: 0.33,sm: 75.81 - RandomRF \n",
      "std_p: 0.36, corr: 0.81, rmse: 0.54, mae_v: 0.43,sm: 106.17 - SVR \n",
      "std_p: 0.75, corr: 0.90, rmse: 0.35, mae_v: 0.28,sm: 66.94 - LSTM \n",
      "std_p: 0.36, corr: 0.17, rmse: 1.13, mae_v: 0.89,sm: 140.77 - WBBLSTM \n",
      "✔️ Done with 40701 | 6\n",
      "\n",
      "\n",
      "=== Station 40701 | 9 ===\n",
      "!!!@@@------Training ExtraTF… saved.\n",
      "!!!@@@------Training RandomRF… saved.\n"
     ]
    },
    {
     "name": "stderr",
     "output_type": "stream",
     "text": [
      "ignoring user defined `output_chunk_length`. RNNModel uses a fixed `output_chunk_length=1`.\n",
      "GPU available: False, used: False\n",
      "TPU available: False, using: 0 TPU cores\n",
      "HPU available: False, using: 0 HPUs\n",
      "\n",
      "  | Name            | Type             | Params | Mode \n",
      "-------------------------------------------------------------\n",
      "0 | criterion       | MSELoss          | 0      | train\n",
      "1 | train_criterion | MSELoss          | 0      | train\n",
      "2 | val_criterion   | MSELoss          | 0      | train\n",
      "3 | train_metrics   | MetricCollection | 0      | train\n",
      "4 | val_metrics     | MetricCollection | 0      | train\n",
      "5 | rnn             | LSTM             | 9.3 K  | train\n",
      "6 | V               | Linear           | 26     | train\n",
      "-------------------------------------------------------------\n",
      "9.3 K     Trainable params\n",
      "0         Non-trainable params\n",
      "9.3 K     Total params\n",
      "0.037     Total estimated model params size (MB)\n",
      "7         Modules in train mode\n",
      "0         Modules in eval mode\n"
     ]
    },
    {
     "name": "stdout",
     "output_type": "stream",
     "text": [
      "!!!@@@------Training SVR… saved.\n",
      "Epoch 99: 100%|██████████| 18/18 [00:00<00:00, 73.13it/s, train_loss=0.0154] "
     ]
    },
    {
     "name": "stderr",
     "output_type": "stream",
     "text": [
      "`Trainer.fit` stopped: `max_epochs=100` reached.\n"
     ]
    },
    {
     "name": "stdout",
     "output_type": "stream",
     "text": [
      "Epoch 99: 100%|██████████| 18/18 [00:00<00:00, 72.39it/s, train_loss=0.0154]\n",
      " saved.\n"
     ]
    },
    {
     "name": "stderr",
     "output_type": "stream",
     "text": [
      "GPU available: False, used: False\n",
      "TPU available: False, using: 0 TPU cores\n",
      "HPU available: False, using: 0 HPUs\n"
     ]
    },
    {
     "name": "stdout",
     "output_type": "stream",
     "text": [
      "Predicting DataLoader 0: 100%|██████████| 1/1 [00:00<00:00, 91.76it/s]\n"
     ]
    },
    {
     "name": "stderr",
     "output_type": "stream",
     "text": [
      "ignoring user defined `output_chunk_length`. RNNModel uses a fixed `output_chunk_length=1`.\n"
     ]
    },
    {
     "name": "stdout",
     "output_type": "stream",
     "text": [
      "!!!@@@------Training WBBLSTM…"
     ]
    },
    {
     "name": "stderr",
     "output_type": "stream",
     "text": [
      "GPU available: False, used: False\n",
      "TPU available: False, using: 0 TPU cores\n",
      "HPU available: False, using: 0 HPUs\n",
      "\n",
      "  | Name            | Type             | Params | Mode \n",
      "-------------------------------------------------------------\n",
      "0 | criterion       | MSELoss          | 0      | train\n",
      "1 | train_criterion | MSELoss          | 0      | train\n",
      "2 | val_criterion   | MSELoss          | 0      | train\n",
      "3 | train_metrics   | MetricCollection | 0      | train\n",
      "4 | val_metrics     | MetricCollection | 0      | train\n",
      "5 | rnn             | LSTM             | 9.3 K  | train\n",
      "6 | V               | Linear           | 26     | train\n",
      "-------------------------------------------------------------\n",
      "9.3 K     Trainable params\n",
      "0         Non-trainable params\n",
      "9.3 K     Total params\n",
      "0.037     Total estimated model params size (MB)\n",
      "7         Modules in train mode\n",
      "0         Modules in eval mode\n"
     ]
    },
    {
     "name": "stdout",
     "output_type": "stream",
     "text": [
      "Epoch 99: 100%|██████████| 9/9 [00:00<00:00, 71.15it/s, train_loss=0.0525] "
     ]
    },
    {
     "name": "stderr",
     "output_type": "stream",
     "text": [
      "`Trainer.fit` stopped: `max_epochs=100` reached.\n"
     ]
    },
    {
     "name": "stdout",
     "output_type": "stream",
     "text": [
      "Epoch 99: 100%|██████████| 9/9 [00:00<00:00, 71.15it/s, train_loss=0.0525]\n",
      " saved.\n"
     ]
    },
    {
     "name": "stderr",
     "output_type": "stream",
     "text": [
      "GPU available: False, used: False\n",
      "TPU available: False, using: 0 TPU cores\n",
      "HPU available: False, using: 0 HPUs\n"
     ]
    },
    {
     "name": "stdout",
     "output_type": "stream",
     "text": [
      "Predicting DataLoader 0: 100%|██████████| 1/1 [00:00<00:00, 95.42it/s]\n",
      "negative corr\n",
      "std_p: 0.58, corr: 0.71, rmse: 0.68, mae_v: 0.48,sm: 95.19 - ExtraTF \n",
      "std_p: 0.70, corr: 0.94, rmse: 0.36, mae_v: 0.28,sm: 56.04 - RandomRF \n",
      "std_p: 0.50, corr: 0.85, rmse: 0.56, mae_v: 0.44,sm: 82.07 - SVR \n",
      "std_p: 0.89, corr: 0.94, rmse: 0.32, mae_v: 0.26,sm: 47.70 - LSTM \n",
      "std_p: 0.44, corr: 0.03, rmse: 1.41, mae_v: 1.20,sm: 157.85 - WBBLSTM \n",
      "✔️ Done with 40701 | 9\n",
      "\n",
      "\n",
      "=== Station 40701 | 12 ===\n",
      "!!!@@@------Training ExtraTF… saved.\n",
      "!!!@@@------Training RandomRF… saved.\n"
     ]
    },
    {
     "name": "stderr",
     "output_type": "stream",
     "text": [
      "ignoring user defined `output_chunk_length`. RNNModel uses a fixed `output_chunk_length=1`.\n",
      "GPU available: False, used: False\n",
      "TPU available: False, using: 0 TPU cores\n",
      "HPU available: False, using: 0 HPUs\n",
      "\n",
      "  | Name            | Type             | Params | Mode \n",
      "-------------------------------------------------------------\n",
      "0 | criterion       | MSELoss          | 0      | train\n",
      "1 | train_criterion | MSELoss          | 0      | train\n",
      "2 | val_criterion   | MSELoss          | 0      | train\n",
      "3 | train_metrics   | MetricCollection | 0      | train\n",
      "4 | val_metrics     | MetricCollection | 0      | train\n",
      "5 | rnn             | LSTM             | 9.3 K  | train\n",
      "6 | V               | Linear           | 26     | train\n",
      "-------------------------------------------------------------\n",
      "9.3 K     Trainable params\n",
      "0         Non-trainable params\n",
      "9.3 K     Total params\n",
      "0.037     Total estimated model params size (MB)\n",
      "7         Modules in train mode\n",
      "0         Modules in eval mode\n"
     ]
    },
    {
     "name": "stdout",
     "output_type": "stream",
     "text": [
      "!!!@@@------Training SVR… saved.\n",
      "Epoch 99: 100%|██████████| 18/18 [00:00<00:00, 75.00it/s, train_loss=0.0189] "
     ]
    },
    {
     "name": "stderr",
     "output_type": "stream",
     "text": [
      "`Trainer.fit` stopped: `max_epochs=100` reached.\n"
     ]
    },
    {
     "name": "stdout",
     "output_type": "stream",
     "text": [
      "Epoch 99: 100%|██████████| 18/18 [00:00<00:00, 75.00it/s, train_loss=0.0189]\n",
      " saved.\n"
     ]
    },
    {
     "name": "stderr",
     "output_type": "stream",
     "text": [
      "GPU available: False, used: False\n",
      "TPU available: False, using: 0 TPU cores\n",
      "HPU available: False, using: 0 HPUs\n"
     ]
    },
    {
     "name": "stdout",
     "output_type": "stream",
     "text": [
      "Predicting DataLoader 0: 100%|██████████| 1/1 [00:00<00:00, 163.15it/s]\n",
      "!!!@@@------Training WBBLSTM…"
     ]
    },
    {
     "name": "stderr",
     "output_type": "stream",
     "text": [
      "ignoring user defined `output_chunk_length`. RNNModel uses a fixed `output_chunk_length=1`.\n",
      "GPU available: False, used: False\n",
      "TPU available: False, using: 0 TPU cores\n",
      "HPU available: False, using: 0 HPUs\n",
      "\n",
      "  | Name            | Type             | Params | Mode \n",
      "-------------------------------------------------------------\n",
      "0 | criterion       | MSELoss          | 0      | train\n",
      "1 | train_criterion | MSELoss          | 0      | train\n",
      "2 | val_criterion   | MSELoss          | 0      | train\n",
      "3 | train_metrics   | MetricCollection | 0      | train\n",
      "4 | val_metrics     | MetricCollection | 0      | train\n",
      "5 | rnn             | LSTM             | 9.3 K  | train\n",
      "6 | V               | Linear           | 26     | train\n",
      "-------------------------------------------------------------\n",
      "9.3 K     Trainable params\n",
      "0         Non-trainable params\n",
      "9.3 K     Total params\n",
      "0.037     Total estimated model params size (MB)\n",
      "7         Modules in train mode\n",
      "0         Modules in eval mode\n"
     ]
    },
    {
     "name": "stdout",
     "output_type": "stream",
     "text": [
      "Epoch 99: 100%|██████████| 9/9 [00:00<00:00, 98.95it/s, train_loss=0.0545] "
     ]
    },
    {
     "name": "stderr",
     "output_type": "stream",
     "text": [
      "`Trainer.fit` stopped: `max_epochs=100` reached.\n"
     ]
    },
    {
     "name": "stdout",
     "output_type": "stream",
     "text": [
      "Epoch 99: 100%|██████████| 9/9 [00:00<00:00, 87.91it/s, train_loss=0.0545]"
     ]
    },
    {
     "name": "stderr",
     "output_type": "stream",
     "text": [
      "GPU available: False, used: False\n"
     ]
    },
    {
     "name": "stdout",
     "output_type": "stream",
     "text": [
      "\n",
      " saved.\n"
     ]
    },
    {
     "name": "stderr",
     "output_type": "stream",
     "text": [
      "TPU available: False, using: 0 TPU cores\n",
      "HPU available: False, using: 0 HPUs\n"
     ]
    },
    {
     "name": "stdout",
     "output_type": "stream",
     "text": [
      "Predicting DataLoader 0: 100%|██████████| 1/1 [00:00<00:00, 99.91it/s]\n",
      "std_p: 0.55, corr: 0.00, rmse: 1.32, mae_v: 1.14,sm: 151.00 - ExtraTF \n",
      "std_p: 0.91, corr: 0.92, rmse: 0.45, mae_v: 0.36,sm: 57.08 - RandomRF \n",
      "std_p: 0.68, corr: 0.83, rmse: 0.66, mae_v: 0.53,sm: 89.48 - SVR \n",
      "std_p: 0.97, corr: 0.94, rmse: 0.40, mae_v: 0.29,sm: 48.61 - LSTM \n",
      "std_p: 0.52, corr: 0.00, rmse: 1.58, mae_v: 1.23,sm: 122.45 - WBBLSTM \n",
      "✔️ Done with 40701 | 12\n",
      "\n",
      "\n",
      "=== Station 40701 | 24 ===\n",
      "!!!@@@------Training ExtraTF… saved.\n",
      "!!!@@@------Training RandomRF… saved.\n"
     ]
    },
    {
     "name": "stderr",
     "output_type": "stream",
     "text": [
      "ignoring user defined `output_chunk_length`. RNNModel uses a fixed `output_chunk_length=1`.\n",
      "GPU available: False, used: False\n",
      "TPU available: False, using: 0 TPU cores\n",
      "HPU available: False, using: 0 HPUs\n",
      "\n",
      "  | Name            | Type             | Params | Mode \n",
      "-------------------------------------------------------------\n",
      "0 | criterion       | MSELoss          | 0      | train\n",
      "1 | train_criterion | MSELoss          | 0      | train\n",
      "2 | val_criterion   | MSELoss          | 0      | train\n",
      "3 | train_metrics   | MetricCollection | 0      | train\n",
      "4 | val_metrics     | MetricCollection | 0      | train\n",
      "5 | rnn             | LSTM             | 9.3 K  | train\n",
      "6 | V               | Linear           | 26     | train\n",
      "-------------------------------------------------------------\n",
      "9.3 K     Trainable params\n",
      "0         Non-trainable params\n",
      "9.3 K     Total params\n",
      "0.037     Total estimated model params size (MB)\n",
      "7         Modules in train mode\n",
      "0         Modules in eval mode\n"
     ]
    },
    {
     "name": "stdout",
     "output_type": "stream",
     "text": [
      "!!!@@@------Training SVR… saved.\n",
      "Epoch 99: 100%|██████████| 18/18 [00:00<00:00, 90.34it/s, train_loss=0.0105] "
     ]
    },
    {
     "name": "stderr",
     "output_type": "stream",
     "text": [
      "`Trainer.fit` stopped: `max_epochs=100` reached.\n"
     ]
    },
    {
     "name": "stdout",
     "output_type": "stream",
     "text": [
      "Epoch 99: 100%|██████████| 18/18 [00:00<00:00, 90.34it/s, train_loss=0.0105]\n",
      " saved.\n"
     ]
    },
    {
     "name": "stderr",
     "output_type": "stream",
     "text": [
      "GPU available: False, used: False\n",
      "TPU available: False, using: 0 TPU cores\n",
      "HPU available: False, using: 0 HPUs\n"
     ]
    },
    {
     "name": "stdout",
     "output_type": "stream",
     "text": [
      "Predicting DataLoader 0: 100%|██████████| 1/1 [00:00<00:00, 249.69it/s]\n",
      "!!!@@@------Training WBBLSTM…"
     ]
    },
    {
     "name": "stderr",
     "output_type": "stream",
     "text": [
      "ignoring user defined `output_chunk_length`. RNNModel uses a fixed `output_chunk_length=1`.\n",
      "GPU available: False, used: False\n",
      "TPU available: False, using: 0 TPU cores\n",
      "HPU available: False, using: 0 HPUs\n",
      "\n",
      "  | Name            | Type             | Params | Mode \n",
      "-------------------------------------------------------------\n",
      "0 | criterion       | MSELoss          | 0      | train\n",
      "1 | train_criterion | MSELoss          | 0      | train\n",
      "2 | val_criterion   | MSELoss          | 0      | train\n",
      "3 | train_metrics   | MetricCollection | 0      | train\n",
      "4 | val_metrics     | MetricCollection | 0      | train\n",
      "5 | rnn             | LSTM             | 9.3 K  | train\n",
      "6 | V               | Linear           | 26     | train\n",
      "-------------------------------------------------------------\n",
      "9.3 K     Trainable params\n",
      "0         Non-trainable params\n",
      "9.3 K     Total params\n",
      "0.037     Total estimated model params size (MB)\n",
      "7         Modules in train mode\n",
      "0         Modules in eval mode\n"
     ]
    },
    {
     "name": "stdout",
     "output_type": "stream",
     "text": [
      "Epoch 99: 100%|██████████| 8/8 [00:00<00:00, 86.15it/s, train_loss=0.0466] "
     ]
    },
    {
     "name": "stderr",
     "output_type": "stream",
     "text": [
      "`Trainer.fit` stopped: `max_epochs=100` reached.\n"
     ]
    },
    {
     "name": "stdout",
     "output_type": "stream",
     "text": [
      "Epoch 99: 100%|██████████| 8/8 [00:00<00:00, 78.14it/s, train_loss=0.0466]\n",
      " saved.\n"
     ]
    },
    {
     "name": "stderr",
     "output_type": "stream",
     "text": [
      "GPU available: False, used: False\n",
      "TPU available: False, using: 0 TPU cores\n",
      "HPU available: False, using: 0 HPUs\n"
     ]
    },
    {
     "name": "stdout",
     "output_type": "stream",
     "text": [
      "Predicting DataLoader 0: 100%|██████████| 1/1 [00:00<00:00, 60.26it/s]\n",
      "std_p: 0.36, corr: 0.42, rmse: 1.33, mae_v: 1.02,sm: 110.45 - ExtraTF \n",
      "std_p: 0.99, corr: 0.95, rmse: 0.33, mae_v: 0.24,sm: 40.12 - RandomRF \n",
      "std_p: 0.73, corr: 0.89, rmse: 0.50, mae_v: 0.43,sm: 74.32 - SVR \n",
      "std_p: 1.06, corr: 0.95, rmse: 0.35, mae_v: 0.28,sm: 47.09 - LSTM \n",
      "std_p: 0.14, corr: 0.14, rmse: 1.45, mae_v: 1.13,sm: 108.88 - WBBLSTM \n",
      "✔️ Done with 40701 | 24\n",
      "\n",
      "📄 Results saved as CSV: results\\results_summary.csv\n",
      "\n",
      "=== Station 40704 | 1 ===\n",
      "!!!@@@------Training ExtraTF… saved.\n",
      "!!!@@@------Training RandomRF… saved.\n"
     ]
    },
    {
     "name": "stderr",
     "output_type": "stream",
     "text": [
      "ignoring user defined `output_chunk_length`. RNNModel uses a fixed `output_chunk_length=1`.\n",
      "GPU available: False, used: False\n",
      "TPU available: False, using: 0 TPU cores\n",
      "HPU available: False, using: 0 HPUs\n",
      "\n",
      "  | Name            | Type             | Params | Mode \n",
      "-------------------------------------------------------------\n",
      "0 | criterion       | MSELoss          | 0      | train\n",
      "1 | train_criterion | MSELoss          | 0      | train\n",
      "2 | val_criterion   | MSELoss          | 0      | train\n",
      "3 | train_metrics   | MetricCollection | 0      | train\n",
      "4 | val_metrics     | MetricCollection | 0      | train\n",
      "5 | rnn             | LSTM             | 9.3 K  | train\n",
      "6 | V               | Linear           | 26     | train\n",
      "-------------------------------------------------------------\n",
      "9.3 K     Trainable params\n",
      "0         Non-trainable params\n",
      "9.3 K     Total params\n",
      "0.037     Total estimated model params size (MB)\n",
      "7         Modules in train mode\n",
      "0         Modules in eval mode\n"
     ]
    },
    {
     "name": "stdout",
     "output_type": "stream",
     "text": [
      "!!!@@@------Training SVR… saved.\n",
      "Epoch 99: 100%|██████████| 19/19 [00:00<00:00, 87.42it/s, train_loss=0.0167] "
     ]
    },
    {
     "name": "stderr",
     "output_type": "stream",
     "text": [
      "`Trainer.fit` stopped: `max_epochs=100` reached.\n"
     ]
    },
    {
     "name": "stdout",
     "output_type": "stream",
     "text": [
      "Epoch 99: 100%|██████████| 19/19 [00:00<00:00, 87.42it/s, train_loss=0.0167]\n",
      " saved.\n"
     ]
    },
    {
     "name": "stderr",
     "output_type": "stream",
     "text": [
      "GPU available: False, used: False\n",
      "TPU available: False, using: 0 TPU cores\n",
      "HPU available: False, using: 0 HPUs\n"
     ]
    },
    {
     "name": "stdout",
     "output_type": "stream",
     "text": [
      "Predicting DataLoader 0: 100%|██████████| 1/1 [00:00<00:00, 66.67it/s]"
     ]
    },
    {
     "name": "stderr",
     "output_type": "stream",
     "text": [
      "ignoring user defined `output_chunk_length`. RNNModel uses a fixed `output_chunk_length=1`.\n",
      "GPU available: False, used: False\n"
     ]
    },
    {
     "name": "stdout",
     "output_type": "stream",
     "text": [
      "\n",
      "!!!@@@------Training WBBLSTM…"
     ]
    },
    {
     "name": "stderr",
     "output_type": "stream",
     "text": [
      "TPU available: False, using: 0 TPU cores\n",
      "HPU available: False, using: 0 HPUs\n",
      "\n",
      "  | Name            | Type             | Params | Mode \n",
      "-------------------------------------------------------------\n",
      "0 | criterion       | MSELoss          | 0      | train\n",
      "1 | train_criterion | MSELoss          | 0      | train\n",
      "2 | val_criterion   | MSELoss          | 0      | train\n",
      "3 | train_metrics   | MetricCollection | 0      | train\n",
      "4 | val_metrics     | MetricCollection | 0      | train\n",
      "5 | rnn             | LSTM             | 9.3 K  | train\n",
      "6 | V               | Linear           | 26     | train\n",
      "-------------------------------------------------------------\n",
      "9.3 K     Trainable params\n",
      "0         Non-trainable params\n",
      "9.3 K     Total params\n",
      "0.037     Total estimated model params size (MB)\n",
      "7         Modules in train mode\n",
      "0         Modules in eval mode\n"
     ]
    },
    {
     "name": "stdout",
     "output_type": "stream",
     "text": [
      "Epoch 99: 100%|██████████| 9/9 [00:00<00:00, 86.50it/s, train_loss=0.0777] "
     ]
    },
    {
     "name": "stderr",
     "output_type": "stream",
     "text": [
      "`Trainer.fit` stopped: `max_epochs=100` reached.\n"
     ]
    },
    {
     "name": "stdout",
     "output_type": "stream",
     "text": [
      "Epoch 99: 100%|██████████| 9/9 [00:00<00:00, 81.80it/s, train_loss=0.0777]\n",
      " saved.\n"
     ]
    },
    {
     "name": "stderr",
     "output_type": "stream",
     "text": [
      "GPU available: False, used: False\n",
      "TPU available: False, using: 0 TPU cores\n",
      "HPU available: False, using: 0 HPUs\n"
     ]
    },
    {
     "name": "stdout",
     "output_type": "stream",
     "text": [
      "Predicting DataLoader 0: 100%|██████████| 1/1 [00:00<00:00, 62.28it/s]\n",
      "std_p: 0.66, corr: 0.62, rmse: 0.61, mae_v: 0.51,sm: 113.10 - ExtraTF \n",
      "std_p: 0.54, corr: 0.69, rmse: 0.52, mae_v: 0.42,sm: 104.01 - RandomRF \n",
      "std_p: 0.55, corr: 0.68, rmse: 0.53, mae_v: 0.42,sm: 98.55 - SVR \n",
      "std_p: 0.67, corr: 0.83, rmse: 0.40, mae_v: 0.32,sm: 88.26 - LSTM \n",
      "std_p: 0.32, corr: 0.07, rmse: 0.76, mae_v: 0.59,sm: 140.44 - WBBLSTM \n",
      "✔️ Done with 40704 | 1\n",
      "\n",
      "\n",
      "=== Station 40704 | 3 ===\n",
      "!!!@@@------Training ExtraTF… saved.\n",
      "!!!@@@------Training RandomRF… saved.\n"
     ]
    },
    {
     "name": "stderr",
     "output_type": "stream",
     "text": [
      "ignoring user defined `output_chunk_length`. RNNModel uses a fixed `output_chunk_length=1`.\n",
      "GPU available: False, used: False\n",
      "TPU available: False, using: 0 TPU cores\n",
      "HPU available: False, using: 0 HPUs\n",
      "\n",
      "  | Name            | Type             | Params | Mode \n",
      "-------------------------------------------------------------\n",
      "0 | criterion       | MSELoss          | 0      | train\n",
      "1 | train_criterion | MSELoss          | 0      | train\n",
      "2 | val_criterion   | MSELoss          | 0      | train\n",
      "3 | train_metrics   | MetricCollection | 0      | train\n",
      "4 | val_metrics     | MetricCollection | 0      | train\n",
      "5 | rnn             | LSTM             | 9.3 K  | train\n",
      "6 | V               | Linear           | 26     | train\n",
      "-------------------------------------------------------------\n",
      "9.3 K     Trainable params\n",
      "0         Non-trainable params\n",
      "9.3 K     Total params\n",
      "0.037     Total estimated model params size (MB)\n",
      "7         Modules in train mode\n",
      "0         Modules in eval mode\n"
     ]
    },
    {
     "name": "stdout",
     "output_type": "stream",
     "text": [
      "!!!@@@------Training SVR… saved.\n",
      "Epoch 99: 100%|██████████| 19/19 [00:00<00:00, 80.83it/s, train_loss=0.0234] "
     ]
    },
    {
     "name": "stderr",
     "output_type": "stream",
     "text": [
      "`Trainer.fit` stopped: `max_epochs=100` reached.\n"
     ]
    },
    {
     "name": "stdout",
     "output_type": "stream",
     "text": [
      "Epoch 99: 100%|██████████| 19/19 [00:00<00:00, 80.15it/s, train_loss=0.0234]\n",
      " saved.\n"
     ]
    },
    {
     "name": "stderr",
     "output_type": "stream",
     "text": [
      "GPU available: False, used: False\n",
      "TPU available: False, using: 0 TPU cores\n",
      "HPU available: False, using: 0 HPUs\n"
     ]
    },
    {
     "name": "stdout",
     "output_type": "stream",
     "text": [
      "Predicting DataLoader 0: 100%|██████████| 1/1 [00:00<00:00, 56.17it/s]"
     ]
    },
    {
     "name": "stderr",
     "output_type": "stream",
     "text": [
      "ignoring user defined `output_chunk_length`. RNNModel uses a fixed `output_chunk_length=1`.\n"
     ]
    },
    {
     "name": "stdout",
     "output_type": "stream",
     "text": [
      "\n",
      "!!!@@@------Training WBBLSTM…"
     ]
    },
    {
     "name": "stderr",
     "output_type": "stream",
     "text": [
      "GPU available: False, used: False\n",
      "TPU available: False, using: 0 TPU cores\n",
      "HPU available: False, using: 0 HPUs\n",
      "\n",
      "  | Name            | Type             | Params | Mode \n",
      "-------------------------------------------------------------\n",
      "0 | criterion       | MSELoss          | 0      | train\n",
      "1 | train_criterion | MSELoss          | 0      | train\n",
      "2 | val_criterion   | MSELoss          | 0      | train\n",
      "3 | train_metrics   | MetricCollection | 0      | train\n",
      "4 | val_metrics     | MetricCollection | 0      | train\n",
      "5 | rnn             | LSTM             | 9.3 K  | train\n",
      "6 | V               | Linear           | 26     | train\n",
      "-------------------------------------------------------------\n",
      "9.3 K     Trainable params\n",
      "0         Non-trainable params\n",
      "9.3 K     Total params\n",
      "0.037     Total estimated model params size (MB)\n",
      "7         Modules in train mode\n",
      "0         Modules in eval mode\n"
     ]
    },
    {
     "name": "stdout",
     "output_type": "stream",
     "text": [
      "Epoch 99: 100%|██████████| 9/9 [00:00<00:00, 81.84it/s, train_loss=0.0966] "
     ]
    },
    {
     "name": "stderr",
     "output_type": "stream",
     "text": [
      "`Trainer.fit` stopped: `max_epochs=100` reached.\n"
     ]
    },
    {
     "name": "stdout",
     "output_type": "stream",
     "text": [
      "Epoch 99: 100%|██████████| 9/9 [00:00<00:00, 80.37it/s, train_loss=0.0966]\n",
      " saved.\n"
     ]
    },
    {
     "name": "stderr",
     "output_type": "stream",
     "text": [
      "GPU available: False, used: False\n",
      "TPU available: False, using: 0 TPU cores\n",
      "HPU available: False, using: 0 HPUs\n"
     ]
    },
    {
     "name": "stdout",
     "output_type": "stream",
     "text": [
      "Predicting DataLoader 0: 100%|██████████| 1/1 [00:00<00:00, 71.90it/s]\n",
      "negative corr\n",
      "std_p: 0.62, corr: 0.60, rmse: 0.59, mae_v: 0.47,sm: 107.86 - ExtraTF \n",
      "std_p: 0.45, corr: 0.79, rmse: 0.43, mae_v: 0.35,sm: 91.82 - RandomRF \n",
      "std_p: 0.32, corr: 0.73, rmse: 0.51, mae_v: 0.41,sm: 106.19 - SVR \n",
      "std_p: 0.57, corr: 0.79, rmse: 0.42, mae_v: 0.34,sm: 89.97 - LSTM \n",
      "std_p: 0.46, corr: 0.02, rmse: 0.82, mae_v: 0.62,sm: 130.31 - WBBLSTM \n",
      "✔️ Done with 40704 | 3\n",
      "\n",
      "\n",
      "=== Station 40704 | 6 ===\n",
      "!!!@@@------Training ExtraTF… saved.\n",
      "!!!@@@------Training RandomRF… saved.\n"
     ]
    },
    {
     "name": "stderr",
     "output_type": "stream",
     "text": [
      "ignoring user defined `output_chunk_length`. RNNModel uses a fixed `output_chunk_length=1`.\n",
      "GPU available: False, used: False\n",
      "TPU available: False, using: 0 TPU cores\n",
      "HPU available: False, using: 0 HPUs\n",
      "\n",
      "  | Name            | Type             | Params | Mode \n",
      "-------------------------------------------------------------\n",
      "0 | criterion       | MSELoss          | 0      | train\n",
      "1 | train_criterion | MSELoss          | 0      | train\n",
      "2 | val_criterion   | MSELoss          | 0      | train\n",
      "3 | train_metrics   | MetricCollection | 0      | train\n",
      "4 | val_metrics     | MetricCollection | 0      | train\n",
      "5 | rnn             | LSTM             | 9.3 K  | train\n",
      "6 | V               | Linear           | 26     | train\n",
      "-------------------------------------------------------------\n",
      "9.3 K     Trainable params\n",
      "0         Non-trainable params\n",
      "9.3 K     Total params\n",
      "0.037     Total estimated model params size (MB)\n",
      "7         Modules in train mode\n",
      "0         Modules in eval mode\n"
     ]
    },
    {
     "name": "stdout",
     "output_type": "stream",
     "text": [
      "!!!@@@------Training SVR… saved.\n",
      "Epoch 99: 100%|██████████| 19/19 [00:00<00:00, 77.34it/s, train_loss=0.0147] "
     ]
    },
    {
     "name": "stderr",
     "output_type": "stream",
     "text": [
      "`Trainer.fit` stopped: `max_epochs=100` reached.\n"
     ]
    },
    {
     "name": "stdout",
     "output_type": "stream",
     "text": [
      "Epoch 99: 100%|██████████| 19/19 [00:00<00:00, 76.72it/s, train_loss=0.0147]\n",
      " saved.\n"
     ]
    },
    {
     "name": "stderr",
     "output_type": "stream",
     "text": [
      "GPU available: False, used: False\n",
      "TPU available: False, using: 0 TPU cores\n",
      "HPU available: False, using: 0 HPUs\n"
     ]
    },
    {
     "name": "stdout",
     "output_type": "stream",
     "text": [
      "Predicting DataLoader 0: 100%|██████████| 1/1 [00:00<00:00, 60.56it/s]"
     ]
    },
    {
     "name": "stderr",
     "output_type": "stream",
     "text": [
      "ignoring user defined `output_chunk_length`. RNNModel uses a fixed `output_chunk_length=1`.\n"
     ]
    },
    {
     "name": "stdout",
     "output_type": "stream",
     "text": [
      "\n",
      "!!!@@@------Training WBBLSTM…"
     ]
    },
    {
     "name": "stderr",
     "output_type": "stream",
     "text": [
      "GPU available: False, used: False\n",
      "TPU available: False, using: 0 TPU cores\n",
      "HPU available: False, using: 0 HPUs\n",
      "\n",
      "  | Name            | Type             | Params | Mode \n",
      "-------------------------------------------------------------\n",
      "0 | criterion       | MSELoss          | 0      | train\n",
      "1 | train_criterion | MSELoss          | 0      | train\n",
      "2 | val_criterion   | MSELoss          | 0      | train\n",
      "3 | train_metrics   | MetricCollection | 0      | train\n",
      "4 | val_metrics     | MetricCollection | 0      | train\n",
      "5 | rnn             | LSTM             | 9.3 K  | train\n",
      "6 | V               | Linear           | 26     | train\n",
      "-------------------------------------------------------------\n",
      "9.3 K     Trainable params\n",
      "0         Non-trainable params\n",
      "9.3 K     Total params\n",
      "0.037     Total estimated model params size (MB)\n",
      "7         Modules in train mode\n",
      "0         Modules in eval mode\n"
     ]
    },
    {
     "name": "stdout",
     "output_type": "stream",
     "text": [
      "Epoch 99: 100%|██████████| 9/9 [00:00<00:00, 80.87it/s, train_loss=0.0647]  "
     ]
    },
    {
     "name": "stderr",
     "output_type": "stream",
     "text": [
      "`Trainer.fit` stopped: `max_epochs=100` reached.\n"
     ]
    },
    {
     "name": "stdout",
     "output_type": "stream",
     "text": [
      "Epoch 99: 100%|██████████| 9/9 [00:00<00:00, 70.68it/s, train_loss=0.0647]\n",
      " saved.\n"
     ]
    },
    {
     "name": "stderr",
     "output_type": "stream",
     "text": [
      "GPU available: False, used: False\n",
      "TPU available: False, using: 0 TPU cores\n",
      "HPU available: False, using: 0 HPUs\n"
     ]
    },
    {
     "name": "stdout",
     "output_type": "stream",
     "text": [
      "Predicting DataLoader 0: 100%|██████████| 1/1 [00:00<00:00, 55.41it/s]\n",
      "negative corr\n",
      "std_p: 0.54, corr: 0.56, rmse: 0.75, mae_v: 0.56,sm: 110.12 - ExtraTF \n",
      "std_p: 0.58, corr: 0.91, rmse: 0.44, mae_v: 0.35,sm: 81.80 - RandomRF \n",
      "std_p: 0.40, corr: 0.88, rmse: 0.59, mae_v: 0.44,sm: 98.72 - SVR \n",
      "std_p: 0.76, corr: 0.87, rmse: 0.44, mae_v: 0.35,sm: 83.26 - LSTM \n",
      "std_p: 0.55, corr: 0.10, rmse: 1.06, mae_v: 0.83,sm: 136.21 - WBBLSTM \n",
      "✔️ Done with 40704 | 6\n",
      "\n",
      "\n",
      "=== Station 40704 | 9 ===\n",
      "!!!@@@------Training ExtraTF… saved.\n",
      "!!!@@@------Training RandomRF… saved.\n"
     ]
    },
    {
     "name": "stderr",
     "output_type": "stream",
     "text": [
      "ignoring user defined `output_chunk_length`. RNNModel uses a fixed `output_chunk_length=1`.\n",
      "GPU available: False, used: False\n",
      "TPU available: False, using: 0 TPU cores\n",
      "HPU available: False, using: 0 HPUs\n",
      "\n",
      "  | Name            | Type             | Params | Mode \n",
      "-------------------------------------------------------------\n",
      "0 | criterion       | MSELoss          | 0      | train\n",
      "1 | train_criterion | MSELoss          | 0      | train\n",
      "2 | val_criterion   | MSELoss          | 0      | train\n",
      "3 | train_metrics   | MetricCollection | 0      | train\n",
      "4 | val_metrics     | MetricCollection | 0      | train\n",
      "5 | rnn             | LSTM             | 9.3 K  | train\n",
      "6 | V               | Linear           | 26     | train\n",
      "-------------------------------------------------------------\n",
      "9.3 K     Trainable params\n",
      "0         Non-trainable params\n",
      "9.3 K     Total params\n",
      "0.037     Total estimated model params size (MB)\n",
      "7         Modules in train mode\n",
      "0         Modules in eval mode\n"
     ]
    },
    {
     "name": "stdout",
     "output_type": "stream",
     "text": [
      "!!!@@@------Training SVR… saved.\n",
      "Epoch 99: 100%|██████████| 18/18 [00:00<00:00, 81.68it/s, train_loss=0.0155] "
     ]
    },
    {
     "name": "stderr",
     "output_type": "stream",
     "text": [
      "`Trainer.fit` stopped: `max_epochs=100` reached.\n"
     ]
    },
    {
     "name": "stdout",
     "output_type": "stream",
     "text": [
      "Epoch 99: 100%|██████████| 18/18 [00:00<00:00, 80.87it/s, train_loss=0.0155]"
     ]
    },
    {
     "name": "stderr",
     "output_type": "stream",
     "text": [
      "GPU available: False, used: False\n"
     ]
    },
    {
     "name": "stdout",
     "output_type": "stream",
     "text": [
      "\n",
      " saved.\n"
     ]
    },
    {
     "name": "stderr",
     "output_type": "stream",
     "text": [
      "TPU available: False, using: 0 TPU cores\n",
      "HPU available: False, using: 0 HPUs\n"
     ]
    },
    {
     "name": "stdout",
     "output_type": "stream",
     "text": [
      "Predicting DataLoader 0: 100%|██████████| 1/1 [00:00<00:00, 86.63it/s]\n",
      "!!!@@@------Training WBBLSTM…"
     ]
    },
    {
     "name": "stderr",
     "output_type": "stream",
     "text": [
      "ignoring user defined `output_chunk_length`. RNNModel uses a fixed `output_chunk_length=1`.\n",
      "GPU available: False, used: False\n",
      "TPU available: False, using: 0 TPU cores\n",
      "HPU available: False, using: 0 HPUs\n",
      "\n",
      "  | Name            | Type             | Params | Mode \n",
      "-------------------------------------------------------------\n",
      "0 | criterion       | MSELoss          | 0      | train\n",
      "1 | train_criterion | MSELoss          | 0      | train\n",
      "2 | val_criterion   | MSELoss          | 0      | train\n",
      "3 | train_metrics   | MetricCollection | 0      | train\n",
      "4 | val_metrics     | MetricCollection | 0      | train\n",
      "5 | rnn             | LSTM             | 9.3 K  | train\n",
      "6 | V               | Linear           | 26     | train\n",
      "-------------------------------------------------------------\n",
      "9.3 K     Trainable params\n",
      "0         Non-trainable params\n",
      "9.3 K     Total params\n",
      "0.037     Total estimated model params size (MB)\n",
      "7         Modules in train mode\n",
      "0         Modules in eval mode\n"
     ]
    },
    {
     "name": "stdout",
     "output_type": "stream",
     "text": [
      "Epoch 99: 100%|██████████| 9/9 [00:00<00:00, 91.11it/s, train_loss=0.0539] "
     ]
    },
    {
     "name": "stderr",
     "output_type": "stream",
     "text": [
      "`Trainer.fit` stopped: `max_epochs=100` reached.\n"
     ]
    },
    {
     "name": "stdout",
     "output_type": "stream",
     "text": [
      "Epoch 99: 100%|██████████| 9/9 [00:00<00:00, 84.52it/s, train_loss=0.0539]"
     ]
    },
    {
     "name": "stderr",
     "output_type": "stream",
     "text": [
      "GPU available: False, used: False\n"
     ]
    },
    {
     "name": "stdout",
     "output_type": "stream",
     "text": [
      "\n",
      " saved.\n"
     ]
    },
    {
     "name": "stderr",
     "output_type": "stream",
     "text": [
      "TPU available: False, using: 0 TPU cores\n",
      "HPU available: False, using: 0 HPUs\n"
     ]
    },
    {
     "name": "stdout",
     "output_type": "stream",
     "text": [
      "Predicting DataLoader 0: 100%|██████████| 1/1 [00:00<00:00, 66.30it/s]\n",
      "negative corr\n",
      "std_p: 0.55, corr: 0.64, rmse: 0.80, mae_v: 0.68,sm: 120.11 - ExtraTF \n",
      "std_p: 0.67, corr: 0.87, rmse: 0.53, mae_v: 0.40,sm: 71.15 - RandomRF \n",
      "std_p: 0.49, corr: 0.86, rmse: 0.64, mae_v: 0.49,sm: 90.15 - SVR \n",
      "std_p: 0.79, corr: 0.89, rmse: 0.47, mae_v: 0.38,sm: 77.21 - LSTM \n",
      "std_p: 0.66, corr: 0.11, rmse: 1.14, mae_v: 0.93,sm: 141.43 - WBBLSTM \n",
      "✔️ Done with 40704 | 9\n",
      "\n",
      "\n",
      "=== Station 40704 | 12 ===\n",
      "!!!@@@------Training ExtraTF… saved.\n",
      "!!!@@@------Training RandomRF… saved.\n"
     ]
    },
    {
     "name": "stderr",
     "output_type": "stream",
     "text": [
      "ignoring user defined `output_chunk_length`. RNNModel uses a fixed `output_chunk_length=1`.\n",
      "GPU available: False, used: False\n",
      "TPU available: False, using: 0 TPU cores\n",
      "HPU available: False, using: 0 HPUs\n",
      "\n",
      "  | Name            | Type             | Params | Mode \n",
      "-------------------------------------------------------------\n",
      "0 | criterion       | MSELoss          | 0      | train\n",
      "1 | train_criterion | MSELoss          | 0      | train\n",
      "2 | val_criterion   | MSELoss          | 0      | train\n",
      "3 | train_metrics   | MetricCollection | 0      | train\n",
      "4 | val_metrics     | MetricCollection | 0      | train\n",
      "5 | rnn             | LSTM             | 9.3 K  | train\n",
      "6 | V               | Linear           | 26     | train\n",
      "-------------------------------------------------------------\n",
      "9.3 K     Trainable params\n",
      "0         Non-trainable params\n",
      "9.3 K     Total params\n",
      "0.037     Total estimated model params size (MB)\n",
      "7         Modules in train mode\n",
      "0         Modules in eval mode\n"
     ]
    },
    {
     "name": "stdout",
     "output_type": "stream",
     "text": [
      "!!!@@@------Training SVR… saved.\n",
      "Epoch 99: 100%|██████████| 18/18 [00:00<00:00, 87.29it/s, train_loss=0.0172] "
     ]
    },
    {
     "name": "stderr",
     "output_type": "stream",
     "text": [
      "`Trainer.fit` stopped: `max_epochs=100` reached.\n"
     ]
    },
    {
     "name": "stdout",
     "output_type": "stream",
     "text": [
      "Epoch 99: 100%|██████████| 18/18 [00:00<00:00, 87.29it/s, train_loss=0.0172]\n",
      " saved.\n"
     ]
    },
    {
     "name": "stderr",
     "output_type": "stream",
     "text": [
      "GPU available: False, used: False\n",
      "TPU available: False, using: 0 TPU cores\n",
      "HPU available: False, using: 0 HPUs\n"
     ]
    },
    {
     "name": "stdout",
     "output_type": "stream",
     "text": [
      "Predicting DataLoader 0: 100%|██████████| 1/1 [00:00<00:00, 996.27it/s]\n",
      "!!!@@@------Training WBBLSTM…"
     ]
    },
    {
     "name": "stderr",
     "output_type": "stream",
     "text": [
      "ignoring user defined `output_chunk_length`. RNNModel uses a fixed `output_chunk_length=1`.\n",
      "GPU available: False, used: False\n",
      "TPU available: False, using: 0 TPU cores\n",
      "HPU available: False, using: 0 HPUs\n",
      "\n",
      "  | Name            | Type             | Params | Mode \n",
      "-------------------------------------------------------------\n",
      "0 | criterion       | MSELoss          | 0      | train\n",
      "1 | train_criterion | MSELoss          | 0      | train\n",
      "2 | val_criterion   | MSELoss          | 0      | train\n",
      "3 | train_metrics   | MetricCollection | 0      | train\n",
      "4 | val_metrics     | MetricCollection | 0      | train\n",
      "5 | rnn             | LSTM             | 9.3 K  | train\n",
      "6 | V               | Linear           | 26     | train\n",
      "-------------------------------------------------------------\n",
      "9.3 K     Trainable params\n",
      "0         Non-trainable params\n",
      "9.3 K     Total params\n",
      "0.037     Total estimated model params size (MB)\n",
      "7         Modules in train mode\n",
      "0         Modules in eval mode\n"
     ]
    },
    {
     "name": "stdout",
     "output_type": "stream",
     "text": [
      "Epoch 99: 100%|██████████| 9/9 [00:00<00:00, 92.83it/s, train_loss=0.0481] "
     ]
    },
    {
     "name": "stderr",
     "output_type": "stream",
     "text": [
      "`Trainer.fit` stopped: `max_epochs=100` reached.\n"
     ]
    },
    {
     "name": "stdout",
     "output_type": "stream",
     "text": [
      "Epoch 99: 100%|██████████| 9/9 [00:00<00:00, 92.83it/s, train_loss=0.0481]\n",
      " saved.\n"
     ]
    },
    {
     "name": "stderr",
     "output_type": "stream",
     "text": [
      "GPU available: False, used: False\n",
      "TPU available: False, using: 0 TPU cores\n",
      "HPU available: False, using: 0 HPUs\n"
     ]
    },
    {
     "name": "stdout",
     "output_type": "stream",
     "text": [
      "Predicting DataLoader 0: 100%|██████████| 1/1 [00:00<00:00, 83.18it/s]\n",
      "negative corr\n",
      "std_p: 0.80, corr: 0.39, rmse: 1.18, mae_v: 0.96,sm: 124.42 - ExtraTF \n",
      "std_p: 0.87, corr: 0.89, rmse: 0.51, mae_v: 0.41,sm: 66.31 - RandomRF \n",
      "std_p: 0.69, corr: 0.81, rmse: 0.68, mae_v: 0.53,sm: 90.45 - SVR \n",
      "std_p: 0.87, corr: 0.92, rmse: 0.45, mae_v: 0.34,sm: 54.49 - LSTM \n",
      "std_p: 0.64, corr: 0.37, rmse: 1.51, mae_v: 1.20,sm: 141.12 - WBBLSTM \n",
      "✔️ Done with 40704 | 12\n",
      "\n",
      "\n",
      "=== Station 40704 | 24 ===\n",
      "!!!@@@------Training ExtraTF… saved.\n",
      "negative corr\n",
      "!!!@@@------Training RandomRF… saved.\n"
     ]
    },
    {
     "name": "stderr",
     "output_type": "stream",
     "text": [
      "ignoring user defined `output_chunk_length`. RNNModel uses a fixed `output_chunk_length=1`.\n",
      "GPU available: False, used: False\n",
      "TPU available: False, using: 0 TPU cores\n",
      "HPU available: False, using: 0 HPUs\n",
      "\n",
      "  | Name            | Type             | Params | Mode \n",
      "-------------------------------------------------------------\n",
      "0 | criterion       | MSELoss          | 0      | train\n",
      "1 | train_criterion | MSELoss          | 0      | train\n",
      "2 | val_criterion   | MSELoss          | 0      | train\n",
      "3 | train_metrics   | MetricCollection | 0      | train\n",
      "4 | val_metrics     | MetricCollection | 0      | train\n",
      "5 | rnn             | LSTM             | 9.3 K  | train\n",
      "6 | V               | Linear           | 26     | train\n",
      "-------------------------------------------------------------\n",
      "9.3 K     Trainable params\n",
      "0         Non-trainable params\n",
      "9.3 K     Total params\n",
      "0.037     Total estimated model params size (MB)\n",
      "7         Modules in train mode\n",
      "0         Modules in eval mode\n"
     ]
    },
    {
     "name": "stdout",
     "output_type": "stream",
     "text": [
      "!!!@@@------Training SVR… saved.\n",
      "Epoch 99: 100%|██████████| 18/18 [00:00<00:00, 81.05it/s, train_loss=0.0154] "
     ]
    },
    {
     "name": "stderr",
     "output_type": "stream",
     "text": [
      "`Trainer.fit` stopped: `max_epochs=100` reached.\n"
     ]
    },
    {
     "name": "stdout",
     "output_type": "stream",
     "text": [
      "Epoch 99: 100%|██████████| 18/18 [00:00<00:00, 81.05it/s, train_loss=0.0154]\n",
      " saved.\n"
     ]
    },
    {
     "name": "stderr",
     "output_type": "stream",
     "text": [
      "GPU available: False, used: False\n",
      "TPU available: False, using: 0 TPU cores\n",
      "HPU available: False, using: 0 HPUs\n"
     ]
    },
    {
     "name": "stdout",
     "output_type": "stream",
     "text": [
      "Predicting DataLoader 0: 100%|██████████| 1/1 [00:00<00:00, 47.66it/s]\n",
      "!!!@@@------Training WBBLSTM…"
     ]
    },
    {
     "name": "stderr",
     "output_type": "stream",
     "text": [
      "ignoring user defined `output_chunk_length`. RNNModel uses a fixed `output_chunk_length=1`.\n",
      "GPU available: False, used: False\n",
      "TPU available: False, using: 0 TPU cores\n",
      "HPU available: False, using: 0 HPUs\n",
      "\n",
      "  | Name            | Type             | Params | Mode \n",
      "-------------------------------------------------------------\n",
      "0 | criterion       | MSELoss          | 0      | train\n",
      "1 | train_criterion | MSELoss          | 0      | train\n",
      "2 | val_criterion   | MSELoss          | 0      | train\n",
      "3 | train_metrics   | MetricCollection | 0      | train\n",
      "4 | val_metrics     | MetricCollection | 0      | train\n",
      "5 | rnn             | LSTM             | 9.3 K  | train\n",
      "6 | V               | Linear           | 26     | train\n",
      "-------------------------------------------------------------\n",
      "9.3 K     Trainable params\n",
      "0         Non-trainable params\n",
      "9.3 K     Total params\n",
      "0.037     Total estimated model params size (MB)\n",
      "7         Modules in train mode\n",
      "0         Modules in eval mode\n"
     ]
    },
    {
     "name": "stdout",
     "output_type": "stream",
     "text": [
      "Epoch 99: 100%|██████████| 8/8 [00:00<00:00, 84.87it/s, train_loss=0.055]  "
     ]
    },
    {
     "name": "stderr",
     "output_type": "stream",
     "text": [
      "`Trainer.fit` stopped: `max_epochs=100` reached.\n"
     ]
    },
    {
     "name": "stdout",
     "output_type": "stream",
     "text": [
      "Epoch 99: 100%|██████████| 8/8 [00:00<00:00, 84.87it/s, train_loss=0.055]\n",
      " saved.\n"
     ]
    },
    {
     "name": "stderr",
     "output_type": "stream",
     "text": [
      "GPU available: False, used: False\n",
      "TPU available: False, using: 0 TPU cores\n",
      "HPU available: False, using: 0 HPUs\n"
     ]
    },
    {
     "name": "stdout",
     "output_type": "stream",
     "text": [
      "Predicting DataLoader 0: 100%|██████████| 1/1 [00:00<00:00, 63.34it/s]\n",
      "negative corr\n",
      "std_p: 0.59, corr: 0.04, rmse: 2.01, mae_v: 1.75,sm: 155.50 - ExtraTF \n",
      "std_p: 0.87, corr: 0.96, rmse: 0.30, mae_v: 0.24,sm: 55.35 - RandomRF \n",
      "std_p: 0.62, corr: 0.89, rmse: 0.55, mae_v: 0.39,sm: 69.70 - SVR \n",
      "std_p: 0.91, corr: 0.91, rmse: 0.45, mae_v: 0.34,sm: 84.51 - LSTM \n",
      "std_p: 0.76, corr: 0.29, rmse: 1.28, mae_v: 1.11,sm: 156.84 - WBBLSTM \n",
      "✔️ Done with 40704 | 24\n",
      "\n",
      "📄 Results saved as CSV: results\\results_summary.csv\n",
      "\n",
      "=== Station 40705 | 1 ===\n",
      "!!!@@@------Training ExtraTF… saved.\n",
      "!!!@@@------Training RandomRF… saved.\n"
     ]
    },
    {
     "name": "stderr",
     "output_type": "stream",
     "text": [
      "ignoring user defined `output_chunk_length`. RNNModel uses a fixed `output_chunk_length=1`.\n",
      "GPU available: False, used: False\n",
      "TPU available: False, using: 0 TPU cores\n",
      "HPU available: False, using: 0 HPUs\n",
      "\n",
      "  | Name            | Type             | Params | Mode \n",
      "-------------------------------------------------------------\n",
      "0 | criterion       | MSELoss          | 0      | train\n",
      "1 | train_criterion | MSELoss          | 0      | train\n",
      "2 | val_criterion   | MSELoss          | 0      | train\n",
      "3 | train_metrics   | MetricCollection | 0      | train\n",
      "4 | val_metrics     | MetricCollection | 0      | train\n",
      "5 | rnn             | LSTM             | 9.3 K  | train\n",
      "6 | V               | Linear           | 26     | train\n",
      "-------------------------------------------------------------\n",
      "9.3 K     Trainable params\n",
      "0         Non-trainable params\n",
      "9.3 K     Total params\n",
      "0.037     Total estimated model params size (MB)\n",
      "7         Modules in train mode\n",
      "0         Modules in eval mode\n"
     ]
    },
    {
     "name": "stdout",
     "output_type": "stream",
     "text": [
      "!!!@@@------Training SVR… saved.\n",
      "Epoch 99: 100%|██████████| 16/16 [00:00<00:00, 76.31it/s, train_loss=0.025]  "
     ]
    },
    {
     "name": "stderr",
     "output_type": "stream",
     "text": [
      "`Trainer.fit` stopped: `max_epochs=100` reached.\n"
     ]
    },
    {
     "name": "stdout",
     "output_type": "stream",
     "text": [
      "Epoch 99: 100%|██████████| 16/16 [00:00<00:00, 76.31it/s, train_loss=0.025]\n",
      " saved.\n"
     ]
    },
    {
     "name": "stderr",
     "output_type": "stream",
     "text": [
      "GPU available: False, used: False\n",
      "TPU available: False, using: 0 TPU cores\n",
      "HPU available: False, using: 0 HPUs\n"
     ]
    },
    {
     "name": "stdout",
     "output_type": "stream",
     "text": [
      "Predicting DataLoader 0: 100%|██████████| 1/1 [00:00<00:00, 63.16it/s]\n"
     ]
    },
    {
     "name": "stderr",
     "output_type": "stream",
     "text": [
      "ignoring user defined `output_chunk_length`. RNNModel uses a fixed `output_chunk_length=1`.\n"
     ]
    },
    {
     "name": "stdout",
     "output_type": "stream",
     "text": [
      "!!!@@@------Training WBBLSTM…"
     ]
    },
    {
     "name": "stderr",
     "output_type": "stream",
     "text": [
      "GPU available: False, used: False\n",
      "TPU available: False, using: 0 TPU cores\n",
      "HPU available: False, using: 0 HPUs\n",
      "\n",
      "  | Name            | Type             | Params | Mode \n",
      "-------------------------------------------------------------\n",
      "0 | criterion       | MSELoss          | 0      | train\n",
      "1 | train_criterion | MSELoss          | 0      | train\n",
      "2 | val_criterion   | MSELoss          | 0      | train\n",
      "3 | train_metrics   | MetricCollection | 0      | train\n",
      "4 | val_metrics     | MetricCollection | 0      | train\n",
      "5 | rnn             | LSTM             | 9.3 K  | train\n",
      "6 | V               | Linear           | 26     | train\n",
      "-------------------------------------------------------------\n",
      "9.3 K     Trainable params\n",
      "0         Non-trainable params\n",
      "9.3 K     Total params\n",
      "0.037     Total estimated model params size (MB)\n",
      "7         Modules in train mode\n",
      "0         Modules in eval mode\n"
     ]
    },
    {
     "name": "stdout",
     "output_type": "stream",
     "text": [
      "Epoch 99: 100%|██████████| 7/7 [00:00<00:00, 88.14it/s, train_loss=0.0701]  "
     ]
    },
    {
     "name": "stderr",
     "output_type": "stream",
     "text": [
      "`Trainer.fit` stopped: `max_epochs=100` reached.\n"
     ]
    },
    {
     "name": "stdout",
     "output_type": "stream",
     "text": [
      "Epoch 99: 100%|██████████| 7/7 [00:00<00:00, 88.14it/s, train_loss=0.0701]\n",
      " saved.\n"
     ]
    },
    {
     "name": "stderr",
     "output_type": "stream",
     "text": [
      "GPU available: False, used: False\n",
      "TPU available: False, using: 0 TPU cores\n",
      "HPU available: False, using: 0 HPUs\n"
     ]
    },
    {
     "name": "stdout",
     "output_type": "stream",
     "text": [
      "Predicting DataLoader 0: 100%|██████████| 1/1 [00:00<00:00, 459.75it/s]\n",
      "std_p: 0.72, corr: 0.79, rmse: 0.47, mae_v: 0.37,sm: 92.07 - ExtraTF \n",
      "std_p: 0.63, corr: 0.78, rmse: 0.46, mae_v: 0.35,sm: 87.87 - RandomRF \n",
      "std_p: 0.61, corr: 0.77, rmse: 0.46, mae_v: 0.35,sm: 76.46 - SVR \n",
      "std_p: 0.67, corr: 0.81, rmse: 0.42, mae_v: 0.33,sm: 89.17 - LSTM \n",
      "std_p: 0.37, corr: 0.01, rmse: 0.82, mae_v: 0.66,sm: 147.59 - WBBLSTM \n",
      "✔️ Done with 40705 | 1\n",
      "\n",
      "\n",
      "=== Station 40705 | 3 ===\n",
      "!!!@@@------Training ExtraTF… saved.\n",
      "!!!@@@------Training RandomRF… saved.\n"
     ]
    },
    {
     "name": "stderr",
     "output_type": "stream",
     "text": [
      "ignoring user defined `output_chunk_length`. RNNModel uses a fixed `output_chunk_length=1`.\n",
      "GPU available: False, used: False\n",
      "TPU available: False, using: 0 TPU cores\n",
      "HPU available: False, using: 0 HPUs\n",
      "\n",
      "  | Name            | Type             | Params | Mode \n",
      "-------------------------------------------------------------\n",
      "0 | criterion       | MSELoss          | 0      | train\n",
      "1 | train_criterion | MSELoss          | 0      | train\n",
      "2 | val_criterion   | MSELoss          | 0      | train\n",
      "3 | train_metrics   | MetricCollection | 0      | train\n",
      "4 | val_metrics     | MetricCollection | 0      | train\n",
      "5 | rnn             | LSTM             | 9.3 K  | train\n",
      "6 | V               | Linear           | 26     | train\n",
      "-------------------------------------------------------------\n",
      "9.3 K     Trainable params\n",
      "0         Non-trainable params\n",
      "9.3 K     Total params\n",
      "0.037     Total estimated model params size (MB)\n",
      "7         Modules in train mode\n",
      "0         Modules in eval mode\n"
     ]
    },
    {
     "name": "stdout",
     "output_type": "stream",
     "text": [
      "!!!@@@------Training SVR… saved.\n",
      "Epoch 99: 100%|██████████| 16/16 [00:00<00:00, 93.62it/s, train_loss=0.0207] "
     ]
    },
    {
     "name": "stderr",
     "output_type": "stream",
     "text": [
      "`Trainer.fit` stopped: `max_epochs=100` reached.\n"
     ]
    },
    {
     "name": "stdout",
     "output_type": "stream",
     "text": [
      "Epoch 99: 100%|██████████| 16/16 [00:00<00:00, 92.54it/s, train_loss=0.0207]\n",
      " saved.\n"
     ]
    },
    {
     "name": "stderr",
     "output_type": "stream",
     "text": [
      "GPU available: False, used: False\n",
      "TPU available: False, using: 0 TPU cores\n",
      "HPU available: False, using: 0 HPUs\n"
     ]
    },
    {
     "name": "stdout",
     "output_type": "stream",
     "text": [
      "Predicting DataLoader 0: 100%|██████████| 1/1 [00:00<00:00, 62.50it/s]"
     ]
    },
    {
     "name": "stderr",
     "output_type": "stream",
     "text": [
      "ignoring user defined `output_chunk_length`. RNNModel uses a fixed `output_chunk_length=1`.\n",
      "GPU available: False, used: False\n"
     ]
    },
    {
     "name": "stdout",
     "output_type": "stream",
     "text": [
      "\n",
      "!!!@@@------Training WBBLSTM…"
     ]
    },
    {
     "name": "stderr",
     "output_type": "stream",
     "text": [
      "TPU available: False, using: 0 TPU cores\n",
      "HPU available: False, using: 0 HPUs\n",
      "\n",
      "  | Name            | Type             | Params | Mode \n",
      "-------------------------------------------------------------\n",
      "0 | criterion       | MSELoss          | 0      | train\n",
      "1 | train_criterion | MSELoss          | 0      | train\n",
      "2 | val_criterion   | MSELoss          | 0      | train\n",
      "3 | train_metrics   | MetricCollection | 0      | train\n",
      "4 | val_metrics     | MetricCollection | 0      | train\n",
      "5 | rnn             | LSTM             | 9.3 K  | train\n",
      "6 | V               | Linear           | 26     | train\n",
      "-------------------------------------------------------------\n",
      "9.3 K     Trainable params\n",
      "0         Non-trainable params\n",
      "9.3 K     Total params\n",
      "0.037     Total estimated model params size (MB)\n",
      "7         Modules in train mode\n",
      "0         Modules in eval mode\n"
     ]
    },
    {
     "name": "stdout",
     "output_type": "stream",
     "text": [
      "Epoch 99: 100%|██████████| 7/7 [00:00<00:00, 96.00it/s, train_loss=0.0859] "
     ]
    },
    {
     "name": "stderr",
     "output_type": "stream",
     "text": [
      "`Trainer.fit` stopped: `max_epochs=100` reached.\n"
     ]
    },
    {
     "name": "stdout",
     "output_type": "stream",
     "text": [
      "Epoch 99: 100%|██████████| 7/7 [00:00<00:00, 96.00it/s, train_loss=0.0859]\n",
      " saved.\n"
     ]
    },
    {
     "name": "stderr",
     "output_type": "stream",
     "text": [
      "GPU available: False, used: False\n",
      "TPU available: False, using: 0 TPU cores\n",
      "HPU available: False, using: 0 HPUs\n"
     ]
    },
    {
     "name": "stdout",
     "output_type": "stream",
     "text": [
      "Predicting DataLoader 0: 100%|██████████| 1/1 [00:00<?, ?it/s]\n",
      "negative corr\n",
      "std_p: 0.54, corr: 0.49, rmse: 0.65, mae_v: 0.54,sm: 125.36 - ExtraTF \n",
      "std_p: 0.54, corr: 0.78, rmse: 0.42, mae_v: 0.33,sm: 90.89 - RandomRF \n",
      "std_p: 0.33, corr: 0.62, rmse: 0.52, mae_v: 0.43,sm: 121.67 - SVR \n",
      "std_p: 0.68, corr: 0.82, rmse: 0.42, mae_v: 0.35,sm: 84.81 - LSTM \n",
      "std_p: 0.60, corr: 0.21, rmse: 0.80, mae_v: 0.66,sm: 136.30 - WBBLSTM \n",
      "✔️ Done with 40705 | 3\n",
      "\n",
      "\n",
      "=== Station 40705 | 6 ===\n",
      "!!!@@@------Training ExtraTF… saved.\n",
      "!!!@@@------Training RandomRF… saved.\n"
     ]
    },
    {
     "name": "stderr",
     "output_type": "stream",
     "text": [
      "ignoring user defined `output_chunk_length`. RNNModel uses a fixed `output_chunk_length=1`.\n",
      "GPU available: False, used: False\n",
      "TPU available: False, using: 0 TPU cores\n",
      "HPU available: False, using: 0 HPUs\n",
      "\n",
      "  | Name            | Type             | Params | Mode \n",
      "-------------------------------------------------------------\n",
      "0 | criterion       | MSELoss          | 0      | train\n",
      "1 | train_criterion | MSELoss          | 0      | train\n",
      "2 | val_criterion   | MSELoss          | 0      | train\n",
      "3 | train_metrics   | MetricCollection | 0      | train\n",
      "4 | val_metrics     | MetricCollection | 0      | train\n",
      "5 | rnn             | LSTM             | 9.3 K  | train\n",
      "6 | V               | Linear           | 26     | train\n",
      "-------------------------------------------------------------\n",
      "9.3 K     Trainable params\n",
      "0         Non-trainable params\n",
      "9.3 K     Total params\n",
      "0.037     Total estimated model params size (MB)\n",
      "7         Modules in train mode\n",
      "0         Modules in eval mode\n"
     ]
    },
    {
     "name": "stdout",
     "output_type": "stream",
     "text": [
      "!!!@@@------Training SVR… saved.\n",
      "Epoch 99: 100%|██████████| 15/15 [00:00<00:00, 92.20it/s, train_loss=0.0181] "
     ]
    },
    {
     "name": "stderr",
     "output_type": "stream",
     "text": [
      "`Trainer.fit` stopped: `max_epochs=100` reached.\n"
     ]
    },
    {
     "name": "stdout",
     "output_type": "stream",
     "text": [
      "Epoch 99: 100%|██████████| 15/15 [00:00<00:00, 91.08it/s, train_loss=0.0181]\n",
      " saved.\n"
     ]
    },
    {
     "name": "stderr",
     "output_type": "stream",
     "text": [
      "GPU available: False, used: False\n",
      "TPU available: False, using: 0 TPU cores\n",
      "HPU available: False, using: 0 HPUs\n"
     ]
    },
    {
     "name": "stdout",
     "output_type": "stream",
     "text": [
      "Predicting DataLoader 0: 100%|██████████| 1/1 [00:00<00:00, 63.18it/s]\n",
      "!!!@@@------Training WBBLSTM…"
     ]
    },
    {
     "name": "stderr",
     "output_type": "stream",
     "text": [
      "ignoring user defined `output_chunk_length`. RNNModel uses a fixed `output_chunk_length=1`.\n",
      "GPU available: False, used: False\n",
      "TPU available: False, using: 0 TPU cores\n",
      "HPU available: False, using: 0 HPUs\n",
      "\n",
      "  | Name            | Type             | Params | Mode \n",
      "-------------------------------------------------------------\n",
      "0 | criterion       | MSELoss          | 0      | train\n",
      "1 | train_criterion | MSELoss          | 0      | train\n",
      "2 | val_criterion   | MSELoss          | 0      | train\n",
      "3 | train_metrics   | MetricCollection | 0      | train\n",
      "4 | val_metrics     | MetricCollection | 0      | train\n",
      "5 | rnn             | LSTM             | 9.3 K  | train\n",
      "6 | V               | Linear           | 26     | train\n",
      "-------------------------------------------------------------\n",
      "9.3 K     Trainable params\n",
      "0         Non-trainable params\n",
      "9.3 K     Total params\n",
      "0.037     Total estimated model params size (MB)\n",
      "7         Modules in train mode\n",
      "0         Modules in eval mode\n"
     ]
    },
    {
     "name": "stdout",
     "output_type": "stream",
     "text": [
      "Epoch 99: 100%|██████████| 7/7 [00:00<00:00, 76.55it/s, train_loss=0.0965] "
     ]
    },
    {
     "name": "stderr",
     "output_type": "stream",
     "text": [
      "`Trainer.fit` stopped: `max_epochs=100` reached.\n"
     ]
    },
    {
     "name": "stdout",
     "output_type": "stream",
     "text": [
      "Epoch 99: 100%|██████████| 7/7 [00:00<00:00, 76.55it/s, train_loss=0.0965]\n",
      " saved.\n"
     ]
    },
    {
     "name": "stderr",
     "output_type": "stream",
     "text": [
      "GPU available: False, used: False\n",
      "TPU available: False, using: 0 TPU cores\n",
      "HPU available: False, using: 0 HPUs\n"
     ]
    },
    {
     "name": "stdout",
     "output_type": "stream",
     "text": [
      "Predicting DataLoader 0: 100%|██████████| 1/1 [00:00<00:00, 79.61it/s]\n",
      "negative corr\n",
      "std_p: 0.51, corr: 0.61, rmse: 0.72, mae_v: 0.59,sm: 117.31 - ExtraTF \n",
      "std_p: 0.64, corr: 0.84, rmse: 0.42, mae_v: 0.30,sm: 88.60 - RandomRF \n",
      "std_p: 0.30, corr: 0.76, rmse: 0.59, mae_v: 0.43,sm: 114.86 - SVR \n",
      "std_p: 0.75, corr: 0.85, rmse: 0.42, mae_v: 0.31,sm: 86.89 - LSTM \n",
      "std_p: 0.47, corr: 0.14, rmse: 0.87, mae_v: 0.71,sm: 152.82 - WBBLSTM \n",
      "✔️ Done with 40705 | 6\n",
      "\n",
      "\n",
      "=== Station 40705 | 9 ===\n",
      "!!!@@@------Training ExtraTF… saved.\n",
      "!!!@@@------Training RandomRF… saved.\n"
     ]
    },
    {
     "name": "stderr",
     "output_type": "stream",
     "text": [
      "ignoring user defined `output_chunk_length`. RNNModel uses a fixed `output_chunk_length=1`.\n",
      "GPU available: False, used: False\n",
      "TPU available: False, using: 0 TPU cores\n",
      "HPU available: False, using: 0 HPUs\n",
      "\n",
      "  | Name            | Type             | Params | Mode \n",
      "-------------------------------------------------------------\n",
      "0 | criterion       | MSELoss          | 0      | train\n",
      "1 | train_criterion | MSELoss          | 0      | train\n",
      "2 | val_criterion   | MSELoss          | 0      | train\n",
      "3 | train_metrics   | MetricCollection | 0      | train\n",
      "4 | val_metrics     | MetricCollection | 0      | train\n",
      "5 | rnn             | LSTM             | 9.3 K  | train\n",
      "6 | V               | Linear           | 26     | train\n",
      "-------------------------------------------------------------\n",
      "9.3 K     Trainable params\n",
      "0         Non-trainable params\n",
      "9.3 K     Total params\n",
      "0.037     Total estimated model params size (MB)\n",
      "7         Modules in train mode\n",
      "0         Modules in eval mode\n"
     ]
    },
    {
     "name": "stdout",
     "output_type": "stream",
     "text": [
      "!!!@@@------Training SVR… saved.\n",
      "Epoch 99: 100%|██████████| 15/15 [00:00<00:00, 88.45it/s, train_loss=0.0155] "
     ]
    },
    {
     "name": "stderr",
     "output_type": "stream",
     "text": [
      "`Trainer.fit` stopped: `max_epochs=100` reached.\n"
     ]
    },
    {
     "name": "stdout",
     "output_type": "stream",
     "text": [
      "Epoch 99: 100%|██████████| 15/15 [00:00<00:00, 88.45it/s, train_loss=0.0155]\n",
      " saved.\n"
     ]
    },
    {
     "name": "stderr",
     "output_type": "stream",
     "text": [
      "GPU available: False, used: False\n",
      "TPU available: False, using: 0 TPU cores\n",
      "HPU available: False, using: 0 HPUs\n"
     ]
    },
    {
     "name": "stdout",
     "output_type": "stream",
     "text": [
      "Predicting DataLoader 0: 100%|██████████| 1/1 [00:00<00:00, 498.91it/s]\n",
      "!!!@@@------Training WBBLSTM…"
     ]
    },
    {
     "name": "stderr",
     "output_type": "stream",
     "text": [
      "ignoring user defined `output_chunk_length`. RNNModel uses a fixed `output_chunk_length=1`.\n",
      "GPU available: False, used: False\n",
      "TPU available: False, using: 0 TPU cores\n",
      "HPU available: False, using: 0 HPUs\n",
      "\n",
      "  | Name            | Type             | Params | Mode \n",
      "-------------------------------------------------------------\n",
      "0 | criterion       | MSELoss          | 0      | train\n",
      "1 | train_criterion | MSELoss          | 0      | train\n",
      "2 | val_criterion   | MSELoss          | 0      | train\n",
      "3 | train_metrics   | MetricCollection | 0      | train\n",
      "4 | val_metrics     | MetricCollection | 0      | train\n",
      "5 | rnn             | LSTM             | 9.3 K  | train\n",
      "6 | V               | Linear           | 26     | train\n",
      "-------------------------------------------------------------\n",
      "9.3 K     Trainable params\n",
      "0         Non-trainable params\n",
      "9.3 K     Total params\n",
      "0.037     Total estimated model params size (MB)\n",
      "7         Modules in train mode\n",
      "0         Modules in eval mode\n"
     ]
    },
    {
     "name": "stdout",
     "output_type": "stream",
     "text": [
      "Epoch 99: 100%|██████████| 7/7 [00:00<00:00, 87.70it/s, train_loss=0.0513] "
     ]
    },
    {
     "name": "stderr",
     "output_type": "stream",
     "text": [
      "`Trainer.fit` stopped: `max_epochs=100` reached.\n"
     ]
    },
    {
     "name": "stdout",
     "output_type": "stream",
     "text": [
      "Epoch 99: 100%|██████████| 7/7 [00:00<00:00, 87.70it/s, train_loss=0.0513]\n",
      " saved.\n"
     ]
    },
    {
     "name": "stderr",
     "output_type": "stream",
     "text": [
      "GPU available: False, used: False\n",
      "TPU available: False, using: 0 TPU cores\n",
      "HPU available: False, using: 0 HPUs\n"
     ]
    },
    {
     "name": "stdout",
     "output_type": "stream",
     "text": [
      "Predicting DataLoader 0: 100%|██████████| 1/1 [00:00<?, ?it/s]\n",
      "std_p: 0.68, corr: 0.73, rmse: 0.60, mae_v: 0.49,sm: 96.94 - ExtraTF \n",
      "std_p: 0.70, corr: 0.90, rmse: 0.36, mae_v: 0.28,sm: 74.93 - RandomRF \n",
      "std_p: 0.32, corr: 0.75, rmse: 0.62, mae_v: 0.45,sm: 111.98 - SVR \n",
      "std_p: 0.70, corr: 0.86, rmse: 0.42, mae_v: 0.34,sm: 90.89 - LSTM \n",
      "std_p: 0.38, corr: 0.02, rmse: 1.15, mae_v: 0.88,sm: 134.89 - WBBLSTM \n",
      "✔️ Done with 40705 | 9\n",
      "\n",
      "\n",
      "=== Station 40705 | 12 ===\n",
      "!!!@@@------Training ExtraTF… saved.\n",
      "!!!@@@------Training RandomRF… saved.\n"
     ]
    },
    {
     "name": "stderr",
     "output_type": "stream",
     "text": [
      "ignoring user defined `output_chunk_length`. RNNModel uses a fixed `output_chunk_length=1`.\n",
      "GPU available: False, used: False\n",
      "TPU available: False, using: 0 TPU cores\n",
      "HPU available: False, using: 0 HPUs\n",
      "\n",
      "  | Name            | Type             | Params | Mode \n",
      "-------------------------------------------------------------\n",
      "0 | criterion       | MSELoss          | 0      | train\n",
      "1 | train_criterion | MSELoss          | 0      | train\n",
      "2 | val_criterion   | MSELoss          | 0      | train\n",
      "3 | train_metrics   | MetricCollection | 0      | train\n",
      "4 | val_metrics     | MetricCollection | 0      | train\n",
      "5 | rnn             | LSTM             | 9.3 K  | train\n",
      "6 | V               | Linear           | 26     | train\n",
      "-------------------------------------------------------------\n",
      "9.3 K     Trainable params\n",
      "0         Non-trainable params\n",
      "9.3 K     Total params\n",
      "0.037     Total estimated model params size (MB)\n",
      "7         Modules in train mode\n",
      "0         Modules in eval mode\n"
     ]
    },
    {
     "name": "stdout",
     "output_type": "stream",
     "text": [
      "!!!@@@------Training SVR… saved.\n",
      "Epoch 99: 100%|██████████| 15/15 [00:00<00:00, 92.07it/s, train_loss=0.0239] "
     ]
    },
    {
     "name": "stderr",
     "output_type": "stream",
     "text": [
      "`Trainer.fit` stopped: `max_epochs=100` reached.\n"
     ]
    },
    {
     "name": "stdout",
     "output_type": "stream",
     "text": [
      "Epoch 99: 100%|██████████| 15/15 [00:00<00:00, 92.07it/s, train_loss=0.0239]\n",
      " saved.\n"
     ]
    },
    {
     "name": "stderr",
     "output_type": "stream",
     "text": [
      "GPU available: False, used: False\n",
      "TPU available: False, using: 0 TPU cores\n",
      "HPU available: False, using: 0 HPUs\n"
     ]
    },
    {
     "name": "stdout",
     "output_type": "stream",
     "text": [
      "Predicting DataLoader 0: 100%|██████████| 1/1 [00:00<00:00, 86.85it/s]"
     ]
    },
    {
     "name": "stderr",
     "output_type": "stream",
     "text": [
      "ignoring user defined `output_chunk_length`. RNNModel uses a fixed `output_chunk_length=1`.\n"
     ]
    },
    {
     "name": "stdout",
     "output_type": "stream",
     "text": [
      "\n",
      "!!!@@@------Training WBBLSTM…"
     ]
    },
    {
     "name": "stderr",
     "output_type": "stream",
     "text": [
      "GPU available: False, used: False\n",
      "TPU available: False, using: 0 TPU cores\n",
      "HPU available: False, using: 0 HPUs\n",
      "\n",
      "  | Name            | Type             | Params | Mode \n",
      "-------------------------------------------------------------\n",
      "0 | criterion       | MSELoss          | 0      | train\n",
      "1 | train_criterion | MSELoss          | 0      | train\n",
      "2 | val_criterion   | MSELoss          | 0      | train\n",
      "3 | train_metrics   | MetricCollection | 0      | train\n",
      "4 | val_metrics     | MetricCollection | 0      | train\n",
      "5 | rnn             | LSTM             | 9.3 K  | train\n",
      "6 | V               | Linear           | 26     | train\n",
      "-------------------------------------------------------------\n",
      "9.3 K     Trainable params\n",
      "0         Non-trainable params\n",
      "9.3 K     Total params\n",
      "0.037     Total estimated model params size (MB)\n",
      "7         Modules in train mode\n",
      "0         Modules in eval mode\n"
     ]
    },
    {
     "name": "stdout",
     "output_type": "stream",
     "text": [
      "Epoch 99: 100%|██████████| 7/7 [00:00<00:00, 75.46it/s, train_loss=0.0594] "
     ]
    },
    {
     "name": "stderr",
     "output_type": "stream",
     "text": [
      "`Trainer.fit` stopped: `max_epochs=100` reached.\n"
     ]
    },
    {
     "name": "stdout",
     "output_type": "stream",
     "text": [
      "Epoch 99: 100%|██████████| 7/7 [00:00<00:00, 74.06it/s, train_loss=0.0594]\n",
      " saved.\n"
     ]
    },
    {
     "name": "stderr",
     "output_type": "stream",
     "text": [
      "GPU available: False, used: False\n",
      "TPU available: False, using: 0 TPU cores\n",
      "HPU available: False, using: 0 HPUs\n"
     ]
    },
    {
     "name": "stdout",
     "output_type": "stream",
     "text": [
      "Predicting DataLoader 0: 100%|██████████| 1/1 [00:00<00:00, 84.71it/s]\n",
      "negative corr\n",
      "std_p: 0.67, corr: 0.46, rmse: 0.84, mae_v: 0.72,sm: 141.34 - ExtraTF \n",
      "std_p: 0.80, corr: 0.87, rmse: 0.45, mae_v: 0.37,sm: 93.95 - RandomRF \n",
      "std_p: 0.49, corr: 0.70, rmse: 0.63, mae_v: 0.48,sm: 108.69 - SVR \n",
      "std_p: 0.87, corr: 0.90, rmse: 0.39, mae_v: 0.30,sm: 80.14 - LSTM \n",
      "std_p: 0.68, corr: 0.20, rmse: 1.07, mae_v: 0.86,sm: 144.38 - WBBLSTM \n",
      "✔️ Done with 40705 | 12\n",
      "\n",
      "\n",
      "=== Station 40705 | 24 ===\n",
      "!!!@@@------Training ExtraTF… saved.\n",
      "negative corr\n",
      "!!!@@@------Training RandomRF… saved.\n"
     ]
    },
    {
     "name": "stderr",
     "output_type": "stream",
     "text": [
      "ignoring user defined `output_chunk_length`. RNNModel uses a fixed `output_chunk_length=1`.\n",
      "GPU available: False, used: False\n",
      "TPU available: False, using: 0 TPU cores\n",
      "HPU available: False, using: 0 HPUs\n",
      "\n",
      "  | Name            | Type             | Params | Mode \n",
      "-------------------------------------------------------------\n",
      "0 | criterion       | MSELoss          | 0      | train\n",
      "1 | train_criterion | MSELoss          | 0      | train\n",
      "2 | val_criterion   | MSELoss          | 0      | train\n",
      "3 | train_metrics   | MetricCollection | 0      | train\n",
      "4 | val_metrics     | MetricCollection | 0      | train\n",
      "5 | rnn             | LSTM             | 9.3 K  | train\n",
      "6 | V               | Linear           | 26     | train\n",
      "-------------------------------------------------------------\n",
      "9.3 K     Trainable params\n",
      "0         Non-trainable params\n",
      "9.3 K     Total params\n",
      "0.037     Total estimated model params size (MB)\n",
      "7         Modules in train mode\n",
      "0         Modules in eval mode\n"
     ]
    },
    {
     "name": "stdout",
     "output_type": "stream",
     "text": [
      "!!!@@@------Training SVR… saved.\n",
      "Epoch 99: 100%|██████████| 15/15 [00:00<00:00, 90.97it/s, train_loss=0.00988]"
     ]
    },
    {
     "name": "stderr",
     "output_type": "stream",
     "text": [
      "`Trainer.fit` stopped: `max_epochs=100` reached.\n"
     ]
    },
    {
     "name": "stdout",
     "output_type": "stream",
     "text": [
      "Epoch 99: 100%|██████████| 15/15 [00:00<00:00, 90.97it/s, train_loss=0.00988]"
     ]
    },
    {
     "name": "stderr",
     "output_type": "stream",
     "text": [
      "GPU available: False, used: False\n"
     ]
    },
    {
     "name": "stdout",
     "output_type": "stream",
     "text": [
      "\n",
      " saved.\n"
     ]
    },
    {
     "name": "stderr",
     "output_type": "stream",
     "text": [
      "TPU available: False, using: 0 TPU cores\n",
      "HPU available: False, using: 0 HPUs\n"
     ]
    },
    {
     "name": "stdout",
     "output_type": "stream",
     "text": [
      "Predicting DataLoader 0: 100%|██████████| 1/1 [00:00<00:00, 63.15it/s]\n",
      "!!!@@@------Training WBBLSTM…"
     ]
    },
    {
     "name": "stderr",
     "output_type": "stream",
     "text": [
      "ignoring user defined `output_chunk_length`. RNNModel uses a fixed `output_chunk_length=1`.\n",
      "GPU available: False, used: False\n",
      "TPU available: False, using: 0 TPU cores\n",
      "HPU available: False, using: 0 HPUs\n",
      "\n",
      "  | Name            | Type             | Params | Mode \n",
      "-------------------------------------------------------------\n",
      "0 | criterion       | MSELoss          | 0      | train\n",
      "1 | train_criterion | MSELoss          | 0      | train\n",
      "2 | val_criterion   | MSELoss          | 0      | train\n",
      "3 | train_metrics   | MetricCollection | 0      | train\n",
      "4 | val_metrics     | MetricCollection | 0      | train\n",
      "5 | rnn             | LSTM             | 9.3 K  | train\n",
      "6 | V               | Linear           | 26     | train\n",
      "-------------------------------------------------------------\n",
      "9.3 K     Trainable params\n",
      "0         Non-trainable params\n",
      "9.3 K     Total params\n",
      "0.037     Total estimated model params size (MB)\n",
      "7         Modules in train mode\n",
      "0         Modules in eval mode\n"
     ]
    },
    {
     "name": "stdout",
     "output_type": "stream",
     "text": [
      "Epoch 99: 100%|██████████| 7/7 [00:00<00:00, 88.51it/s, train_loss=0.0885] "
     ]
    },
    {
     "name": "stderr",
     "output_type": "stream",
     "text": [
      "`Trainer.fit` stopped: `max_epochs=100` reached.\n"
     ]
    },
    {
     "name": "stdout",
     "output_type": "stream",
     "text": [
      "Epoch 99: 100%|██████████| 7/7 [00:00<00:00, 88.51it/s, train_loss=0.0885]\n",
      " saved.\n"
     ]
    },
    {
     "name": "stderr",
     "output_type": "stream",
     "text": [
      "GPU available: False, used: False\n",
      "TPU available: False, using: 0 TPU cores\n",
      "HPU available: False, using: 0 HPUs\n"
     ]
    },
    {
     "name": "stdout",
     "output_type": "stream",
     "text": [
      "Predicting DataLoader 0: 100%|██████████| 1/1 [00:00<00:00, 43.44it/s]\n",
      "negative corr\n",
      "std_p: 0.70, corr: 0.72, rmse: 0.57, mae_v: 0.45,sm: 77.07 - ExtraTF \n",
      "std_p: 0.79, corr: 0.92, rmse: 0.31, mae_v: 0.26,sm: 62.74 - RandomRF \n",
      "std_p: 0.50, corr: 0.74, rmse: 0.52, mae_v: 0.41,sm: 91.75 - SVR \n",
      "std_p: 0.70, corr: 0.83, rmse: 0.44, mae_v: 0.33,sm: 77.09 - LSTM \n",
      "std_p: 0.84, corr: 0.08, rmse: 1.55, mae_v: 1.26,sm: 145.18 - WBBLSTM \n",
      "✔️ Done with 40705 | 24\n",
      "\n",
      "📄 Results saved as CSV: results\\results_summary.csv\n",
      "\n",
      "=== Station 40706 | 1 ===\n",
      "!!!@@@------Training ExtraTF… saved.\n",
      "!!!@@@------Training RandomRF… saved.\n"
     ]
    },
    {
     "name": "stderr",
     "output_type": "stream",
     "text": [
      "ignoring user defined `output_chunk_length`. RNNModel uses a fixed `output_chunk_length=1`.\n",
      "GPU available: False, used: False\n",
      "TPU available: False, using: 0 TPU cores\n",
      "HPU available: False, using: 0 HPUs\n",
      "\n",
      "  | Name            | Type             | Params | Mode \n",
      "-------------------------------------------------------------\n",
      "0 | criterion       | MSELoss          | 0      | train\n",
      "1 | train_criterion | MSELoss          | 0      | train\n",
      "2 | val_criterion   | MSELoss          | 0      | train\n",
      "3 | train_metrics   | MetricCollection | 0      | train\n",
      "4 | val_metrics     | MetricCollection | 0      | train\n",
      "5 | rnn             | LSTM             | 9.3 K  | train\n",
      "6 | V               | Linear           | 26     | train\n",
      "-------------------------------------------------------------\n",
      "9.3 K     Trainable params\n",
      "0         Non-trainable params\n",
      "9.3 K     Total params\n",
      "0.037     Total estimated model params size (MB)\n",
      "7         Modules in train mode\n",
      "0         Modules in eval mode\n"
     ]
    },
    {
     "name": "stdout",
     "output_type": "stream",
     "text": [
      "!!!@@@------Training SVR… saved.\n",
      "Epoch 99: 100%|██████████| 19/19 [00:00<00:00, 92.76it/s, train_loss=0.0158] "
     ]
    },
    {
     "name": "stderr",
     "output_type": "stream",
     "text": [
      "`Trainer.fit` stopped: `max_epochs=100` reached.\n"
     ]
    },
    {
     "name": "stdout",
     "output_type": "stream",
     "text": [
      "Epoch 99: 100%|██████████| 19/19 [00:00<00:00, 92.76it/s, train_loss=0.0158]\n",
      " saved.\n"
     ]
    },
    {
     "name": "stderr",
     "output_type": "stream",
     "text": [
      "GPU available: False, used: False\n",
      "TPU available: False, using: 0 TPU cores\n",
      "HPU available: False, using: 0 HPUs\n"
     ]
    },
    {
     "name": "stdout",
     "output_type": "stream",
     "text": [
      "Predicting DataLoader 0: 100%|██████████| 1/1 [00:00<00:00, 70.24it/s]\n"
     ]
    },
    {
     "name": "stderr",
     "output_type": "stream",
     "text": [
      "ignoring user defined `output_chunk_length`. RNNModel uses a fixed `output_chunk_length=1`.\n"
     ]
    },
    {
     "name": "stdout",
     "output_type": "stream",
     "text": [
      "!!!@@@------Training WBBLSTM…"
     ]
    },
    {
     "name": "stderr",
     "output_type": "stream",
     "text": [
      "GPU available: False, used: False\n",
      "TPU available: False, using: 0 TPU cores\n",
      "HPU available: False, using: 0 HPUs\n",
      "\n",
      "  | Name            | Type             | Params | Mode \n",
      "-------------------------------------------------------------\n",
      "0 | criterion       | MSELoss          | 0      | train\n",
      "1 | train_criterion | MSELoss          | 0      | train\n",
      "2 | val_criterion   | MSELoss          | 0      | train\n",
      "3 | train_metrics   | MetricCollection | 0      | train\n",
      "4 | val_metrics     | MetricCollection | 0      | train\n",
      "5 | rnn             | LSTM             | 9.3 K  | train\n",
      "6 | V               | Linear           | 26     | train\n",
      "-------------------------------------------------------------\n",
      "9.3 K     Trainable params\n",
      "0         Non-trainable params\n",
      "9.3 K     Total params\n",
      "0.037     Total estimated model params size (MB)\n",
      "7         Modules in train mode\n",
      "0         Modules in eval mode\n"
     ]
    },
    {
     "name": "stdout",
     "output_type": "stream",
     "text": [
      "Epoch 99: 100%|██████████| 9/9 [00:00<00:00, 91.27it/s, train_loss=0.0549] "
     ]
    },
    {
     "name": "stderr",
     "output_type": "stream",
     "text": [
      "`Trainer.fit` stopped: `max_epochs=100` reached.\n"
     ]
    },
    {
     "name": "stdout",
     "output_type": "stream",
     "text": [
      "Epoch 99: 100%|██████████| 9/9 [00:00<00:00, 91.27it/s, train_loss=0.0549]\n",
      " saved.\n"
     ]
    },
    {
     "name": "stderr",
     "output_type": "stream",
     "text": [
      "GPU available: False, used: False\n",
      "TPU available: False, using: 0 TPU cores\n",
      "HPU available: False, using: 0 HPUs\n"
     ]
    },
    {
     "name": "stdout",
     "output_type": "stream",
     "text": [
      "Predicting DataLoader 0: 100%|██████████| 1/1 [00:00<00:00, 71.26it/s]\n",
      "std_p: 0.51, corr: 0.66, rmse: 0.53, mae_v: 0.42,sm: 105.16 - ExtraTF \n",
      "std_p: 0.49, corr: 0.73, rmse: 0.47, mae_v: 0.36,sm: 92.54 - RandomRF \n",
      "std_p: 0.47, corr: 0.66, rmse: 0.53, mae_v: 0.39,sm: 93.12 - SVR \n",
      "std_p: 0.63, corr: 0.76, rmse: 0.46, mae_v: 0.37,sm: 94.30 - LSTM \n",
      "std_p: 0.42, corr: 0.05, rmse: 0.79, mae_v: 0.62,sm: 145.40 - WBBLSTM \n",
      "✔️ Done with 40706 | 1\n",
      "\n",
      "\n",
      "=== Station 40706 | 3 ===\n",
      "!!!@@@------Training ExtraTF… saved.\n",
      "!!!@@@------Training RandomRF… saved.\n"
     ]
    },
    {
     "name": "stderr",
     "output_type": "stream",
     "text": [
      "ignoring user defined `output_chunk_length`. RNNModel uses a fixed `output_chunk_length=1`.\n",
      "GPU available: False, used: False\n",
      "TPU available: False, using: 0 TPU cores\n",
      "HPU available: False, using: 0 HPUs\n",
      "\n",
      "  | Name            | Type             | Params | Mode \n",
      "-------------------------------------------------------------\n",
      "0 | criterion       | MSELoss          | 0      | train\n",
      "1 | train_criterion | MSELoss          | 0      | train\n",
      "2 | val_criterion   | MSELoss          | 0      | train\n",
      "3 | train_metrics   | MetricCollection | 0      | train\n",
      "4 | val_metrics     | MetricCollection | 0      | train\n",
      "5 | rnn             | LSTM             | 9.3 K  | train\n",
      "6 | V               | Linear           | 26     | train\n",
      "-------------------------------------------------------------\n",
      "9.3 K     Trainable params\n",
      "0         Non-trainable params\n",
      "9.3 K     Total params\n",
      "0.037     Total estimated model params size (MB)\n",
      "7         Modules in train mode\n",
      "0         Modules in eval mode\n"
     ]
    },
    {
     "name": "stdout",
     "output_type": "stream",
     "text": [
      "!!!@@@------Training SVR… saved.\n",
      "Epoch 99: 100%|██████████| 19/19 [00:00<00:00, 95.18it/s, train_loss=0.0112] "
     ]
    },
    {
     "name": "stderr",
     "output_type": "stream",
     "text": [
      "`Trainer.fit` stopped: `max_epochs=100` reached.\n"
     ]
    },
    {
     "name": "stdout",
     "output_type": "stream",
     "text": [
      "Epoch 99: 100%|██████████| 19/19 [00:00<00:00, 95.18it/s, train_loss=0.0112]\n",
      " saved.\n"
     ]
    },
    {
     "name": "stderr",
     "output_type": "stream",
     "text": [
      "GPU available: False, used: False\n",
      "TPU available: False, using: 0 TPU cores\n",
      "HPU available: False, using: 0 HPUs\n"
     ]
    },
    {
     "name": "stdout",
     "output_type": "stream",
     "text": [
      "Predicting DataLoader 0: 100%|██████████| 1/1 [00:00<00:00, 38.50it/s]"
     ]
    },
    {
     "name": "stderr",
     "output_type": "stream",
     "text": [
      "ignoring user defined `output_chunk_length`. RNNModel uses a fixed `output_chunk_length=1`.\n"
     ]
    },
    {
     "name": "stdout",
     "output_type": "stream",
     "text": [
      "\n",
      "!!!@@@------Training WBBLSTM…"
     ]
    },
    {
     "name": "stderr",
     "output_type": "stream",
     "text": [
      "GPU available: False, used: False\n",
      "TPU available: False, using: 0 TPU cores\n",
      "HPU available: False, using: 0 HPUs\n",
      "\n",
      "  | Name            | Type             | Params | Mode \n",
      "-------------------------------------------------------------\n",
      "0 | criterion       | MSELoss          | 0      | train\n",
      "1 | train_criterion | MSELoss          | 0      | train\n",
      "2 | val_criterion   | MSELoss          | 0      | train\n",
      "3 | train_metrics   | MetricCollection | 0      | train\n",
      "4 | val_metrics     | MetricCollection | 0      | train\n",
      "5 | rnn             | LSTM             | 9.3 K  | train\n",
      "6 | V               | Linear           | 26     | train\n",
      "-------------------------------------------------------------\n",
      "9.3 K     Trainable params\n",
      "0         Non-trainable params\n",
      "9.3 K     Total params\n",
      "0.037     Total estimated model params size (MB)\n",
      "7         Modules in train mode\n",
      "0         Modules in eval mode\n"
     ]
    },
    {
     "name": "stdout",
     "output_type": "stream",
     "text": [
      "Epoch 99: 100%|██████████| 9/9 [00:00<00:00, 95.42it/s, train_loss=0.0575] "
     ]
    },
    {
     "name": "stderr",
     "output_type": "stream",
     "text": [
      "`Trainer.fit` stopped: `max_epochs=100` reached.\n"
     ]
    },
    {
     "name": "stdout",
     "output_type": "stream",
     "text": [
      "Epoch 99: 100%|██████████| 9/9 [00:00<00:00, 95.42it/s, train_loss=0.0575]\n",
      " saved.\n"
     ]
    },
    {
     "name": "stderr",
     "output_type": "stream",
     "text": [
      "GPU available: False, used: False\n",
      "TPU available: False, using: 0 TPU cores\n",
      "HPU available: False, using: 0 HPUs\n"
     ]
    },
    {
     "name": "stdout",
     "output_type": "stream",
     "text": [
      "Predicting DataLoader 0: 100%|██████████| 1/1 [00:00<?, ?it/s]\n",
      "negative corr\n",
      "std_p: 0.52, corr: 0.50, rmse: 0.57, mae_v: 0.44,sm: 114.43 - ExtraTF \n",
      "std_p: 0.41, corr: 0.64, rmse: 0.46, mae_v: 0.37,sm: 113.57 - RandomRF \n",
      "std_p: 0.28, corr: 0.65, rmse: 0.46, mae_v: 0.37,sm: 118.37 - SVR \n",
      "std_p: 0.48, corr: 0.76, rmse: 0.39, mae_v: 0.29,sm: 87.60 - LSTM \n",
      "std_p: 0.41, corr: 0.14, rmse: 0.69, mae_v: 0.56,sm: 147.67 - WBBLSTM \n",
      "✔️ Done with 40706 | 3\n",
      "\n",
      "\n",
      "=== Station 40706 | 6 ===\n",
      "!!!@@@------Training ExtraTF… saved.\n",
      "!!!@@@------Training RandomRF… saved.\n"
     ]
    },
    {
     "name": "stderr",
     "output_type": "stream",
     "text": [
      "ignoring user defined `output_chunk_length`. RNNModel uses a fixed `output_chunk_length=1`.\n",
      "GPU available: False, used: False\n",
      "TPU available: False, using: 0 TPU cores\n",
      "HPU available: False, using: 0 HPUs\n",
      "\n",
      "  | Name            | Type             | Params | Mode \n",
      "-------------------------------------------------------------\n",
      "0 | criterion       | MSELoss          | 0      | train\n",
      "1 | train_criterion | MSELoss          | 0      | train\n",
      "2 | val_criterion   | MSELoss          | 0      | train\n",
      "3 | train_metrics   | MetricCollection | 0      | train\n",
      "4 | val_metrics     | MetricCollection | 0      | train\n",
      "5 | rnn             | LSTM             | 9.3 K  | train\n",
      "6 | V               | Linear           | 26     | train\n",
      "-------------------------------------------------------------\n",
      "9.3 K     Trainable params\n",
      "0         Non-trainable params\n",
      "9.3 K     Total params\n",
      "0.037     Total estimated model params size (MB)\n",
      "7         Modules in train mode\n",
      "0         Modules in eval mode\n"
     ]
    },
    {
     "name": "stdout",
     "output_type": "stream",
     "text": [
      "!!!@@@------Training SVR… saved.\n",
      "Epoch 99: 100%|██████████| 19/19 [00:00<00:00, 95.09it/s, train_loss=0.0114]  "
     ]
    },
    {
     "name": "stderr",
     "output_type": "stream",
     "text": [
      "`Trainer.fit` stopped: `max_epochs=100` reached.\n"
     ]
    },
    {
     "name": "stdout",
     "output_type": "stream",
     "text": [
      "Epoch 99: 100%|██████████| 19/19 [00:00<00:00, 94.14it/s, train_loss=0.0114]\n",
      " saved.\n"
     ]
    },
    {
     "name": "stderr",
     "output_type": "stream",
     "text": [
      "GPU available: False, used: False\n",
      "TPU available: False, using: 0 TPU cores\n",
      "HPU available: False, using: 0 HPUs\n"
     ]
    },
    {
     "name": "stdout",
     "output_type": "stream",
     "text": [
      "Predicting DataLoader 0: 100%|██████████| 1/1 [00:00<00:00, 55.67it/s]\n",
      "!!!@@@------Training WBBLSTM…"
     ]
    },
    {
     "name": "stderr",
     "output_type": "stream",
     "text": [
      "ignoring user defined `output_chunk_length`. RNNModel uses a fixed `output_chunk_length=1`.\n",
      "GPU available: False, used: False\n",
      "TPU available: False, using: 0 TPU cores\n",
      "HPU available: False, using: 0 HPUs\n",
      "\n",
      "  | Name            | Type             | Params | Mode \n",
      "-------------------------------------------------------------\n",
      "0 | criterion       | MSELoss          | 0      | train\n",
      "1 | train_criterion | MSELoss          | 0      | train\n",
      "2 | val_criterion   | MSELoss          | 0      | train\n",
      "3 | train_metrics   | MetricCollection | 0      | train\n",
      "4 | val_metrics     | MetricCollection | 0      | train\n",
      "5 | rnn             | LSTM             | 9.3 K  | train\n",
      "6 | V               | Linear           | 26     | train\n",
      "-------------------------------------------------------------\n",
      "9.3 K     Trainable params\n",
      "0         Non-trainable params\n",
      "9.3 K     Total params\n",
      "0.037     Total estimated model params size (MB)\n",
      "7         Modules in train mode\n",
      "0         Modules in eval mode\n"
     ]
    },
    {
     "name": "stdout",
     "output_type": "stream",
     "text": [
      "Epoch 99: 100%|██████████| 9/9 [00:00<00:00, 81.97it/s, train_loss=0.0479] "
     ]
    },
    {
     "name": "stderr",
     "output_type": "stream",
     "text": [
      "`Trainer.fit` stopped: `max_epochs=100` reached.\n"
     ]
    },
    {
     "name": "stdout",
     "output_type": "stream",
     "text": [
      "Epoch 99: 100%|██████████| 9/9 [00:00<00:00, 81.97it/s, train_loss=0.0479]\n",
      " saved.\n"
     ]
    },
    {
     "name": "stderr",
     "output_type": "stream",
     "text": [
      "GPU available: False, used: False\n",
      "TPU available: False, using: 0 TPU cores\n",
      "HPU available: False, using: 0 HPUs\n"
     ]
    },
    {
     "name": "stdout",
     "output_type": "stream",
     "text": [
      "Predicting DataLoader 0: 100%|██████████| 1/1 [00:00<?, ?it/s]\n",
      "negative corr\n",
      "std_p: 0.49, corr: 0.56, rmse: 0.61, mae_v: 0.51,sm: 121.81 - ExtraTF \n",
      "std_p: 0.50, corr: 0.89, rmse: 0.37, mae_v: 0.32,sm: 83.75 - RandomRF \n",
      "std_p: 0.33, corr: 0.88, rmse: 0.47, mae_v: 0.39,sm: 100.76 - SVR \n",
      "std_p: 0.68, corr: 0.89, rmse: 0.33, mae_v: 0.26,sm: 78.97 - LSTM \n",
      "std_p: 0.44, corr: 0.01, rmse: 1.00, mae_v: 0.79,sm: 148.01 - WBBLSTM \n",
      "✔️ Done with 40706 | 6\n",
      "\n",
      "\n",
      "=== Station 40706 | 9 ===\n",
      "!!!@@@------Training ExtraTF… saved.\n",
      "!!!@@@------Training RandomRF… saved.\n"
     ]
    },
    {
     "name": "stderr",
     "output_type": "stream",
     "text": [
      "ignoring user defined `output_chunk_length`. RNNModel uses a fixed `output_chunk_length=1`.\n",
      "GPU available: False, used: False\n",
      "TPU available: False, using: 0 TPU cores\n",
      "HPU available: False, using: 0 HPUs\n",
      "\n",
      "  | Name            | Type             | Params | Mode \n",
      "-------------------------------------------------------------\n",
      "0 | criterion       | MSELoss          | 0      | train\n",
      "1 | train_criterion | MSELoss          | 0      | train\n",
      "2 | val_criterion   | MSELoss          | 0      | train\n",
      "3 | train_metrics   | MetricCollection | 0      | train\n",
      "4 | val_metrics     | MetricCollection | 0      | train\n",
      "5 | rnn             | LSTM             | 9.3 K  | train\n",
      "6 | V               | Linear           | 26     | train\n",
      "-------------------------------------------------------------\n",
      "9.3 K     Trainable params\n",
      "0         Non-trainable params\n",
      "9.3 K     Total params\n",
      "0.037     Total estimated model params size (MB)\n",
      "7         Modules in train mode\n",
      "0         Modules in eval mode\n"
     ]
    },
    {
     "name": "stdout",
     "output_type": "stream",
     "text": [
      "!!!@@@------Training SVR… saved.\n",
      "Epoch 99: 100%|██████████| 18/18 [00:00<00:00, 93.88it/s, train_loss=0.0127] "
     ]
    },
    {
     "name": "stderr",
     "output_type": "stream",
     "text": [
      "`Trainer.fit` stopped: `max_epochs=100` reached.\n"
     ]
    },
    {
     "name": "stdout",
     "output_type": "stream",
     "text": [
      "Epoch 99: 100%|██████████| 18/18 [00:00<00:00, 93.88it/s, train_loss=0.0127]\n",
      " saved.\n"
     ]
    },
    {
     "name": "stderr",
     "output_type": "stream",
     "text": [
      "GPU available: False, used: False\n",
      "TPU available: False, using: 0 TPU cores\n",
      "HPU available: False, using: 0 HPUs\n"
     ]
    },
    {
     "name": "stdout",
     "output_type": "stream",
     "text": [
      "Predicting DataLoader 0: 100%|██████████| 1/1 [00:00<00:00, 62.70it/s]\n",
      "!!!@@@------Training WBBLSTM…"
     ]
    },
    {
     "name": "stderr",
     "output_type": "stream",
     "text": [
      "ignoring user defined `output_chunk_length`. RNNModel uses a fixed `output_chunk_length=1`.\n",
      "GPU available: False, used: False\n",
      "TPU available: False, using: 0 TPU cores\n",
      "HPU available: False, using: 0 HPUs\n",
      "\n",
      "  | Name            | Type             | Params | Mode \n",
      "-------------------------------------------------------------\n",
      "0 | criterion       | MSELoss          | 0      | train\n",
      "1 | train_criterion | MSELoss          | 0      | train\n",
      "2 | val_criterion   | MSELoss          | 0      | train\n",
      "3 | train_metrics   | MetricCollection | 0      | train\n",
      "4 | val_metrics     | MetricCollection | 0      | train\n",
      "5 | rnn             | LSTM             | 9.3 K  | train\n",
      "6 | V               | Linear           | 26     | train\n",
      "-------------------------------------------------------------\n",
      "9.3 K     Trainable params\n",
      "0         Non-trainable params\n",
      "9.3 K     Total params\n",
      "0.037     Total estimated model params size (MB)\n",
      "7         Modules in train mode\n",
      "0         Modules in eval mode\n"
     ]
    },
    {
     "name": "stdout",
     "output_type": "stream",
     "text": [
      "Epoch 99: 100%|██████████| 9/9 [00:00<00:00, 83.54it/s, train_loss=0.0875] "
     ]
    },
    {
     "name": "stderr",
     "output_type": "stream",
     "text": [
      "`Trainer.fit` stopped: `max_epochs=100` reached.\n"
     ]
    },
    {
     "name": "stdout",
     "output_type": "stream",
     "text": [
      "Epoch 99: 100%|██████████| 9/9 [00:00<00:00, 83.54it/s, train_loss=0.0875]\n",
      " saved.\n"
     ]
    },
    {
     "name": "stderr",
     "output_type": "stream",
     "text": [
      "GPU available: False, used: False\n",
      "TPU available: False, using: 0 TPU cores\n",
      "HPU available: False, using: 0 HPUs\n"
     ]
    },
    {
     "name": "stdout",
     "output_type": "stream",
     "text": [
      "Predicting DataLoader 0: 100%|██████████| 1/1 [00:00<00:00, 46.08it/s]\n",
      "negative corr\n",
      "std_p: 0.71, corr: 0.73, rmse: 0.66, mae_v: 0.54,sm: 91.26 - ExtraTF \n",
      "std_p: 0.69, corr: 0.90, rmse: 0.43, mae_v: 0.35,sm: 71.13 - RandomRF \n",
      "std_p: 0.45, corr: 0.88, rmse: 0.56, mae_v: 0.47,sm: 90.00 - SVR \n",
      "std_p: 0.82, corr: 0.90, rmse: 0.39, mae_v: 0.30,sm: 62.23 - LSTM \n",
      "std_p: 0.56, corr: 0.15, rmse: 1.13, mae_v: 0.93,sm: 132.90 - WBBLSTM \n",
      "✔️ Done with 40706 | 9\n",
      "\n",
      "\n",
      "=== Station 40706 | 12 ===\n",
      "!!!@@@------Training ExtraTF… saved.\n",
      "!!!@@@------Training RandomRF… saved.\n"
     ]
    },
    {
     "name": "stderr",
     "output_type": "stream",
     "text": [
      "ignoring user defined `output_chunk_length`. RNNModel uses a fixed `output_chunk_length=1`.\n",
      "GPU available: False, used: False\n",
      "TPU available: False, using: 0 TPU cores\n",
      "HPU available: False, using: 0 HPUs\n",
      "\n",
      "  | Name            | Type             | Params | Mode \n",
      "-------------------------------------------------------------\n",
      "0 | criterion       | MSELoss          | 0      | train\n",
      "1 | train_criterion | MSELoss          | 0      | train\n",
      "2 | val_criterion   | MSELoss          | 0      | train\n",
      "3 | train_metrics   | MetricCollection | 0      | train\n",
      "4 | val_metrics     | MetricCollection | 0      | train\n",
      "5 | rnn             | LSTM             | 9.3 K  | train\n",
      "6 | V               | Linear           | 26     | train\n",
      "-------------------------------------------------------------\n",
      "9.3 K     Trainable params\n",
      "0         Non-trainable params\n",
      "9.3 K     Total params\n",
      "0.037     Total estimated model params size (MB)\n",
      "7         Modules in train mode\n",
      "0         Modules in eval mode\n"
     ]
    },
    {
     "name": "stdout",
     "output_type": "stream",
     "text": [
      "!!!@@@------Training SVR… saved.\n",
      "Epoch 99: 100%|██████████| 18/18 [00:00<00:00, 92.64it/s, train_loss=0.0188] "
     ]
    },
    {
     "name": "stderr",
     "output_type": "stream",
     "text": [
      "`Trainer.fit` stopped: `max_epochs=100` reached.\n"
     ]
    },
    {
     "name": "stdout",
     "output_type": "stream",
     "text": [
      "Epoch 99: 100%|██████████| 18/18 [00:00<00:00, 92.64it/s, train_loss=0.0188]\n",
      " saved.\n"
     ]
    },
    {
     "name": "stderr",
     "output_type": "stream",
     "text": [
      "GPU available: False, used: False\n",
      "TPU available: False, using: 0 TPU cores\n",
      "HPU available: False, using: 0 HPUs\n"
     ]
    },
    {
     "name": "stdout",
     "output_type": "stream",
     "text": [
      "Predicting DataLoader 0: 100%|██████████| 1/1 [00:00<00:00, 56.40it/s]\n"
     ]
    },
    {
     "name": "stderr",
     "output_type": "stream",
     "text": [
      "ignoring user defined `output_chunk_length`. RNNModel uses a fixed `output_chunk_length=1`.\n"
     ]
    },
    {
     "name": "stdout",
     "output_type": "stream",
     "text": [
      "!!!@@@------Training WBBLSTM…"
     ]
    },
    {
     "name": "stderr",
     "output_type": "stream",
     "text": [
      "GPU available: False, used: False\n",
      "TPU available: False, using: 0 TPU cores\n",
      "HPU available: False, using: 0 HPUs\n",
      "\n",
      "  | Name            | Type             | Params | Mode \n",
      "-------------------------------------------------------------\n",
      "0 | criterion       | MSELoss          | 0      | train\n",
      "1 | train_criterion | MSELoss          | 0      | train\n",
      "2 | val_criterion   | MSELoss          | 0      | train\n",
      "3 | train_metrics   | MetricCollection | 0      | train\n",
      "4 | val_metrics     | MetricCollection | 0      | train\n",
      "5 | rnn             | LSTM             | 9.3 K  | train\n",
      "6 | V               | Linear           | 26     | train\n",
      "-------------------------------------------------------------\n",
      "9.3 K     Trainable params\n",
      "0         Non-trainable params\n",
      "9.3 K     Total params\n",
      "0.037     Total estimated model params size (MB)\n",
      "7         Modules in train mode\n",
      "0         Modules in eval mode\n"
     ]
    },
    {
     "name": "stdout",
     "output_type": "stream",
     "text": [
      "Epoch 99: 100%|██████████| 9/9 [00:00<00:00, 101.66it/s, train_loss=0.0461]"
     ]
    },
    {
     "name": "stderr",
     "output_type": "stream",
     "text": [
      "`Trainer.fit` stopped: `max_epochs=100` reached.\n"
     ]
    },
    {
     "name": "stdout",
     "output_type": "stream",
     "text": [
      "Epoch 99: 100%|██████████| 9/9 [00:00<00:00, 101.66it/s, train_loss=0.0461]\n",
      " saved.\n"
     ]
    },
    {
     "name": "stderr",
     "output_type": "stream",
     "text": [
      "GPU available: False, used: False\n",
      "TPU available: False, using: 0 TPU cores\n",
      "HPU available: False, using: 0 HPUs\n"
     ]
    },
    {
     "name": "stdout",
     "output_type": "stream",
     "text": [
      "Predicting DataLoader 0: 100%|██████████| 1/1 [00:00<00:00, 60.77it/s]\n",
      "std_p: 0.45, corr: 0.51, rmse: 0.98, mae_v: 0.80,sm: 110.58 - ExtraTF \n",
      "std_p: 0.96, corr: 0.92, rmse: 0.43, mae_v: 0.35,sm: 62.78 - RandomRF \n",
      "std_p: 0.72, corr: 0.89, rmse: 0.57, mae_v: 0.48,sm: 76.64 - SVR \n",
      "std_p: 1.03, corr: 0.92, rmse: 0.42, mae_v: 0.32,sm: 64.96 - LSTM \n",
      "std_p: 0.27, corr: 0.52, rmse: 1.18, mae_v: 1.01,sm: 145.05 - WBBLSTM \n",
      "✔️ Done with 40706 | 12\n",
      "\n",
      "\n",
      "=== Station 40706 | 24 ===\n",
      "!!!@@@------Training ExtraTF… saved.\n",
      "!!!@@@------Training RandomRF… saved.\n"
     ]
    },
    {
     "name": "stderr",
     "output_type": "stream",
     "text": [
      "ignoring user defined `output_chunk_length`. RNNModel uses a fixed `output_chunk_length=1`.\n",
      "GPU available: False, used: False\n",
      "TPU available: False, using: 0 TPU cores\n",
      "HPU available: False, using: 0 HPUs\n",
      "\n",
      "  | Name            | Type             | Params | Mode \n",
      "-------------------------------------------------------------\n",
      "0 | criterion       | MSELoss          | 0      | train\n",
      "1 | train_criterion | MSELoss          | 0      | train\n",
      "2 | val_criterion   | MSELoss          | 0      | train\n",
      "3 | train_metrics   | MetricCollection | 0      | train\n",
      "4 | val_metrics     | MetricCollection | 0      | train\n",
      "5 | rnn             | LSTM             | 9.3 K  | train\n",
      "6 | V               | Linear           | 26     | train\n",
      "-------------------------------------------------------------\n",
      "9.3 K     Trainable params\n",
      "0         Non-trainable params\n",
      "9.3 K     Total params\n",
      "0.037     Total estimated model params size (MB)\n",
      "7         Modules in train mode\n",
      "0         Modules in eval mode\n"
     ]
    },
    {
     "name": "stdout",
     "output_type": "stream",
     "text": [
      "!!!@@@------Training SVR… saved.\n",
      "Epoch 99: 100%|██████████| 18/18 [00:00<00:00, 89.85it/s, train_loss=0.0111] "
     ]
    },
    {
     "name": "stderr",
     "output_type": "stream",
     "text": [
      "`Trainer.fit` stopped: `max_epochs=100` reached.\n"
     ]
    },
    {
     "name": "stdout",
     "output_type": "stream",
     "text": [
      "Epoch 99: 100%|██████████| 18/18 [00:00<00:00, 89.85it/s, train_loss=0.0111]\n",
      " saved.\n"
     ]
    },
    {
     "name": "stderr",
     "output_type": "stream",
     "text": [
      "GPU available: False, used: False\n",
      "TPU available: False, using: 0 TPU cores\n",
      "HPU available: False, using: 0 HPUs\n"
     ]
    },
    {
     "name": "stdout",
     "output_type": "stream",
     "text": [
      "Predicting DataLoader 0: 100%|██████████| 1/1 [00:00<00:00, 71.27it/s]"
     ]
    },
    {
     "name": "stderr",
     "output_type": "stream",
     "text": [
      "ignoring user defined `output_chunk_length`. RNNModel uses a fixed `output_chunk_length=1`.\n"
     ]
    },
    {
     "name": "stdout",
     "output_type": "stream",
     "text": [
      "\n",
      "!!!@@@------Training WBBLSTM…"
     ]
    },
    {
     "name": "stderr",
     "output_type": "stream",
     "text": [
      "GPU available: False, used: False\n",
      "TPU available: False, using: 0 TPU cores\n",
      "HPU available: False, using: 0 HPUs\n",
      "\n",
      "  | Name            | Type             | Params | Mode \n",
      "-------------------------------------------------------------\n",
      "0 | criterion       | MSELoss          | 0      | train\n",
      "1 | train_criterion | MSELoss          | 0      | train\n",
      "2 | val_criterion   | MSELoss          | 0      | train\n",
      "3 | train_metrics   | MetricCollection | 0      | train\n",
      "4 | val_metrics     | MetricCollection | 0      | train\n",
      "5 | rnn             | LSTM             | 9.3 K  | train\n",
      "6 | V               | Linear           | 26     | train\n",
      "-------------------------------------------------------------\n",
      "9.3 K     Trainable params\n",
      "0         Non-trainable params\n",
      "9.3 K     Total params\n",
      "0.037     Total estimated model params size (MB)\n",
      "7         Modules in train mode\n",
      "0         Modules in eval mode\n"
     ]
    },
    {
     "name": "stdout",
     "output_type": "stream",
     "text": [
      "Epoch 99: 100%|██████████| 8/8 [00:00<00:00, 74.08it/s, train_loss=0.041]   "
     ]
    },
    {
     "name": "stderr",
     "output_type": "stream",
     "text": [
      "`Trainer.fit` stopped: `max_epochs=100` reached.\n"
     ]
    },
    {
     "name": "stdout",
     "output_type": "stream",
     "text": [
      "Epoch 99: 100%|██████████| 8/8 [00:00<00:00, 74.08it/s, train_loss=0.041]\n",
      " saved.\n"
     ]
    },
    {
     "name": "stderr",
     "output_type": "stream",
     "text": [
      "GPU available: False, used: False\n",
      "TPU available: False, using: 0 TPU cores\n",
      "HPU available: False, using: 0 HPUs\n"
     ]
    },
    {
     "name": "stdout",
     "output_type": "stream",
     "text": [
      "Predicting DataLoader 0: 100%|██████████| 1/1 [00:00<00:00, 63.32it/s]\n",
      "std_p: 0.30, corr: 0.11, rmse: 1.11, mae_v: 0.92,sm: 123.91 - ExtraTF \n",
      "std_p: 0.97, corr: 0.96, rmse: 0.33, mae_v: 0.26,sm: 35.31 - RandomRF \n",
      "std_p: 0.69, corr: 0.93, rmse: 0.53, mae_v: 0.43,sm: 59.48 - SVR \n",
      "std_p: 1.02, corr: 0.95, rmse: 0.36, mae_v: 0.30,sm: 46.09 - LSTM \n",
      "std_p: 0.42, corr: 0.78, rmse: 0.84, mae_v: 0.76,sm: 110.78 - WBBLSTM \n",
      "✔️ Done with 40706 | 24\n",
      "\n",
      "📄 Results saved as CSV: results\\results_summary.csv\n",
      "\n",
      "=== Station 40708 | 1 ===\n",
      "!!!@@@------Training ExtraTF… saved.\n",
      "!!!@@@------Training RandomRF… saved.\n"
     ]
    },
    {
     "name": "stderr",
     "output_type": "stream",
     "text": [
      "ignoring user defined `output_chunk_length`. RNNModel uses a fixed `output_chunk_length=1`.\n",
      "GPU available: False, used: False\n",
      "TPU available: False, using: 0 TPU cores\n",
      "HPU available: False, using: 0 HPUs\n",
      "\n",
      "  | Name            | Type             | Params | Mode \n",
      "-------------------------------------------------------------\n",
      "0 | criterion       | MSELoss          | 0      | train\n",
      "1 | train_criterion | MSELoss          | 0      | train\n",
      "2 | val_criterion   | MSELoss          | 0      | train\n",
      "3 | train_metrics   | MetricCollection | 0      | train\n",
      "4 | val_metrics     | MetricCollection | 0      | train\n",
      "5 | rnn             | LSTM             | 9.3 K  | train\n",
      "6 | V               | Linear           | 26     | train\n",
      "-------------------------------------------------------------\n",
      "9.3 K     Trainable params\n",
      "0         Non-trainable params\n",
      "9.3 K     Total params\n",
      "0.037     Total estimated model params size (MB)\n",
      "7         Modules in train mode\n",
      "0         Modules in eval mode\n"
     ]
    },
    {
     "name": "stdout",
     "output_type": "stream",
     "text": [
      "!!!@@@------Training SVR… saved.\n",
      "Epoch 99: 100%|██████████| 19/19 [00:00<00:00, 87.45it/s, train_loss=0.0206] "
     ]
    },
    {
     "name": "stderr",
     "output_type": "stream",
     "text": [
      "`Trainer.fit` stopped: `max_epochs=100` reached.\n"
     ]
    },
    {
     "name": "stdout",
     "output_type": "stream",
     "text": [
      "Epoch 99: 100%|██████████| 19/19 [00:00<00:00, 87.45it/s, train_loss=0.0206]\n",
      " saved.\n"
     ]
    },
    {
     "name": "stderr",
     "output_type": "stream",
     "text": [
      "GPU available: False, used: False\n",
      "TPU available: False, using: 0 TPU cores\n",
      "HPU available: False, using: 0 HPUs\n"
     ]
    },
    {
     "name": "stdout",
     "output_type": "stream",
     "text": [
      "Predicting DataLoader 0: 100%|██████████| 1/1 [00:00<00:00, 71.52it/s]\n",
      "!!!@@@------Training WBBLSTM…"
     ]
    },
    {
     "name": "stderr",
     "output_type": "stream",
     "text": [
      "ignoring user defined `output_chunk_length`. RNNModel uses a fixed `output_chunk_length=1`.\n",
      "GPU available: False, used: False\n",
      "TPU available: False, using: 0 TPU cores\n",
      "HPU available: False, using: 0 HPUs\n",
      "\n",
      "  | Name            | Type             | Params | Mode \n",
      "-------------------------------------------------------------\n",
      "0 | criterion       | MSELoss          | 0      | train\n",
      "1 | train_criterion | MSELoss          | 0      | train\n",
      "2 | val_criterion   | MSELoss          | 0      | train\n",
      "3 | train_metrics   | MetricCollection | 0      | train\n",
      "4 | val_metrics     | MetricCollection | 0      | train\n",
      "5 | rnn             | LSTM             | 9.3 K  | train\n",
      "6 | V               | Linear           | 26     | train\n",
      "-------------------------------------------------------------\n",
      "9.3 K     Trainable params\n",
      "0         Non-trainable params\n",
      "9.3 K     Total params\n",
      "0.037     Total estimated model params size (MB)\n",
      "7         Modules in train mode\n",
      "0         Modules in eval mode\n"
     ]
    },
    {
     "name": "stdout",
     "output_type": "stream",
     "text": [
      "Epoch 99: 100%|██████████| 9/9 [00:00<00:00, 94.70it/s, train_loss=0.0496] "
     ]
    },
    {
     "name": "stderr",
     "output_type": "stream",
     "text": [
      "`Trainer.fit` stopped: `max_epochs=100` reached.\n"
     ]
    },
    {
     "name": "stdout",
     "output_type": "stream",
     "text": [
      "Epoch 99: 100%|██████████| 9/9 [00:00<00:00, 94.70it/s, train_loss=0.0496]\n",
      " saved.\n"
     ]
    },
    {
     "name": "stderr",
     "output_type": "stream",
     "text": [
      "GPU available: False, used: False\n",
      "TPU available: False, using: 0 TPU cores\n",
      "HPU available: False, using: 0 HPUs\n"
     ]
    },
    {
     "name": "stdout",
     "output_type": "stream",
     "text": [
      "Predicting DataLoader 0: 100%|██████████| 1/1 [00:00<00:00, 74.87it/s]\n",
      "std_p: 0.67, corr: 0.73, rmse: 0.49, mae_v: 0.39,sm: 95.42 - ExtraTF \n",
      "std_p: 0.56, corr: 0.76, rmse: 0.44, mae_v: 0.35,sm: 96.35 - RandomRF \n",
      "std_p: 0.49, corr: 0.74, rmse: 0.44, mae_v: 0.36,sm: 96.94 - SVR \n",
      "std_p: 0.65, corr: 0.88, rmse: 0.33, mae_v: 0.26,sm: 71.02 - LSTM \n",
      "std_p: 0.45, corr: 0.06, rmse: 0.78, mae_v: 0.61,sm: 141.70 - WBBLSTM \n",
      "✔️ Done with 40708 | 1\n",
      "\n",
      "\n",
      "=== Station 40708 | 3 ===\n",
      "!!!@@@------Training ExtraTF… saved.\n",
      "!!!@@@------Training RandomRF… saved.\n"
     ]
    },
    {
     "name": "stderr",
     "output_type": "stream",
     "text": [
      "ignoring user defined `output_chunk_length`. RNNModel uses a fixed `output_chunk_length=1`.\n",
      "GPU available: False, used: False\n",
      "TPU available: False, using: 0 TPU cores\n",
      "HPU available: False, using: 0 HPUs\n",
      "\n",
      "  | Name            | Type             | Params | Mode \n",
      "-------------------------------------------------------------\n",
      "0 | criterion       | MSELoss          | 0      | train\n",
      "1 | train_criterion | MSELoss          | 0      | train\n",
      "2 | val_criterion   | MSELoss          | 0      | train\n",
      "3 | train_metrics   | MetricCollection | 0      | train\n",
      "4 | val_metrics     | MetricCollection | 0      | train\n",
      "5 | rnn             | LSTM             | 9.3 K  | train\n",
      "6 | V               | Linear           | 26     | train\n",
      "-------------------------------------------------------------\n",
      "9.3 K     Trainable params\n",
      "0         Non-trainable params\n",
      "9.3 K     Total params\n",
      "0.037     Total estimated model params size (MB)\n",
      "7         Modules in train mode\n",
      "0         Modules in eval mode\n"
     ]
    },
    {
     "name": "stdout",
     "output_type": "stream",
     "text": [
      "!!!@@@------Training SVR… saved.\n",
      "Epoch 99: 100%|██████████| 19/19 [00:00<00:00, 91.02it/s, train_loss=0.0119] "
     ]
    },
    {
     "name": "stderr",
     "output_type": "stream",
     "text": [
      "`Trainer.fit` stopped: `max_epochs=100` reached.\n"
     ]
    },
    {
     "name": "stdout",
     "output_type": "stream",
     "text": [
      "Epoch 99: 100%|██████████| 19/19 [00:00<00:00, 91.02it/s, train_loss=0.0119]\n",
      " saved.\n"
     ]
    },
    {
     "name": "stderr",
     "output_type": "stream",
     "text": [
      "GPU available: False, used: False\n",
      "TPU available: False, using: 0 TPU cores\n",
      "HPU available: False, using: 0 HPUs\n"
     ]
    },
    {
     "name": "stdout",
     "output_type": "stream",
     "text": [
      "Predicting DataLoader 0: 100%|██████████| 1/1 [00:00<00:00, 86.68it/s] \n",
      "!!!@@@------Training WBBLSTM…"
     ]
    },
    {
     "name": "stderr",
     "output_type": "stream",
     "text": [
      "ignoring user defined `output_chunk_length`. RNNModel uses a fixed `output_chunk_length=1`.\n",
      "GPU available: False, used: False\n",
      "TPU available: False, using: 0 TPU cores\n",
      "HPU available: False, using: 0 HPUs\n",
      "\n",
      "  | Name            | Type             | Params | Mode \n",
      "-------------------------------------------------------------\n",
      "0 | criterion       | MSELoss          | 0      | train\n",
      "1 | train_criterion | MSELoss          | 0      | train\n",
      "2 | val_criterion   | MSELoss          | 0      | train\n",
      "3 | train_metrics   | MetricCollection | 0      | train\n",
      "4 | val_metrics     | MetricCollection | 0      | train\n",
      "5 | rnn             | LSTM             | 9.3 K  | train\n",
      "6 | V               | Linear           | 26     | train\n",
      "-------------------------------------------------------------\n",
      "9.3 K     Trainable params\n",
      "0         Non-trainable params\n",
      "9.3 K     Total params\n",
      "0.037     Total estimated model params size (MB)\n",
      "7         Modules in train mode\n",
      "0         Modules in eval mode\n"
     ]
    },
    {
     "name": "stdout",
     "output_type": "stream",
     "text": [
      "Epoch 99: 100%|██████████| 9/9 [00:00<00:00, 96.62it/s, train_loss=0.0507] "
     ]
    },
    {
     "name": "stderr",
     "output_type": "stream",
     "text": [
      "`Trainer.fit` stopped: `max_epochs=100` reached.\n"
     ]
    },
    {
     "name": "stdout",
     "output_type": "stream",
     "text": [
      "Epoch 99: 100%|██████████| 9/9 [00:00<00:00, 96.62it/s, train_loss=0.0507]\n",
      " saved.\n"
     ]
    },
    {
     "name": "stderr",
     "output_type": "stream",
     "text": [
      "GPU available: False, used: False\n",
      "TPU available: False, using: 0 TPU cores\n",
      "HPU available: False, using: 0 HPUs\n"
     ]
    },
    {
     "name": "stdout",
     "output_type": "stream",
     "text": [
      "Predicting DataLoader 0: 100%|██████████| 1/1 [00:00<00:00, 62.56it/s]\n",
      "std_p: 0.55, corr: 0.47, rmse: 0.60, mae_v: 0.46,sm: 115.37 - ExtraTF \n",
      "std_p: 0.45, corr: 0.80, rmse: 0.36, mae_v: 0.30,sm: 97.28 - RandomRF \n",
      "std_p: 0.29, corr: 0.66, rmse: 0.47, mae_v: 0.36,sm: 111.03 - SVR \n",
      "std_p: 0.63, corr: 0.77, rmse: 0.41, mae_v: 0.33,sm: 94.45 - LSTM \n",
      "std_p: 0.52, corr: 0.10, rmse: 0.76, mae_v: 0.62,sm: 150.69 - WBBLSTM \n",
      "✔️ Done with 40708 | 3\n",
      "\n",
      "\n",
      "=== Station 40708 | 6 ===\n",
      "!!!@@@------Training ExtraTF… saved.\n",
      "!!!@@@------Training RandomRF… saved.\n"
     ]
    },
    {
     "name": "stderr",
     "output_type": "stream",
     "text": [
      "ignoring user defined `output_chunk_length`. RNNModel uses a fixed `output_chunk_length=1`.\n",
      "GPU available: False, used: False\n",
      "TPU available: False, using: 0 TPU cores\n",
      "HPU available: False, using: 0 HPUs\n",
      "\n",
      "  | Name            | Type             | Params | Mode \n",
      "-------------------------------------------------------------\n",
      "0 | criterion       | MSELoss          | 0      | train\n",
      "1 | train_criterion | MSELoss          | 0      | train\n",
      "2 | val_criterion   | MSELoss          | 0      | train\n",
      "3 | train_metrics   | MetricCollection | 0      | train\n",
      "4 | val_metrics     | MetricCollection | 0      | train\n",
      "5 | rnn             | LSTM             | 9.3 K  | train\n",
      "6 | V               | Linear           | 26     | train\n",
      "-------------------------------------------------------------\n",
      "9.3 K     Trainable params\n",
      "0         Non-trainable params\n",
      "9.3 K     Total params\n",
      "0.037     Total estimated model params size (MB)\n",
      "7         Modules in train mode\n",
      "0         Modules in eval mode\n"
     ]
    },
    {
     "name": "stdout",
     "output_type": "stream",
     "text": [
      "!!!@@@------Training SVR… saved.\n",
      "Epoch 99: 100%|██████████| 19/19 [00:00<00:00, 90.97it/s, train_loss=0.0162] "
     ]
    },
    {
     "name": "stderr",
     "output_type": "stream",
     "text": [
      "`Trainer.fit` stopped: `max_epochs=100` reached.\n"
     ]
    },
    {
     "name": "stdout",
     "output_type": "stream",
     "text": [
      "Epoch 99: 100%|██████████| 19/19 [00:00<00:00, 90.97it/s, train_loss=0.0162]\n",
      " saved.\n"
     ]
    },
    {
     "name": "stderr",
     "output_type": "stream",
     "text": [
      "GPU available: False, used: False\n",
      "TPU available: False, using: 0 TPU cores\n",
      "HPU available: False, using: 0 HPUs\n"
     ]
    },
    {
     "name": "stdout",
     "output_type": "stream",
     "text": [
      "Predicting DataLoader 0: 100%|██████████| 1/1 [00:00<00:00, 45.80it/s]\n",
      "!!!@@@------Training WBBLSTM…"
     ]
    },
    {
     "name": "stderr",
     "output_type": "stream",
     "text": [
      "ignoring user defined `output_chunk_length`. RNNModel uses a fixed `output_chunk_length=1`.\n",
      "GPU available: False, used: False\n",
      "TPU available: False, using: 0 TPU cores\n",
      "HPU available: False, using: 0 HPUs\n",
      "\n",
      "  | Name            | Type             | Params | Mode \n",
      "-------------------------------------------------------------\n",
      "0 | criterion       | MSELoss          | 0      | train\n",
      "1 | train_criterion | MSELoss          | 0      | train\n",
      "2 | val_criterion   | MSELoss          | 0      | train\n",
      "3 | train_metrics   | MetricCollection | 0      | train\n",
      "4 | val_metrics     | MetricCollection | 0      | train\n",
      "5 | rnn             | LSTM             | 9.3 K  | train\n",
      "6 | V               | Linear           | 26     | train\n",
      "-------------------------------------------------------------\n",
      "9.3 K     Trainable params\n",
      "0         Non-trainable params\n",
      "9.3 K     Total params\n",
      "0.037     Total estimated model params size (MB)\n",
      "7         Modules in train mode\n",
      "0         Modules in eval mode\n"
     ]
    },
    {
     "name": "stdout",
     "output_type": "stream",
     "text": [
      "Epoch 99: 100%|██████████| 9/9 [00:00<00:00, 94.72it/s, train_loss=0.0363]  "
     ]
    },
    {
     "name": "stderr",
     "output_type": "stream",
     "text": [
      "`Trainer.fit` stopped: `max_epochs=100` reached.\n"
     ]
    },
    {
     "name": "stdout",
     "output_type": "stream",
     "text": [
      "Epoch 99: 100%|██████████| 9/9 [00:00<00:00, 94.72it/s, train_loss=0.0363]\n",
      " saved.\n"
     ]
    },
    {
     "name": "stderr",
     "output_type": "stream",
     "text": [
      "GPU available: False, used: False\n",
      "TPU available: False, using: 0 TPU cores\n",
      "HPU available: False, using: 0 HPUs\n"
     ]
    },
    {
     "name": "stdout",
     "output_type": "stream",
     "text": [
      "Predicting DataLoader 0: 100%|██████████| 1/1 [00:00<00:00, 80.94it/s]\n",
      "std_p: 0.56, corr: 0.65, rmse: 0.63, mae_v: 0.51,sm: 112.63 - ExtraTF \n",
      "std_p: 0.52, corr: 0.87, rmse: 0.41, mae_v: 0.31,sm: 83.60 - RandomRF \n",
      "std_p: 0.37, corr: 0.78, rmse: 0.56, mae_v: 0.43,sm: 101.04 - SVR \n",
      "std_p: 0.73, corr: 0.90, rmse: 0.35, mae_v: 0.27,sm: 69.36 - LSTM \n",
      "std_p: 0.64, corr: 0.38, rmse: 0.81, mae_v: 0.64,sm: 115.53 - WBBLSTM \n",
      "✔️ Done with 40708 | 6\n",
      "\n",
      "\n",
      "=== Station 40708 | 9 ===\n",
      "!!!@@@------Training ExtraTF… saved.\n",
      "!!!@@@------Training RandomRF… saved.\n"
     ]
    },
    {
     "name": "stderr",
     "output_type": "stream",
     "text": [
      "ignoring user defined `output_chunk_length`. RNNModel uses a fixed `output_chunk_length=1`.\n",
      "GPU available: False, used: False\n",
      "TPU available: False, using: 0 TPU cores\n",
      "HPU available: False, using: 0 HPUs\n",
      "\n",
      "  | Name            | Type             | Params | Mode \n",
      "-------------------------------------------------------------\n",
      "0 | criterion       | MSELoss          | 0      | train\n",
      "1 | train_criterion | MSELoss          | 0      | train\n",
      "2 | val_criterion   | MSELoss          | 0      | train\n",
      "3 | train_metrics   | MetricCollection | 0      | train\n",
      "4 | val_metrics     | MetricCollection | 0      | train\n",
      "5 | rnn             | LSTM             | 9.3 K  | train\n",
      "6 | V               | Linear           | 26     | train\n",
      "-------------------------------------------------------------\n",
      "9.3 K     Trainable params\n",
      "0         Non-trainable params\n",
      "9.3 K     Total params\n",
      "0.037     Total estimated model params size (MB)\n",
      "7         Modules in train mode\n",
      "0         Modules in eval mode\n"
     ]
    },
    {
     "name": "stdout",
     "output_type": "stream",
     "text": [
      "!!!@@@------Training SVR… saved.\n",
      "Epoch 99: 100%|██████████| 18/18 [00:00<00:00, 86.62it/s, train_loss=0.0177] "
     ]
    },
    {
     "name": "stderr",
     "output_type": "stream",
     "text": [
      "`Trainer.fit` stopped: `max_epochs=100` reached.\n"
     ]
    },
    {
     "name": "stdout",
     "output_type": "stream",
     "text": [
      "Epoch 99: 100%|██████████| 18/18 [00:00<00:00, 86.62it/s, train_loss=0.0177]\n",
      " saved.\n"
     ]
    },
    {
     "name": "stderr",
     "output_type": "stream",
     "text": [
      "GPU available: False, used: False\n",
      "TPU available: False, using: 0 TPU cores\n",
      "HPU available: False, using: 0 HPUs\n"
     ]
    },
    {
     "name": "stdout",
     "output_type": "stream",
     "text": [
      "Predicting DataLoader 0: 100%|██████████| 1/1 [00:00<00:00, 62.31it/s]\n",
      "!!!@@@------Training WBBLSTM…"
     ]
    },
    {
     "name": "stderr",
     "output_type": "stream",
     "text": [
      "ignoring user defined `output_chunk_length`. RNNModel uses a fixed `output_chunk_length=1`.\n",
      "GPU available: False, used: False\n",
      "TPU available: False, using: 0 TPU cores\n",
      "HPU available: False, using: 0 HPUs\n",
      "\n",
      "  | Name            | Type             | Params | Mode \n",
      "-------------------------------------------------------------\n",
      "0 | criterion       | MSELoss          | 0      | train\n",
      "1 | train_criterion | MSELoss          | 0      | train\n",
      "2 | val_criterion   | MSELoss          | 0      | train\n",
      "3 | train_metrics   | MetricCollection | 0      | train\n",
      "4 | val_metrics     | MetricCollection | 0      | train\n",
      "5 | rnn             | LSTM             | 9.3 K  | train\n",
      "6 | V               | Linear           | 26     | train\n",
      "-------------------------------------------------------------\n",
      "9.3 K     Trainable params\n",
      "0         Non-trainable params\n",
      "9.3 K     Total params\n",
      "0.037     Total estimated model params size (MB)\n",
      "7         Modules in train mode\n",
      "0         Modules in eval mode\n"
     ]
    },
    {
     "name": "stdout",
     "output_type": "stream",
     "text": [
      "Epoch 99: 100%|██████████| 9/9 [00:00<00:00, 84.17it/s, train_loss=0.056]  "
     ]
    },
    {
     "name": "stderr",
     "output_type": "stream",
     "text": [
      "`Trainer.fit` stopped: `max_epochs=100` reached.\n"
     ]
    },
    {
     "name": "stdout",
     "output_type": "stream",
     "text": [
      "Epoch 99: 100%|██████████| 9/9 [00:00<00:00, 84.17it/s, train_loss=0.056]\n",
      " saved.\n"
     ]
    },
    {
     "name": "stderr",
     "output_type": "stream",
     "text": [
      "GPU available: False, used: False\n",
      "TPU available: False, using: 0 TPU cores\n",
      "HPU available: False, using: 0 HPUs\n"
     ]
    },
    {
     "name": "stdout",
     "output_type": "stream",
     "text": [
      "Predicting DataLoader 0: 100%|██████████| 1/1 [00:00<00:00, 102.53it/s]\n",
      "std_p: 0.58, corr: 0.64, rmse: 0.65, mae_v: 0.49,sm: 94.77 - ExtraTF \n",
      "std_p: 0.54, corr: 0.87, rmse: 0.45, mae_v: 0.34,sm: 73.45 - RandomRF \n",
      "std_p: 0.40, corr: 0.80, rmse: 0.58, mae_v: 0.45,sm: 94.81 - SVR \n",
      "std_p: 0.60, corr: 0.90, rmse: 0.39, mae_v: 0.31,sm: 69.85 - LSTM \n",
      "std_p: 0.59, corr: 0.41, rmse: 0.78, mae_v: 0.53,sm: 91.76 - WBBLSTM \n",
      "✔️ Done with 40708 | 9\n",
      "\n",
      "\n",
      "=== Station 40708 | 12 ===\n",
      "!!!@@@------Training ExtraTF… saved.\n",
      "!!!@@@------Training RandomRF… saved.\n"
     ]
    },
    {
     "name": "stderr",
     "output_type": "stream",
     "text": [
      "ignoring user defined `output_chunk_length`. RNNModel uses a fixed `output_chunk_length=1`.\n",
      "GPU available: False, used: False\n",
      "TPU available: False, using: 0 TPU cores\n",
      "HPU available: False, using: 0 HPUs\n",
      "\n",
      "  | Name            | Type             | Params | Mode \n",
      "-------------------------------------------------------------\n",
      "0 | criterion       | MSELoss          | 0      | train\n",
      "1 | train_criterion | MSELoss          | 0      | train\n",
      "2 | val_criterion   | MSELoss          | 0      | train\n",
      "3 | train_metrics   | MetricCollection | 0      | train\n",
      "4 | val_metrics     | MetricCollection | 0      | train\n",
      "5 | rnn             | LSTM             | 9.3 K  | train\n",
      "6 | V               | Linear           | 26     | train\n",
      "-------------------------------------------------------------\n",
      "9.3 K     Trainable params\n",
      "0         Non-trainable params\n",
      "9.3 K     Total params\n",
      "0.037     Total estimated model params size (MB)\n",
      "7         Modules in train mode\n",
      "0         Modules in eval mode\n"
     ]
    },
    {
     "name": "stdout",
     "output_type": "stream",
     "text": [
      "!!!@@@------Training SVR… saved.\n",
      "Epoch 99: 100%|██████████| 18/18 [00:00<00:00, 89.25it/s, train_loss=0.0211] "
     ]
    },
    {
     "name": "stderr",
     "output_type": "stream",
     "text": [
      "`Trainer.fit` stopped: `max_epochs=100` reached.\n"
     ]
    },
    {
     "name": "stdout",
     "output_type": "stream",
     "text": [
      "Epoch 99: 100%|██████████| 18/18 [00:00<00:00, 89.25it/s, train_loss=0.0211]\n",
      " saved.\n"
     ]
    },
    {
     "name": "stderr",
     "output_type": "stream",
     "text": [
      "GPU available: False, used: False\n",
      "TPU available: False, using: 0 TPU cores\n",
      "HPU available: False, using: 0 HPUs\n"
     ]
    },
    {
     "name": "stdout",
     "output_type": "stream",
     "text": [
      "Predicting DataLoader 0: 100%|██████████| 1/1 [00:00<00:00, 51.42it/s]\n",
      "!!!@@@------Training WBBLSTM…"
     ]
    },
    {
     "name": "stderr",
     "output_type": "stream",
     "text": [
      "ignoring user defined `output_chunk_length`. RNNModel uses a fixed `output_chunk_length=1`.\n",
      "GPU available: False, used: False\n",
      "TPU available: False, using: 0 TPU cores\n",
      "HPU available: False, using: 0 HPUs\n",
      "\n",
      "  | Name            | Type             | Params | Mode \n",
      "-------------------------------------------------------------\n",
      "0 | criterion       | MSELoss          | 0      | train\n",
      "1 | train_criterion | MSELoss          | 0      | train\n",
      "2 | val_criterion   | MSELoss          | 0      | train\n",
      "3 | train_metrics   | MetricCollection | 0      | train\n",
      "4 | val_metrics     | MetricCollection | 0      | train\n",
      "5 | rnn             | LSTM             | 9.3 K  | train\n",
      "6 | V               | Linear           | 26     | train\n",
      "-------------------------------------------------------------\n",
      "9.3 K     Trainable params\n",
      "0         Non-trainable params\n",
      "9.3 K     Total params\n",
      "0.037     Total estimated model params size (MB)\n",
      "7         Modules in train mode\n",
      "0         Modules in eval mode\n"
     ]
    },
    {
     "name": "stdout",
     "output_type": "stream",
     "text": [
      "Epoch 99: 100%|██████████| 9/9 [00:00<00:00, 107.31it/s, train_loss=0.0557]"
     ]
    },
    {
     "name": "stderr",
     "output_type": "stream",
     "text": [
      "`Trainer.fit` stopped: `max_epochs=100` reached.\n"
     ]
    },
    {
     "name": "stdout",
     "output_type": "stream",
     "text": [
      "Epoch 99: 100%|██████████| 9/9 [00:00<00:00, 107.31it/s, train_loss=0.0557]\n",
      " saved.\n"
     ]
    },
    {
     "name": "stderr",
     "output_type": "stream",
     "text": [
      "GPU available: False, used: False\n",
      "TPU available: False, using: 0 TPU cores\n",
      "HPU available: False, using: 0 HPUs\n"
     ]
    },
    {
     "name": "stdout",
     "output_type": "stream",
     "text": [
      "Predicting DataLoader 0: 100%|██████████| 1/1 [00:00<00:00, 62.73it/s]\n",
      "std_p: 0.78, corr: 0.53, rmse: 0.81, mae_v: 0.63,sm: 99.75 - ExtraTF \n",
      "std_p: 0.56, corr: 0.83, rmse: 0.49, mae_v: 0.38,sm: 78.38 - RandomRF \n",
      "std_p: 0.46, corr: 0.69, rmse: 0.66, mae_v: 0.49,sm: 95.43 - SVR \n",
      "std_p: 0.71, corr: 0.88, rmse: 0.40, mae_v: 0.31,sm: 62.12 - LSTM \n",
      "std_p: 0.68, corr: 0.26, rmse: 0.98, mae_v: 0.74,sm: 118.52 - WBBLSTM \n",
      "✔️ Done with 40708 | 12\n",
      "\n",
      "\n",
      "=== Station 40708 | 24 ===\n",
      "!!!@@@------Training ExtraTF… saved.\n",
      "!!!@@@------Training RandomRF… saved.\n"
     ]
    },
    {
     "name": "stderr",
     "output_type": "stream",
     "text": [
      "ignoring user defined `output_chunk_length`. RNNModel uses a fixed `output_chunk_length=1`.\n",
      "GPU available: False, used: False\n",
      "TPU available: False, using: 0 TPU cores\n",
      "HPU available: False, using: 0 HPUs\n",
      "\n",
      "  | Name            | Type             | Params | Mode \n",
      "-------------------------------------------------------------\n",
      "0 | criterion       | MSELoss          | 0      | train\n",
      "1 | train_criterion | MSELoss          | 0      | train\n",
      "2 | val_criterion   | MSELoss          | 0      | train\n",
      "3 | train_metrics   | MetricCollection | 0      | train\n",
      "4 | val_metrics     | MetricCollection | 0      | train\n",
      "5 | rnn             | LSTM             | 9.3 K  | train\n",
      "6 | V               | Linear           | 26     | train\n",
      "-------------------------------------------------------------\n",
      "9.3 K     Trainable params\n",
      "0         Non-trainable params\n",
      "9.3 K     Total params\n",
      "0.037     Total estimated model params size (MB)\n",
      "7         Modules in train mode\n",
      "0         Modules in eval mode\n"
     ]
    },
    {
     "name": "stdout",
     "output_type": "stream",
     "text": [
      "!!!@@@------Training SVR… saved.\n",
      "Epoch 99: 100%|██████████| 18/18 [00:00<00:00, 91.22it/s, train_loss=0.0112] "
     ]
    },
    {
     "name": "stderr",
     "output_type": "stream",
     "text": [
      "`Trainer.fit` stopped: `max_epochs=100` reached.\n"
     ]
    },
    {
     "name": "stdout",
     "output_type": "stream",
     "text": [
      "Epoch 99: 100%|██████████| 18/18 [00:00<00:00, 91.22it/s, train_loss=0.0112]\n",
      " saved.\n"
     ]
    },
    {
     "name": "stderr",
     "output_type": "stream",
     "text": [
      "GPU available: False, used: False\n",
      "TPU available: False, using: 0 TPU cores\n",
      "HPU available: False, using: 0 HPUs\n"
     ]
    },
    {
     "name": "stdout",
     "output_type": "stream",
     "text": [
      "Predicting DataLoader 0: 100%|██████████| 1/1 [00:00<00:00, 189.82it/s]\n",
      "!!!@@@------Training WBBLSTM…"
     ]
    },
    {
     "name": "stderr",
     "output_type": "stream",
     "text": [
      "ignoring user defined `output_chunk_length`. RNNModel uses a fixed `output_chunk_length=1`.\n",
      "GPU available: False, used: False\n",
      "TPU available: False, using: 0 TPU cores\n",
      "HPU available: False, using: 0 HPUs\n",
      "\n",
      "  | Name            | Type             | Params | Mode \n",
      "-------------------------------------------------------------\n",
      "0 | criterion       | MSELoss          | 0      | train\n",
      "1 | train_criterion | MSELoss          | 0      | train\n",
      "2 | val_criterion   | MSELoss          | 0      | train\n",
      "3 | train_metrics   | MetricCollection | 0      | train\n",
      "4 | val_metrics     | MetricCollection | 0      | train\n",
      "5 | rnn             | LSTM             | 9.3 K  | train\n",
      "6 | V               | Linear           | 26     | train\n",
      "-------------------------------------------------------------\n",
      "9.3 K     Trainable params\n",
      "0         Non-trainable params\n",
      "9.3 K     Total params\n",
      "0.037     Total estimated model params size (MB)\n",
      "7         Modules in train mode\n",
      "0         Modules in eval mode\n"
     ]
    },
    {
     "name": "stdout",
     "output_type": "stream",
     "text": [
      "Epoch 99: 100%|██████████| 8/8 [00:00<00:00, 82.51it/s, train_loss=0.0412]  "
     ]
    },
    {
     "name": "stderr",
     "output_type": "stream",
     "text": [
      "`Trainer.fit` stopped: `max_epochs=100` reached.\n"
     ]
    },
    {
     "name": "stdout",
     "output_type": "stream",
     "text": [
      "Epoch 99: 100%|██████████| 8/8 [00:00<00:00, 82.51it/s, train_loss=0.0412]\n",
      " saved.\n"
     ]
    },
    {
     "name": "stderr",
     "output_type": "stream",
     "text": [
      "GPU available: False, used: False\n",
      "TPU available: False, using: 0 TPU cores\n",
      "HPU available: False, using: 0 HPUs\n"
     ]
    },
    {
     "name": "stdout",
     "output_type": "stream",
     "text": [
      "Predicting DataLoader 0: 100%|██████████| 1/1 [00:00<00:00, 89.51it/s]\n",
      "std_p: 0.53, corr: 0.65, rmse: 0.87, mae_v: 0.71,sm: 131.35 - ExtraTF \n",
      "std_p: 0.49, corr: 0.90, rmse: 0.37, mae_v: 0.28,sm: 49.32 - RandomRF \n",
      "std_p: 0.37, corr: 0.80, rmse: 0.55, mae_v: 0.41,sm: 74.53 - SVR \n",
      "std_p: 0.65, corr: 0.74, rmse: 0.52, mae_v: 0.39,sm: 80.51 - LSTM \n",
      "std_p: 0.56, corr: 0.15, rmse: 1.01, mae_v: 0.85,sm: 138.74 - WBBLSTM \n",
      "✔️ Done with 40708 | 24\n",
      "\n",
      "📄 Results saved as CSV: results\\results_summary.csv\n",
      "\n",
      "=== Station 40710 | 1 ===\n",
      "!!!@@@------Training ExtraTF… saved.\n",
      "!!!@@@------Training RandomRF… saved.\n"
     ]
    },
    {
     "name": "stderr",
     "output_type": "stream",
     "text": [
      "ignoring user defined `output_chunk_length`. RNNModel uses a fixed `output_chunk_length=1`.\n",
      "GPU available: False, used: False\n",
      "TPU available: False, using: 0 TPU cores\n",
      "HPU available: False, using: 0 HPUs\n",
      "\n",
      "  | Name            | Type             | Params | Mode \n",
      "-------------------------------------------------------------\n",
      "0 | criterion       | MSELoss          | 0      | train\n",
      "1 | train_criterion | MSELoss          | 0      | train\n",
      "2 | val_criterion   | MSELoss          | 0      | train\n",
      "3 | train_metrics   | MetricCollection | 0      | train\n",
      "4 | val_metrics     | MetricCollection | 0      | train\n",
      "5 | rnn             | LSTM             | 9.3 K  | train\n",
      "6 | V               | Linear           | 26     | train\n",
      "-------------------------------------------------------------\n",
      "9.3 K     Trainable params\n",
      "0         Non-trainable params\n",
      "9.3 K     Total params\n",
      "0.037     Total estimated model params size (MB)\n",
      "7         Modules in train mode\n",
      "0         Modules in eval mode\n"
     ]
    },
    {
     "name": "stdout",
     "output_type": "stream",
     "text": [
      "!!!@@@------Training SVR… saved.\n",
      "Epoch 99: 100%|██████████| 19/19 [00:00<00:00, 81.77it/s, train_loss=0.0165] "
     ]
    },
    {
     "name": "stderr",
     "output_type": "stream",
     "text": [
      "`Trainer.fit` stopped: `max_epochs=100` reached.\n"
     ]
    },
    {
     "name": "stdout",
     "output_type": "stream",
     "text": [
      "Epoch 99: 100%|██████████| 19/19 [00:00<00:00, 81.08it/s, train_loss=0.0165]\n",
      " saved.\n"
     ]
    },
    {
     "name": "stderr",
     "output_type": "stream",
     "text": [
      "GPU available: False, used: False\n",
      "TPU available: False, using: 0 TPU cores\n",
      "HPU available: False, using: 0 HPUs\n"
     ]
    },
    {
     "name": "stdout",
     "output_type": "stream",
     "text": [
      "Predicting DataLoader 0: 100%|██████████| 1/1 [00:00<00:00, 75.89it/s]\n"
     ]
    },
    {
     "name": "stderr",
     "output_type": "stream",
     "text": [
      "ignoring user defined `output_chunk_length`. RNNModel uses a fixed `output_chunk_length=1`.\n"
     ]
    },
    {
     "name": "stdout",
     "output_type": "stream",
     "text": [
      "!!!@@@------Training WBBLSTM…"
     ]
    },
    {
     "name": "stderr",
     "output_type": "stream",
     "text": [
      "GPU available: False, used: False\n",
      "TPU available: False, using: 0 TPU cores\n",
      "HPU available: False, using: 0 HPUs\n",
      "\n",
      "  | Name            | Type             | Params | Mode \n",
      "-------------------------------------------------------------\n",
      "0 | criterion       | MSELoss          | 0      | train\n",
      "1 | train_criterion | MSELoss          | 0      | train\n",
      "2 | val_criterion   | MSELoss          | 0      | train\n",
      "3 | train_metrics   | MetricCollection | 0      | train\n",
      "4 | val_metrics     | MetricCollection | 0      | train\n",
      "5 | rnn             | LSTM             | 9.3 K  | train\n",
      "6 | V               | Linear           | 26     | train\n",
      "-------------------------------------------------------------\n",
      "9.3 K     Trainable params\n",
      "0         Non-trainable params\n",
      "9.3 K     Total params\n",
      "0.037     Total estimated model params size (MB)\n",
      "7         Modules in train mode\n",
      "0         Modules in eval mode\n"
     ]
    },
    {
     "name": "stdout",
     "output_type": "stream",
     "text": [
      "Epoch 99: 100%|██████████| 9/9 [00:00<00:00, 78.67it/s, train_loss=0.0398]  "
     ]
    },
    {
     "name": "stderr",
     "output_type": "stream",
     "text": [
      "`Trainer.fit` stopped: `max_epochs=100` reached.\n"
     ]
    },
    {
     "name": "stdout",
     "output_type": "stream",
     "text": [
      "Epoch 99: 100%|██████████| 9/9 [00:00<00:00, 78.67it/s, train_loss=0.0398]\n",
      " saved.\n"
     ]
    },
    {
     "name": "stderr",
     "output_type": "stream",
     "text": [
      "GPU available: False, used: False\n",
      "TPU available: False, using: 0 TPU cores\n",
      "HPU available: False, using: 0 HPUs\n"
     ]
    },
    {
     "name": "stdout",
     "output_type": "stream",
     "text": [
      "Predicting DataLoader 0: 100%|██████████| 1/1 [00:00<00:00, 53.05it/s]\n",
      "std_p: 0.68, corr: 0.66, rmse: 0.58, mae_v: 0.47,sm: 98.45 - ExtraTF \n",
      "std_p: 0.63, corr: 0.72, rmse: 0.51, mae_v: 0.41,sm: 93.57 - RandomRF \n",
      "std_p: 0.60, corr: 0.72, rmse: 0.50, mae_v: 0.39,sm: 85.34 - SVR \n",
      "std_p: 0.66, corr: 0.72, rmse: 0.52, mae_v: 0.41,sm: 87.97 - LSTM \n",
      "std_p: 0.44, corr: 0.01, rmse: 0.84, mae_v: 0.70,sm: 146.53 - WBBLSTM \n",
      "✔️ Done with 40710 | 1\n",
      "\n",
      "\n",
      "=== Station 40710 | 3 ===\n",
      "!!!@@@------Training ExtraTF… saved.\n",
      "!!!@@@------Training RandomRF… saved.\n"
     ]
    },
    {
     "name": "stderr",
     "output_type": "stream",
     "text": [
      "ignoring user defined `output_chunk_length`. RNNModel uses a fixed `output_chunk_length=1`.\n",
      "GPU available: False, used: False\n",
      "TPU available: False, using: 0 TPU cores\n",
      "HPU available: False, using: 0 HPUs\n",
      "\n",
      "  | Name            | Type             | Params | Mode \n",
      "-------------------------------------------------------------\n",
      "0 | criterion       | MSELoss          | 0      | train\n",
      "1 | train_criterion | MSELoss          | 0      | train\n",
      "2 | val_criterion   | MSELoss          | 0      | train\n",
      "3 | train_metrics   | MetricCollection | 0      | train\n",
      "4 | val_metrics     | MetricCollection | 0      | train\n",
      "5 | rnn             | LSTM             | 9.3 K  | train\n",
      "6 | V               | Linear           | 26     | train\n",
      "-------------------------------------------------------------\n",
      "9.3 K     Trainable params\n",
      "0         Non-trainable params\n",
      "9.3 K     Total params\n",
      "0.037     Total estimated model params size (MB)\n",
      "7         Modules in train mode\n",
      "0         Modules in eval mode\n"
     ]
    },
    {
     "name": "stdout",
     "output_type": "stream",
     "text": [
      "!!!@@@------Training SVR… saved.\n",
      "Epoch 99: 100%|██████████| 19/19 [00:00<00:00, 91.16it/s, train_loss=0.0141] "
     ]
    },
    {
     "name": "stderr",
     "output_type": "stream",
     "text": [
      "`Trainer.fit` stopped: `max_epochs=100` reached.\n"
     ]
    },
    {
     "name": "stdout",
     "output_type": "stream",
     "text": [
      "Epoch 99: 100%|██████████| 19/19 [00:00<00:00, 91.16it/s, train_loss=0.0141]\n",
      " saved.\n"
     ]
    },
    {
     "name": "stderr",
     "output_type": "stream",
     "text": [
      "GPU available: False, used: False\n",
      "TPU available: False, using: 0 TPU cores\n",
      "HPU available: False, using: 0 HPUs\n"
     ]
    },
    {
     "name": "stdout",
     "output_type": "stream",
     "text": [
      "Predicting DataLoader 0: 100%|██████████| 1/1 [00:00<00:00, 73.93it/s]\n",
      "!!!@@@------Training WBBLSTM…"
     ]
    },
    {
     "name": "stderr",
     "output_type": "stream",
     "text": [
      "ignoring user defined `output_chunk_length`. RNNModel uses a fixed `output_chunk_length=1`.\n",
      "GPU available: False, used: False\n",
      "TPU available: False, using: 0 TPU cores\n",
      "HPU available: False, using: 0 HPUs\n",
      "\n",
      "  | Name            | Type             | Params | Mode \n",
      "-------------------------------------------------------------\n",
      "0 | criterion       | MSELoss          | 0      | train\n",
      "1 | train_criterion | MSELoss          | 0      | train\n",
      "2 | val_criterion   | MSELoss          | 0      | train\n",
      "3 | train_metrics   | MetricCollection | 0      | train\n",
      "4 | val_metrics     | MetricCollection | 0      | train\n",
      "5 | rnn             | LSTM             | 9.3 K  | train\n",
      "6 | V               | Linear           | 26     | train\n",
      "-------------------------------------------------------------\n",
      "9.3 K     Trainable params\n",
      "0         Non-trainable params\n",
      "9.3 K     Total params\n",
      "0.037     Total estimated model params size (MB)\n",
      "7         Modules in train mode\n",
      "0         Modules in eval mode\n"
     ]
    },
    {
     "name": "stdout",
     "output_type": "stream",
     "text": [
      "Epoch 99: 100%|██████████| 9/9 [00:00<00:00, 99.92it/s, train_loss=0.0701] "
     ]
    },
    {
     "name": "stderr",
     "output_type": "stream",
     "text": [
      "`Trainer.fit` stopped: `max_epochs=100` reached.\n"
     ]
    },
    {
     "name": "stdout",
     "output_type": "stream",
     "text": [
      "Epoch 99: 100%|██████████| 9/9 [00:00<00:00, 99.92it/s, train_loss=0.0701]\n",
      " saved.\n"
     ]
    },
    {
     "name": "stderr",
     "output_type": "stream",
     "text": [
      "GPU available: False, used: False\n",
      "TPU available: False, using: 0 TPU cores\n",
      "HPU available: False, using: 0 HPUs\n"
     ]
    },
    {
     "name": "stdout",
     "output_type": "stream",
     "text": [
      "Predicting DataLoader 0: 100%|██████████| 1/1 [00:00<00:00, 99.87it/s]\n",
      "negative corr\n",
      "std_p: 0.59, corr: 0.56, rmse: 0.53, mae_v: 0.43,sm: 111.92 - ExtraTF \n",
      "std_p: 0.44, corr: 0.63, rmse: 0.42, mae_v: 0.35,sm: 106.23 - RandomRF \n",
      "std_p: 0.35, corr: 0.58, rmse: 0.44, mae_v: 0.35,sm: 109.26 - SVR \n",
      "std_p: 0.57, corr: 0.74, rmse: 0.40, mae_v: 0.32,sm: 93.68 - LSTM \n",
      "std_p: 0.62, corr: 0.00, rmse: 0.81, mae_v: 0.65,sm: 137.12 - WBBLSTM \n",
      "✔️ Done with 40710 | 3\n",
      "\n",
      "\n",
      "=== Station 40710 | 6 ===\n",
      "!!!@@@------Training ExtraTF… saved.\n",
      "!!!@@@------Training RandomRF… saved.\n"
     ]
    },
    {
     "name": "stderr",
     "output_type": "stream",
     "text": [
      "ignoring user defined `output_chunk_length`. RNNModel uses a fixed `output_chunk_length=1`.\n",
      "GPU available: False, used: False\n",
      "TPU available: False, using: 0 TPU cores\n",
      "HPU available: False, using: 0 HPUs\n",
      "\n",
      "  | Name            | Type             | Params | Mode \n",
      "-------------------------------------------------------------\n",
      "0 | criterion       | MSELoss          | 0      | train\n",
      "1 | train_criterion | MSELoss          | 0      | train\n",
      "2 | val_criterion   | MSELoss          | 0      | train\n",
      "3 | train_metrics   | MetricCollection | 0      | train\n",
      "4 | val_metrics     | MetricCollection | 0      | train\n",
      "5 | rnn             | LSTM             | 9.3 K  | train\n",
      "6 | V               | Linear           | 26     | train\n",
      "-------------------------------------------------------------\n",
      "9.3 K     Trainable params\n",
      "0         Non-trainable params\n",
      "9.3 K     Total params\n",
      "0.037     Total estimated model params size (MB)\n",
      "7         Modules in train mode\n",
      "0         Modules in eval mode\n"
     ]
    },
    {
     "name": "stdout",
     "output_type": "stream",
     "text": [
      "!!!@@@------Training SVR… saved.\n",
      "Epoch 99: 100%|██████████| 19/19 [00:00<00:00, 80.25it/s, train_loss=0.0162] "
     ]
    },
    {
     "name": "stderr",
     "output_type": "stream",
     "text": [
      "`Trainer.fit` stopped: `max_epochs=100` reached.\n"
     ]
    },
    {
     "name": "stdout",
     "output_type": "stream",
     "text": [
      "Epoch 99: 100%|██████████| 19/19 [00:00<00:00, 80.25it/s, train_loss=0.0162]\n",
      " saved.\n"
     ]
    },
    {
     "name": "stderr",
     "output_type": "stream",
     "text": [
      "GPU available: False, used: False\n",
      "TPU available: False, using: 0 TPU cores\n",
      "HPU available: False, using: 0 HPUs\n"
     ]
    },
    {
     "name": "stdout",
     "output_type": "stream",
     "text": [
      "Predicting DataLoader 0: 100%|██████████| 1/1 [00:00<00:00, 127.71it/s]\n",
      "!!!@@@------Training WBBLSTM…"
     ]
    },
    {
     "name": "stderr",
     "output_type": "stream",
     "text": [
      "ignoring user defined `output_chunk_length`. RNNModel uses a fixed `output_chunk_length=1`.\n",
      "GPU available: False, used: False\n",
      "TPU available: False, using: 0 TPU cores\n",
      "HPU available: False, using: 0 HPUs\n",
      "\n",
      "  | Name            | Type             | Params | Mode \n",
      "-------------------------------------------------------------\n",
      "0 | criterion       | MSELoss          | 0      | train\n",
      "1 | train_criterion | MSELoss          | 0      | train\n",
      "2 | val_criterion   | MSELoss          | 0      | train\n",
      "3 | train_metrics   | MetricCollection | 0      | train\n",
      "4 | val_metrics     | MetricCollection | 0      | train\n",
      "5 | rnn             | LSTM             | 9.3 K  | train\n",
      "6 | V               | Linear           | 26     | train\n",
      "-------------------------------------------------------------\n",
      "9.3 K     Trainable params\n",
      "0         Non-trainable params\n",
      "9.3 K     Total params\n",
      "0.037     Total estimated model params size (MB)\n",
      "7         Modules in train mode\n",
      "0         Modules in eval mode\n"
     ]
    },
    {
     "name": "stdout",
     "output_type": "stream",
     "text": [
      "Epoch 99: 100%|██████████| 9/9 [00:00<00:00, 84.44it/s, train_loss=0.0376] "
     ]
    },
    {
     "name": "stderr",
     "output_type": "stream",
     "text": [
      "`Trainer.fit` stopped: `max_epochs=100` reached.\n"
     ]
    },
    {
     "name": "stdout",
     "output_type": "stream",
     "text": [
      "Epoch 99: 100%|██████████| 9/9 [00:00<00:00, 84.44it/s, train_loss=0.0376]\n",
      " saved.\n"
     ]
    },
    {
     "name": "stderr",
     "output_type": "stream",
     "text": [
      "GPU available: False, used: False\n",
      "TPU available: False, using: 0 TPU cores\n",
      "HPU available: False, using: 0 HPUs\n"
     ]
    },
    {
     "name": "stdout",
     "output_type": "stream",
     "text": [
      "Predicting DataLoader 0: 100%|██████████| 1/1 [00:00<00:00, 61.09it/s]\n",
      "std_p: 0.69, corr: 0.63, rmse: 0.57, mae_v: 0.47,sm: 105.81 - ExtraTF \n",
      "std_p: 0.52, corr: 0.84, rmse: 0.35, mae_v: 0.28,sm: 86.05 - RandomRF \n",
      "std_p: 0.38, corr: 0.82, rmse: 0.41, mae_v: 0.33,sm: 97.10 - SVR \n",
      "std_p: 0.71, corr: 0.87, rmse: 0.35, mae_v: 0.28,sm: 73.54 - LSTM \n",
      "std_p: 0.47, corr: 0.46, rmse: 0.60, mae_v: 0.48,sm: 119.28 - WBBLSTM \n",
      "✔️ Done with 40710 | 6\n",
      "\n",
      "\n",
      "=== Station 40710 | 9 ===\n",
      "!!!@@@------Training ExtraTF… saved.\n",
      "!!!@@@------Training RandomRF… saved.\n"
     ]
    },
    {
     "name": "stderr",
     "output_type": "stream",
     "text": [
      "ignoring user defined `output_chunk_length`. RNNModel uses a fixed `output_chunk_length=1`.\n",
      "GPU available: False, used: False\n",
      "TPU available: False, using: 0 TPU cores\n",
      "HPU available: False, using: 0 HPUs\n",
      "\n",
      "  | Name            | Type             | Params | Mode \n",
      "-------------------------------------------------------------\n",
      "0 | criterion       | MSELoss          | 0      | train\n",
      "1 | train_criterion | MSELoss          | 0      | train\n",
      "2 | val_criterion   | MSELoss          | 0      | train\n",
      "3 | train_metrics   | MetricCollection | 0      | train\n",
      "4 | val_metrics     | MetricCollection | 0      | train\n",
      "5 | rnn             | LSTM             | 9.3 K  | train\n",
      "6 | V               | Linear           | 26     | train\n",
      "-------------------------------------------------------------\n",
      "9.3 K     Trainable params\n",
      "0         Non-trainable params\n",
      "9.3 K     Total params\n",
      "0.037     Total estimated model params size (MB)\n",
      "7         Modules in train mode\n",
      "0         Modules in eval mode\n"
     ]
    },
    {
     "name": "stdout",
     "output_type": "stream",
     "text": [
      "!!!@@@------Training SVR… saved.\n",
      "Epoch 99: 100%|██████████| 18/18 [00:00<00:00, 86.41it/s, train_loss=0.0155] "
     ]
    },
    {
     "name": "stderr",
     "output_type": "stream",
     "text": [
      "`Trainer.fit` stopped: `max_epochs=100` reached.\n"
     ]
    },
    {
     "name": "stdout",
     "output_type": "stream",
     "text": [
      "Epoch 99: 100%|██████████| 18/18 [00:00<00:00, 85.62it/s, train_loss=0.0155]"
     ]
    },
    {
     "name": "stderr",
     "output_type": "stream",
     "text": [
      "GPU available: False, used: False\n",
      "TPU available: False, using: 0 TPU cores\n",
      "HPU available: False, using: 0 HPUs\n"
     ]
    },
    {
     "name": "stdout",
     "output_type": "stream",
     "text": [
      "\n",
      " saved.\n",
      "Predicting DataLoader 0: 100%|██████████| 1/1 [00:00<00:00, 54.60it/s]\n"
     ]
    },
    {
     "name": "stderr",
     "output_type": "stream",
     "text": [
      "ignoring user defined `output_chunk_length`. RNNModel uses a fixed `output_chunk_length=1`.\n"
     ]
    },
    {
     "name": "stdout",
     "output_type": "stream",
     "text": [
      "!!!@@@------Training WBBLSTM…"
     ]
    },
    {
     "name": "stderr",
     "output_type": "stream",
     "text": [
      "GPU available: False, used: False\n",
      "TPU available: False, using: 0 TPU cores\n",
      "HPU available: False, using: 0 HPUs\n",
      "\n",
      "  | Name            | Type             | Params | Mode \n",
      "-------------------------------------------------------------\n",
      "0 | criterion       | MSELoss          | 0      | train\n",
      "1 | train_criterion | MSELoss          | 0      | train\n",
      "2 | val_criterion   | MSELoss          | 0      | train\n",
      "3 | train_metrics   | MetricCollection | 0      | train\n",
      "4 | val_metrics     | MetricCollection | 0      | train\n",
      "5 | rnn             | LSTM             | 9.3 K  | train\n",
      "6 | V               | Linear           | 26     | train\n",
      "-------------------------------------------------------------\n",
      "9.3 K     Trainable params\n",
      "0         Non-trainable params\n",
      "9.3 K     Total params\n",
      "0.037     Total estimated model params size (MB)\n",
      "7         Modules in train mode\n",
      "0         Modules in eval mode\n"
     ]
    },
    {
     "name": "stdout",
     "output_type": "stream",
     "text": [
      "Epoch 99: 100%|██████████| 9/9 [00:00<00:00, 101.02it/s, train_loss=0.0404]"
     ]
    },
    {
     "name": "stderr",
     "output_type": "stream",
     "text": [
      "`Trainer.fit` stopped: `max_epochs=100` reached.\n"
     ]
    },
    {
     "name": "stdout",
     "output_type": "stream",
     "text": [
      "Epoch 99: 100%|██████████| 9/9 [00:00<00:00, 85.97it/s, train_loss=0.0404] \n",
      " saved.\n"
     ]
    },
    {
     "name": "stderr",
     "output_type": "stream",
     "text": [
      "GPU available: False, used: False\n",
      "TPU available: False, using: 0 TPU cores\n",
      "HPU available: False, using: 0 HPUs\n"
     ]
    },
    {
     "name": "stdout",
     "output_type": "stream",
     "text": [
      "Predicting DataLoader 0: 100%|██████████| 1/1 [00:00<00:00, 90.80it/s]\n",
      "std_p: 0.51, corr: 0.60, rmse: 0.63, mae_v: 0.54,sm: 140.68 - ExtraTF \n",
      "std_p: 0.47, corr: 0.84, rmse: 0.45, mae_v: 0.36,sm: 103.97 - RandomRF \n",
      "std_p: 0.43, corr: 0.85, rmse: 0.47, mae_v: 0.39,sm: 114.09 - SVR \n",
      "std_p: 0.72, corr: 0.85, rmse: 0.42, mae_v: 0.34,sm: 86.53 - LSTM \n",
      "std_p: 0.64, corr: 0.50, rmse: 0.78, mae_v: 0.63,sm: 130.82 - WBBLSTM \n",
      "✔️ Done with 40710 | 9\n",
      "\n",
      "\n",
      "=== Station 40710 | 12 ===\n",
      "!!!@@@------Training ExtraTF… saved.\n",
      "!!!@@@------Training RandomRF… saved.\n"
     ]
    },
    {
     "name": "stderr",
     "output_type": "stream",
     "text": [
      "ignoring user defined `output_chunk_length`. RNNModel uses a fixed `output_chunk_length=1`.\n",
      "GPU available: False, used: False\n",
      "TPU available: False, using: 0 TPU cores\n",
      "HPU available: False, using: 0 HPUs\n",
      "\n",
      "  | Name            | Type             | Params | Mode \n",
      "-------------------------------------------------------------\n",
      "0 | criterion       | MSELoss          | 0      | train\n",
      "1 | train_criterion | MSELoss          | 0      | train\n",
      "2 | val_criterion   | MSELoss          | 0      | train\n",
      "3 | train_metrics   | MetricCollection | 0      | train\n",
      "4 | val_metrics     | MetricCollection | 0      | train\n",
      "5 | rnn             | LSTM             | 9.3 K  | train\n",
      "6 | V               | Linear           | 26     | train\n",
      "-------------------------------------------------------------\n",
      "9.3 K     Trainable params\n",
      "0         Non-trainable params\n",
      "9.3 K     Total params\n",
      "0.037     Total estimated model params size (MB)\n",
      "7         Modules in train mode\n",
      "0         Modules in eval mode\n"
     ]
    },
    {
     "name": "stdout",
     "output_type": "stream",
     "text": [
      "!!!@@@------Training SVR… saved.\n",
      "Epoch 99: 100%|██████████| 18/18 [00:00<00:00, 94.90it/s, train_loss=0.0219] "
     ]
    },
    {
     "name": "stderr",
     "output_type": "stream",
     "text": [
      "`Trainer.fit` stopped: `max_epochs=100` reached.\n"
     ]
    },
    {
     "name": "stdout",
     "output_type": "stream",
     "text": [
      "Epoch 99: 100%|██████████| 18/18 [00:00<00:00, 89.59it/s, train_loss=0.0219]\n",
      " saved.\n"
     ]
    },
    {
     "name": "stderr",
     "output_type": "stream",
     "text": [
      "GPU available: False, used: False\n",
      "TPU available: False, using: 0 TPU cores\n",
      "HPU available: False, using: 0 HPUs\n"
     ]
    },
    {
     "name": "stdout",
     "output_type": "stream",
     "text": [
      "Predicting DataLoader 0: 100%|██████████| 1/1 [00:00<?, ?it/s]\n",
      "!!!@@@------Training WBBLSTM…"
     ]
    },
    {
     "name": "stderr",
     "output_type": "stream",
     "text": [
      "ignoring user defined `output_chunk_length`. RNNModel uses a fixed `output_chunk_length=1`.\n",
      "GPU available: False, used: False\n",
      "TPU available: False, using: 0 TPU cores\n",
      "HPU available: False, using: 0 HPUs\n",
      "\n",
      "  | Name            | Type             | Params | Mode \n",
      "-------------------------------------------------------------\n",
      "0 | criterion       | MSELoss          | 0      | train\n",
      "1 | train_criterion | MSELoss          | 0      | train\n",
      "2 | val_criterion   | MSELoss          | 0      | train\n",
      "3 | train_metrics   | MetricCollection | 0      | train\n",
      "4 | val_metrics     | MetricCollection | 0      | train\n",
      "5 | rnn             | LSTM             | 9.3 K  | train\n",
      "6 | V               | Linear           | 26     | train\n",
      "-------------------------------------------------------------\n",
      "9.3 K     Trainable params\n",
      "0         Non-trainable params\n",
      "9.3 K     Total params\n",
      "0.037     Total estimated model params size (MB)\n",
      "7         Modules in train mode\n",
      "0         Modules in eval mode\n"
     ]
    },
    {
     "name": "stdout",
     "output_type": "stream",
     "text": [
      "Epoch 99: 100%|██████████| 9/9 [00:00<00:00, 94.27it/s, train_loss=0.0671] "
     ]
    },
    {
     "name": "stderr",
     "output_type": "stream",
     "text": [
      "`Trainer.fit` stopped: `max_epochs=100` reached.\n"
     ]
    },
    {
     "name": "stdout",
     "output_type": "stream",
     "text": [
      "Epoch 99: 100%|██████████| 9/9 [00:00<00:00, 94.27it/s, train_loss=0.0671]\n",
      " saved.\n"
     ]
    },
    {
     "name": "stderr",
     "output_type": "stream",
     "text": [
      "GPU available: False, used: False\n",
      "TPU available: False, using: 0 TPU cores\n",
      "HPU available: False, using: 0 HPUs\n"
     ]
    },
    {
     "name": "stdout",
     "output_type": "stream",
     "text": [
      "Predicting DataLoader 0: 100%|██████████| 1/1 [00:00<00:00, 83.16it/s]\n",
      "std_p: 0.67, corr: 0.64, rmse: 1.07, mae_v: 0.87,sm: 145.85 - ExtraTF \n",
      "std_p: 0.57, corr: 0.84, rmse: 0.46, mae_v: 0.37,sm: 95.95 - RandomRF \n",
      "std_p: 0.51, corr: 0.78, rmse: 0.57, mae_v: 0.43,sm: 102.38 - SVR \n",
      "std_p: 0.76, corr: 0.81, rmse: 0.49, mae_v: 0.37,sm: 75.01 - LSTM \n",
      "std_p: 0.79, corr: 0.56, rmse: 0.81, mae_v: 0.66,sm: 118.13 - WBBLSTM \n",
      "✔️ Done with 40710 | 12\n",
      "\n",
      "\n",
      "=== Station 40710 | 24 ===\n",
      "!!!@@@------Training ExtraTF… saved.\n",
      "!!!@@@------Training RandomRF… saved.\n"
     ]
    },
    {
     "name": "stderr",
     "output_type": "stream",
     "text": [
      "ignoring user defined `output_chunk_length`. RNNModel uses a fixed `output_chunk_length=1`.\n",
      "GPU available: False, used: False\n",
      "TPU available: False, using: 0 TPU cores\n",
      "HPU available: False, using: 0 HPUs\n",
      "\n",
      "  | Name            | Type             | Params | Mode \n",
      "-------------------------------------------------------------\n",
      "0 | criterion       | MSELoss          | 0      | train\n",
      "1 | train_criterion | MSELoss          | 0      | train\n",
      "2 | val_criterion   | MSELoss          | 0      | train\n",
      "3 | train_metrics   | MetricCollection | 0      | train\n",
      "4 | val_metrics     | MetricCollection | 0      | train\n",
      "5 | rnn             | LSTM             | 9.3 K  | train\n",
      "6 | V               | Linear           | 26     | train\n",
      "-------------------------------------------------------------\n",
      "9.3 K     Trainable params\n",
      "0         Non-trainable params\n",
      "9.3 K     Total params\n",
      "0.037     Total estimated model params size (MB)\n",
      "7         Modules in train mode\n",
      "0         Modules in eval mode\n"
     ]
    },
    {
     "name": "stdout",
     "output_type": "stream",
     "text": [
      "!!!@@@------Training SVR… saved.\n",
      "Epoch 99: 100%|██████████| 18/18 [00:00<00:00, 93.89it/s, train_loss=0.0111] "
     ]
    },
    {
     "name": "stderr",
     "output_type": "stream",
     "text": [
      "`Trainer.fit` stopped: `max_epochs=100` reached.\n"
     ]
    },
    {
     "name": "stdout",
     "output_type": "stream",
     "text": [
      "Epoch 99: 100%|██████████| 18/18 [00:00<00:00, 93.89it/s, train_loss=0.0111]\n",
      " saved.\n"
     ]
    },
    {
     "name": "stderr",
     "output_type": "stream",
     "text": [
      "GPU available: False, used: False\n",
      "TPU available: False, using: 0 TPU cores\n",
      "HPU available: False, using: 0 HPUs\n"
     ]
    },
    {
     "name": "stdout",
     "output_type": "stream",
     "text": [
      "Predicting DataLoader 0: 100%|██████████| 1/1 [00:00<00:00, 89.05it/s]"
     ]
    },
    {
     "name": "stderr",
     "output_type": "stream",
     "text": [
      "ignoring user defined `output_chunk_length`. RNNModel uses a fixed `output_chunk_length=1`.\n",
      "GPU available: False, used: False\n"
     ]
    },
    {
     "name": "stdout",
     "output_type": "stream",
     "text": [
      "\n",
      "!!!@@@------Training WBBLSTM…"
     ]
    },
    {
     "name": "stderr",
     "output_type": "stream",
     "text": [
      "TPU available: False, using: 0 TPU cores\n",
      "HPU available: False, using: 0 HPUs\n",
      "\n",
      "  | Name            | Type             | Params | Mode \n",
      "-------------------------------------------------------------\n",
      "0 | criterion       | MSELoss          | 0      | train\n",
      "1 | train_criterion | MSELoss          | 0      | train\n",
      "2 | val_criterion   | MSELoss          | 0      | train\n",
      "3 | train_metrics   | MetricCollection | 0      | train\n",
      "4 | val_metrics     | MetricCollection | 0      | train\n",
      "5 | rnn             | LSTM             | 9.3 K  | train\n",
      "6 | V               | Linear           | 26     | train\n",
      "-------------------------------------------------------------\n",
      "9.3 K     Trainable params\n",
      "0         Non-trainable params\n",
      "9.3 K     Total params\n",
      "0.037     Total estimated model params size (MB)\n",
      "7         Modules in train mode\n",
      "0         Modules in eval mode\n"
     ]
    },
    {
     "name": "stdout",
     "output_type": "stream",
     "text": [
      "Epoch 99: 100%|██████████| 8/8 [00:00<00:00, 98.55it/s, train_loss=0.067]   "
     ]
    },
    {
     "name": "stderr",
     "output_type": "stream",
     "text": [
      "`Trainer.fit` stopped: `max_epochs=100` reached.\n"
     ]
    },
    {
     "name": "stdout",
     "output_type": "stream",
     "text": [
      "Epoch 99: 100%|██████████| 8/8 [00:00<00:00, 98.55it/s, train_loss=0.067]\n",
      " saved.\n"
     ]
    },
    {
     "name": "stderr",
     "output_type": "stream",
     "text": [
      "GPU available: False, used: False\n",
      "TPU available: False, using: 0 TPU cores\n",
      "HPU available: False, using: 0 HPUs\n"
     ]
    },
    {
     "name": "stdout",
     "output_type": "stream",
     "text": [
      "Predicting DataLoader 0: 100%|██████████| 1/1 [00:00<00:00, 66.03it/s]\n",
      "std_p: 0.30, corr: 0.59, rmse: 0.62, mae_v: 0.49,sm: 88.30 - ExtraTF \n",
      "std_p: 0.73, corr: 0.90, rmse: 0.35, mae_v: 0.28,sm: 77.25 - RandomRF \n",
      "std_p: 0.52, corr: 0.85, rmse: 0.44, mae_v: 0.35,sm: 86.23 - SVR \n",
      "std_p: 0.82, corr: 0.89, rmse: 0.38, mae_v: 0.30,sm: 85.10 - LSTM \n",
      "std_p: 0.86, corr: 0.79, rmse: 1.25, mae_v: 1.13,sm: 159.90 - WBBLSTM \n",
      "✔️ Done with 40710 | 24\n",
      "\n",
      "📄 Results saved as CSV: results\\results_summary.csv\n",
      "\n",
      "=== Station 40712 | 1 ===\n",
      "!!!@@@------Training ExtraTF… saved.\n",
      "!!!@@@------Training RandomRF… saved.\n"
     ]
    },
    {
     "name": "stderr",
     "output_type": "stream",
     "text": [
      "ignoring user defined `output_chunk_length`. RNNModel uses a fixed `output_chunk_length=1`.\n",
      "GPU available: False, used: False\n",
      "TPU available: False, using: 0 TPU cores\n",
      "HPU available: False, using: 0 HPUs\n",
      "\n",
      "  | Name            | Type             | Params | Mode \n",
      "-------------------------------------------------------------\n",
      "0 | criterion       | MSELoss          | 0      | train\n",
      "1 | train_criterion | MSELoss          | 0      | train\n",
      "2 | val_criterion   | MSELoss          | 0      | train\n",
      "3 | train_metrics   | MetricCollection | 0      | train\n",
      "4 | val_metrics     | MetricCollection | 0      | train\n",
      "5 | rnn             | LSTM             | 9.3 K  | train\n",
      "6 | V               | Linear           | 26     | train\n",
      "-------------------------------------------------------------\n",
      "9.3 K     Trainable params\n",
      "0         Non-trainable params\n",
      "9.3 K     Total params\n",
      "0.037     Total estimated model params size (MB)\n",
      "7         Modules in train mode\n",
      "0         Modules in eval mode\n"
     ]
    },
    {
     "name": "stdout",
     "output_type": "stream",
     "text": [
      "!!!@@@------Training SVR… saved.\n",
      "Epoch 99: 100%|██████████| 19/19 [00:00<00:00, 94.24it/s, train_loss=0.0151] "
     ]
    },
    {
     "name": "stderr",
     "output_type": "stream",
     "text": [
      "`Trainer.fit` stopped: `max_epochs=100` reached.\n"
     ]
    },
    {
     "name": "stdout",
     "output_type": "stream",
     "text": [
      "Epoch 99: 100%|██████████| 19/19 [00:00<00:00, 93.87it/s, train_loss=0.0151]\n",
      " saved.\n"
     ]
    },
    {
     "name": "stderr",
     "output_type": "stream",
     "text": [
      "GPU available: False, used: False\n",
      "TPU available: False, using: 0 TPU cores\n",
      "HPU available: False, using: 0 HPUs\n"
     ]
    },
    {
     "name": "stdout",
     "output_type": "stream",
     "text": [
      "Predicting DataLoader 0: 100%|██████████| 1/1 [00:00<00:00, 86.58it/s]"
     ]
    },
    {
     "name": "stderr",
     "output_type": "stream",
     "text": [
      "ignoring user defined `output_chunk_length`. RNNModel uses a fixed `output_chunk_length=1`.\n"
     ]
    },
    {
     "name": "stdout",
     "output_type": "stream",
     "text": [
      "\n",
      "!!!@@@------Training WBBLSTM…"
     ]
    },
    {
     "name": "stderr",
     "output_type": "stream",
     "text": [
      "GPU available: False, used: False\n",
      "TPU available: False, using: 0 TPU cores\n",
      "HPU available: False, using: 0 HPUs\n",
      "\n",
      "  | Name            | Type             | Params | Mode \n",
      "-------------------------------------------------------------\n",
      "0 | criterion       | MSELoss          | 0      | train\n",
      "1 | train_criterion | MSELoss          | 0      | train\n",
      "2 | val_criterion   | MSELoss          | 0      | train\n",
      "3 | train_metrics   | MetricCollection | 0      | train\n",
      "4 | val_metrics     | MetricCollection | 0      | train\n",
      "5 | rnn             | LSTM             | 9.3 K  | train\n",
      "6 | V               | Linear           | 26     | train\n",
      "-------------------------------------------------------------\n",
      "9.3 K     Trainable params\n",
      "0         Non-trainable params\n",
      "9.3 K     Total params\n",
      "0.037     Total estimated model params size (MB)\n",
      "7         Modules in train mode\n",
      "0         Modules in eval mode\n"
     ]
    },
    {
     "name": "stdout",
     "output_type": "stream",
     "text": [
      "Epoch 99: 100%|██████████| 9/9 [00:00<00:00, 95.93it/s, train_loss=0.0449] "
     ]
    },
    {
     "name": "stderr",
     "output_type": "stream",
     "text": [
      "`Trainer.fit` stopped: `max_epochs=100` reached.\n"
     ]
    },
    {
     "name": "stdout",
     "output_type": "stream",
     "text": [
      "Epoch 99: 100%|██████████| 9/9 [00:00<00:00, 95.93it/s, train_loss=0.0449]\n",
      " saved.\n"
     ]
    },
    {
     "name": "stderr",
     "output_type": "stream",
     "text": [
      "GPU available: False, used: False\n",
      "TPU available: False, using: 0 TPU cores\n",
      "HPU available: False, using: 0 HPUs\n"
     ]
    },
    {
     "name": "stdout",
     "output_type": "stream",
     "text": [
      "Predicting DataLoader 0: 100%|██████████| 1/1 [00:00<00:00, 312.68it/s]\n",
      "std_p: 0.48, corr: 0.69, rmse: 0.45, mae_v: 0.34,sm: 89.59 - ExtraTF \n",
      "std_p: 0.49, corr: 0.71, rmse: 0.44, mae_v: 0.34,sm: 81.57 - RandomRF \n",
      "std_p: 0.48, corr: 0.69, rmse: 0.45, mae_v: 0.33,sm: 79.33 - SVR \n",
      "std_p: 0.61, corr: 0.88, rmse: 0.30, mae_v: 0.22,sm: 64.44 - LSTM \n",
      "std_p: 0.32, corr: 0.04, rmse: 0.68, mae_v: 0.54,sm: 149.76 - WBBLSTM \n",
      "✔️ Done with 40712 | 1\n",
      "\n",
      "\n",
      "=== Station 40712 | 3 ===\n",
      "!!!@@@------Training ExtraTF… saved.\n",
      "!!!@@@------Training RandomRF… saved.\n"
     ]
    },
    {
     "name": "stderr",
     "output_type": "stream",
     "text": [
      "ignoring user defined `output_chunk_length`. RNNModel uses a fixed `output_chunk_length=1`.\n",
      "GPU available: False, used: False\n",
      "TPU available: False, using: 0 TPU cores\n",
      "HPU available: False, using: 0 HPUs\n",
      "\n",
      "  | Name            | Type             | Params | Mode \n",
      "-------------------------------------------------------------\n",
      "0 | criterion       | MSELoss          | 0      | train\n",
      "1 | train_criterion | MSELoss          | 0      | train\n",
      "2 | val_criterion   | MSELoss          | 0      | train\n",
      "3 | train_metrics   | MetricCollection | 0      | train\n",
      "4 | val_metrics     | MetricCollection | 0      | train\n",
      "5 | rnn             | LSTM             | 9.3 K  | train\n",
      "6 | V               | Linear           | 26     | train\n",
      "-------------------------------------------------------------\n",
      "9.3 K     Trainable params\n",
      "0         Non-trainable params\n",
      "9.3 K     Total params\n",
      "0.037     Total estimated model params size (MB)\n",
      "7         Modules in train mode\n",
      "0         Modules in eval mode\n"
     ]
    },
    {
     "name": "stdout",
     "output_type": "stream",
     "text": [
      "!!!@@@------Training SVR… saved.\n",
      "Epoch 99: 100%|██████████| 19/19 [00:00<00:00, 98.28it/s, train_loss=0.015]   "
     ]
    },
    {
     "name": "stderr",
     "output_type": "stream",
     "text": [
      "`Trainer.fit` stopped: `max_epochs=100` reached.\n"
     ]
    },
    {
     "name": "stdout",
     "output_type": "stream",
     "text": [
      "Epoch 99: 100%|██████████| 19/19 [00:00<00:00, 98.28it/s, train_loss=0.015]\n",
      " saved.\n"
     ]
    },
    {
     "name": "stderr",
     "output_type": "stream",
     "text": [
      "GPU available: False, used: False\n",
      "TPU available: False, using: 0 TPU cores\n",
      "HPU available: False, using: 0 HPUs\n"
     ]
    },
    {
     "name": "stdout",
     "output_type": "stream",
     "text": [
      "Predicting DataLoader 0: 100%|██████████| 1/1 [00:00<00:00, 129.90it/s]\n",
      "!!!@@@------Training WBBLSTM…"
     ]
    },
    {
     "name": "stderr",
     "output_type": "stream",
     "text": [
      "ignoring user defined `output_chunk_length`. RNNModel uses a fixed `output_chunk_length=1`.\n",
      "GPU available: False, used: False\n",
      "TPU available: False, using: 0 TPU cores\n",
      "HPU available: False, using: 0 HPUs\n",
      "\n",
      "  | Name            | Type             | Params | Mode \n",
      "-------------------------------------------------------------\n",
      "0 | criterion       | MSELoss          | 0      | train\n",
      "1 | train_criterion | MSELoss          | 0      | train\n",
      "2 | val_criterion   | MSELoss          | 0      | train\n",
      "3 | train_metrics   | MetricCollection | 0      | train\n",
      "4 | val_metrics     | MetricCollection | 0      | train\n",
      "5 | rnn             | LSTM             | 9.3 K  | train\n",
      "6 | V               | Linear           | 26     | train\n",
      "-------------------------------------------------------------\n",
      "9.3 K     Trainable params\n",
      "0         Non-trainable params\n",
      "9.3 K     Total params\n",
      "0.037     Total estimated model params size (MB)\n",
      "7         Modules in train mode\n",
      "0         Modules in eval mode\n"
     ]
    },
    {
     "name": "stdout",
     "output_type": "stream",
     "text": [
      "Epoch 99: 100%|██████████| 9/9 [00:00<00:00, 91.59it/s, train_loss=0.052]  "
     ]
    },
    {
     "name": "stderr",
     "output_type": "stream",
     "text": [
      "`Trainer.fit` stopped: `max_epochs=100` reached.\n"
     ]
    },
    {
     "name": "stdout",
     "output_type": "stream",
     "text": [
      "Epoch 99: 100%|██████████| 9/9 [00:00<00:00, 88.04it/s, train_loss=0.052]\n",
      " saved.\n"
     ]
    },
    {
     "name": "stderr",
     "output_type": "stream",
     "text": [
      "GPU available: False, used: False\n",
      "TPU available: False, using: 0 TPU cores\n",
      "HPU available: False, using: 0 HPUs\n"
     ]
    },
    {
     "name": "stdout",
     "output_type": "stream",
     "text": [
      "Predicting DataLoader 0: 100%|██████████| 1/1 [00:00<00:00, 61.28it/s]\n",
      "std_p: 0.52, corr: 0.53, rmse: 0.52, mae_v: 0.40,sm: 104.39 - ExtraTF \n",
      "std_p: 0.39, corr: 0.76, rmse: 0.36, mae_v: 0.30,sm: 95.03 - RandomRF \n",
      "std_p: 0.30, corr: 0.67, rmse: 0.42, mae_v: 0.33,sm: 113.96 - SVR \n",
      "std_p: 0.53, corr: 0.81, rmse: 0.34, mae_v: 0.24,sm: 83.05 - LSTM \n",
      "std_p: 0.39, corr: 0.21, rmse: 0.61, mae_v: 0.45,sm: 128.18 - WBBLSTM \n",
      "✔️ Done with 40712 | 3\n",
      "\n",
      "\n",
      "=== Station 40712 | 6 ===\n",
      "!!!@@@------Training ExtraTF… saved.\n",
      "!!!@@@------Training RandomRF… saved.\n"
     ]
    },
    {
     "name": "stderr",
     "output_type": "stream",
     "text": [
      "ignoring user defined `output_chunk_length`. RNNModel uses a fixed `output_chunk_length=1`.\n",
      "GPU available: False, used: False\n",
      "TPU available: False, using: 0 TPU cores\n",
      "HPU available: False, using: 0 HPUs\n",
      "\n",
      "  | Name            | Type             | Params | Mode \n",
      "-------------------------------------------------------------\n",
      "0 | criterion       | MSELoss          | 0      | train\n",
      "1 | train_criterion | MSELoss          | 0      | train\n",
      "2 | val_criterion   | MSELoss          | 0      | train\n",
      "3 | train_metrics   | MetricCollection | 0      | train\n",
      "4 | val_metrics     | MetricCollection | 0      | train\n",
      "5 | rnn             | LSTM             | 9.3 K  | train\n",
      "6 | V               | Linear           | 26     | train\n",
      "-------------------------------------------------------------\n",
      "9.3 K     Trainable params\n",
      "0         Non-trainable params\n",
      "9.3 K     Total params\n",
      "0.037     Total estimated model params size (MB)\n",
      "7         Modules in train mode\n",
      "0         Modules in eval mode\n"
     ]
    },
    {
     "name": "stdout",
     "output_type": "stream",
     "text": [
      "!!!@@@------Training SVR… saved.\n",
      "Epoch 99: 100%|██████████| 19/19 [00:00<00:00, 86.33it/s, train_loss=0.0168]  "
     ]
    },
    {
     "name": "stderr",
     "output_type": "stream",
     "text": [
      "`Trainer.fit` stopped: `max_epochs=100` reached.\n"
     ]
    },
    {
     "name": "stdout",
     "output_type": "stream",
     "text": [
      "Epoch 99: 100%|██████████| 19/19 [00:00<00:00, 85.55it/s, train_loss=0.0168]\n",
      " saved.\n"
     ]
    },
    {
     "name": "stderr",
     "output_type": "stream",
     "text": [
      "GPU available: False, used: False\n",
      "TPU available: False, using: 0 TPU cores\n",
      "HPU available: False, using: 0 HPUs\n"
     ]
    },
    {
     "name": "stdout",
     "output_type": "stream",
     "text": [
      "Predicting DataLoader 0: 100%|██████████| 1/1 [00:00<00:00, 69.01it/s]"
     ]
    },
    {
     "name": "stderr",
     "output_type": "stream",
     "text": [
      "ignoring user defined `output_chunk_length`. RNNModel uses a fixed `output_chunk_length=1`.\n"
     ]
    },
    {
     "name": "stdout",
     "output_type": "stream",
     "text": [
      "\n",
      "!!!@@@------Training WBBLSTM…"
     ]
    },
    {
     "name": "stderr",
     "output_type": "stream",
     "text": [
      "GPU available: False, used: False\n",
      "TPU available: False, using: 0 TPU cores\n",
      "HPU available: False, using: 0 HPUs\n",
      "\n",
      "  | Name            | Type             | Params | Mode \n",
      "-------------------------------------------------------------\n",
      "0 | criterion       | MSELoss          | 0      | train\n",
      "1 | train_criterion | MSELoss          | 0      | train\n",
      "2 | val_criterion   | MSELoss          | 0      | train\n",
      "3 | train_metrics   | MetricCollection | 0      | train\n",
      "4 | val_metrics     | MetricCollection | 0      | train\n",
      "5 | rnn             | LSTM             | 9.3 K  | train\n",
      "6 | V               | Linear           | 26     | train\n",
      "-------------------------------------------------------------\n",
      "9.3 K     Trainable params\n",
      "0         Non-trainable params\n",
      "9.3 K     Total params\n",
      "0.037     Total estimated model params size (MB)\n",
      "7         Modules in train mode\n",
      "0         Modules in eval mode\n"
     ]
    },
    {
     "name": "stdout",
     "output_type": "stream",
     "text": [
      "Epoch 99: 100%|██████████| 9/9 [00:00<00:00, 104.33it/s, train_loss=0.0527] "
     ]
    },
    {
     "name": "stderr",
     "output_type": "stream",
     "text": [
      "`Trainer.fit` stopped: `max_epochs=100` reached.\n"
     ]
    },
    {
     "name": "stdout",
     "output_type": "stream",
     "text": [
      "Epoch 99: 100%|██████████| 9/9 [00:00<00:00, 104.33it/s, train_loss=0.0527]\n",
      " saved.\n"
     ]
    },
    {
     "name": "stderr",
     "output_type": "stream",
     "text": [
      "GPU available: False, used: False\n",
      "TPU available: False, using: 0 TPU cores\n",
      "HPU available: False, using: 0 HPUs\n"
     ]
    },
    {
     "name": "stdout",
     "output_type": "stream",
     "text": [
      "Predicting DataLoader 0: 100%|██████████| 1/1 [00:00<00:00, 62.51it/s]\n",
      "negative corr\n",
      "std_p: 0.59, corr: 0.64, rmse: 0.58, mae_v: 0.45,sm: 115.11 - ExtraTF \n",
      "std_p: 0.54, corr: 0.91, rmse: 0.32, mae_v: 0.25,sm: 73.36 - RandomRF \n",
      "std_p: 0.38, corr: 0.84, rmse: 0.45, mae_v: 0.34,sm: 94.33 - SVR \n",
      "std_p: 0.74, corr: 0.87, rmse: 0.39, mae_v: 0.27,sm: 82.90 - LSTM \n",
      "std_p: 0.41, corr: 0.20, rmse: 0.76, mae_v: 0.61,sm: 143.85 - WBBLSTM \n",
      "✔️ Done with 40712 | 6\n",
      "\n",
      "\n",
      "=== Station 40712 | 9 ===\n",
      "!!!@@@------Training ExtraTF… saved.\n",
      "!!!@@@------Training RandomRF… saved.\n"
     ]
    },
    {
     "name": "stderr",
     "output_type": "stream",
     "text": [
      "ignoring user defined `output_chunk_length`. RNNModel uses a fixed `output_chunk_length=1`.\n",
      "GPU available: False, used: False\n",
      "TPU available: False, using: 0 TPU cores\n",
      "HPU available: False, using: 0 HPUs\n",
      "\n",
      "  | Name            | Type             | Params | Mode \n",
      "-------------------------------------------------------------\n",
      "0 | criterion       | MSELoss          | 0      | train\n",
      "1 | train_criterion | MSELoss          | 0      | train\n",
      "2 | val_criterion   | MSELoss          | 0      | train\n",
      "3 | train_metrics   | MetricCollection | 0      | train\n",
      "4 | val_metrics     | MetricCollection | 0      | train\n",
      "5 | rnn             | LSTM             | 9.3 K  | train\n",
      "6 | V               | Linear           | 26     | train\n",
      "-------------------------------------------------------------\n",
      "9.3 K     Trainable params\n",
      "0         Non-trainable params\n",
      "9.3 K     Total params\n",
      "0.037     Total estimated model params size (MB)\n",
      "7         Modules in train mode\n",
      "0         Modules in eval mode\n"
     ]
    },
    {
     "name": "stdout",
     "output_type": "stream",
     "text": [
      "!!!@@@------Training SVR… saved.\n",
      "Epoch 99: 100%|██████████| 18/18 [00:00<00:00, 95.23it/s, train_loss=0.0169] "
     ]
    },
    {
     "name": "stderr",
     "output_type": "stream",
     "text": [
      "`Trainer.fit` stopped: `max_epochs=100` reached.\n"
     ]
    },
    {
     "name": "stdout",
     "output_type": "stream",
     "text": [
      "Epoch 99: 100%|██████████| 18/18 [00:00<00:00, 89.99it/s, train_loss=0.0169]\n",
      " saved.\n"
     ]
    },
    {
     "name": "stderr",
     "output_type": "stream",
     "text": [
      "GPU available: False, used: False\n",
      "TPU available: False, using: 0 TPU cores\n",
      "HPU available: False, using: 0 HPUs\n"
     ]
    },
    {
     "name": "stdout",
     "output_type": "stream",
     "text": [
      "Predicting DataLoader 0: 100%|██████████| 1/1 [00:00<?, ?it/s]\n"
     ]
    },
    {
     "name": "stderr",
     "output_type": "stream",
     "text": [
      "ignoring user defined `output_chunk_length`. RNNModel uses a fixed `output_chunk_length=1`.\n"
     ]
    },
    {
     "name": "stdout",
     "output_type": "stream",
     "text": [
      "!!!@@@------Training WBBLSTM…"
     ]
    },
    {
     "name": "stderr",
     "output_type": "stream",
     "text": [
      "GPU available: False, used: False\n",
      "TPU available: False, using: 0 TPU cores\n",
      "HPU available: False, using: 0 HPUs\n",
      "\n",
      "  | Name            | Type             | Params | Mode \n",
      "-------------------------------------------------------------\n",
      "0 | criterion       | MSELoss          | 0      | train\n",
      "1 | train_criterion | MSELoss          | 0      | train\n",
      "2 | val_criterion   | MSELoss          | 0      | train\n",
      "3 | train_metrics   | MetricCollection | 0      | train\n",
      "4 | val_metrics     | MetricCollection | 0      | train\n",
      "5 | rnn             | LSTM             | 9.3 K  | train\n",
      "6 | V               | Linear           | 26     | train\n",
      "-------------------------------------------------------------\n",
      "9.3 K     Trainable params\n",
      "0         Non-trainable params\n",
      "9.3 K     Total params\n",
      "0.037     Total estimated model params size (MB)\n",
      "7         Modules in train mode\n",
      "0         Modules in eval mode\n"
     ]
    },
    {
     "name": "stdout",
     "output_type": "stream",
     "text": [
      "Epoch 99: 100%|██████████| 9/9 [00:00<00:00, 89.11it/s, train_loss=0.0948] "
     ]
    },
    {
     "name": "stderr",
     "output_type": "stream",
     "text": [
      "`Trainer.fit` stopped: `max_epochs=100` reached.\n"
     ]
    },
    {
     "name": "stdout",
     "output_type": "stream",
     "text": [
      "Epoch 99: 100%|██████████| 9/9 [00:00<00:00, 89.11it/s, train_loss=0.0948]\n",
      " saved.\n"
     ]
    },
    {
     "name": "stderr",
     "output_type": "stream",
     "text": [
      "GPU available: False, used: False\n",
      "TPU available: False, using: 0 TPU cores\n",
      "HPU available: False, using: 0 HPUs\n"
     ]
    },
    {
     "name": "stdout",
     "output_type": "stream",
     "text": [
      "Predicting DataLoader 0: 100%|██████████| 1/1 [00:00<00:00, 98.56it/s]\n",
      "negative corr\n",
      "std_p: 0.44, corr: 0.41, rmse: 0.82, mae_v: 0.58,sm: 101.78 - ExtraTF \n",
      "std_p: 0.74, corr: 0.93, rmse: 0.34, mae_v: 0.26,sm: 52.14 - RandomRF \n",
      "std_p: 0.50, corr: 0.88, rmse: 0.51, mae_v: 0.40,sm: 78.98 - SVR \n",
      "std_p: 0.89, corr: 0.95, rmse: 0.29, mae_v: 0.22,sm: 52.81 - LSTM \n",
      "std_p: 0.75, corr: 0.32, rmse: 0.97, mae_v: 0.82,sm: 132.94 - WBBLSTM \n",
      "✔️ Done with 40712 | 9\n",
      "\n",
      "\n",
      "=== Station 40712 | 12 ===\n",
      "!!!@@@------Training ExtraTF… saved.\n",
      "!!!@@@------Training RandomRF… saved.\n"
     ]
    },
    {
     "name": "stderr",
     "output_type": "stream",
     "text": [
      "ignoring user defined `output_chunk_length`. RNNModel uses a fixed `output_chunk_length=1`.\n",
      "GPU available: False, used: False\n",
      "TPU available: False, using: 0 TPU cores\n",
      "HPU available: False, using: 0 HPUs\n",
      "\n",
      "  | Name            | Type             | Params | Mode \n",
      "-------------------------------------------------------------\n",
      "0 | criterion       | MSELoss          | 0      | train\n",
      "1 | train_criterion | MSELoss          | 0      | train\n",
      "2 | val_criterion   | MSELoss          | 0      | train\n",
      "3 | train_metrics   | MetricCollection | 0      | train\n",
      "4 | val_metrics     | MetricCollection | 0      | train\n",
      "5 | rnn             | LSTM             | 9.3 K  | train\n",
      "6 | V               | Linear           | 26     | train\n",
      "-------------------------------------------------------------\n",
      "9.3 K     Trainable params\n",
      "0         Non-trainable params\n",
      "9.3 K     Total params\n",
      "0.037     Total estimated model params size (MB)\n",
      "7         Modules in train mode\n",
      "0         Modules in eval mode\n"
     ]
    },
    {
     "name": "stdout",
     "output_type": "stream",
     "text": [
      "!!!@@@------Training SVR… saved.\n",
      "Epoch 99: 100%|██████████| 18/18 [00:00<00:00, 93.65it/s, train_loss=0.0159] "
     ]
    },
    {
     "name": "stderr",
     "output_type": "stream",
     "text": [
      "`Trainer.fit` stopped: `max_epochs=100` reached.\n"
     ]
    },
    {
     "name": "stdout",
     "output_type": "stream",
     "text": [
      "Epoch 99: 100%|██████████| 18/18 [00:00<00:00, 92.81it/s, train_loss=0.0159]\n",
      " saved.\n"
     ]
    },
    {
     "name": "stderr",
     "output_type": "stream",
     "text": [
      "GPU available: False, used: False\n",
      "TPU available: False, using: 0 TPU cores\n",
      "HPU available: False, using: 0 HPUs\n"
     ]
    },
    {
     "name": "stdout",
     "output_type": "stream",
     "text": [
      "Predicting DataLoader 0: 100%|██████████| 1/1 [00:00<00:00, 249.33it/s]\n",
      "!!!@@@------Training WBBLSTM…"
     ]
    },
    {
     "name": "stderr",
     "output_type": "stream",
     "text": [
      "ignoring user defined `output_chunk_length`. RNNModel uses a fixed `output_chunk_length=1`.\n",
      "GPU available: False, used: False\n",
      "TPU available: False, using: 0 TPU cores\n",
      "HPU available: False, using: 0 HPUs\n",
      "\n",
      "  | Name            | Type             | Params | Mode \n",
      "-------------------------------------------------------------\n",
      "0 | criterion       | MSELoss          | 0      | train\n",
      "1 | train_criterion | MSELoss          | 0      | train\n",
      "2 | val_criterion   | MSELoss          | 0      | train\n",
      "3 | train_metrics   | MetricCollection | 0      | train\n",
      "4 | val_metrics     | MetricCollection | 0      | train\n",
      "5 | rnn             | LSTM             | 9.3 K  | train\n",
      "6 | V               | Linear           | 26     | train\n",
      "-------------------------------------------------------------\n",
      "9.3 K     Trainable params\n",
      "0         Non-trainable params\n",
      "9.3 K     Total params\n",
      "0.037     Total estimated model params size (MB)\n",
      "7         Modules in train mode\n",
      "0         Modules in eval mode\n"
     ]
    },
    {
     "name": "stdout",
     "output_type": "stream",
     "text": [
      "Epoch 99: 100%|██████████| 9/9 [00:00<00:00, 94.61it/s, train_loss=0.0772] "
     ]
    },
    {
     "name": "stderr",
     "output_type": "stream",
     "text": [
      "`Trainer.fit` stopped: `max_epochs=100` reached.\n"
     ]
    },
    {
     "name": "stdout",
     "output_type": "stream",
     "text": [
      "Epoch 99: 100%|██████████| 9/9 [00:00<00:00, 94.61it/s, train_loss=0.0772]\n",
      " saved.\n"
     ]
    },
    {
     "name": "stderr",
     "output_type": "stream",
     "text": [
      "GPU available: False, used: False\n",
      "TPU available: False, using: 0 TPU cores\n",
      "HPU available: False, using: 0 HPUs\n"
     ]
    },
    {
     "name": "stdout",
     "output_type": "stream",
     "text": [
      "Predicting DataLoader 0: 100%|██████████| 1/1 [00:00<00:00, 62.21it/s]\n",
      "negative corr\n",
      "std_p: 0.44, corr: 0.56, rmse: 0.94, mae_v: 0.73,sm: 128.40 - ExtraTF \n",
      "std_p: 0.91, corr: 0.93, rmse: 0.39, mae_v: 0.30,sm: 60.94 - RandomRF \n",
      "std_p: 0.69, corr: 0.91, rmse: 0.51, mae_v: 0.41,sm: 65.34 - SVR \n",
      "std_p: 1.03, corr: 0.95, rmse: 0.34, mae_v: 0.25,sm: 45.46 - LSTM \n",
      "std_p: 1.24, corr: 0.66, rmse: 1.17, mae_v: 1.01,sm: 107.47 - WBBLSTM \n",
      "✔️ Done with 40712 | 12\n",
      "\n",
      "\n",
      "=== Station 40712 | 24 ===\n",
      "!!!@@@------Training ExtraTF… saved.\n",
      "!!!@@@------Training RandomRF… saved.\n"
     ]
    },
    {
     "name": "stderr",
     "output_type": "stream",
     "text": [
      "ignoring user defined `output_chunk_length`. RNNModel uses a fixed `output_chunk_length=1`.\n",
      "GPU available: False, used: False\n",
      "TPU available: False, using: 0 TPU cores\n",
      "HPU available: False, using: 0 HPUs\n",
      "\n",
      "  | Name            | Type             | Params | Mode \n",
      "-------------------------------------------------------------\n",
      "0 | criterion       | MSELoss          | 0      | train\n",
      "1 | train_criterion | MSELoss          | 0      | train\n",
      "2 | val_criterion   | MSELoss          | 0      | train\n",
      "3 | train_metrics   | MetricCollection | 0      | train\n",
      "4 | val_metrics     | MetricCollection | 0      | train\n",
      "5 | rnn             | LSTM             | 9.3 K  | train\n",
      "6 | V               | Linear           | 26     | train\n",
      "-------------------------------------------------------------\n",
      "9.3 K     Trainable params\n",
      "0         Non-trainable params\n",
      "9.3 K     Total params\n",
      "0.037     Total estimated model params size (MB)\n",
      "7         Modules in train mode\n",
      "0         Modules in eval mode\n"
     ]
    },
    {
     "name": "stdout",
     "output_type": "stream",
     "text": [
      "!!!@@@------Training SVR… saved.\n",
      "Epoch 99: 100%|██████████| 18/18 [00:00<00:00, 100.65it/s, train_loss=0.00692]"
     ]
    },
    {
     "name": "stderr",
     "output_type": "stream",
     "text": [
      "`Trainer.fit` stopped: `max_epochs=100` reached.\n"
     ]
    },
    {
     "name": "stdout",
     "output_type": "stream",
     "text": [
      "Epoch 99: 100%|██████████| 18/18 [00:00<00:00, 94.20it/s, train_loss=0.00692] \n",
      " saved.\n"
     ]
    },
    {
     "name": "stderr",
     "output_type": "stream",
     "text": [
      "GPU available: False, used: False\n",
      "TPU available: False, using: 0 TPU cores\n",
      "HPU available: False, using: 0 HPUs\n"
     ]
    },
    {
     "name": "stdout",
     "output_type": "stream",
     "text": [
      "Predicting DataLoader 0: 100%|██████████| 1/1 [00:00<00:00, 83.15it/s]\n",
      "!!!@@@------Training WBBLSTM…"
     ]
    },
    {
     "name": "stderr",
     "output_type": "stream",
     "text": [
      "ignoring user defined `output_chunk_length`. RNNModel uses a fixed `output_chunk_length=1`.\n",
      "GPU available: False, used: False\n",
      "TPU available: False, using: 0 TPU cores\n",
      "HPU available: False, using: 0 HPUs\n",
      "\n",
      "  | Name            | Type             | Params | Mode \n",
      "-------------------------------------------------------------\n",
      "0 | criterion       | MSELoss          | 0      | train\n",
      "1 | train_criterion | MSELoss          | 0      | train\n",
      "2 | val_criterion   | MSELoss          | 0      | train\n",
      "3 | train_metrics   | MetricCollection | 0      | train\n",
      "4 | val_metrics     | MetricCollection | 0      | train\n",
      "5 | rnn             | LSTM             | 9.3 K  | train\n",
      "6 | V               | Linear           | 26     | train\n",
      "-------------------------------------------------------------\n",
      "9.3 K     Trainable params\n",
      "0         Non-trainable params\n",
      "9.3 K     Total params\n",
      "0.037     Total estimated model params size (MB)\n",
      "7         Modules in train mode\n",
      "0         Modules in eval mode\n"
     ]
    },
    {
     "name": "stdout",
     "output_type": "stream",
     "text": [
      "Epoch 99: 100%|██████████| 8/8 [00:00<00:00, 101.01it/s, train_loss=0.0572]"
     ]
    },
    {
     "name": "stderr",
     "output_type": "stream",
     "text": [
      "`Trainer.fit` stopped: `max_epochs=100` reached.\n"
     ]
    },
    {
     "name": "stdout",
     "output_type": "stream",
     "text": [
      "Epoch 99: 100%|██████████| 8/8 [00:00<00:00, 101.01it/s, train_loss=0.0572]\n",
      " saved.\n"
     ]
    },
    {
     "name": "stderr",
     "output_type": "stream",
     "text": [
      "GPU available: False, used: False\n",
      "TPU available: False, using: 0 TPU cores\n",
      "HPU available: False, using: 0 HPUs\n"
     ]
    },
    {
     "name": "stdout",
     "output_type": "stream",
     "text": [
      "Predicting DataLoader 0: 100%|██████████| 1/1 [00:00<00:00, 332.83it/s]\n",
      "negative corr\n",
      "std_p: 0.38, corr: 0.71, rmse: 0.88, mae_v: 0.64,sm: 105.44 - ExtraTF \n",
      "std_p: 0.92, corr: 0.96, rmse: 0.28, mae_v: 0.21,sm: 41.75 - RandomRF \n",
      "std_p: 0.63, corr: 0.88, rmse: 0.55, mae_v: 0.45,sm: 82.79 - SVR \n",
      "std_p: 1.07, corr: 0.96, rmse: 0.32, mae_v: 0.23,sm: 52.37 - LSTM \n",
      "std_p: 0.22, corr: 0.73, rmse: 0.87, mae_v: 0.79,sm: 155.63 - WBBLSTM \n",
      "✔️ Done with 40712 | 24\n",
      "\n",
      "📄 Results saved as CSV: results\\results_summary.csv\n",
      "\n",
      "=== Station 40713 | 1 ===\n",
      "!!!@@@------Training ExtraTF… saved.\n",
      "!!!@@@------Training RandomRF… saved.\n"
     ]
    },
    {
     "name": "stderr",
     "output_type": "stream",
     "text": [
      "ignoring user defined `output_chunk_length`. RNNModel uses a fixed `output_chunk_length=1`.\n",
      "GPU available: False, used: False\n",
      "TPU available: False, using: 0 TPU cores\n",
      "HPU available: False, using: 0 HPUs\n",
      "\n",
      "  | Name            | Type             | Params | Mode \n",
      "-------------------------------------------------------------\n",
      "0 | criterion       | MSELoss          | 0      | train\n",
      "1 | train_criterion | MSELoss          | 0      | train\n",
      "2 | val_criterion   | MSELoss          | 0      | train\n",
      "3 | train_metrics   | MetricCollection | 0      | train\n",
      "4 | val_metrics     | MetricCollection | 0      | train\n",
      "5 | rnn             | LSTM             | 9.3 K  | train\n",
      "6 | V               | Linear           | 26     | train\n",
      "-------------------------------------------------------------\n",
      "9.3 K     Trainable params\n",
      "0         Non-trainable params\n",
      "9.3 K     Total params\n",
      "0.037     Total estimated model params size (MB)\n",
      "7         Modules in train mode\n",
      "0         Modules in eval mode\n"
     ]
    },
    {
     "name": "stdout",
     "output_type": "stream",
     "text": [
      "!!!@@@------Training SVR… saved.\n",
      "Epoch 99: 100%|██████████| 19/19 [00:00<00:00, 100.40it/s, train_loss=0.0109]"
     ]
    },
    {
     "name": "stderr",
     "output_type": "stream",
     "text": [
      "`Trainer.fit` stopped: `max_epochs=100` reached.\n"
     ]
    },
    {
     "name": "stdout",
     "output_type": "stream",
     "text": [
      "Epoch 99: 100%|██████████| 19/19 [00:00<00:00, 100.40it/s, train_loss=0.0109]\n",
      " saved.\n"
     ]
    },
    {
     "name": "stderr",
     "output_type": "stream",
     "text": [
      "GPU available: False, used: False\n",
      "TPU available: False, using: 0 TPU cores\n",
      "HPU available: False, using: 0 HPUs\n"
     ]
    },
    {
     "name": "stdout",
     "output_type": "stream",
     "text": [
      "Predicting DataLoader 0: 100%|██████████| 1/1 [00:00<00:00, 91.89it/s]"
     ]
    },
    {
     "name": "stderr",
     "output_type": "stream",
     "text": [
      "ignoring user defined `output_chunk_length`. RNNModel uses a fixed `output_chunk_length=1`.\n"
     ]
    },
    {
     "name": "stdout",
     "output_type": "stream",
     "text": [
      "\n",
      "!!!@@@------Training WBBLSTM…"
     ]
    },
    {
     "name": "stderr",
     "output_type": "stream",
     "text": [
      "GPU available: False, used: False\n",
      "TPU available: False, using: 0 TPU cores\n",
      "HPU available: False, using: 0 HPUs\n",
      "\n",
      "  | Name            | Type             | Params | Mode \n",
      "-------------------------------------------------------------\n",
      "0 | criterion       | MSELoss          | 0      | train\n",
      "1 | train_criterion | MSELoss          | 0      | train\n",
      "2 | val_criterion   | MSELoss          | 0      | train\n",
      "3 | train_metrics   | MetricCollection | 0      | train\n",
      "4 | val_metrics     | MetricCollection | 0      | train\n",
      "5 | rnn             | LSTM             | 9.3 K  | train\n",
      "6 | V               | Linear           | 26     | train\n",
      "-------------------------------------------------------------\n",
      "9.3 K     Trainable params\n",
      "0         Non-trainable params\n",
      "9.3 K     Total params\n",
      "0.037     Total estimated model params size (MB)\n",
      "7         Modules in train mode\n",
      "0         Modules in eval mode\n"
     ]
    },
    {
     "name": "stdout",
     "output_type": "stream",
     "text": [
      "Epoch 99: 100%|██████████| 9/9 [00:00<00:00, 80.86it/s, train_loss=0.0454] "
     ]
    },
    {
     "name": "stderr",
     "output_type": "stream",
     "text": [
      "`Trainer.fit` stopped: `max_epochs=100` reached.\n"
     ]
    },
    {
     "name": "stdout",
     "output_type": "stream",
     "text": [
      "Epoch 99: 100%|██████████| 9/9 [00:00<00:00, 79.43it/s, train_loss=0.0454]\n",
      " saved.\n"
     ]
    },
    {
     "name": "stderr",
     "output_type": "stream",
     "text": [
      "GPU available: False, used: False\n",
      "TPU available: False, using: 0 TPU cores\n",
      "HPU available: False, using: 0 HPUs\n"
     ]
    },
    {
     "name": "stdout",
     "output_type": "stream",
     "text": [
      "Predicting DataLoader 0: 100%|██████████| 1/1 [00:00<00:00, 53.52it/s]\n",
      "negative corr\n",
      "std_p: 0.45, corr: 0.65, rmse: 0.43, mae_v: 0.32,sm: 89.80 - ExtraTF \n",
      "std_p: 0.39, corr: 0.73, rmse: 0.38, mae_v: 0.29,sm: 85.95 - RandomRF \n",
      "std_p: 0.40, corr: 0.72, rmse: 0.39, mae_v: 0.29,sm: 85.67 - SVR \n",
      "std_p: 0.52, corr: 0.80, rmse: 0.35, mae_v: 0.27,sm: 86.66 - LSTM \n",
      "std_p: 0.39, corr: 0.14, rmse: 0.63, mae_v: 0.51,sm: 134.84 - WBBLSTM \n",
      "✔️ Done with 40713 | 1\n",
      "\n",
      "\n",
      "=== Station 40713 | 3 ===\n",
      "!!!@@@------Training ExtraTF… saved.\n",
      "!!!@@@------Training RandomRF… saved.\n"
     ]
    },
    {
     "name": "stderr",
     "output_type": "stream",
     "text": [
      "ignoring user defined `output_chunk_length`. RNNModel uses a fixed `output_chunk_length=1`.\n",
      "GPU available: False, used: False\n",
      "TPU available: False, using: 0 TPU cores\n",
      "HPU available: False, using: 0 HPUs\n",
      "\n",
      "  | Name            | Type             | Params | Mode \n",
      "-------------------------------------------------------------\n",
      "0 | criterion       | MSELoss          | 0      | train\n",
      "1 | train_criterion | MSELoss          | 0      | train\n",
      "2 | val_criterion   | MSELoss          | 0      | train\n",
      "3 | train_metrics   | MetricCollection | 0      | train\n",
      "4 | val_metrics     | MetricCollection | 0      | train\n",
      "5 | rnn             | LSTM             | 9.3 K  | train\n",
      "6 | V               | Linear           | 26     | train\n",
      "-------------------------------------------------------------\n",
      "9.3 K     Trainable params\n",
      "0         Non-trainable params\n",
      "9.3 K     Total params\n",
      "0.037     Total estimated model params size (MB)\n",
      "7         Modules in train mode\n",
      "0         Modules in eval mode\n"
     ]
    },
    {
     "name": "stdout",
     "output_type": "stream",
     "text": [
      "!!!@@@------Training SVR… saved.\n",
      "Epoch 99: 100%|██████████| 19/19 [00:00<00:00, 90.50it/s, train_loss=0.0108]  "
     ]
    },
    {
     "name": "stderr",
     "output_type": "stream",
     "text": [
      "`Trainer.fit` stopped: `max_epochs=100` reached.\n"
     ]
    },
    {
     "name": "stdout",
     "output_type": "stream",
     "text": [
      "Epoch 99: 100%|██████████| 19/19 [00:00<00:00, 89.06it/s, train_loss=0.0108]\n",
      " saved.\n"
     ]
    },
    {
     "name": "stderr",
     "output_type": "stream",
     "text": [
      "GPU available: False, used: False\n",
      "TPU available: False, using: 0 TPU cores\n",
      "HPU available: False, using: 0 HPUs\n"
     ]
    },
    {
     "name": "stdout",
     "output_type": "stream",
     "text": [
      "Predicting DataLoader 0: 100%|██████████| 1/1 [00:00<00:00, 72.61it/s]"
     ]
    },
    {
     "name": "stderr",
     "output_type": "stream",
     "text": [
      "ignoring user defined `output_chunk_length`. RNNModel uses a fixed `output_chunk_length=1`.\n"
     ]
    },
    {
     "name": "stdout",
     "output_type": "stream",
     "text": [
      "\n",
      "!!!@@@------Training WBBLSTM…"
     ]
    },
    {
     "name": "stderr",
     "output_type": "stream",
     "text": [
      "GPU available: False, used: False\n",
      "TPU available: False, using: 0 TPU cores\n",
      "HPU available: False, using: 0 HPUs\n",
      "\n",
      "  | Name            | Type             | Params | Mode \n",
      "-------------------------------------------------------------\n",
      "0 | criterion       | MSELoss          | 0      | train\n",
      "1 | train_criterion | MSELoss          | 0      | train\n",
      "2 | val_criterion   | MSELoss          | 0      | train\n",
      "3 | train_metrics   | MetricCollection | 0      | train\n",
      "4 | val_metrics     | MetricCollection | 0      | train\n",
      "5 | rnn             | LSTM             | 9.3 K  | train\n",
      "6 | V               | Linear           | 26     | train\n",
      "-------------------------------------------------------------\n",
      "9.3 K     Trainable params\n",
      "0         Non-trainable params\n",
      "9.3 K     Total params\n",
      "0.037     Total estimated model params size (MB)\n",
      "7         Modules in train mode\n",
      "0         Modules in eval mode\n"
     ]
    },
    {
     "name": "stdout",
     "output_type": "stream",
     "text": [
      "Epoch 99: 100%|██████████| 9/9 [00:00<00:00, 101.78it/s, train_loss=0.046] "
     ]
    },
    {
     "name": "stderr",
     "output_type": "stream",
     "text": [
      "`Trainer.fit` stopped: `max_epochs=100` reached.\n"
     ]
    },
    {
     "name": "stdout",
     "output_type": "stream",
     "text": [
      "Epoch 99: 100%|██████████| 9/9 [00:00<00:00, 101.78it/s, train_loss=0.046]\n",
      " saved.\n"
     ]
    },
    {
     "name": "stderr",
     "output_type": "stream",
     "text": [
      "GPU available: False, used: False\n",
      "TPU available: False, using: 0 TPU cores\n",
      "HPU available: False, using: 0 HPUs\n"
     ]
    },
    {
     "name": "stdout",
     "output_type": "stream",
     "text": [
      "Predicting DataLoader 0: 100%|██████████| 1/1 [00:00<00:00, 61.27it/s]\n",
      "negative corr\n",
      "std_p: 0.50, corr: 0.45, rmse: 0.54, mae_v: 0.43,sm: 121.07 - ExtraTF \n",
      "std_p: 0.35, corr: 0.60, rmse: 0.42, mae_v: 0.31,sm: 102.81 - RandomRF \n",
      "std_p: 0.19, corr: 0.56, rmse: 0.45, mae_v: 0.31,sm: 113.09 - SVR \n",
      "std_p: 0.53, corr: 0.84, rmse: 0.30, mae_v: 0.20,sm: 66.91 - LSTM \n",
      "std_p: 0.39, corr: 0.12, rmse: 0.62, mae_v: 0.50,sm: 138.26 - WBBLSTM \n",
      "✔️ Done with 40713 | 3\n",
      "\n",
      "\n",
      "=== Station 40713 | 6 ===\n",
      "!!!@@@------Training ExtraTF… saved.\n",
      "!!!@@@------Training RandomRF… saved.\n"
     ]
    },
    {
     "name": "stderr",
     "output_type": "stream",
     "text": [
      "ignoring user defined `output_chunk_length`. RNNModel uses a fixed `output_chunk_length=1`.\n",
      "GPU available: False, used: False\n",
      "TPU available: False, using: 0 TPU cores\n",
      "HPU available: False, using: 0 HPUs\n",
      "\n",
      "  | Name            | Type             | Params | Mode \n",
      "-------------------------------------------------------------\n",
      "0 | criterion       | MSELoss          | 0      | train\n",
      "1 | train_criterion | MSELoss          | 0      | train\n",
      "2 | val_criterion   | MSELoss          | 0      | train\n",
      "3 | train_metrics   | MetricCollection | 0      | train\n",
      "4 | val_metrics     | MetricCollection | 0      | train\n",
      "5 | rnn             | LSTM             | 9.3 K  | train\n",
      "6 | V               | Linear           | 26     | train\n",
      "-------------------------------------------------------------\n",
      "9.3 K     Trainable params\n",
      "0         Non-trainable params\n",
      "9.3 K     Total params\n",
      "0.037     Total estimated model params size (MB)\n",
      "7         Modules in train mode\n",
      "0         Modules in eval mode\n"
     ]
    },
    {
     "name": "stdout",
     "output_type": "stream",
     "text": [
      "!!!@@@------Training SVR… saved.\n",
      "Epoch 99: 100%|██████████| 19/19 [00:00<00:00, 99.73it/s, train_loss=0.0214]  "
     ]
    },
    {
     "name": "stderr",
     "output_type": "stream",
     "text": [
      "`Trainer.fit` stopped: `max_epochs=100` reached.\n"
     ]
    },
    {
     "name": "stdout",
     "output_type": "stream",
     "text": [
      "Epoch 99: 100%|██████████| 19/19 [00:00<00:00, 99.73it/s, train_loss=0.0214]\n",
      " saved.\n"
     ]
    },
    {
     "name": "stderr",
     "output_type": "stream",
     "text": [
      "GPU available: False, used: False\n",
      "TPU available: False, using: 0 TPU cores\n",
      "HPU available: False, using: 0 HPUs\n"
     ]
    },
    {
     "name": "stdout",
     "output_type": "stream",
     "text": [
      "Predicting DataLoader 0: 100%|██████████| 1/1 [00:00<00:00, 63.61it/s]"
     ]
    },
    {
     "name": "stderr",
     "output_type": "stream",
     "text": [
      "ignoring user defined `output_chunk_length`. RNNModel uses a fixed `output_chunk_length=1`.\n"
     ]
    },
    {
     "name": "stdout",
     "output_type": "stream",
     "text": [
      "\n",
      "!!!@@@------Training WBBLSTM…"
     ]
    },
    {
     "name": "stderr",
     "output_type": "stream",
     "text": [
      "GPU available: False, used: False\n",
      "TPU available: False, using: 0 TPU cores\n",
      "HPU available: False, using: 0 HPUs\n",
      "\n",
      "  | Name            | Type             | Params | Mode \n",
      "-------------------------------------------------------------\n",
      "0 | criterion       | MSELoss          | 0      | train\n",
      "1 | train_criterion | MSELoss          | 0      | train\n",
      "2 | val_criterion   | MSELoss          | 0      | train\n",
      "3 | train_metrics   | MetricCollection | 0      | train\n",
      "4 | val_metrics     | MetricCollection | 0      | train\n",
      "5 | rnn             | LSTM             | 9.3 K  | train\n",
      "6 | V               | Linear           | 26     | train\n",
      "-------------------------------------------------------------\n",
      "9.3 K     Trainable params\n",
      "0         Non-trainable params\n",
      "9.3 K     Total params\n",
      "0.037     Total estimated model params size (MB)\n",
      "7         Modules in train mode\n",
      "0         Modules in eval mode\n"
     ]
    },
    {
     "name": "stdout",
     "output_type": "stream",
     "text": [
      "Epoch 99: 100%|██████████| 9/9 [00:00<00:00, 101.75it/s, train_loss=0.0545]"
     ]
    },
    {
     "name": "stderr",
     "output_type": "stream",
     "text": [
      "`Trainer.fit` stopped: `max_epochs=100` reached.\n"
     ]
    },
    {
     "name": "stdout",
     "output_type": "stream",
     "text": [
      "Epoch 99: 100%|██████████| 9/9 [00:00<00:00, 94.77it/s, train_loss=0.0545] \n",
      " saved.\n"
     ]
    },
    {
     "name": "stderr",
     "output_type": "stream",
     "text": [
      "GPU available: False, used: False\n",
      "TPU available: False, using: 0 TPU cores\n",
      "HPU available: False, using: 0 HPUs\n"
     ]
    },
    {
     "name": "stdout",
     "output_type": "stream",
     "text": [
      "Predicting DataLoader 0: 100%|██████████| 1/1 [00:00<?, ?it/s]\n",
      "std_p: 0.57, corr: 0.71, rmse: 0.48, mae_v: 0.37,sm: 80.88 - ExtraTF \n",
      "std_p: 0.46, corr: 0.82, rmse: 0.37, mae_v: 0.27,sm: 69.48 - RandomRF \n",
      "std_p: 0.33, corr: 0.73, rmse: 0.47, mae_v: 0.35,sm: 96.44 - SVR \n",
      "std_p: 0.57, corr: 0.90, rmse: 0.28, mae_v: 0.22,sm: 72.43 - LSTM \n",
      "std_p: 0.39, corr: 0.41, rmse: 0.85, mae_v: 0.68,sm: 136.16 - WBBLSTM \n",
      "✔️ Done with 40713 | 6\n",
      "\n",
      "\n",
      "=== Station 40713 | 9 ===\n",
      "!!!@@@------Training ExtraTF… saved.\n",
      "!!!@@@------Training RandomRF… saved.\n"
     ]
    },
    {
     "name": "stderr",
     "output_type": "stream",
     "text": [
      "ignoring user defined `output_chunk_length`. RNNModel uses a fixed `output_chunk_length=1`.\n",
      "GPU available: False, used: False\n",
      "TPU available: False, using: 0 TPU cores\n",
      "HPU available: False, using: 0 HPUs\n",
      "\n",
      "  | Name            | Type             | Params | Mode \n",
      "-------------------------------------------------------------\n",
      "0 | criterion       | MSELoss          | 0      | train\n",
      "1 | train_criterion | MSELoss          | 0      | train\n",
      "2 | val_criterion   | MSELoss          | 0      | train\n",
      "3 | train_metrics   | MetricCollection | 0      | train\n",
      "4 | val_metrics     | MetricCollection | 0      | train\n",
      "5 | rnn             | LSTM             | 9.3 K  | train\n",
      "6 | V               | Linear           | 26     | train\n",
      "-------------------------------------------------------------\n",
      "9.3 K     Trainable params\n",
      "0         Non-trainable params\n",
      "9.3 K     Total params\n",
      "0.037     Total estimated model params size (MB)\n",
      "7         Modules in train mode\n",
      "0         Modules in eval mode\n"
     ]
    },
    {
     "name": "stdout",
     "output_type": "stream",
     "text": [
      "!!!@@@------Training SVR… saved.\n",
      "Epoch 99: 100%|██████████| 18/18 [00:00<00:00, 92.66it/s, train_loss=0.0122]  "
     ]
    },
    {
     "name": "stderr",
     "output_type": "stream",
     "text": [
      "`Trainer.fit` stopped: `max_epochs=100` reached.\n"
     ]
    },
    {
     "name": "stdout",
     "output_type": "stream",
     "text": [
      "Epoch 99: 100%|██████████| 18/18 [00:00<00:00, 92.66it/s, train_loss=0.0122]\n",
      " saved.\n"
     ]
    },
    {
     "name": "stderr",
     "output_type": "stream",
     "text": [
      "GPU available: False, used: False\n",
      "TPU available: False, using: 0 TPU cores\n",
      "HPU available: False, using: 0 HPUs\n"
     ]
    },
    {
     "name": "stdout",
     "output_type": "stream",
     "text": [
      "Predicting DataLoader 0: 100%|██████████| 1/1 [00:00<00:00, 101.78it/s]"
     ]
    },
    {
     "name": "stderr",
     "output_type": "stream",
     "text": [
      "ignoring user defined `output_chunk_length`. RNNModel uses a fixed `output_chunk_length=1`.\n"
     ]
    },
    {
     "name": "stdout",
     "output_type": "stream",
     "text": [
      "\n",
      "!!!@@@------Training WBBLSTM…"
     ]
    },
    {
     "name": "stderr",
     "output_type": "stream",
     "text": [
      "GPU available: False, used: False\n",
      "TPU available: False, using: 0 TPU cores\n",
      "HPU available: False, using: 0 HPUs\n",
      "\n",
      "  | Name            | Type             | Params | Mode \n",
      "-------------------------------------------------------------\n",
      "0 | criterion       | MSELoss          | 0      | train\n",
      "1 | train_criterion | MSELoss          | 0      | train\n",
      "2 | val_criterion   | MSELoss          | 0      | train\n",
      "3 | train_metrics   | MetricCollection | 0      | train\n",
      "4 | val_metrics     | MetricCollection | 0      | train\n",
      "5 | rnn             | LSTM             | 9.3 K  | train\n",
      "6 | V               | Linear           | 26     | train\n",
      "-------------------------------------------------------------\n",
      "9.3 K     Trainable params\n",
      "0         Non-trainable params\n",
      "9.3 K     Total params\n",
      "0.037     Total estimated model params size (MB)\n",
      "7         Modules in train mode\n",
      "0         Modules in eval mode\n"
     ]
    },
    {
     "name": "stdout",
     "output_type": "stream",
     "text": [
      "Epoch 99: 100%|██████████| 9/9 [00:00<00:00, 95.49it/s, train_loss=0.124]  "
     ]
    },
    {
     "name": "stderr",
     "output_type": "stream",
     "text": [
      "`Trainer.fit` stopped: `max_epochs=100` reached.\n"
     ]
    },
    {
     "name": "stdout",
     "output_type": "stream",
     "text": [
      "Epoch 99: 100%|██████████| 9/9 [00:00<00:00, 95.49it/s, train_loss=0.124]\n",
      " saved.\n"
     ]
    },
    {
     "name": "stderr",
     "output_type": "stream",
     "text": [
      "GPU available: False, used: False\n",
      "TPU available: False, using: 0 TPU cores\n",
      "HPU available: False, using: 0 HPUs\n"
     ]
    },
    {
     "name": "stdout",
     "output_type": "stream",
     "text": [
      "Predicting DataLoader 0: 100%|██████████| 1/1 [00:00<00:00, 76.67it/s]\n",
      "std_p: 0.52, corr: 0.63, rmse: 0.65, mae_v: 0.52,sm: 107.62 - ExtraTF \n",
      "std_p: 0.61, corr: 0.90, rmse: 0.33, mae_v: 0.26,sm: 59.50 - RandomRF \n",
      "std_p: 0.45, corr: 0.82, rmse: 0.47, mae_v: 0.37,sm: 82.92 - SVR \n",
      "std_p: 0.73, corr: 0.94, rmse: 0.26, mae_v: 0.21,sm: 50.89 - LSTM \n",
      "std_p: 0.50, corr: 0.13, rmse: 0.96, mae_v: 0.80,sm: 156.27 - WBBLSTM \n",
      "✔️ Done with 40713 | 9\n",
      "\n",
      "\n",
      "=== Station 40713 | 12 ===\n",
      "!!!@@@------Training ExtraTF… saved.\n",
      "!!!@@@------Training RandomRF… saved.\n"
     ]
    },
    {
     "name": "stderr",
     "output_type": "stream",
     "text": [
      "ignoring user defined `output_chunk_length`. RNNModel uses a fixed `output_chunk_length=1`.\n",
      "GPU available: False, used: False\n",
      "TPU available: False, using: 0 TPU cores\n",
      "HPU available: False, using: 0 HPUs\n",
      "\n",
      "  | Name            | Type             | Params | Mode \n",
      "-------------------------------------------------------------\n",
      "0 | criterion       | MSELoss          | 0      | train\n",
      "1 | train_criterion | MSELoss          | 0      | train\n",
      "2 | val_criterion   | MSELoss          | 0      | train\n",
      "3 | train_metrics   | MetricCollection | 0      | train\n",
      "4 | val_metrics     | MetricCollection | 0      | train\n",
      "5 | rnn             | LSTM             | 9.3 K  | train\n",
      "6 | V               | Linear           | 26     | train\n",
      "-------------------------------------------------------------\n",
      "9.3 K     Trainable params\n",
      "0         Non-trainable params\n",
      "9.3 K     Total params\n",
      "0.037     Total estimated model params size (MB)\n",
      "7         Modules in train mode\n",
      "0         Modules in eval mode\n"
     ]
    },
    {
     "name": "stdout",
     "output_type": "stream",
     "text": [
      "!!!@@@------Training SVR… saved.\n",
      "Epoch 99: 100%|██████████| 18/18 [00:00<00:00, 99.14it/s, train_loss=0.0162] "
     ]
    },
    {
     "name": "stderr",
     "output_type": "stream",
     "text": [
      "`Trainer.fit` stopped: `max_epochs=100` reached.\n"
     ]
    },
    {
     "name": "stdout",
     "output_type": "stream",
     "text": [
      "Epoch 99: 100%|██████████| 18/18 [00:00<00:00, 99.14it/s, train_loss=0.0162]\n",
      " saved.\n"
     ]
    },
    {
     "name": "stderr",
     "output_type": "stream",
     "text": [
      "GPU available: False, used: False\n",
      "TPU available: False, using: 0 TPU cores\n",
      "HPU available: False, using: 0 HPUs\n"
     ]
    },
    {
     "name": "stdout",
     "output_type": "stream",
     "text": [
      "Predicting DataLoader 0: 100%|██████████| 1/1 [00:00<00:00, 100.24it/s]"
     ]
    },
    {
     "name": "stderr",
     "output_type": "stream",
     "text": [
      "ignoring user defined `output_chunk_length`. RNNModel uses a fixed `output_chunk_length=1`.\n"
     ]
    },
    {
     "name": "stdout",
     "output_type": "stream",
     "text": [
      "\n",
      "!!!@@@------Training WBBLSTM…"
     ]
    },
    {
     "name": "stderr",
     "output_type": "stream",
     "text": [
      "GPU available: False, used: False\n",
      "TPU available: False, using: 0 TPU cores\n",
      "HPU available: False, using: 0 HPUs\n",
      "\n",
      "  | Name            | Type             | Params | Mode \n",
      "-------------------------------------------------------------\n",
      "0 | criterion       | MSELoss          | 0      | train\n",
      "1 | train_criterion | MSELoss          | 0      | train\n",
      "2 | val_criterion   | MSELoss          | 0      | train\n",
      "3 | train_metrics   | MetricCollection | 0      | train\n",
      "4 | val_metrics     | MetricCollection | 0      | train\n",
      "5 | rnn             | LSTM             | 9.3 K  | train\n",
      "6 | V               | Linear           | 26     | train\n",
      "-------------------------------------------------------------\n",
      "9.3 K     Trainable params\n",
      "0         Non-trainable params\n",
      "9.3 K     Total params\n",
      "0.037     Total estimated model params size (MB)\n",
      "7         Modules in train mode\n",
      "0         Modules in eval mode\n"
     ]
    },
    {
     "name": "stdout",
     "output_type": "stream",
     "text": [
      "Epoch 99: 100%|██████████| 9/9 [00:00<00:00, 94.14it/s, train_loss=0.0501] "
     ]
    },
    {
     "name": "stderr",
     "output_type": "stream",
     "text": [
      "`Trainer.fit` stopped: `max_epochs=100` reached.\n"
     ]
    },
    {
     "name": "stdout",
     "output_type": "stream",
     "text": [
      "Epoch 99: 100%|██████████| 9/9 [00:00<00:00, 94.14it/s, train_loss=0.0501]\n",
      " saved.\n"
     ]
    },
    {
     "name": "stderr",
     "output_type": "stream",
     "text": [
      "GPU available: False, used: False\n",
      "TPU available: False, using: 0 TPU cores\n",
      "HPU available: False, using: 0 HPUs\n"
     ]
    },
    {
     "name": "stdout",
     "output_type": "stream",
     "text": [
      "Predicting DataLoader 0: 100%|██████████| 1/1 [00:00<00:00, 136.78it/s]\n",
      "std_p: 0.64, corr: 0.91, rmse: 0.36, mae_v: 0.28,sm: 55.50 - ExtraTF \n",
      "std_p: 0.69, corr: 0.92, rmse: 0.34, mae_v: 0.28,sm: 51.67 - RandomRF \n",
      "std_p: 0.56, corr: 0.87, rmse: 0.45, mae_v: 0.37,sm: 77.14 - SVR \n",
      "std_p: 0.77, corr: 0.95, rmse: 0.26, mae_v: 0.20,sm: 42.69 - LSTM \n",
      "std_p: 0.35, corr: 0.43, rmse: 1.04, mae_v: 0.87,sm: 107.85 - WBBLSTM \n",
      "✔️ Done with 40713 | 12\n",
      "\n",
      "\n",
      "=== Station 40713 | 24 ===\n",
      "!!!@@@------Training ExtraTF… saved.\n",
      "!!!@@@------Training RandomRF… saved.\n"
     ]
    },
    {
     "name": "stderr",
     "output_type": "stream",
     "text": [
      "ignoring user defined `output_chunk_length`. RNNModel uses a fixed `output_chunk_length=1`.\n",
      "GPU available: False, used: False\n",
      "TPU available: False, using: 0 TPU cores\n",
      "HPU available: False, using: 0 HPUs\n",
      "\n",
      "  | Name            | Type             | Params | Mode \n",
      "-------------------------------------------------------------\n",
      "0 | criterion       | MSELoss          | 0      | train\n",
      "1 | train_criterion | MSELoss          | 0      | train\n",
      "2 | val_criterion   | MSELoss          | 0      | train\n",
      "3 | train_metrics   | MetricCollection | 0      | train\n",
      "4 | val_metrics     | MetricCollection | 0      | train\n",
      "5 | rnn             | LSTM             | 9.3 K  | train\n",
      "6 | V               | Linear           | 26     | train\n",
      "-------------------------------------------------------------\n",
      "9.3 K     Trainable params\n",
      "0         Non-trainable params\n",
      "9.3 K     Total params\n",
      "0.037     Total estimated model params size (MB)\n",
      "7         Modules in train mode\n",
      "0         Modules in eval mode\n"
     ]
    },
    {
     "name": "stdout",
     "output_type": "stream",
     "text": [
      "!!!@@@------Training SVR… saved.\n",
      "Epoch 99: 100%|██████████| 18/18 [00:00<00:00, 100.47it/s, train_loss=0.0106] "
     ]
    },
    {
     "name": "stderr",
     "output_type": "stream",
     "text": [
      "`Trainer.fit` stopped: `max_epochs=100` reached.\n"
     ]
    },
    {
     "name": "stdout",
     "output_type": "stream",
     "text": [
      "Epoch 99: 100%|██████████| 18/18 [00:00<00:00, 100.47it/s, train_loss=0.0106]\n",
      " saved.\n"
     ]
    },
    {
     "name": "stderr",
     "output_type": "stream",
     "text": [
      "GPU available: False, used: False\n",
      "TPU available: False, using: 0 TPU cores\n",
      "HPU available: False, using: 0 HPUs\n"
     ]
    },
    {
     "name": "stdout",
     "output_type": "stream",
     "text": [
      "Predicting DataLoader 0: 100%|██████████| 1/1 [00:00<?, ?it/s]\n",
      "!!!@@@------Training WBBLSTM…"
     ]
    },
    {
     "name": "stderr",
     "output_type": "stream",
     "text": [
      "ignoring user defined `output_chunk_length`. RNNModel uses a fixed `output_chunk_length=1`.\n",
      "GPU available: False, used: False\n",
      "TPU available: False, using: 0 TPU cores\n",
      "HPU available: False, using: 0 HPUs\n",
      "\n",
      "  | Name            | Type             | Params | Mode \n",
      "-------------------------------------------------------------\n",
      "0 | criterion       | MSELoss          | 0      | train\n",
      "1 | train_criterion | MSELoss          | 0      | train\n",
      "2 | val_criterion   | MSELoss          | 0      | train\n",
      "3 | train_metrics   | MetricCollection | 0      | train\n",
      "4 | val_metrics     | MetricCollection | 0      | train\n",
      "5 | rnn             | LSTM             | 9.3 K  | train\n",
      "6 | V               | Linear           | 26     | train\n",
      "-------------------------------------------------------------\n",
      "9.3 K     Trainable params\n",
      "0         Non-trainable params\n",
      "9.3 K     Total params\n",
      "0.037     Total estimated model params size (MB)\n",
      "7         Modules in train mode\n",
      "0         Modules in eval mode\n"
     ]
    },
    {
     "name": "stdout",
     "output_type": "stream",
     "text": [
      "Epoch 99: 100%|██████████| 8/8 [00:00<00:00, 85.48it/s, train_loss=0.0363] "
     ]
    },
    {
     "name": "stderr",
     "output_type": "stream",
     "text": [
      "`Trainer.fit` stopped: `max_epochs=100` reached.\n"
     ]
    },
    {
     "name": "stdout",
     "output_type": "stream",
     "text": [
      "Epoch 99: 100%|██████████| 8/8 [00:00<00:00, 85.48it/s, train_loss=0.0363]\n",
      " saved.\n"
     ]
    },
    {
     "name": "stderr",
     "output_type": "stream",
     "text": [
      "GPU available: False, used: False\n",
      "TPU available: False, using: 0 TPU cores\n",
      "HPU available: False, using: 0 HPUs\n"
     ]
    },
    {
     "name": "stdout",
     "output_type": "stream",
     "text": [
      "Predicting DataLoader 0: 100%|██████████| 1/1 [00:00<00:00, 48.87it/s]\n",
      "negative corr\n",
      "std_p: 0.50, corr: 0.78, rmse: 0.65, mae_v: 0.52,sm: 88.18 - ExtraTF \n",
      "std_p: 0.75, corr: 0.95, rmse: 0.25, mae_v: 0.21,sm: 38.25 - RandomRF \n",
      "std_p: 0.55, corr: 0.91, rmse: 0.36, mae_v: 0.28,sm: 55.68 - SVR \n",
      "std_p: 0.78, corr: 0.96, rmse: 0.21, mae_v: 0.17,sm: 33.13 - LSTM \n",
      "std_p: 0.35, corr: 0.32, rmse: 1.28, mae_v: 1.07,sm: 142.69 - WBBLSTM \n",
      "✔️ Done with 40713 | 24\n",
      "\n",
      "📄 Results saved as CSV: results\\results_summary.csv\n",
      "\n",
      "=== Station 40716 | 1 ===\n",
      "!!!@@@------Training ExtraTF… saved.\n",
      "!!!@@@------Training RandomRF… saved.\n"
     ]
    },
    {
     "name": "stderr",
     "output_type": "stream",
     "text": [
      "ignoring user defined `output_chunk_length`. RNNModel uses a fixed `output_chunk_length=1`.\n",
      "GPU available: False, used: False\n",
      "TPU available: False, using: 0 TPU cores\n",
      "HPU available: False, using: 0 HPUs\n",
      "\n",
      "  | Name            | Type             | Params | Mode \n",
      "-------------------------------------------------------------\n",
      "0 | criterion       | MSELoss          | 0      | train\n",
      "1 | train_criterion | MSELoss          | 0      | train\n",
      "2 | val_criterion   | MSELoss          | 0      | train\n",
      "3 | train_metrics   | MetricCollection | 0      | train\n",
      "4 | val_metrics     | MetricCollection | 0      | train\n",
      "5 | rnn             | LSTM             | 9.3 K  | train\n",
      "6 | V               | Linear           | 26     | train\n",
      "-------------------------------------------------------------\n",
      "9.3 K     Trainable params\n",
      "0         Non-trainable params\n",
      "9.3 K     Total params\n",
      "0.037     Total estimated model params size (MB)\n",
      "7         Modules in train mode\n",
      "0         Modules in eval mode\n"
     ]
    },
    {
     "name": "stdout",
     "output_type": "stream",
     "text": [
      "!!!@@@------Training SVR… saved.\n",
      "Epoch 99: 100%|██████████| 19/19 [00:00<00:00, 94.30it/s, train_loss=0.0175] "
     ]
    },
    {
     "name": "stderr",
     "output_type": "stream",
     "text": [
      "`Trainer.fit` stopped: `max_epochs=100` reached.\n"
     ]
    },
    {
     "name": "stdout",
     "output_type": "stream",
     "text": [
      "Epoch 99: 100%|██████████| 19/19 [00:00<00:00, 93.33it/s, train_loss=0.0175]\n",
      " saved.\n"
     ]
    },
    {
     "name": "stderr",
     "output_type": "stream",
     "text": [
      "GPU available: False, used: False\n",
      "TPU available: False, using: 0 TPU cores\n",
      "HPU available: False, using: 0 HPUs\n"
     ]
    },
    {
     "name": "stdout",
     "output_type": "stream",
     "text": [
      "Predicting DataLoader 0: 100%|██████████| 1/1 [00:00<00:00, 63.66it/s]"
     ]
    },
    {
     "name": "stderr",
     "output_type": "stream",
     "text": [
      "ignoring user defined `output_chunk_length`. RNNModel uses a fixed `output_chunk_length=1`.\n"
     ]
    },
    {
     "name": "stdout",
     "output_type": "stream",
     "text": [
      "\n",
      "!!!@@@------Training WBBLSTM…"
     ]
    },
    {
     "name": "stderr",
     "output_type": "stream",
     "text": [
      "GPU available: False, used: False\n",
      "TPU available: False, using: 0 TPU cores\n",
      "HPU available: False, using: 0 HPUs\n",
      "\n",
      "  | Name            | Type             | Params | Mode \n",
      "-------------------------------------------------------------\n",
      "0 | criterion       | MSELoss          | 0      | train\n",
      "1 | train_criterion | MSELoss          | 0      | train\n",
      "2 | val_criterion   | MSELoss          | 0      | train\n",
      "3 | train_metrics   | MetricCollection | 0      | train\n",
      "4 | val_metrics     | MetricCollection | 0      | train\n",
      "5 | rnn             | LSTM             | 9.3 K  | train\n",
      "6 | V               | Linear           | 26     | train\n",
      "-------------------------------------------------------------\n",
      "9.3 K     Trainable params\n",
      "0         Non-trainable params\n",
      "9.3 K     Total params\n",
      "0.037     Total estimated model params size (MB)\n",
      "7         Modules in train mode\n",
      "0         Modules in eval mode\n"
     ]
    },
    {
     "name": "stdout",
     "output_type": "stream",
     "text": [
      "Epoch 99: 100%|██████████| 9/9 [00:00<00:00, 92.41it/s, train_loss=0.0764] "
     ]
    },
    {
     "name": "stderr",
     "output_type": "stream",
     "text": [
      "`Trainer.fit` stopped: `max_epochs=100` reached.\n"
     ]
    },
    {
     "name": "stdout",
     "output_type": "stream",
     "text": [
      "Epoch 99: 100%|██████████| 9/9 [00:00<00:00, 92.41it/s, train_loss=0.0764]\n",
      " saved.\n"
     ]
    },
    {
     "name": "stderr",
     "output_type": "stream",
     "text": [
      "GPU available: False, used: False\n",
      "TPU available: False, using: 0 TPU cores\n",
      "HPU available: False, using: 0 HPUs\n"
     ]
    },
    {
     "name": "stdout",
     "output_type": "stream",
     "text": [
      "Predicting DataLoader 0: 100%|██████████| 1/1 [00:00<00:00, 65.24it/s]\n",
      "std_p: 0.65, corr: 0.62, rmse: 0.57, mae_v: 0.44,sm: 109.61 - ExtraTF \n",
      "std_p: 0.49, corr: 0.77, rmse: 0.42, mae_v: 0.30,sm: 88.10 - RandomRF \n",
      "std_p: 0.50, corr: 0.77, rmse: 0.41, mae_v: 0.31,sm: 80.15 - SVR \n",
      "std_p: 0.61, corr: 0.90, rmse: 0.30, mae_v: 0.21,sm: 66.70 - LSTM \n",
      "std_p: 0.34, corr: 0.01, rmse: 0.75, mae_v: 0.58,sm: 140.04 - WBBLSTM \n",
      "✔️ Done with 40716 | 1\n",
      "\n",
      "\n",
      "=== Station 40716 | 3 ===\n",
      "!!!@@@------Training ExtraTF… saved.\n",
      "!!!@@@------Training RandomRF… saved.\n"
     ]
    },
    {
     "name": "stderr",
     "output_type": "stream",
     "text": [
      "ignoring user defined `output_chunk_length`. RNNModel uses a fixed `output_chunk_length=1`.\n",
      "GPU available: False, used: False\n",
      "TPU available: False, using: 0 TPU cores\n",
      "HPU available: False, using: 0 HPUs\n",
      "\n",
      "  | Name            | Type             | Params | Mode \n",
      "-------------------------------------------------------------\n",
      "0 | criterion       | MSELoss          | 0      | train\n",
      "1 | train_criterion | MSELoss          | 0      | train\n",
      "2 | val_criterion   | MSELoss          | 0      | train\n",
      "3 | train_metrics   | MetricCollection | 0      | train\n",
      "4 | val_metrics     | MetricCollection | 0      | train\n",
      "5 | rnn             | LSTM             | 9.3 K  | train\n",
      "6 | V               | Linear           | 26     | train\n",
      "-------------------------------------------------------------\n",
      "9.3 K     Trainable params\n",
      "0         Non-trainable params\n",
      "9.3 K     Total params\n",
      "0.037     Total estimated model params size (MB)\n",
      "7         Modules in train mode\n",
      "0         Modules in eval mode\n"
     ]
    },
    {
     "name": "stdout",
     "output_type": "stream",
     "text": [
      "!!!@@@------Training SVR… saved.\n",
      "Epoch 99: 100%|██████████| 19/19 [00:00<00:00, 97.94it/s, train_loss=0.0107]  "
     ]
    },
    {
     "name": "stderr",
     "output_type": "stream",
     "text": [
      "`Trainer.fit` stopped: `max_epochs=100` reached.\n"
     ]
    },
    {
     "name": "stdout",
     "output_type": "stream",
     "text": [
      "Epoch 99: 100%|██████████| 19/19 [00:00<00:00, 97.94it/s, train_loss=0.0107]"
     ]
    },
    {
     "name": "stderr",
     "output_type": "stream",
     "text": [
      "GPU available: False, used: False\n"
     ]
    },
    {
     "name": "stdout",
     "output_type": "stream",
     "text": [
      "\n",
      " saved.\n"
     ]
    },
    {
     "name": "stderr",
     "output_type": "stream",
     "text": [
      "TPU available: False, using: 0 TPU cores\n",
      "HPU available: False, using: 0 HPUs\n"
     ]
    },
    {
     "name": "stdout",
     "output_type": "stream",
     "text": [
      "Predicting DataLoader 0: 100%|██████████| 1/1 [00:00<00:00, 572.76it/s]\n",
      "!!!@@@------Training WBBLSTM…"
     ]
    },
    {
     "name": "stderr",
     "output_type": "stream",
     "text": [
      "ignoring user defined `output_chunk_length`. RNNModel uses a fixed `output_chunk_length=1`.\n",
      "GPU available: False, used: False\n",
      "TPU available: False, using: 0 TPU cores\n",
      "HPU available: False, using: 0 HPUs\n",
      "\n",
      "  | Name            | Type             | Params | Mode \n",
      "-------------------------------------------------------------\n",
      "0 | criterion       | MSELoss          | 0      | train\n",
      "1 | train_criterion | MSELoss          | 0      | train\n",
      "2 | val_criterion   | MSELoss          | 0      | train\n",
      "3 | train_metrics   | MetricCollection | 0      | train\n",
      "4 | val_metrics     | MetricCollection | 0      | train\n",
      "5 | rnn             | LSTM             | 9.3 K  | train\n",
      "6 | V               | Linear           | 26     | train\n",
      "-------------------------------------------------------------\n",
      "9.3 K     Trainable params\n",
      "0         Non-trainable params\n",
      "9.3 K     Total params\n",
      "0.037     Total estimated model params size (MB)\n",
      "7         Modules in train mode\n",
      "0         Modules in eval mode\n"
     ]
    },
    {
     "name": "stdout",
     "output_type": "stream",
     "text": [
      "Epoch 99: 100%|██████████| 9/9 [00:00<00:00, 94.72it/s, train_loss=0.0628] "
     ]
    },
    {
     "name": "stderr",
     "output_type": "stream",
     "text": [
      "`Trainer.fit` stopped: `max_epochs=100` reached.\n"
     ]
    },
    {
     "name": "stdout",
     "output_type": "stream",
     "text": [
      "Epoch 99: 100%|██████████| 9/9 [00:00<00:00, 94.72it/s, train_loss=0.0628]\n",
      " saved.\n"
     ]
    },
    {
     "name": "stderr",
     "output_type": "stream",
     "text": [
      "GPU available: False, used: False\n",
      "TPU available: False, using: 0 TPU cores\n",
      "HPU available: False, using: 0 HPUs\n"
     ]
    },
    {
     "name": "stdout",
     "output_type": "stream",
     "text": [
      "Predicting DataLoader 0: 100%|██████████| 1/1 [00:00<00:00, 89.15it/s]\n",
      "std_p: 0.51, corr: 0.50, rmse: 0.56, mae_v: 0.43,sm: 109.15 - ExtraTF \n",
      "std_p: 0.41, corr: 0.77, rmse: 0.38, mae_v: 0.29,sm: 91.93 - RandomRF \n",
      "std_p: 0.26, corr: 0.67, rmse: 0.48, mae_v: 0.38,sm: 118.69 - SVR \n",
      "std_p: 0.55, corr: 0.78, rmse: 0.38, mae_v: 0.25,sm: 72.00 - LSTM \n",
      "std_p: 0.36, corr: 0.00, rmse: 0.70, mae_v: 0.60,sm: 161.72 - WBBLSTM \n",
      "✔️ Done with 40716 | 3\n",
      "\n",
      "\n",
      "=== Station 40716 | 6 ===\n",
      "!!!@@@------Training ExtraTF… saved.\n",
      "!!!@@@------Training RandomRF… saved.\n"
     ]
    },
    {
     "name": "stderr",
     "output_type": "stream",
     "text": [
      "ignoring user defined `output_chunk_length`. RNNModel uses a fixed `output_chunk_length=1`.\n",
      "GPU available: False, used: False\n",
      "TPU available: False, using: 0 TPU cores\n",
      "HPU available: False, using: 0 HPUs\n",
      "\n",
      "  | Name            | Type             | Params | Mode \n",
      "-------------------------------------------------------------\n",
      "0 | criterion       | MSELoss          | 0      | train\n",
      "1 | train_criterion | MSELoss          | 0      | train\n",
      "2 | val_criterion   | MSELoss          | 0      | train\n",
      "3 | train_metrics   | MetricCollection | 0      | train\n",
      "4 | val_metrics     | MetricCollection | 0      | train\n",
      "5 | rnn             | LSTM             | 9.3 K  | train\n",
      "6 | V               | Linear           | 26     | train\n",
      "-------------------------------------------------------------\n",
      "9.3 K     Trainable params\n",
      "0         Non-trainable params\n",
      "9.3 K     Total params\n",
      "0.037     Total estimated model params size (MB)\n",
      "7         Modules in train mode\n",
      "0         Modules in eval mode\n"
     ]
    },
    {
     "name": "stdout",
     "output_type": "stream",
     "text": [
      "!!!@@@------Training SVR… saved.\n",
      "Epoch 99: 100%|██████████| 19/19 [00:00<00:00, 93.13it/s, train_loss=0.0175] "
     ]
    },
    {
     "name": "stderr",
     "output_type": "stream",
     "text": [
      "`Trainer.fit` stopped: `max_epochs=100` reached.\n"
     ]
    },
    {
     "name": "stdout",
     "output_type": "stream",
     "text": [
      "Epoch 99: 100%|██████████| 19/19 [00:00<00:00, 93.13it/s, train_loss=0.0175]\n",
      " saved.\n"
     ]
    },
    {
     "name": "stderr",
     "output_type": "stream",
     "text": [
      "GPU available: False, used: False\n",
      "TPU available: False, using: 0 TPU cores\n",
      "HPU available: False, using: 0 HPUs\n"
     ]
    },
    {
     "name": "stdout",
     "output_type": "stream",
     "text": [
      "Predicting DataLoader 0: 100%|██████████| 1/1 [00:00<00:00, 63.63it/s]\n"
     ]
    },
    {
     "name": "stderr",
     "output_type": "stream",
     "text": [
      "ignoring user defined `output_chunk_length`. RNNModel uses a fixed `output_chunk_length=1`.\n"
     ]
    },
    {
     "name": "stdout",
     "output_type": "stream",
     "text": [
      "!!!@@@------Training WBBLSTM…"
     ]
    },
    {
     "name": "stderr",
     "output_type": "stream",
     "text": [
      "GPU available: False, used: False\n",
      "TPU available: False, using: 0 TPU cores\n",
      "HPU available: False, using: 0 HPUs\n",
      "\n",
      "  | Name            | Type             | Params | Mode \n",
      "-------------------------------------------------------------\n",
      "0 | criterion       | MSELoss          | 0      | train\n",
      "1 | train_criterion | MSELoss          | 0      | train\n",
      "2 | val_criterion   | MSELoss          | 0      | train\n",
      "3 | train_metrics   | MetricCollection | 0      | train\n",
      "4 | val_metrics     | MetricCollection | 0      | train\n",
      "5 | rnn             | LSTM             | 9.3 K  | train\n",
      "6 | V               | Linear           | 26     | train\n",
      "-------------------------------------------------------------\n",
      "9.3 K     Trainable params\n",
      "0         Non-trainable params\n",
      "9.3 K     Total params\n",
      "0.037     Total estimated model params size (MB)\n",
      "7         Modules in train mode\n",
      "0         Modules in eval mode\n"
     ]
    },
    {
     "name": "stdout",
     "output_type": "stream",
     "text": [
      "Epoch 99: 100%|██████████| 9/9 [00:00<00:00, 78.18it/s, train_loss=0.0475] "
     ]
    },
    {
     "name": "stderr",
     "output_type": "stream",
     "text": [
      "`Trainer.fit` stopped: `max_epochs=100` reached.\n"
     ]
    },
    {
     "name": "stdout",
     "output_type": "stream",
     "text": [
      "Epoch 99: 100%|██████████| 9/9 [00:00<00:00, 76.25it/s, train_loss=0.0475]\n",
      " saved.\n"
     ]
    },
    {
     "name": "stderr",
     "output_type": "stream",
     "text": [
      "GPU available: False, used: False\n",
      "TPU available: False, using: 0 TPU cores\n",
      "HPU available: False, using: 0 HPUs\n"
     ]
    },
    {
     "name": "stdout",
     "output_type": "stream",
     "text": [
      "Predicting DataLoader 0: 100%|██████████| 1/1 [00:00<00:00, 85.05it/s] \n",
      "std_p: 0.51, corr: 0.35, rmse: 0.79, mae_v: 0.64,sm: 135.87 - ExtraTF \n",
      "std_p: 0.48, corr: 0.82, rmse: 0.43, mae_v: 0.31,sm: 83.20 - RandomRF \n",
      "std_p: 0.36, corr: 0.78, rmse: 0.52, mae_v: 0.39,sm: 101.12 - SVR \n",
      "std_p: 0.63, corr: 0.87, rmse: 0.38, mae_v: 0.24,sm: 62.57 - LSTM \n",
      "std_p: 0.45, corr: 0.27, rmse: 0.74, mae_v: 0.56,sm: 124.97 - WBBLSTM \n",
      "✔️ Done with 40716 | 6\n",
      "\n",
      "\n",
      "=== Station 40716 | 9 ===\n",
      "!!!@@@------Training ExtraTF… saved.\n",
      "!!!@@@------Training RandomRF… saved.\n"
     ]
    },
    {
     "name": "stderr",
     "output_type": "stream",
     "text": [
      "ignoring user defined `output_chunk_length`. RNNModel uses a fixed `output_chunk_length=1`.\n",
      "GPU available: False, used: False\n",
      "TPU available: False, using: 0 TPU cores\n",
      "HPU available: False, using: 0 HPUs\n",
      "\n",
      "  | Name            | Type             | Params | Mode \n",
      "-------------------------------------------------------------\n",
      "0 | criterion       | MSELoss          | 0      | train\n",
      "1 | train_criterion | MSELoss          | 0      | train\n",
      "2 | val_criterion   | MSELoss          | 0      | train\n",
      "3 | train_metrics   | MetricCollection | 0      | train\n",
      "4 | val_metrics     | MetricCollection | 0      | train\n",
      "5 | rnn             | LSTM             | 9.3 K  | train\n",
      "6 | V               | Linear           | 26     | train\n",
      "-------------------------------------------------------------\n",
      "9.3 K     Trainable params\n",
      "0         Non-trainable params\n",
      "9.3 K     Total params\n",
      "0.037     Total estimated model params size (MB)\n",
      "7         Modules in train mode\n",
      "0         Modules in eval mode\n"
     ]
    },
    {
     "name": "stdout",
     "output_type": "stream",
     "text": [
      "!!!@@@------Training SVR… saved.\n",
      "Epoch 99: 100%|██████████| 18/18 [00:00<00:00, 96.37it/s, train_loss=0.0177] "
     ]
    },
    {
     "name": "stderr",
     "output_type": "stream",
     "text": [
      "`Trainer.fit` stopped: `max_epochs=100` reached.\n"
     ]
    },
    {
     "name": "stdout",
     "output_type": "stream",
     "text": [
      "Epoch 99: 100%|██████████| 18/18 [00:00<00:00, 94.91it/s, train_loss=0.0177]\n",
      " saved.\n"
     ]
    },
    {
     "name": "stderr",
     "output_type": "stream",
     "text": [
      "GPU available: False, used: False\n",
      "TPU available: False, using: 0 TPU cores\n",
      "HPU available: False, using: 0 HPUs\n"
     ]
    },
    {
     "name": "stdout",
     "output_type": "stream",
     "text": [
      "Predicting DataLoader 0: 100%|██████████| 1/1 [00:00<00:00, 62.35it/s]\n",
      "!!!@@@------Training WBBLSTM…"
     ]
    },
    {
     "name": "stderr",
     "output_type": "stream",
     "text": [
      "ignoring user defined `output_chunk_length`. RNNModel uses a fixed `output_chunk_length=1`.\n",
      "GPU available: False, used: False\n",
      "TPU available: False, using: 0 TPU cores\n",
      "HPU available: False, using: 0 HPUs\n",
      "\n",
      "  | Name            | Type             | Params | Mode \n",
      "-------------------------------------------------------------\n",
      "0 | criterion       | MSELoss          | 0      | train\n",
      "1 | train_criterion | MSELoss          | 0      | train\n",
      "2 | val_criterion   | MSELoss          | 0      | train\n",
      "3 | train_metrics   | MetricCollection | 0      | train\n",
      "4 | val_metrics     | MetricCollection | 0      | train\n",
      "5 | rnn             | LSTM             | 9.3 K  | train\n",
      "6 | V               | Linear           | 26     | train\n",
      "-------------------------------------------------------------\n",
      "9.3 K     Trainable params\n",
      "0         Non-trainable params\n",
      "9.3 K     Total params\n",
      "0.037     Total estimated model params size (MB)\n",
      "7         Modules in train mode\n",
      "0         Modules in eval mode\n"
     ]
    },
    {
     "name": "stdout",
     "output_type": "stream",
     "text": [
      "Epoch 99: 100%|██████████| 9/9 [00:00<00:00, 94.02it/s, train_loss=0.0721] "
     ]
    },
    {
     "name": "stderr",
     "output_type": "stream",
     "text": [
      "`Trainer.fit` stopped: `max_epochs=100` reached.\n"
     ]
    },
    {
     "name": "stdout",
     "output_type": "stream",
     "text": [
      "Epoch 99: 100%|██████████| 9/9 [00:00<00:00, 94.02it/s, train_loss=0.0721]\n",
      " saved.\n"
     ]
    },
    {
     "name": "stderr",
     "output_type": "stream",
     "text": [
      "GPU available: False, used: False\n",
      "TPU available: False, using: 0 TPU cores\n",
      "HPU available: False, using: 0 HPUs\n"
     ]
    },
    {
     "name": "stdout",
     "output_type": "stream",
     "text": [
      "Predicting DataLoader 0: 100%|██████████| 1/1 [00:00<00:00, 64.52it/s]\n",
      "negative corr\n",
      "std_p: 0.85, corr: 0.66, rmse: 0.76, mae_v: 0.62,sm: 99.88 - ExtraTF \n",
      "std_p: 0.66, corr: 0.91, rmse: 0.38, mae_v: 0.30,sm: 56.23 - RandomRF \n",
      "std_p: 0.43, corr: 0.85, rmse: 0.55, mae_v: 0.46,sm: 96.95 - SVR \n",
      "std_p: 0.81, corr: 0.92, rmse: 0.35, mae_v: 0.27,sm: 56.56 - LSTM \n",
      "std_p: 0.54, corr: 0.13, rmse: 1.05, mae_v: 0.82,sm: 147.97 - WBBLSTM \n",
      "✔️ Done with 40716 | 9\n",
      "\n",
      "\n",
      "=== Station 40716 | 12 ===\n",
      "!!!@@@------Training ExtraTF… saved.\n",
      "!!!@@@------Training RandomRF… saved.\n"
     ]
    },
    {
     "name": "stderr",
     "output_type": "stream",
     "text": [
      "ignoring user defined `output_chunk_length`. RNNModel uses a fixed `output_chunk_length=1`.\n",
      "GPU available: False, used: False\n",
      "TPU available: False, using: 0 TPU cores\n",
      "HPU available: False, using: 0 HPUs\n",
      "\n",
      "  | Name            | Type             | Params | Mode \n",
      "-------------------------------------------------------------\n",
      "0 | criterion       | MSELoss          | 0      | train\n",
      "1 | train_criterion | MSELoss          | 0      | train\n",
      "2 | val_criterion   | MSELoss          | 0      | train\n",
      "3 | train_metrics   | MetricCollection | 0      | train\n",
      "4 | val_metrics     | MetricCollection | 0      | train\n",
      "5 | rnn             | LSTM             | 9.3 K  | train\n",
      "6 | V               | Linear           | 26     | train\n",
      "-------------------------------------------------------------\n",
      "9.3 K     Trainable params\n",
      "0         Non-trainable params\n",
      "9.3 K     Total params\n",
      "0.037     Total estimated model params size (MB)\n",
      "7         Modules in train mode\n",
      "0         Modules in eval mode\n"
     ]
    },
    {
     "name": "stdout",
     "output_type": "stream",
     "text": [
      "!!!@@@------Training SVR… saved.\n",
      "Epoch 99: 100%|██████████| 18/18 [00:00<00:00, 90.31it/s, train_loss=0.0202] "
     ]
    },
    {
     "name": "stderr",
     "output_type": "stream",
     "text": [
      "`Trainer.fit` stopped: `max_epochs=100` reached.\n"
     ]
    },
    {
     "name": "stdout",
     "output_type": "stream",
     "text": [
      "Epoch 99: 100%|██████████| 18/18 [00:00<00:00, 90.31it/s, train_loss=0.0202]\n",
      " saved.\n"
     ]
    },
    {
     "name": "stderr",
     "output_type": "stream",
     "text": [
      "GPU available: False, used: False\n",
      "TPU available: False, using: 0 TPU cores\n",
      "HPU available: False, using: 0 HPUs\n"
     ]
    },
    {
     "name": "stdout",
     "output_type": "stream",
     "text": [
      "Predicting DataLoader 0: 100%|██████████| 1/1 [00:00<00:00, 83.15it/s]"
     ]
    },
    {
     "name": "stderr",
     "output_type": "stream",
     "text": [
      "ignoring user defined `output_chunk_length`. RNNModel uses a fixed `output_chunk_length=1`.\n"
     ]
    },
    {
     "name": "stdout",
     "output_type": "stream",
     "text": [
      "\n",
      "!!!@@@------Training WBBLSTM…"
     ]
    },
    {
     "name": "stderr",
     "output_type": "stream",
     "text": [
      "GPU available: False, used: False\n",
      "TPU available: False, using: 0 TPU cores\n",
      "HPU available: False, using: 0 HPUs\n",
      "\n",
      "  | Name            | Type             | Params | Mode \n",
      "-------------------------------------------------------------\n",
      "0 | criterion       | MSELoss          | 0      | train\n",
      "1 | train_criterion | MSELoss          | 0      | train\n",
      "2 | val_criterion   | MSELoss          | 0      | train\n",
      "3 | train_metrics   | MetricCollection | 0      | train\n",
      "4 | val_metrics     | MetricCollection | 0      | train\n",
      "5 | rnn             | LSTM             | 9.3 K  | train\n",
      "6 | V               | Linear           | 26     | train\n",
      "-------------------------------------------------------------\n",
      "9.3 K     Trainable params\n",
      "0         Non-trainable params\n",
      "9.3 K     Total params\n",
      "0.037     Total estimated model params size (MB)\n",
      "7         Modules in train mode\n",
      "0         Modules in eval mode\n"
     ]
    },
    {
     "name": "stdout",
     "output_type": "stream",
     "text": [
      "Epoch 99: 100%|██████████| 9/9 [00:00<00:00, 96.90it/s, train_loss=0.0606] "
     ]
    },
    {
     "name": "stderr",
     "output_type": "stream",
     "text": [
      "`Trainer.fit` stopped: `max_epochs=100` reached.\n"
     ]
    },
    {
     "name": "stdout",
     "output_type": "stream",
     "text": [
      "Epoch 99: 100%|██████████| 9/9 [00:00<00:00, 96.90it/s, train_loss=0.0606]\n",
      " saved.\n"
     ]
    },
    {
     "name": "stderr",
     "output_type": "stream",
     "text": [
      "GPU available: False, used: False\n",
      "TPU available: False, using: 0 TPU cores\n",
      "HPU available: False, using: 0 HPUs\n"
     ]
    },
    {
     "name": "stdout",
     "output_type": "stream",
     "text": [
      "Predicting DataLoader 0: 100%|██████████| 1/1 [00:00<00:00, 68.13it/s]\n",
      "std_p: 0.53, corr: 0.34, rmse: 0.93, mae_v: 0.75,sm: 113.49 - ExtraTF \n",
      "std_p: 0.73, corr: 0.86, rmse: 0.50, mae_v: 0.36,sm: 61.04 - RandomRF \n",
      "std_p: 0.56, corr: 0.87, rmse: 0.59, mae_v: 0.46,sm: 75.49 - SVR \n",
      "std_p: 0.84, corr: 0.95, rmse: 0.33, mae_v: 0.22,sm: 38.56 - LSTM \n",
      "std_p: 0.42, corr: 0.32, rmse: 1.03, mae_v: 0.83,sm: 129.43 - WBBLSTM \n",
      "✔️ Done with 40716 | 12\n",
      "\n",
      "\n",
      "=== Station 40716 | 24 ===\n",
      "!!!@@@------Training ExtraTF… saved.\n",
      "!!!@@@------Training RandomRF… saved.\n"
     ]
    },
    {
     "name": "stderr",
     "output_type": "stream",
     "text": [
      "ignoring user defined `output_chunk_length`. RNNModel uses a fixed `output_chunk_length=1`.\n",
      "GPU available: False, used: False\n",
      "TPU available: False, using: 0 TPU cores\n",
      "HPU available: False, using: 0 HPUs\n",
      "\n",
      "  | Name            | Type             | Params | Mode \n",
      "-------------------------------------------------------------\n",
      "0 | criterion       | MSELoss          | 0      | train\n",
      "1 | train_criterion | MSELoss          | 0      | train\n",
      "2 | val_criterion   | MSELoss          | 0      | train\n",
      "3 | train_metrics   | MetricCollection | 0      | train\n",
      "4 | val_metrics     | MetricCollection | 0      | train\n",
      "5 | rnn             | LSTM             | 9.3 K  | train\n",
      "6 | V               | Linear           | 26     | train\n",
      "-------------------------------------------------------------\n",
      "9.3 K     Trainable params\n",
      "0         Non-trainable params\n",
      "9.3 K     Total params\n",
      "0.037     Total estimated model params size (MB)\n",
      "7         Modules in train mode\n",
      "0         Modules in eval mode\n"
     ]
    },
    {
     "name": "stdout",
     "output_type": "stream",
     "text": [
      "!!!@@@------Training SVR… saved.\n",
      "Epoch 99: 100%|██████████| 18/18 [00:00<00:00, 94.29it/s, train_loss=0.0132] "
     ]
    },
    {
     "name": "stderr",
     "output_type": "stream",
     "text": [
      "`Trainer.fit` stopped: `max_epochs=100` reached.\n"
     ]
    },
    {
     "name": "stdout",
     "output_type": "stream",
     "text": [
      "Epoch 99: 100%|██████████| 18/18 [00:00<00:00, 94.29it/s, train_loss=0.0132]\n"
     ]
    },
    {
     "name": "stderr",
     "output_type": "stream",
     "text": [
      "GPU available: False, used: False\n"
     ]
    },
    {
     "name": "stdout",
     "output_type": "stream",
     "text": [
      " saved.\n"
     ]
    },
    {
     "name": "stderr",
     "output_type": "stream",
     "text": [
      "TPU available: False, using: 0 TPU cores\n",
      "HPU available: False, using: 0 HPUs\n"
     ]
    },
    {
     "name": "stdout",
     "output_type": "stream",
     "text": [
      "Predicting DataLoader 0: 100%|██████████| 1/1 [00:00<00:00, 67.82it/s]"
     ]
    },
    {
     "name": "stderr",
     "output_type": "stream",
     "text": [
      "ignoring user defined `output_chunk_length`. RNNModel uses a fixed `output_chunk_length=1`.\n"
     ]
    },
    {
     "name": "stdout",
     "output_type": "stream",
     "text": [
      "\n",
      "!!!@@@------Training WBBLSTM…"
     ]
    },
    {
     "name": "stderr",
     "output_type": "stream",
     "text": [
      "GPU available: False, used: False\n",
      "TPU available: False, using: 0 TPU cores\n",
      "HPU available: False, using: 0 HPUs\n",
      "\n",
      "  | Name            | Type             | Params | Mode \n",
      "-------------------------------------------------------------\n",
      "0 | criterion       | MSELoss          | 0      | train\n",
      "1 | train_criterion | MSELoss          | 0      | train\n",
      "2 | val_criterion   | MSELoss          | 0      | train\n",
      "3 | train_metrics   | MetricCollection | 0      | train\n",
      "4 | val_metrics     | MetricCollection | 0      | train\n",
      "5 | rnn             | LSTM             | 9.3 K  | train\n",
      "6 | V               | Linear           | 26     | train\n",
      "-------------------------------------------------------------\n",
      "9.3 K     Trainable params\n",
      "0         Non-trainable params\n",
      "9.3 K     Total params\n",
      "0.037     Total estimated model params size (MB)\n",
      "7         Modules in train mode\n",
      "0         Modules in eval mode\n"
     ]
    },
    {
     "name": "stdout",
     "output_type": "stream",
     "text": [
      "Epoch 99: 100%|██████████| 8/8 [00:00<00:00, 101.08it/s, train_loss=0.0512]"
     ]
    },
    {
     "name": "stderr",
     "output_type": "stream",
     "text": [
      "`Trainer.fit` stopped: `max_epochs=100` reached.\n"
     ]
    },
    {
     "name": "stdout",
     "output_type": "stream",
     "text": [
      "Epoch 99: 100%|██████████| 8/8 [00:00<00:00, 101.08it/s, train_loss=0.0512]\n",
      " saved.\n"
     ]
    },
    {
     "name": "stderr",
     "output_type": "stream",
     "text": [
      "GPU available: False, used: False\n",
      "TPU available: False, using: 0 TPU cores\n",
      "HPU available: False, using: 0 HPUs\n"
     ]
    },
    {
     "name": "stdout",
     "output_type": "stream",
     "text": [
      "Predicting DataLoader 0: 100%|██████████| 1/1 [00:00<?, ?it/s]\n",
      "std_p: 0.70, corr: 0.36, rmse: 1.10, mae_v: 0.97,sm: 125.86 - ExtraTF \n",
      "std_p: 0.89, corr: 0.95, rmse: 0.38, mae_v: 0.30,sm: 47.11 - RandomRF \n",
      "std_p: 0.73, corr: 0.91, rmse: 0.56, mae_v: 0.45,sm: 72.21 - SVR \n",
      "std_p: 0.96, corr: 0.95, rmse: 0.41, mae_v: 0.31,sm: 51.34 - LSTM \n",
      "std_p: 0.53, corr: 0.41, rmse: 1.30, mae_v: 0.98,sm: 124.68 - WBBLSTM \n",
      "✔️ Done with 40716 | 24\n",
      "\n",
      "📄 Results saved as CSV: results\\results_summary.csv\n",
      "\n",
      "=== Station 40717 | 1 ===\n",
      "!!!@@@------Training ExtraTF… saved.\n",
      "!!!@@@------Training RandomRF… saved.\n"
     ]
    },
    {
     "name": "stderr",
     "output_type": "stream",
     "text": [
      "ignoring user defined `output_chunk_length`. RNNModel uses a fixed `output_chunk_length=1`.\n",
      "GPU available: False, used: False\n",
      "TPU available: False, using: 0 TPU cores\n",
      "HPU available: False, using: 0 HPUs\n",
      "\n",
      "  | Name            | Type             | Params | Mode \n",
      "-------------------------------------------------------------\n",
      "0 | criterion       | MSELoss          | 0      | train\n",
      "1 | train_criterion | MSELoss          | 0      | train\n",
      "2 | val_criterion   | MSELoss          | 0      | train\n",
      "3 | train_metrics   | MetricCollection | 0      | train\n",
      "4 | val_metrics     | MetricCollection | 0      | train\n",
      "5 | rnn             | LSTM             | 9.3 K  | train\n",
      "6 | V               | Linear           | 26     | train\n",
      "-------------------------------------------------------------\n",
      "9.3 K     Trainable params\n",
      "0         Non-trainable params\n",
      "9.3 K     Total params\n",
      "0.037     Total estimated model params size (MB)\n",
      "7         Modules in train mode\n",
      "0         Modules in eval mode\n"
     ]
    },
    {
     "name": "stdout",
     "output_type": "stream",
     "text": [
      "!!!@@@------Training SVR… saved.\n",
      "Epoch 99: 100%|██████████| 19/19 [00:00<00:00, 90.79it/s, train_loss=0.0154] "
     ]
    },
    {
     "name": "stderr",
     "output_type": "stream",
     "text": [
      "`Trainer.fit` stopped: `max_epochs=100` reached.\n"
     ]
    },
    {
     "name": "stdout",
     "output_type": "stream",
     "text": [
      "Epoch 99: 100%|██████████| 19/19 [00:00<00:00, 89.93it/s, train_loss=0.0154]\n",
      " saved.\n"
     ]
    },
    {
     "name": "stderr",
     "output_type": "stream",
     "text": [
      "GPU available: False, used: False\n",
      "TPU available: False, using: 0 TPU cores\n",
      "HPU available: False, using: 0 HPUs\n"
     ]
    },
    {
     "name": "stdout",
     "output_type": "stream",
     "text": [
      "Predicting DataLoader 0: 100%|██████████| 1/1 [00:00<00:00, 77.39it/s]\n",
      "!!!@@@------Training WBBLSTM…"
     ]
    },
    {
     "name": "stderr",
     "output_type": "stream",
     "text": [
      "ignoring user defined `output_chunk_length`. RNNModel uses a fixed `output_chunk_length=1`.\n",
      "GPU available: False, used: False\n",
      "TPU available: False, using: 0 TPU cores\n",
      "HPU available: False, using: 0 HPUs\n",
      "\n",
      "  | Name            | Type             | Params | Mode \n",
      "-------------------------------------------------------------\n",
      "0 | criterion       | MSELoss          | 0      | train\n",
      "1 | train_criterion | MSELoss          | 0      | train\n",
      "2 | val_criterion   | MSELoss          | 0      | train\n",
      "3 | train_metrics   | MetricCollection | 0      | train\n",
      "4 | val_metrics     | MetricCollection | 0      | train\n",
      "5 | rnn             | LSTM             | 9.3 K  | train\n",
      "6 | V               | Linear           | 26     | train\n",
      "-------------------------------------------------------------\n",
      "9.3 K     Trainable params\n",
      "0         Non-trainable params\n",
      "9.3 K     Total params\n",
      "0.037     Total estimated model params size (MB)\n",
      "7         Modules in train mode\n",
      "0         Modules in eval mode\n"
     ]
    },
    {
     "name": "stdout",
     "output_type": "stream",
     "text": [
      "Epoch 99: 100%|██████████| 9/9 [00:00<00:00, 98.26it/s, train_loss=0.0592] "
     ]
    },
    {
     "name": "stderr",
     "output_type": "stream",
     "text": [
      "`Trainer.fit` stopped: `max_epochs=100` reached.\n"
     ]
    },
    {
     "name": "stdout",
     "output_type": "stream",
     "text": [
      "Epoch 99: 100%|██████████| 9/9 [00:00<00:00, 94.63it/s, train_loss=0.0592]\n",
      " saved.\n"
     ]
    },
    {
     "name": "stderr",
     "output_type": "stream",
     "text": [
      "GPU available: False, used: False\n",
      "TPU available: False, using: 0 TPU cores\n",
      "HPU available: False, using: 0 HPUs\n"
     ]
    },
    {
     "name": "stdout",
     "output_type": "stream",
     "text": [
      "Predicting DataLoader 0: 100%|██████████| 1/1 [00:00<00:00, 35.90it/s]\n",
      "negative corr\n",
      "std_p: 0.60, corr: 0.69, rmse: 0.53, mae_v: 0.40,sm: 99.71 - ExtraTF \n",
      "std_p: 0.52, corr: 0.74, rmse: 0.47, mae_v: 0.35,sm: 94.85 - RandomRF \n",
      "std_p: 0.52, corr: 0.72, rmse: 0.49, mae_v: 0.36,sm: 95.69 - SVR \n",
      "std_p: 0.66, corr: 0.78, rmse: 0.46, mae_v: 0.34,sm: 84.03 - LSTM \n",
      "std_p: 0.43, corr: 0.10, rmse: 0.79, mae_v: 0.60,sm: 140.12 - WBBLSTM \n",
      "✔️ Done with 40717 | 1\n",
      "\n",
      "\n",
      "=== Station 40717 | 3 ===\n",
      "!!!@@@------Training ExtraTF… saved.\n",
      "!!!@@@------Training RandomRF… saved.\n"
     ]
    },
    {
     "name": "stderr",
     "output_type": "stream",
     "text": [
      "ignoring user defined `output_chunk_length`. RNNModel uses a fixed `output_chunk_length=1`.\n",
      "GPU available: False, used: False\n",
      "TPU available: False, using: 0 TPU cores\n",
      "HPU available: False, using: 0 HPUs\n",
      "\n",
      "  | Name            | Type             | Params | Mode \n",
      "-------------------------------------------------------------\n",
      "0 | criterion       | MSELoss          | 0      | train\n",
      "1 | train_criterion | MSELoss          | 0      | train\n",
      "2 | val_criterion   | MSELoss          | 0      | train\n",
      "3 | train_metrics   | MetricCollection | 0      | train\n",
      "4 | val_metrics     | MetricCollection | 0      | train\n",
      "5 | rnn             | LSTM             | 9.3 K  | train\n",
      "6 | V               | Linear           | 26     | train\n",
      "-------------------------------------------------------------\n",
      "9.3 K     Trainable params\n",
      "0         Non-trainable params\n",
      "9.3 K     Total params\n",
      "0.037     Total estimated model params size (MB)\n",
      "7         Modules in train mode\n",
      "0         Modules in eval mode\n"
     ]
    },
    {
     "name": "stdout",
     "output_type": "stream",
     "text": [
      "!!!@@@------Training SVR… saved.\n",
      "Epoch 99: 100%|██████████| 19/19 [00:00<00:00, 89.32it/s, train_loss=0.0148]  "
     ]
    },
    {
     "name": "stderr",
     "output_type": "stream",
     "text": [
      "`Trainer.fit` stopped: `max_epochs=100` reached.\n"
     ]
    },
    {
     "name": "stdout",
     "output_type": "stream",
     "text": [
      "Epoch 99: 100%|██████████| 19/19 [00:00<00:00, 89.32it/s, train_loss=0.0148]\n",
      " saved.\n"
     ]
    },
    {
     "name": "stderr",
     "output_type": "stream",
     "text": [
      "GPU available: False, used: False\n",
      "TPU available: False, using: 0 TPU cores\n",
      "HPU available: False, using: 0 HPUs\n"
     ]
    },
    {
     "name": "stdout",
     "output_type": "stream",
     "text": [
      "Predicting DataLoader 0: 100%|██████████| 1/1 [00:00<00:00, 72.88it/s]\n",
      "!!!@@@------Training WBBLSTM…"
     ]
    },
    {
     "name": "stderr",
     "output_type": "stream",
     "text": [
      "ignoring user defined `output_chunk_length`. RNNModel uses a fixed `output_chunk_length=1`.\n",
      "GPU available: False, used: False\n",
      "TPU available: False, using: 0 TPU cores\n",
      "HPU available: False, using: 0 HPUs\n",
      "\n",
      "  | Name            | Type             | Params | Mode \n",
      "-------------------------------------------------------------\n",
      "0 | criterion       | MSELoss          | 0      | train\n",
      "1 | train_criterion | MSELoss          | 0      | train\n",
      "2 | val_criterion   | MSELoss          | 0      | train\n",
      "3 | train_metrics   | MetricCollection | 0      | train\n",
      "4 | val_metrics     | MetricCollection | 0      | train\n",
      "5 | rnn             | LSTM             | 9.3 K  | train\n",
      "6 | V               | Linear           | 26     | train\n",
      "-------------------------------------------------------------\n",
      "9.3 K     Trainable params\n",
      "0         Non-trainable params\n",
      "9.3 K     Total params\n",
      "0.037     Total estimated model params size (MB)\n",
      "7         Modules in train mode\n",
      "0         Modules in eval mode\n"
     ]
    },
    {
     "name": "stdout",
     "output_type": "stream",
     "text": [
      "Epoch 99: 100%|██████████| 9/9 [00:00<00:00, 100.12it/s, train_loss=0.0491]"
     ]
    },
    {
     "name": "stderr",
     "output_type": "stream",
     "text": [
      "`Trainer.fit` stopped: `max_epochs=100` reached.\n"
     ]
    },
    {
     "name": "stdout",
     "output_type": "stream",
     "text": [
      "Epoch 99: 100%|██████████| 9/9 [00:00<00:00, 100.12it/s, train_loss=0.0491]\n",
      " saved.\n"
     ]
    },
    {
     "name": "stderr",
     "output_type": "stream",
     "text": [
      "GPU available: False, used: False\n",
      "TPU available: False, using: 0 TPU cores\n",
      "HPU available: False, using: 0 HPUs\n"
     ]
    },
    {
     "name": "stdout",
     "output_type": "stream",
     "text": [
      "Predicting DataLoader 0: 100%|██████████| 1/1 [00:00<00:00, 62.51it/s]\n",
      "std_p: 0.53, corr: 0.58, rmse: 0.56, mae_v: 0.42,sm: 104.98 - ExtraTF \n",
      "std_p: 0.42, corr: 0.69, rmse: 0.48, mae_v: 0.34,sm: 87.36 - RandomRF \n",
      "std_p: 0.27, corr: 0.63, rmse: 0.52, mae_v: 0.38,sm: 112.08 - SVR \n",
      "std_p: 0.60, corr: 0.78, rmse: 0.42, mae_v: 0.30,sm: 80.55 - LSTM \n",
      "std_p: 0.42, corr: 0.01, rmse: 0.78, mae_v: 0.61,sm: 141.98 - WBBLSTM \n",
      "✔️ Done with 40717 | 3\n",
      "\n",
      "\n",
      "=== Station 40717 | 6 ===\n",
      "!!!@@@------Training ExtraTF… saved.\n",
      "!!!@@@------Training RandomRF… saved.\n"
     ]
    },
    {
     "name": "stderr",
     "output_type": "stream",
     "text": [
      "ignoring user defined `output_chunk_length`. RNNModel uses a fixed `output_chunk_length=1`.\n",
      "GPU available: False, used: False\n",
      "TPU available: False, using: 0 TPU cores\n",
      "HPU available: False, using: 0 HPUs\n",
      "\n",
      "  | Name            | Type             | Params | Mode \n",
      "-------------------------------------------------------------\n",
      "0 | criterion       | MSELoss          | 0      | train\n",
      "1 | train_criterion | MSELoss          | 0      | train\n",
      "2 | val_criterion   | MSELoss          | 0      | train\n",
      "3 | train_metrics   | MetricCollection | 0      | train\n",
      "4 | val_metrics     | MetricCollection | 0      | train\n",
      "5 | rnn             | LSTM             | 9.3 K  | train\n",
      "6 | V               | Linear           | 26     | train\n",
      "-------------------------------------------------------------\n",
      "9.3 K     Trainable params\n",
      "0         Non-trainable params\n",
      "9.3 K     Total params\n",
      "0.037     Total estimated model params size (MB)\n",
      "7         Modules in train mode\n",
      "0         Modules in eval mode\n"
     ]
    },
    {
     "name": "stdout",
     "output_type": "stream",
     "text": [
      "!!!@@@------Training SVR… saved.\n",
      "Epoch 99: 100%|██████████| 19/19 [00:00<00:00, 95.83it/s, train_loss=0.0105]  "
     ]
    },
    {
     "name": "stderr",
     "output_type": "stream",
     "text": [
      "`Trainer.fit` stopped: `max_epochs=100` reached.\n"
     ]
    },
    {
     "name": "stdout",
     "output_type": "stream",
     "text": [
      "Epoch 99: 100%|██████████| 19/19 [00:00<00:00, 95.83it/s, train_loss=0.0105]\n",
      " saved.\n"
     ]
    },
    {
     "name": "stderr",
     "output_type": "stream",
     "text": [
      "GPU available: False, used: False\n",
      "TPU available: False, using: 0 TPU cores\n",
      "HPU available: False, using: 0 HPUs\n"
     ]
    },
    {
     "name": "stdout",
     "output_type": "stream",
     "text": [
      "Predicting DataLoader 0: 100%|██████████| 1/1 [00:00<00:00, 64.10it/s]\n",
      "!!!@@@------Training WBBLSTM…"
     ]
    },
    {
     "name": "stderr",
     "output_type": "stream",
     "text": [
      "ignoring user defined `output_chunk_length`. RNNModel uses a fixed `output_chunk_length=1`.\n",
      "GPU available: False, used: False\n",
      "TPU available: False, using: 0 TPU cores\n",
      "HPU available: False, using: 0 HPUs\n",
      "\n",
      "  | Name            | Type             | Params | Mode \n",
      "-------------------------------------------------------------\n",
      "0 | criterion       | MSELoss          | 0      | train\n",
      "1 | train_criterion | MSELoss          | 0      | train\n",
      "2 | val_criterion   | MSELoss          | 0      | train\n",
      "3 | train_metrics   | MetricCollection | 0      | train\n",
      "4 | val_metrics     | MetricCollection | 0      | train\n",
      "5 | rnn             | LSTM             | 9.3 K  | train\n",
      "6 | V               | Linear           | 26     | train\n",
      "-------------------------------------------------------------\n",
      "9.3 K     Trainable params\n",
      "0         Non-trainable params\n",
      "9.3 K     Total params\n",
      "0.037     Total estimated model params size (MB)\n",
      "7         Modules in train mode\n",
      "0         Modules in eval mode\n"
     ]
    },
    {
     "name": "stdout",
     "output_type": "stream",
     "text": [
      "Epoch 99: 100%|██████████| 9/9 [00:00<00:00, 103.38it/s, train_loss=0.0592]"
     ]
    },
    {
     "name": "stderr",
     "output_type": "stream",
     "text": [
      "`Trainer.fit` stopped: `max_epochs=100` reached.\n"
     ]
    },
    {
     "name": "stdout",
     "output_type": "stream",
     "text": [
      "Epoch 99: 100%|██████████| 9/9 [00:00<00:00, 103.38it/s, train_loss=0.0592]\n",
      " saved.\n"
     ]
    },
    {
     "name": "stderr",
     "output_type": "stream",
     "text": [
      "GPU available: False, used: False\n",
      "TPU available: False, using: 0 TPU cores\n",
      "HPU available: False, using: 0 HPUs\n"
     ]
    },
    {
     "name": "stdout",
     "output_type": "stream",
     "text": [
      "Predicting DataLoader 0: 100%|██████████| 1/1 [00:00<00:00, 40.69it/s]\n",
      "negative corr\n",
      "std_p: 0.60, corr: 0.51, rmse: 0.75, mae_v: 0.60,sm: 114.95 - ExtraTF \n",
      "std_p: 0.59, corr: 0.86, rmse: 0.43, mae_v: 0.31,sm: 75.15 - RandomRF \n",
      "std_p: 0.28, corr: 0.82, rmse: 0.62, mae_v: 0.48,sm: 114.54 - SVR \n",
      "std_p: 0.62, corr: 0.86, rmse: 0.43, mae_v: 0.31,sm: 75.07 - LSTM \n",
      "std_p: 0.61, corr: 0.25, rmse: 0.93, mae_v: 0.79,sm: 143.27 - WBBLSTM \n",
      "✔️ Done with 40717 | 6\n",
      "\n",
      "\n",
      "=== Station 40717 | 9 ===\n",
      "!!!@@@------Training ExtraTF… saved.\n",
      "!!!@@@------Training RandomRF… saved.\n"
     ]
    },
    {
     "name": "stderr",
     "output_type": "stream",
     "text": [
      "ignoring user defined `output_chunk_length`. RNNModel uses a fixed `output_chunk_length=1`.\n",
      "GPU available: False, used: False\n",
      "TPU available: False, using: 0 TPU cores\n",
      "HPU available: False, using: 0 HPUs\n",
      "\n",
      "  | Name            | Type             | Params | Mode \n",
      "-------------------------------------------------------------\n",
      "0 | criterion       | MSELoss          | 0      | train\n",
      "1 | train_criterion | MSELoss          | 0      | train\n",
      "2 | val_criterion   | MSELoss          | 0      | train\n",
      "3 | train_metrics   | MetricCollection | 0      | train\n",
      "4 | val_metrics     | MetricCollection | 0      | train\n",
      "5 | rnn             | LSTM             | 9.3 K  | train\n",
      "6 | V               | Linear           | 26     | train\n",
      "-------------------------------------------------------------\n",
      "9.3 K     Trainable params\n",
      "0         Non-trainable params\n",
      "9.3 K     Total params\n",
      "0.037     Total estimated model params size (MB)\n",
      "7         Modules in train mode\n",
      "0         Modules in eval mode\n"
     ]
    },
    {
     "name": "stdout",
     "output_type": "stream",
     "text": [
      "!!!@@@------Training SVR… saved.\n",
      "Epoch 99: 100%|██████████| 18/18 [00:00<00:00, 93.99it/s, train_loss=0.0156] "
     ]
    },
    {
     "name": "stderr",
     "output_type": "stream",
     "text": [
      "`Trainer.fit` stopped: `max_epochs=100` reached.\n"
     ]
    },
    {
     "name": "stdout",
     "output_type": "stream",
     "text": [
      "Epoch 99: 100%|██████████| 18/18 [00:00<00:00, 93.99it/s, train_loss=0.0156]"
     ]
    },
    {
     "name": "stderr",
     "output_type": "stream",
     "text": [
      "GPU available: False, used: False\n"
     ]
    },
    {
     "name": "stdout",
     "output_type": "stream",
     "text": [
      "\n",
      " saved.\n"
     ]
    },
    {
     "name": "stderr",
     "output_type": "stream",
     "text": [
      "TPU available: False, using: 0 TPU cores\n",
      "HPU available: False, using: 0 HPUs\n"
     ]
    },
    {
     "name": "stdout",
     "output_type": "stream",
     "text": [
      "Predicting DataLoader 0: 100%|██████████| 1/1 [00:00<00:00, 75.34it/s]"
     ]
    },
    {
     "name": "stderr",
     "output_type": "stream",
     "text": [
      "ignoring user defined `output_chunk_length`. RNNModel uses a fixed `output_chunk_length=1`.\n"
     ]
    },
    {
     "name": "stdout",
     "output_type": "stream",
     "text": [
      "\n",
      "!!!@@@------Training WBBLSTM…"
     ]
    },
    {
     "name": "stderr",
     "output_type": "stream",
     "text": [
      "GPU available: False, used: False\n",
      "TPU available: False, using: 0 TPU cores\n",
      "HPU available: False, using: 0 HPUs\n",
      "\n",
      "  | Name            | Type             | Params | Mode \n",
      "-------------------------------------------------------------\n",
      "0 | criterion       | MSELoss          | 0      | train\n",
      "1 | train_criterion | MSELoss          | 0      | train\n",
      "2 | val_criterion   | MSELoss          | 0      | train\n",
      "3 | train_metrics   | MetricCollection | 0      | train\n",
      "4 | val_metrics     | MetricCollection | 0      | train\n",
      "5 | rnn             | LSTM             | 9.3 K  | train\n",
      "6 | V               | Linear           | 26     | train\n",
      "-------------------------------------------------------------\n",
      "9.3 K     Trainable params\n",
      "0         Non-trainable params\n",
      "9.3 K     Total params\n",
      "0.037     Total estimated model params size (MB)\n",
      "7         Modules in train mode\n",
      "0         Modules in eval mode\n"
     ]
    },
    {
     "name": "stdout",
     "output_type": "stream",
     "text": [
      "Epoch 99: 100%|██████████| 9/9 [00:00<00:00, 91.13it/s, train_loss=0.0462] "
     ]
    },
    {
     "name": "stderr",
     "output_type": "stream",
     "text": [
      "`Trainer.fit` stopped: `max_epochs=100` reached.\n"
     ]
    },
    {
     "name": "stdout",
     "output_type": "stream",
     "text": [
      "Epoch 99: 100%|██████████| 9/9 [00:00<00:00, 91.13it/s, train_loss=0.0462]"
     ]
    },
    {
     "name": "stderr",
     "output_type": "stream",
     "text": [
      "GPU available: False, used: False\n"
     ]
    },
    {
     "name": "stdout",
     "output_type": "stream",
     "text": [
      "\n",
      " saved.\n"
     ]
    },
    {
     "name": "stderr",
     "output_type": "stream",
     "text": [
      "TPU available: False, using: 0 TPU cores\n",
      "HPU available: False, using: 0 HPUs\n"
     ]
    },
    {
     "name": "stdout",
     "output_type": "stream",
     "text": [
      "Predicting DataLoader 0: 100%|██████████| 1/1 [00:00<?, ?it/s]\n",
      "std_p: 0.48, corr: 0.59, rmse: 0.76, mae_v: 0.58,sm: 116.07 - ExtraTF \n",
      "std_p: 0.61, corr: 0.84, rmse: 0.54, mae_v: 0.39,sm: 84.97 - RandomRF \n",
      "std_p: 0.34, corr: 0.80, rmse: 0.70, mae_v: 0.54,sm: 120.12 - SVR \n",
      "std_p: 0.77, corr: 0.90, rmse: 0.41, mae_v: 0.32,sm: 81.67 - LSTM \n",
      "std_p: 0.41, corr: 0.15, rmse: 0.96, mae_v: 0.80,sm: 158.14 - WBBLSTM \n",
      "✔️ Done with 40717 | 9\n",
      "\n",
      "\n",
      "=== Station 40717 | 12 ===\n",
      "!!!@@@------Training ExtraTF… saved.\n",
      "!!!@@@------Training RandomRF… saved.\n"
     ]
    },
    {
     "name": "stderr",
     "output_type": "stream",
     "text": [
      "ignoring user defined `output_chunk_length`. RNNModel uses a fixed `output_chunk_length=1`.\n",
      "GPU available: False, used: False\n",
      "TPU available: False, using: 0 TPU cores\n",
      "HPU available: False, using: 0 HPUs\n",
      "\n",
      "  | Name            | Type             | Params | Mode \n",
      "-------------------------------------------------------------\n",
      "0 | criterion       | MSELoss          | 0      | train\n",
      "1 | train_criterion | MSELoss          | 0      | train\n",
      "2 | val_criterion   | MSELoss          | 0      | train\n",
      "3 | train_metrics   | MetricCollection | 0      | train\n",
      "4 | val_metrics     | MetricCollection | 0      | train\n",
      "5 | rnn             | LSTM             | 9.3 K  | train\n",
      "6 | V               | Linear           | 26     | train\n",
      "-------------------------------------------------------------\n",
      "9.3 K     Trainable params\n",
      "0         Non-trainable params\n",
      "9.3 K     Total params\n",
      "0.037     Total estimated model params size (MB)\n",
      "7         Modules in train mode\n",
      "0         Modules in eval mode\n"
     ]
    },
    {
     "name": "stdout",
     "output_type": "stream",
     "text": [
      "!!!@@@------Training SVR… saved.\n",
      "Epoch 99: 100%|██████████| 18/18 [00:00<00:00, 75.72it/s, train_loss=0.0215] "
     ]
    },
    {
     "name": "stderr",
     "output_type": "stream",
     "text": [
      "`Trainer.fit` stopped: `max_epochs=100` reached.\n"
     ]
    },
    {
     "name": "stdout",
     "output_type": "stream",
     "text": [
      "Epoch 99: 100%|██████████| 18/18 [00:00<00:00, 75.72it/s, train_loss=0.0215]\n",
      " saved.\n"
     ]
    },
    {
     "name": "stderr",
     "output_type": "stream",
     "text": [
      "GPU available: False, used: False\n",
      "TPU available: False, using: 0 TPU cores\n",
      "HPU available: False, using: 0 HPUs\n"
     ]
    },
    {
     "name": "stdout",
     "output_type": "stream",
     "text": [
      "Predicting DataLoader 0: 100%|██████████| 1/1 [00:00<00:00, 70.22it/s]\n",
      "!!!@@@------Training WBBLSTM…"
     ]
    },
    {
     "name": "stderr",
     "output_type": "stream",
     "text": [
      "ignoring user defined `output_chunk_length`. RNNModel uses a fixed `output_chunk_length=1`.\n",
      "GPU available: False, used: False\n",
      "TPU available: False, using: 0 TPU cores\n",
      "HPU available: False, using: 0 HPUs\n",
      "\n",
      "  | Name            | Type             | Params | Mode \n",
      "-------------------------------------------------------------\n",
      "0 | criterion       | MSELoss          | 0      | train\n",
      "1 | train_criterion | MSELoss          | 0      | train\n",
      "2 | val_criterion   | MSELoss          | 0      | train\n",
      "3 | train_metrics   | MetricCollection | 0      | train\n",
      "4 | val_metrics     | MetricCollection | 0      | train\n",
      "5 | rnn             | LSTM             | 9.3 K  | train\n",
      "6 | V               | Linear           | 26     | train\n",
      "-------------------------------------------------------------\n",
      "9.3 K     Trainable params\n",
      "0         Non-trainable params\n",
      "9.3 K     Total params\n",
      "0.037     Total estimated model params size (MB)\n",
      "7         Modules in train mode\n",
      "0         Modules in eval mode\n"
     ]
    },
    {
     "name": "stdout",
     "output_type": "stream",
     "text": [
      "Epoch 99: 100%|██████████| 9/9 [00:00<00:00, 105.16it/s, train_loss=0.108] "
     ]
    },
    {
     "name": "stderr",
     "output_type": "stream",
     "text": [
      "`Trainer.fit` stopped: `max_epochs=100` reached.\n"
     ]
    },
    {
     "name": "stdout",
     "output_type": "stream",
     "text": [
      "Epoch 99: 100%|██████████| 9/9 [00:00<00:00, 105.16it/s, train_loss=0.108]\n",
      " saved.\n"
     ]
    },
    {
     "name": "stderr",
     "output_type": "stream",
     "text": [
      "GPU available: False, used: False\n",
      "TPU available: False, using: 0 TPU cores\n",
      "HPU available: False, using: 0 HPUs\n"
     ]
    },
    {
     "name": "stdout",
     "output_type": "stream",
     "text": [
      "Predicting DataLoader 0: 100%|██████████| 1/1 [00:00<00:00, 104.10it/s]\n",
      "negative corr\n",
      "std_p: 0.64, corr: 0.24, rmse: 1.04, mae_v: 0.81,sm: 131.72 - ExtraTF \n",
      "std_p: 0.68, corr: 0.84, rmse: 0.58, mae_v: 0.46,sm: 93.09 - RandomRF \n",
      "std_p: 0.44, corr: 0.68, rmse: 0.75, mae_v: 0.54,sm: 106.23 - SVR \n",
      "std_p: 0.80, corr: 0.89, rmse: 0.45, mae_v: 0.35,sm: 76.60 - LSTM \n",
      "std_p: 0.73, corr: 0.26, rmse: 1.07, mae_v: 0.77,sm: 121.96 - WBBLSTM \n",
      "✔️ Done with 40717 | 12\n",
      "\n",
      "\n",
      "=== Station 40717 | 24 ===\n",
      "!!!@@@------Training ExtraTF… saved.\n",
      "!!!@@@------Training RandomRF… saved.\n"
     ]
    },
    {
     "name": "stderr",
     "output_type": "stream",
     "text": [
      "ignoring user defined `output_chunk_length`. RNNModel uses a fixed `output_chunk_length=1`.\n",
      "GPU available: False, used: False\n",
      "TPU available: False, using: 0 TPU cores\n",
      "HPU available: False, using: 0 HPUs\n",
      "\n",
      "  | Name            | Type             | Params | Mode \n",
      "-------------------------------------------------------------\n",
      "0 | criterion       | MSELoss          | 0      | train\n",
      "1 | train_criterion | MSELoss          | 0      | train\n",
      "2 | val_criterion   | MSELoss          | 0      | train\n",
      "3 | train_metrics   | MetricCollection | 0      | train\n",
      "4 | val_metrics     | MetricCollection | 0      | train\n",
      "5 | rnn             | LSTM             | 9.3 K  | train\n",
      "6 | V               | Linear           | 26     | train\n",
      "-------------------------------------------------------------\n",
      "9.3 K     Trainable params\n",
      "0         Non-trainable params\n",
      "9.3 K     Total params\n",
      "0.037     Total estimated model params size (MB)\n",
      "7         Modules in train mode\n",
      "0         Modules in eval mode\n"
     ]
    },
    {
     "name": "stdout",
     "output_type": "stream",
     "text": [
      "!!!@@@------Training SVR… saved.\n",
      "Epoch 99: 100%|██████████| 18/18 [00:00<00:00, 92.85it/s, train_loss=0.0198] "
     ]
    },
    {
     "name": "stderr",
     "output_type": "stream",
     "text": [
      "`Trainer.fit` stopped: `max_epochs=100` reached.\n"
     ]
    },
    {
     "name": "stdout",
     "output_type": "stream",
     "text": [
      "Epoch 99: 100%|██████████| 18/18 [00:00<00:00, 92.85it/s, train_loss=0.0198]"
     ]
    },
    {
     "name": "stderr",
     "output_type": "stream",
     "text": [
      "GPU available: False, used: False\n"
     ]
    },
    {
     "name": "stdout",
     "output_type": "stream",
     "text": [
      "\n",
      " saved.\n"
     ]
    },
    {
     "name": "stderr",
     "output_type": "stream",
     "text": [
      "TPU available: False, using: 0 TPU cores\n",
      "HPU available: False, using: 0 HPUs\n"
     ]
    },
    {
     "name": "stdout",
     "output_type": "stream",
     "text": [
      "Predicting DataLoader 0: 100%|██████████| 1/1 [00:00<00:00, 55.51it/s]"
     ]
    },
    {
     "name": "stderr",
     "output_type": "stream",
     "text": [
      "ignoring user defined `output_chunk_length`. RNNModel uses a fixed `output_chunk_length=1`.\n"
     ]
    },
    {
     "name": "stdout",
     "output_type": "stream",
     "text": [
      "\n",
      "!!!@@@------Training WBBLSTM…"
     ]
    },
    {
     "name": "stderr",
     "output_type": "stream",
     "text": [
      "GPU available: False, used: False\n",
      "TPU available: False, using: 0 TPU cores\n",
      "HPU available: False, using: 0 HPUs\n",
      "\n",
      "  | Name            | Type             | Params | Mode \n",
      "-------------------------------------------------------------\n",
      "0 | criterion       | MSELoss          | 0      | train\n",
      "1 | train_criterion | MSELoss          | 0      | train\n",
      "2 | val_criterion   | MSELoss          | 0      | train\n",
      "3 | train_metrics   | MetricCollection | 0      | train\n",
      "4 | val_metrics     | MetricCollection | 0      | train\n",
      "5 | rnn             | LSTM             | 9.3 K  | train\n",
      "6 | V               | Linear           | 26     | train\n",
      "-------------------------------------------------------------\n",
      "9.3 K     Trainable params\n",
      "0         Non-trainable params\n",
      "9.3 K     Total params\n",
      "0.037     Total estimated model params size (MB)\n",
      "7         Modules in train mode\n",
      "0         Modules in eval mode\n"
     ]
    },
    {
     "name": "stdout",
     "output_type": "stream",
     "text": [
      "Epoch 99: 100%|██████████| 8/8 [00:00<00:00, 99.00it/s, train_loss=0.0915] "
     ]
    },
    {
     "name": "stderr",
     "output_type": "stream",
     "text": [
      "`Trainer.fit` stopped: `max_epochs=100` reached.\n"
     ]
    },
    {
     "name": "stdout",
     "output_type": "stream",
     "text": [
      "Epoch 99: 100%|██████████| 8/8 [00:00<00:00, 99.00it/s, train_loss=0.0915]\n",
      " saved.\n"
     ]
    },
    {
     "name": "stderr",
     "output_type": "stream",
     "text": [
      "GPU available: False, used: False\n",
      "TPU available: False, using: 0 TPU cores\n",
      "HPU available: False, using: 0 HPUs\n"
     ]
    },
    {
     "name": "stdout",
     "output_type": "stream",
     "text": [
      "Predicting DataLoader 0: 100%|██████████| 1/1 [00:00<00:00, 50.84it/s]\n",
      "std_p: 0.39, corr: 0.34, rmse: 1.44, mae_v: 1.23,sm: 162.17 - ExtraTF \n",
      "std_p: 0.66, corr: 0.85, rmse: 0.42, mae_v: 0.31,sm: 64.82 - RandomRF \n",
      "std_p: 0.41, corr: 0.72, rmse: 0.59, mae_v: 0.46,sm: 90.59 - SVR \n",
      "std_p: 0.68, corr: 0.82, rmse: 0.47, mae_v: 0.36,sm: 71.82 - LSTM \n",
      "std_p: 0.38, corr: 0.52, rmse: 1.51, mae_v: 1.34,sm: 167.85 - WBBLSTM \n",
      "✔️ Done with 40717 | 24\n",
      "\n",
      "📄 Results saved as CSV: results\\results_summary.csv\n",
      "\n",
      "=== Station 40726 | 1 ===\n",
      "!!!@@@------Training ExtraTF… saved.\n",
      "!!!@@@------Training RandomRF… saved.\n"
     ]
    },
    {
     "name": "stderr",
     "output_type": "stream",
     "text": [
      "ignoring user defined `output_chunk_length`. RNNModel uses a fixed `output_chunk_length=1`.\n",
      "GPU available: False, used: False\n",
      "TPU available: False, using: 0 TPU cores\n",
      "HPU available: False, using: 0 HPUs\n",
      "\n",
      "  | Name            | Type             | Params | Mode \n",
      "-------------------------------------------------------------\n",
      "0 | criterion       | MSELoss          | 0      | train\n",
      "1 | train_criterion | MSELoss          | 0      | train\n",
      "2 | val_criterion   | MSELoss          | 0      | train\n",
      "3 | train_metrics   | MetricCollection | 0      | train\n",
      "4 | val_metrics     | MetricCollection | 0      | train\n",
      "5 | rnn             | LSTM             | 9.3 K  | train\n",
      "6 | V               | Linear           | 26     | train\n",
      "-------------------------------------------------------------\n",
      "9.3 K     Trainable params\n",
      "0         Non-trainable params\n",
      "9.3 K     Total params\n",
      "0.037     Total estimated model params size (MB)\n",
      "7         Modules in train mode\n",
      "0         Modules in eval mode\n"
     ]
    },
    {
     "name": "stdout",
     "output_type": "stream",
     "text": [
      "!!!@@@------Training SVR… saved.\n",
      "Epoch 99: 100%|██████████| 19/19 [00:00<00:00, 87.96it/s, train_loss=0.010]   "
     ]
    },
    {
     "name": "stderr",
     "output_type": "stream",
     "text": [
      "`Trainer.fit` stopped: `max_epochs=100` reached.\n"
     ]
    },
    {
     "name": "stdout",
     "output_type": "stream",
     "text": [
      "Epoch 99: 100%|██████████| 19/19 [00:00<00:00, 87.96it/s, train_loss=0.010]\n",
      " saved.\n"
     ]
    },
    {
     "name": "stderr",
     "output_type": "stream",
     "text": [
      "GPU available: False, used: False\n",
      "TPU available: False, using: 0 TPU cores\n",
      "HPU available: False, using: 0 HPUs\n"
     ]
    },
    {
     "name": "stdout",
     "output_type": "stream",
     "text": [
      "Predicting DataLoader 0: 100%|██████████| 1/1 [00:00<00:00, 63.38it/s]\n",
      "!!!@@@------Training WBBLSTM…"
     ]
    },
    {
     "name": "stderr",
     "output_type": "stream",
     "text": [
      "ignoring user defined `output_chunk_length`. RNNModel uses a fixed `output_chunk_length=1`.\n",
      "GPU available: False, used: False\n",
      "TPU available: False, using: 0 TPU cores\n",
      "HPU available: False, using: 0 HPUs\n",
      "\n",
      "  | Name            | Type             | Params | Mode \n",
      "-------------------------------------------------------------\n",
      "0 | criterion       | MSELoss          | 0      | train\n",
      "1 | train_criterion | MSELoss          | 0      | train\n",
      "2 | val_criterion   | MSELoss          | 0      | train\n",
      "3 | train_metrics   | MetricCollection | 0      | train\n",
      "4 | val_metrics     | MetricCollection | 0      | train\n",
      "5 | rnn             | LSTM             | 9.3 K  | train\n",
      "6 | V               | Linear           | 26     | train\n",
      "-------------------------------------------------------------\n",
      "9.3 K     Trainable params\n",
      "0         Non-trainable params\n",
      "9.3 K     Total params\n",
      "0.037     Total estimated model params size (MB)\n",
      "7         Modules in train mode\n",
      "0         Modules in eval mode\n"
     ]
    },
    {
     "name": "stdout",
     "output_type": "stream",
     "text": [
      "Epoch 99: 100%|██████████| 9/9 [00:00<00:00, 91.31it/s, train_loss=0.0442] "
     ]
    },
    {
     "name": "stderr",
     "output_type": "stream",
     "text": [
      "`Trainer.fit` stopped: `max_epochs=100` reached.\n"
     ]
    },
    {
     "name": "stdout",
     "output_type": "stream",
     "text": [
      "Epoch 99: 100%|██████████| 9/9 [00:00<00:00, 91.31it/s, train_loss=0.0442]"
     ]
    },
    {
     "name": "stderr",
     "output_type": "stream",
     "text": [
      "GPU available: False, used: False\n"
     ]
    },
    {
     "name": "stdout",
     "output_type": "stream",
     "text": [
      "\n",
      " saved.\n"
     ]
    },
    {
     "name": "stderr",
     "output_type": "stream",
     "text": [
      "TPU available: False, using: 0 TPU cores\n",
      "HPU available: False, using: 0 HPUs\n"
     ]
    },
    {
     "name": "stdout",
     "output_type": "stream",
     "text": [
      "Predicting DataLoader 0: 100%|██████████| 1/1 [00:00<00:00, 84.46it/s]\n",
      "negative corr\n",
      "std_p: 0.52, corr: 0.55, rmse: 0.73, mae_v: 0.37,sm: 87.91 - ExtraTF \n",
      "std_p: 0.44, corr: 0.71, rmse: 0.64, mae_v: 0.26,sm: 69.86 - RandomRF \n",
      "std_p: 0.41, corr: 0.60, rmse: 0.71, mae_v: 0.28,sm: 68.57 - SVR \n",
      "std_p: 0.59, corr: 0.68, rmse: 0.64, mae_v: 0.26,sm: 65.53 - LSTM \n",
      "std_p: 0.31, corr: 0.02, rmse: 0.92, mae_v: 0.52,sm: 146.03 - WBBLSTM \n",
      "✔️ Done with 40726 | 1\n",
      "\n",
      "\n",
      "=== Station 40726 | 3 ===\n",
      "!!!@@@------Training ExtraTF… saved.\n",
      "!!!@@@------Training RandomRF… saved.\n"
     ]
    },
    {
     "name": "stderr",
     "output_type": "stream",
     "text": [
      "ignoring user defined `output_chunk_length`. RNNModel uses a fixed `output_chunk_length=1`.\n",
      "GPU available: False, used: False\n",
      "TPU available: False, using: 0 TPU cores\n",
      "HPU available: False, using: 0 HPUs\n",
      "\n",
      "  | Name            | Type             | Params | Mode \n",
      "-------------------------------------------------------------\n",
      "0 | criterion       | MSELoss          | 0      | train\n",
      "1 | train_criterion | MSELoss          | 0      | train\n",
      "2 | val_criterion   | MSELoss          | 0      | train\n",
      "3 | train_metrics   | MetricCollection | 0      | train\n",
      "4 | val_metrics     | MetricCollection | 0      | train\n",
      "5 | rnn             | LSTM             | 9.3 K  | train\n",
      "6 | V               | Linear           | 26     | train\n",
      "-------------------------------------------------------------\n",
      "9.3 K     Trainable params\n",
      "0         Non-trainable params\n",
      "9.3 K     Total params\n",
      "0.037     Total estimated model params size (MB)\n",
      "7         Modules in train mode\n",
      "0         Modules in eval mode\n"
     ]
    },
    {
     "name": "stdout",
     "output_type": "stream",
     "text": [
      "!!!@@@------Training SVR… saved.\n",
      "Epoch 99: 100%|██████████| 19/19 [00:00<00:00, 93.85it/s, train_loss=0.019]   "
     ]
    },
    {
     "name": "stderr",
     "output_type": "stream",
     "text": [
      "`Trainer.fit` stopped: `max_epochs=100` reached.\n"
     ]
    },
    {
     "name": "stdout",
     "output_type": "stream",
     "text": [
      "Epoch 99: 100%|██████████| 19/19 [00:00<00:00, 91.88it/s, train_loss=0.019]"
     ]
    },
    {
     "name": "stderr",
     "output_type": "stream",
     "text": [
      "GPU available: False, used: False\n"
     ]
    },
    {
     "name": "stdout",
     "output_type": "stream",
     "text": [
      "\n",
      " saved.\n"
     ]
    },
    {
     "name": "stderr",
     "output_type": "stream",
     "text": [
      "TPU available: False, using: 0 TPU cores\n",
      "HPU available: False, using: 0 HPUs\n"
     ]
    },
    {
     "name": "stdout",
     "output_type": "stream",
     "text": [
      "Predicting DataLoader 0: 100%|██████████| 1/1 [00:00<00:00, 87.02it/s] "
     ]
    },
    {
     "name": "stderr",
     "output_type": "stream",
     "text": [
      "ignoring user defined `output_chunk_length`. RNNModel uses a fixed `output_chunk_length=1`.\n",
      "GPU available: False, used: False\n"
     ]
    },
    {
     "name": "stdout",
     "output_type": "stream",
     "text": [
      "\n",
      "!!!@@@------Training WBBLSTM…"
     ]
    },
    {
     "name": "stderr",
     "output_type": "stream",
     "text": [
      "TPU available: False, using: 0 TPU cores\n",
      "HPU available: False, using: 0 HPUs\n",
      "\n",
      "  | Name            | Type             | Params | Mode \n",
      "-------------------------------------------------------------\n",
      "0 | criterion       | MSELoss          | 0      | train\n",
      "1 | train_criterion | MSELoss          | 0      | train\n",
      "2 | val_criterion   | MSELoss          | 0      | train\n",
      "3 | train_metrics   | MetricCollection | 0      | train\n",
      "4 | val_metrics     | MetricCollection | 0      | train\n",
      "5 | rnn             | LSTM             | 9.3 K  | train\n",
      "6 | V               | Linear           | 26     | train\n",
      "-------------------------------------------------------------\n",
      "9.3 K     Trainable params\n",
      "0         Non-trainable params\n",
      "9.3 K     Total params\n",
      "0.037     Total estimated model params size (MB)\n",
      "7         Modules in train mode\n",
      "0         Modules in eval mode\n"
     ]
    },
    {
     "name": "stdout",
     "output_type": "stream",
     "text": [
      "Epoch 99: 100%|██████████| 9/9 [00:00<00:00, 94.50it/s, train_loss=0.0478] "
     ]
    },
    {
     "name": "stderr",
     "output_type": "stream",
     "text": [
      "`Trainer.fit` stopped: `max_epochs=100` reached.\n"
     ]
    },
    {
     "name": "stdout",
     "output_type": "stream",
     "text": [
      "Epoch 99: 100%|██████████| 9/9 [00:00<00:00, 81.15it/s, train_loss=0.0478]\n",
      " saved.\n"
     ]
    },
    {
     "name": "stderr",
     "output_type": "stream",
     "text": [
      "GPU available: False, used: False\n",
      "TPU available: False, using: 0 TPU cores\n",
      "HPU available: False, using: 0 HPUs\n"
     ]
    },
    {
     "name": "stdout",
     "output_type": "stream",
     "text": [
      "Predicting DataLoader 0: 100%|██████████| 1/1 [00:00<00:00, 55.60it/s]\n",
      "negative corr\n",
      "std_p: 0.34, corr: 0.45, rmse: 0.66, mae_v: 0.41,sm: 126.38 - ExtraTF \n",
      "std_p: 0.28, corr: 0.54, rmse: 0.63, mae_v: 0.33,sm: 98.64 - RandomRF \n",
      "std_p: 0.16, corr: 0.50, rmse: 0.66, mae_v: 0.37,sm: 137.13 - SVR \n",
      "std_p: 0.40, corr: 0.70, rmse: 0.53, mae_v: 0.29,sm: 94.01 - LSTM \n",
      "std_p: 0.45, corr: 0.18, rmse: 0.78, mae_v: 0.54,sm: 129.22 - WBBLSTM \n",
      "✔️ Done with 40726 | 3\n",
      "\n",
      "\n",
      "=== Station 40726 | 6 ===\n",
      "!!!@@@------Training ExtraTF… saved.\n",
      "!!!@@@------Training RandomRF… saved.\n"
     ]
    },
    {
     "name": "stderr",
     "output_type": "stream",
     "text": [
      "ignoring user defined `output_chunk_length`. RNNModel uses a fixed `output_chunk_length=1`.\n",
      "GPU available: False, used: False\n",
      "TPU available: False, using: 0 TPU cores\n",
      "HPU available: False, using: 0 HPUs\n",
      "\n",
      "  | Name            | Type             | Params | Mode \n",
      "-------------------------------------------------------------\n",
      "0 | criterion       | MSELoss          | 0      | train\n",
      "1 | train_criterion | MSELoss          | 0      | train\n",
      "2 | val_criterion   | MSELoss          | 0      | train\n",
      "3 | train_metrics   | MetricCollection | 0      | train\n",
      "4 | val_metrics     | MetricCollection | 0      | train\n",
      "5 | rnn             | LSTM             | 9.3 K  | train\n",
      "6 | V               | Linear           | 26     | train\n",
      "-------------------------------------------------------------\n",
      "9.3 K     Trainable params\n",
      "0         Non-trainable params\n",
      "9.3 K     Total params\n",
      "0.037     Total estimated model params size (MB)\n",
      "7         Modules in train mode\n",
      "0         Modules in eval mode\n"
     ]
    },
    {
     "name": "stdout",
     "output_type": "stream",
     "text": [
      "!!!@@@------Training SVR… saved.\n",
      "Epoch 99: 100%|██████████| 19/19 [00:00<00:00, 89.69it/s, train_loss=0.0174]  "
     ]
    },
    {
     "name": "stderr",
     "output_type": "stream",
     "text": [
      "`Trainer.fit` stopped: `max_epochs=100` reached.\n"
     ]
    },
    {
     "name": "stdout",
     "output_type": "stream",
     "text": [
      "Epoch 99: 100%|██████████| 19/19 [00:00<00:00, 89.69it/s, train_loss=0.0174]\n",
      " saved.\n"
     ]
    },
    {
     "name": "stderr",
     "output_type": "stream",
     "text": [
      "GPU available: False, used: False\n",
      "TPU available: False, using: 0 TPU cores\n",
      "HPU available: False, using: 0 HPUs\n"
     ]
    },
    {
     "name": "stdout",
     "output_type": "stream",
     "text": [
      "Predicting DataLoader 0: 100%|██████████| 1/1 [00:00<?, ?it/s]\n",
      "!!!@@@------Training WBBLSTM…"
     ]
    },
    {
     "name": "stderr",
     "output_type": "stream",
     "text": [
      "ignoring user defined `output_chunk_length`. RNNModel uses a fixed `output_chunk_length=1`.\n",
      "GPU available: False, used: False\n",
      "TPU available: False, using: 0 TPU cores\n",
      "HPU available: False, using: 0 HPUs\n",
      "\n",
      "  | Name            | Type             | Params | Mode \n",
      "-------------------------------------------------------------\n",
      "0 | criterion       | MSELoss          | 0      | train\n",
      "1 | train_criterion | MSELoss          | 0      | train\n",
      "2 | val_criterion   | MSELoss          | 0      | train\n",
      "3 | train_metrics   | MetricCollection | 0      | train\n",
      "4 | val_metrics     | MetricCollection | 0      | train\n",
      "5 | rnn             | LSTM             | 9.3 K  | train\n",
      "6 | V               | Linear           | 26     | train\n",
      "-------------------------------------------------------------\n",
      "9.3 K     Trainable params\n",
      "0         Non-trainable params\n",
      "9.3 K     Total params\n",
      "0.037     Total estimated model params size (MB)\n",
      "7         Modules in train mode\n",
      "0         Modules in eval mode\n"
     ]
    },
    {
     "name": "stdout",
     "output_type": "stream",
     "text": [
      "Epoch 99: 100%|██████████| 9/9 [00:00<00:00, 94.33it/s, train_loss=0.0385] "
     ]
    },
    {
     "name": "stderr",
     "output_type": "stream",
     "text": [
      "`Trainer.fit` stopped: `max_epochs=100` reached.\n"
     ]
    },
    {
     "name": "stdout",
     "output_type": "stream",
     "text": [
      "Epoch 99: 100%|██████████| 9/9 [00:00<00:00, 94.33it/s, train_loss=0.0385]\n",
      " saved.\n"
     ]
    },
    {
     "name": "stderr",
     "output_type": "stream",
     "text": [
      "GPU available: False, used: False\n",
      "TPU available: False, using: 0 TPU cores\n",
      "HPU available: False, using: 0 HPUs\n"
     ]
    },
    {
     "name": "stdout",
     "output_type": "stream",
     "text": [
      "Predicting DataLoader 0: 100%|██████████| 1/1 [00:00<00:00, 70.60it/s]\n",
      "negative corr\n",
      "std_p: 0.33, corr: 0.34, rmse: 1.00, mae_v: 0.74,sm: 142.32 - ExtraTF \n",
      "std_p: 0.35, corr: 0.77, rmse: 0.82, mae_v: 0.45,sm: 103.85 - RandomRF \n",
      "std_p: 0.25, corr: 0.59, rmse: 0.91, mae_v: 0.55,sm: 141.41 - SVR \n",
      "std_p: 0.52, corr: 0.68, rmse: 0.78, mae_v: 0.45,sm: 91.88 - LSTM \n",
      "std_p: 0.38, corr: 0.06, rmse: 1.10, mae_v: 0.78,sm: 141.26 - WBBLSTM \n",
      "✔️ Done with 40726 | 6\n",
      "\n",
      "\n",
      "=== Station 40726 | 9 ===\n",
      "!!!@@@------Training ExtraTF… saved.\n",
      "!!!@@@------Training RandomRF… saved.\n"
     ]
    },
    {
     "name": "stderr",
     "output_type": "stream",
     "text": [
      "ignoring user defined `output_chunk_length`. RNNModel uses a fixed `output_chunk_length=1`.\n",
      "GPU available: False, used: False\n",
      "TPU available: False, using: 0 TPU cores\n",
      "HPU available: False, using: 0 HPUs\n",
      "\n",
      "  | Name            | Type             | Params | Mode \n",
      "-------------------------------------------------------------\n",
      "0 | criterion       | MSELoss          | 0      | train\n",
      "1 | train_criterion | MSELoss          | 0      | train\n",
      "2 | val_criterion   | MSELoss          | 0      | train\n",
      "3 | train_metrics   | MetricCollection | 0      | train\n",
      "4 | val_metrics     | MetricCollection | 0      | train\n",
      "5 | rnn             | LSTM             | 9.3 K  | train\n",
      "6 | V               | Linear           | 26     | train\n",
      "-------------------------------------------------------------\n",
      "9.3 K     Trainable params\n",
      "0         Non-trainable params\n",
      "9.3 K     Total params\n",
      "0.037     Total estimated model params size (MB)\n",
      "7         Modules in train mode\n",
      "0         Modules in eval mode\n"
     ]
    },
    {
     "name": "stdout",
     "output_type": "stream",
     "text": [
      "!!!@@@------Training SVR… saved.\n",
      "Epoch 99: 100%|██████████| 18/18 [00:00<00:00, 91.64it/s, train_loss=0.00921] "
     ]
    },
    {
     "name": "stderr",
     "output_type": "stream",
     "text": [
      "`Trainer.fit` stopped: `max_epochs=100` reached.\n"
     ]
    },
    {
     "name": "stdout",
     "output_type": "stream",
     "text": [
      "Epoch 99: 100%|██████████| 18/18 [00:00<00:00, 91.64it/s, train_loss=0.00921]\n",
      " saved.\n"
     ]
    },
    {
     "name": "stderr",
     "output_type": "stream",
     "text": [
      "GPU available: False, used: False\n",
      "TPU available: False, using: 0 TPU cores\n",
      "HPU available: False, using: 0 HPUs\n"
     ]
    },
    {
     "name": "stdout",
     "output_type": "stream",
     "text": [
      "Predicting DataLoader 0: 100%|██████████| 1/1 [00:00<00:00, 64.51it/s]"
     ]
    },
    {
     "name": "stderr",
     "output_type": "stream",
     "text": [
      "ignoring user defined `output_chunk_length`. RNNModel uses a fixed `output_chunk_length=1`.\n"
     ]
    },
    {
     "name": "stdout",
     "output_type": "stream",
     "text": [
      "\n",
      "!!!@@@------Training WBBLSTM…"
     ]
    },
    {
     "name": "stderr",
     "output_type": "stream",
     "text": [
      "GPU available: False, used: False\n",
      "TPU available: False, using: 0 TPU cores\n",
      "HPU available: False, using: 0 HPUs\n",
      "\n",
      "  | Name            | Type             | Params | Mode \n",
      "-------------------------------------------------------------\n",
      "0 | criterion       | MSELoss          | 0      | train\n",
      "1 | train_criterion | MSELoss          | 0      | train\n",
      "2 | val_criterion   | MSELoss          | 0      | train\n",
      "3 | train_metrics   | MetricCollection | 0      | train\n",
      "4 | val_metrics     | MetricCollection | 0      | train\n",
      "5 | rnn             | LSTM             | 9.3 K  | train\n",
      "6 | V               | Linear           | 26     | train\n",
      "-------------------------------------------------------------\n",
      "9.3 K     Trainable params\n",
      "0         Non-trainable params\n",
      "9.3 K     Total params\n",
      "0.037     Total estimated model params size (MB)\n",
      "7         Modules in train mode\n",
      "0         Modules in eval mode\n"
     ]
    },
    {
     "name": "stdout",
     "output_type": "stream",
     "text": [
      "Epoch 99: 100%|██████████| 9/9 [00:00<00:00, 95.00it/s, train_loss=0.0537] "
     ]
    },
    {
     "name": "stderr",
     "output_type": "stream",
     "text": [
      "`Trainer.fit` stopped: `max_epochs=100` reached.\n"
     ]
    },
    {
     "name": "stdout",
     "output_type": "stream",
     "text": [
      "Epoch 99: 100%|██████████| 9/9 [00:00<00:00, 95.00it/s, train_loss=0.0537]\n",
      " saved.\n"
     ]
    },
    {
     "name": "stderr",
     "output_type": "stream",
     "text": [
      "GPU available: False, used: False\n",
      "TPU available: False, using: 0 TPU cores\n",
      "HPU available: False, using: 0 HPUs\n"
     ]
    },
    {
     "name": "stdout",
     "output_type": "stream",
     "text": [
      "Predicting DataLoader 0: 100%|██████████| 1/1 [00:00<00:00, 102.55it/s]\n",
      "std_p: 0.50, corr: 0.30, rmse: 1.41, mae_v: 1.05,sm: 133.48 - ExtraTF \n",
      "std_p: 0.53, corr: 0.71, rmse: 1.20, mae_v: 0.64,sm: 88.53 - RandomRF \n",
      "std_p: 0.42, corr: 0.62, rmse: 1.26, mae_v: 0.78,sm: 129.45 - SVR \n",
      "std_p: 0.67, corr: 0.78, rmse: 1.02, mae_v: 0.58,sm: 86.00 - LSTM \n",
      "std_p: 0.46, corr: 0.13, rmse: 1.54, mae_v: 1.03,sm: 160.22 - WBBLSTM \n",
      "✔️ Done with 40726 | 9\n",
      "\n",
      "\n",
      "=== Station 40726 | 12 ===\n",
      "!!!@@@------Training ExtraTF… saved.\n",
      "!!!@@@------Training RandomRF… saved.\n"
     ]
    },
    {
     "name": "stderr",
     "output_type": "stream",
     "text": [
      "ignoring user defined `output_chunk_length`. RNNModel uses a fixed `output_chunk_length=1`.\n",
      "GPU available: False, used: False\n",
      "TPU available: False, using: 0 TPU cores\n",
      "HPU available: False, using: 0 HPUs\n",
      "\n",
      "  | Name            | Type             | Params | Mode \n",
      "-------------------------------------------------------------\n",
      "0 | criterion       | MSELoss          | 0      | train\n",
      "1 | train_criterion | MSELoss          | 0      | train\n",
      "2 | val_criterion   | MSELoss          | 0      | train\n",
      "3 | train_metrics   | MetricCollection | 0      | train\n",
      "4 | val_metrics     | MetricCollection | 0      | train\n",
      "5 | rnn             | LSTM             | 9.3 K  | train\n",
      "6 | V               | Linear           | 26     | train\n",
      "-------------------------------------------------------------\n",
      "9.3 K     Trainable params\n",
      "0         Non-trainable params\n",
      "9.3 K     Total params\n",
      "0.037     Total estimated model params size (MB)\n",
      "7         Modules in train mode\n",
      "0         Modules in eval mode\n"
     ]
    },
    {
     "name": "stdout",
     "output_type": "stream",
     "text": [
      "!!!@@@------Training SVR… saved.\n",
      "Epoch 99: 100%|██████████| 18/18 [00:00<00:00, 87.46it/s, train_loss=0.0121]  "
     ]
    },
    {
     "name": "stderr",
     "output_type": "stream",
     "text": [
      "`Trainer.fit` stopped: `max_epochs=100` reached.\n"
     ]
    },
    {
     "name": "stdout",
     "output_type": "stream",
     "text": [
      "Epoch 99: 100%|██████████| 18/18 [00:00<00:00, 87.46it/s, train_loss=0.0121]\n",
      " saved.\n"
     ]
    },
    {
     "name": "stderr",
     "output_type": "stream",
     "text": [
      "GPU available: False, used: False\n",
      "TPU available: False, using: 0 TPU cores\n",
      "HPU available: False, using: 0 HPUs\n"
     ]
    },
    {
     "name": "stdout",
     "output_type": "stream",
     "text": [
      "Predicting DataLoader 0: 100%|██████████| 1/1 [00:00<00:00, 45.76it/s]"
     ]
    },
    {
     "name": "stderr",
     "output_type": "stream",
     "text": [
      "ignoring user defined `output_chunk_length`. RNNModel uses a fixed `output_chunk_length=1`.\n"
     ]
    },
    {
     "name": "stdout",
     "output_type": "stream",
     "text": [
      "\n",
      "!!!@@@------Training WBBLSTM…"
     ]
    },
    {
     "name": "stderr",
     "output_type": "stream",
     "text": [
      "GPU available: False, used: False\n",
      "TPU available: False, using: 0 TPU cores\n",
      "HPU available: False, using: 0 HPUs\n",
      "\n",
      "  | Name            | Type             | Params | Mode \n",
      "-------------------------------------------------------------\n",
      "0 | criterion       | MSELoss          | 0      | train\n",
      "1 | train_criterion | MSELoss          | 0      | train\n",
      "2 | val_criterion   | MSELoss          | 0      | train\n",
      "3 | train_metrics   | MetricCollection | 0      | train\n",
      "4 | val_metrics     | MetricCollection | 0      | train\n",
      "5 | rnn             | LSTM             | 9.3 K  | train\n",
      "6 | V               | Linear           | 26     | train\n",
      "-------------------------------------------------------------\n",
      "9.3 K     Trainable params\n",
      "0         Non-trainable params\n",
      "9.3 K     Total params\n",
      "0.037     Total estimated model params size (MB)\n",
      "7         Modules in train mode\n",
      "0         Modules in eval mode\n"
     ]
    },
    {
     "name": "stdout",
     "output_type": "stream",
     "text": [
      "Epoch 99: 100%|██████████| 9/9 [00:00<00:00, 91.36it/s, train_loss=0.0292] "
     ]
    },
    {
     "name": "stderr",
     "output_type": "stream",
     "text": [
      "`Trainer.fit` stopped: `max_epochs=100` reached.\n"
     ]
    },
    {
     "name": "stdout",
     "output_type": "stream",
     "text": [
      "Epoch 99: 100%|██████████| 9/9 [00:00<00:00, 88.58it/s, train_loss=0.0292]\n",
      " saved.\n"
     ]
    },
    {
     "name": "stderr",
     "output_type": "stream",
     "text": [
      "GPU available: False, used: False\n",
      "TPU available: False, using: 0 TPU cores\n",
      "HPU available: False, using: 0 HPUs\n"
     ]
    },
    {
     "name": "stdout",
     "output_type": "stream",
     "text": [
      "Predicting DataLoader 0: 100%|██████████| 1/1 [00:00<00:00, 47.21it/s]\n",
      "std_p: 0.48, corr: 0.27, rmse: 1.71, mae_v: 1.12,sm: 153.30 - ExtraTF \n",
      "std_p: 0.73, corr: 0.75, rmse: 1.30, mae_v: 0.73,sm: 76.19 - RandomRF \n",
      "std_p: 0.59, corr: 0.63, rmse: 1.37, mae_v: 0.91,sm: 134.59 - SVR \n",
      "std_p: 0.73, corr: 0.79, rmse: 1.25, mae_v: 0.70,sm: 74.95 - LSTM \n",
      "std_p: 0.49, corr: 0.10, rmse: 1.89, mae_v: 1.32,sm: 156.30 - WBBLSTM \n",
      "✔️ Done with 40726 | 12\n",
      "\n",
      "\n",
      "=== Station 40726 | 24 ===\n",
      "!!!@@@------Training ExtraTF… saved.\n",
      "!!!@@@------Training RandomRF… saved.\n"
     ]
    },
    {
     "name": "stderr",
     "output_type": "stream",
     "text": [
      "ignoring user defined `output_chunk_length`. RNNModel uses a fixed `output_chunk_length=1`.\n",
      "GPU available: False, used: False\n",
      "TPU available: False, using: 0 TPU cores\n",
      "HPU available: False, using: 0 HPUs\n",
      "\n",
      "  | Name            | Type             | Params | Mode \n",
      "-------------------------------------------------------------\n",
      "0 | criterion       | MSELoss          | 0      | train\n",
      "1 | train_criterion | MSELoss          | 0      | train\n",
      "2 | val_criterion   | MSELoss          | 0      | train\n",
      "3 | train_metrics   | MetricCollection | 0      | train\n",
      "4 | val_metrics     | MetricCollection | 0      | train\n",
      "5 | rnn             | LSTM             | 9.3 K  | train\n",
      "6 | V               | Linear           | 26     | train\n",
      "-------------------------------------------------------------\n",
      "9.3 K     Trainable params\n",
      "0         Non-trainable params\n",
      "9.3 K     Total params\n",
      "0.037     Total estimated model params size (MB)\n",
      "7         Modules in train mode\n",
      "0         Modules in eval mode\n"
     ]
    },
    {
     "name": "stdout",
     "output_type": "stream",
     "text": [
      "!!!@@@------Training SVR… saved.\n",
      "Epoch 99: 100%|██████████| 18/18 [00:00<00:00, 98.91it/s, train_loss=0.00522] "
     ]
    },
    {
     "name": "stderr",
     "output_type": "stream",
     "text": [
      "`Trainer.fit` stopped: `max_epochs=100` reached.\n"
     ]
    },
    {
     "name": "stdout",
     "output_type": "stream",
     "text": [
      "Epoch 99: 100%|██████████| 18/18 [00:00<00:00, 97.84it/s, train_loss=0.00522]\n",
      " saved.\n"
     ]
    },
    {
     "name": "stderr",
     "output_type": "stream",
     "text": [
      "GPU available: False, used: False\n",
      "TPU available: False, using: 0 TPU cores\n",
      "HPU available: False, using: 0 HPUs\n"
     ]
    },
    {
     "name": "stdout",
     "output_type": "stream",
     "text": [
      "Predicting DataLoader 0: 100%|██████████| 1/1 [00:00<00:00, 47.85it/s]"
     ]
    },
    {
     "name": "stderr",
     "output_type": "stream",
     "text": [
      "ignoring user defined `output_chunk_length`. RNNModel uses a fixed `output_chunk_length=1`.\n"
     ]
    },
    {
     "name": "stdout",
     "output_type": "stream",
     "text": [
      "\n",
      "!!!@@@------Training WBBLSTM…"
     ]
    },
    {
     "name": "stderr",
     "output_type": "stream",
     "text": [
      "GPU available: False, used: False\n",
      "TPU available: False, using: 0 TPU cores\n",
      "HPU available: False, using: 0 HPUs\n",
      "\n",
      "  | Name            | Type             | Params | Mode \n",
      "-------------------------------------------------------------\n",
      "0 | criterion       | MSELoss          | 0      | train\n",
      "1 | train_criterion | MSELoss          | 0      | train\n",
      "2 | val_criterion   | MSELoss          | 0      | train\n",
      "3 | train_metrics   | MetricCollection | 0      | train\n",
      "4 | val_metrics     | MetricCollection | 0      | train\n",
      "5 | rnn             | LSTM             | 9.3 K  | train\n",
      "6 | V               | Linear           | 26     | train\n",
      "-------------------------------------------------------------\n",
      "9.3 K     Trainable params\n",
      "0         Non-trainable params\n",
      "9.3 K     Total params\n",
      "0.037     Total estimated model params size (MB)\n",
      "7         Modules in train mode\n",
      "0         Modules in eval mode\n"
     ]
    },
    {
     "name": "stdout",
     "output_type": "stream",
     "text": [
      "Epoch 99: 100%|██████████| 8/8 [00:00<00:00, 97.18it/s, train_loss=0.0326] "
     ]
    },
    {
     "name": "stderr",
     "output_type": "stream",
     "text": [
      "`Trainer.fit` stopped: `max_epochs=100` reached.\n"
     ]
    },
    {
     "name": "stdout",
     "output_type": "stream",
     "text": [
      "Epoch 99: 100%|██████████| 8/8 [00:00<00:00, 89.97it/s, train_loss=0.0326]\n",
      " saved.\n"
     ]
    },
    {
     "name": "stderr",
     "output_type": "stream",
     "text": [
      "GPU available: False, used: False\n",
      "TPU available: False, using: 0 TPU cores\n",
      "HPU available: False, using: 0 HPUs\n"
     ]
    },
    {
     "name": "stdout",
     "output_type": "stream",
     "text": [
      "Predicting DataLoader 0: 100%|██████████| 1/1 [00:00<00:00, 80.48it/s]\n",
      "std_p: 0.29, corr: 0.35, rmse: 1.59, mae_v: 1.17,sm: 137.58 - ExtraTF \n",
      "std_p: 0.61, corr: 0.82, rmse: 1.21, mae_v: 0.79,sm: 68.83 - RandomRF \n",
      "std_p: 0.66, corr: 0.72, rmse: 1.22, mae_v: 0.90,sm: 113.37 - SVR \n",
      "std_p: 0.80, corr: 0.85, rmse: 0.93, mae_v: 0.63,sm: 57.96 - LSTM \n",
      "std_p: 0.76, corr: 0.70, rmse: 1.76, mae_v: 1.54,sm: 152.13 - WBBLSTM \n",
      "✔️ Done with 40726 | 24\n",
      "\n",
      "📄 Results saved as CSV: results\\results_summary.csv\n",
      "\n",
      "=== Station 88107 | 1 ===\n",
      "!!!@@@------Training ExtraTF… saved.\n",
      "!!!@@@------Training RandomRF… saved.\n"
     ]
    },
    {
     "name": "stderr",
     "output_type": "stream",
     "text": [
      "ignoring user defined `output_chunk_length`. RNNModel uses a fixed `output_chunk_length=1`.\n",
      "GPU available: False, used: False\n",
      "TPU available: False, using: 0 TPU cores\n",
      "HPU available: False, using: 0 HPUs\n",
      "\n",
      "  | Name            | Type             | Params | Mode \n",
      "-------------------------------------------------------------\n",
      "0 | criterion       | MSELoss          | 0      | train\n",
      "1 | train_criterion | MSELoss          | 0      | train\n",
      "2 | val_criterion   | MSELoss          | 0      | train\n",
      "3 | train_metrics   | MetricCollection | 0      | train\n",
      "4 | val_metrics     | MetricCollection | 0      | train\n",
      "5 | rnn             | LSTM             | 9.3 K  | train\n",
      "6 | V               | Linear           | 26     | train\n",
      "-------------------------------------------------------------\n",
      "9.3 K     Trainable params\n",
      "0         Non-trainable params\n",
      "9.3 K     Total params\n",
      "0.037     Total estimated model params size (MB)\n",
      "7         Modules in train mode\n",
      "0         Modules in eval mode\n"
     ]
    },
    {
     "name": "stdout",
     "output_type": "stream",
     "text": [
      "!!!@@@------Training SVR… saved.\n",
      "Epoch 99: 100%|██████████| 10/10 [00:00<00:00, 80.63it/s, train_loss=0.0228]"
     ]
    },
    {
     "name": "stderr",
     "output_type": "stream",
     "text": [
      "`Trainer.fit` stopped: `max_epochs=100` reached.\n"
     ]
    },
    {
     "name": "stdout",
     "output_type": "stream",
     "text": [
      "Epoch 99: 100%|██████████| 10/10 [00:00<00:00, 79.35it/s, train_loss=0.0228]"
     ]
    },
    {
     "name": "stderr",
     "output_type": "stream",
     "text": [
      "GPU available: False, used: False\n"
     ]
    },
    {
     "name": "stdout",
     "output_type": "stream",
     "text": [
      "\n",
      " saved.\n"
     ]
    },
    {
     "name": "stderr",
     "output_type": "stream",
     "text": [
      "TPU available: False, using: 0 TPU cores\n",
      "HPU available: False, using: 0 HPUs\n"
     ]
    },
    {
     "name": "stdout",
     "output_type": "stream",
     "text": [
      "Predicting DataLoader 0: 100%|██████████| 1/1 [00:00<00:00, 120.93it/s]\n",
      "!!!@@@------Training WBBLSTM…"
     ]
    },
    {
     "name": "stderr",
     "output_type": "stream",
     "text": [
      "ignoring user defined `output_chunk_length`. RNNModel uses a fixed `output_chunk_length=1`.\n",
      "GPU available: False, used: False\n",
      "TPU available: False, using: 0 TPU cores\n",
      "HPU available: False, using: 0 HPUs\n",
      "\n",
      "  | Name            | Type             | Params | Mode \n",
      "-------------------------------------------------------------\n",
      "0 | criterion       | MSELoss          | 0      | train\n",
      "1 | train_criterion | MSELoss          | 0      | train\n",
      "2 | val_criterion   | MSELoss          | 0      | train\n",
      "3 | train_metrics   | MetricCollection | 0      | train\n",
      "4 | val_metrics     | MetricCollection | 0      | train\n",
      "5 | rnn             | LSTM             | 9.3 K  | train\n",
      "6 | V               | Linear           | 26     | train\n",
      "-------------------------------------------------------------\n",
      "9.3 K     Trainable params\n",
      "0         Non-trainable params\n",
      "9.3 K     Total params\n",
      "0.037     Total estimated model params size (MB)\n",
      "7         Modules in train mode\n",
      "0         Modules in eval mode\n"
     ]
    },
    {
     "name": "stdout",
     "output_type": "stream",
     "text": [
      "Epoch 99: 100%|██████████| 5/5 [00:00<00:00, 85.99it/s, train_loss=0.0398] "
     ]
    },
    {
     "name": "stderr",
     "output_type": "stream",
     "text": [
      "`Trainer.fit` stopped: `max_epochs=100` reached.\n"
     ]
    },
    {
     "name": "stdout",
     "output_type": "stream",
     "text": [
      "Epoch 99: 100%|██████████| 5/5 [00:00<00:00, 83.13it/s, train_loss=0.0398]"
     ]
    },
    {
     "name": "stderr",
     "output_type": "stream",
     "text": [
      "GPU available: False, used: False\n"
     ]
    },
    {
     "name": "stdout",
     "output_type": "stream",
     "text": [
      "\n",
      " saved.\n"
     ]
    },
    {
     "name": "stderr",
     "output_type": "stream",
     "text": [
      "TPU available: False, using: 0 TPU cores\n",
      "HPU available: False, using: 0 HPUs\n"
     ]
    },
    {
     "name": "stdout",
     "output_type": "stream",
     "text": [
      "Predicting DataLoader 0: 100%|██████████| 1/1 [00:00<00:00, 161.24it/s]\n",
      "std_p: 0.70, corr: 0.72, rmse: 0.56, mae_v: 0.45,sm: 111.95 - ExtraTF \n",
      "std_p: 0.60, corr: 0.72, rmse: 0.55, mae_v: 0.47,sm: 114.69 - RandomRF \n",
      "std_p: 0.64, corr: 0.74, rmse: 0.54, mae_v: 0.42,sm: 93.64 - SVR \n",
      "std_p: 0.74, corr: 0.77, rmse: 0.53, mae_v: 0.43,sm: 102.79 - LSTM \n",
      "std_p: 0.43, corr: 0.11, rmse: 0.88, mae_v: 0.73,sm: 147.52 - WBBLSTM \n",
      "✔️ Done with 88107 | 1\n",
      "\n",
      "\n",
      "=== Station 88107 | 3 ===\n",
      "!!!@@@------Training ExtraTF… saved.\n",
      "!!!@@@------Training RandomRF… saved.\n"
     ]
    },
    {
     "name": "stderr",
     "output_type": "stream",
     "text": [
      "ignoring user defined `output_chunk_length`. RNNModel uses a fixed `output_chunk_length=1`.\n",
      "GPU available: False, used: False\n",
      "TPU available: False, using: 0 TPU cores\n",
      "HPU available: False, using: 0 HPUs\n",
      "\n",
      "  | Name            | Type             | Params | Mode \n",
      "-------------------------------------------------------------\n",
      "0 | criterion       | MSELoss          | 0      | train\n",
      "1 | train_criterion | MSELoss          | 0      | train\n",
      "2 | val_criterion   | MSELoss          | 0      | train\n",
      "3 | train_metrics   | MetricCollection | 0      | train\n",
      "4 | val_metrics     | MetricCollection | 0      | train\n",
      "5 | rnn             | LSTM             | 9.3 K  | train\n",
      "6 | V               | Linear           | 26     | train\n",
      "-------------------------------------------------------------\n",
      "9.3 K     Trainable params\n",
      "0         Non-trainable params\n",
      "9.3 K     Total params\n",
      "0.037     Total estimated model params size (MB)\n",
      "7         Modules in train mode\n",
      "0         Modules in eval mode\n"
     ]
    },
    {
     "name": "stdout",
     "output_type": "stream",
     "text": [
      "!!!@@@------Training SVR… saved.\n",
      "Epoch 99: 100%|██████████| 10/10 [00:00<00:00, 71.90it/s, train_loss=0.0157] "
     ]
    },
    {
     "name": "stderr",
     "output_type": "stream",
     "text": [
      "`Trainer.fit` stopped: `max_epochs=100` reached.\n"
     ]
    },
    {
     "name": "stdout",
     "output_type": "stream",
     "text": [
      "Epoch 99: 100%|██████████| 10/10 [00:00<00:00, 71.90it/s, train_loss=0.0157]\n",
      " saved.\n"
     ]
    },
    {
     "name": "stderr",
     "output_type": "stream",
     "text": [
      "GPU available: False, used: False\n",
      "TPU available: False, using: 0 TPU cores\n",
      "HPU available: False, using: 0 HPUs\n"
     ]
    },
    {
     "name": "stdout",
     "output_type": "stream",
     "text": [
      "Predicting DataLoader 0: 100%|██████████| 1/1 [00:00<00:00, 110.62it/s]\n",
      "!!!@@@------Training WBBLSTM…"
     ]
    },
    {
     "name": "stderr",
     "output_type": "stream",
     "text": [
      "ignoring user defined `output_chunk_length`. RNNModel uses a fixed `output_chunk_length=1`.\n",
      "GPU available: False, used: False\n",
      "TPU available: False, using: 0 TPU cores\n",
      "HPU available: False, using: 0 HPUs\n",
      "\n",
      "  | Name            | Type             | Params | Mode \n",
      "-------------------------------------------------------------\n",
      "0 | criterion       | MSELoss          | 0      | train\n",
      "1 | train_criterion | MSELoss          | 0      | train\n",
      "2 | val_criterion   | MSELoss          | 0      | train\n",
      "3 | train_metrics   | MetricCollection | 0      | train\n",
      "4 | val_metrics     | MetricCollection | 0      | train\n",
      "5 | rnn             | LSTM             | 9.3 K  | train\n",
      "6 | V               | Linear           | 26     | train\n",
      "-------------------------------------------------------------\n",
      "9.3 K     Trainable params\n",
      "0         Non-trainable params\n",
      "9.3 K     Total params\n",
      "0.037     Total estimated model params size (MB)\n",
      "7         Modules in train mode\n",
      "0         Modules in eval mode\n"
     ]
    },
    {
     "name": "stdout",
     "output_type": "stream",
     "text": [
      "Epoch 99: 100%|██████████| 5/5 [00:00<00:00, 83.12it/s, train_loss=0.0485] "
     ]
    },
    {
     "name": "stderr",
     "output_type": "stream",
     "text": [
      "`Trainer.fit` stopped: `max_epochs=100` reached.\n"
     ]
    },
    {
     "name": "stdout",
     "output_type": "stream",
     "text": [
      "Epoch 99: 100%|██████████| 5/5 [00:00<00:00, 83.12it/s, train_loss=0.0485]\n",
      " saved.\n"
     ]
    },
    {
     "name": "stderr",
     "output_type": "stream",
     "text": [
      "GPU available: False, used: False\n",
      "TPU available: False, using: 0 TPU cores\n",
      "HPU available: False, using: 0 HPUs\n"
     ]
    },
    {
     "name": "stdout",
     "output_type": "stream",
     "text": [
      "Predicting DataLoader 0: 100%|██████████| 1/1 [00:00<00:00, 76.37it/s]\n",
      "std_p: 0.61, corr: 0.63, rmse: 0.60, mae_v: 0.53,sm: 129.77 - ExtraTF \n",
      "std_p: 0.49, corr: 0.88, rmse: 0.39, mae_v: 0.32,sm: 77.74 - RandomRF \n",
      "std_p: 0.43, corr: 0.71, rmse: 0.53, mae_v: 0.41,sm: 106.98 - SVR \n",
      "std_p: 0.70, corr: 0.76, rmse: 0.50, mae_v: 0.38,sm: 100.80 - LSTM \n",
      "std_p: 0.34, corr: 0.15, rmse: 0.85, mae_v: 0.67,sm: 138.12 - WBBLSTM \n",
      "✔️ Done with 88107 | 3\n",
      "\n",
      "\n",
      "=== Station 88107 | 6 ===\n",
      "!!!@@@------Training ExtraTF… saved.\n",
      "!!!@@@------Training RandomRF… saved.\n"
     ]
    },
    {
     "name": "stderr",
     "output_type": "stream",
     "text": [
      "ignoring user defined `output_chunk_length`. RNNModel uses a fixed `output_chunk_length=1`.\n",
      "GPU available: False, used: False\n",
      "TPU available: False, using: 0 TPU cores\n",
      "HPU available: False, using: 0 HPUs\n",
      "\n",
      "  | Name            | Type             | Params | Mode \n",
      "-------------------------------------------------------------\n",
      "0 | criterion       | MSELoss          | 0      | train\n",
      "1 | train_criterion | MSELoss          | 0      | train\n",
      "2 | val_criterion   | MSELoss          | 0      | train\n",
      "3 | train_metrics   | MetricCollection | 0      | train\n",
      "4 | val_metrics     | MetricCollection | 0      | train\n",
      "5 | rnn             | LSTM             | 9.3 K  | train\n",
      "6 | V               | Linear           | 26     | train\n",
      "-------------------------------------------------------------\n",
      "9.3 K     Trainable params\n",
      "0         Non-trainable params\n",
      "9.3 K     Total params\n",
      "0.037     Total estimated model params size (MB)\n",
      "7         Modules in train mode\n",
      "0         Modules in eval mode\n"
     ]
    },
    {
     "name": "stdout",
     "output_type": "stream",
     "text": [
      "!!!@@@------Training SVR… saved.\n",
      "Epoch 99: 100%|██████████| 10/10 [00:00<00:00, 99.07it/s, train_loss=0.0223] "
     ]
    },
    {
     "name": "stderr",
     "output_type": "stream",
     "text": [
      "`Trainer.fit` stopped: `max_epochs=100` reached.\n"
     ]
    },
    {
     "name": "stdout",
     "output_type": "stream",
     "text": [
      "Epoch 99: 100%|██████████| 10/10 [00:00<00:00, 97.14it/s, train_loss=0.0223]\n",
      " saved.\n"
     ]
    },
    {
     "name": "stderr",
     "output_type": "stream",
     "text": [
      "GPU available: False, used: False\n",
      "TPU available: False, using: 0 TPU cores\n",
      "HPU available: False, using: 0 HPUs\n"
     ]
    },
    {
     "name": "stdout",
     "output_type": "stream",
     "text": [
      "Predicting DataLoader 0: 100%|██████████| 1/1 [00:00<?, ?it/s]"
     ]
    },
    {
     "name": "stderr",
     "output_type": "stream",
     "text": [
      "ignoring user defined `output_chunk_length`. RNNModel uses a fixed `output_chunk_length=1`.\n"
     ]
    },
    {
     "name": "stdout",
     "output_type": "stream",
     "text": [
      "\n",
      "!!!@@@------Training WBBLSTM…"
     ]
    },
    {
     "name": "stderr",
     "output_type": "stream",
     "text": [
      "GPU available: False, used: False\n",
      "TPU available: False, using: 0 TPU cores\n",
      "HPU available: False, using: 0 HPUs\n",
      "\n",
      "  | Name            | Type             | Params | Mode \n",
      "-------------------------------------------------------------\n",
      "0 | criterion       | MSELoss          | 0      | train\n",
      "1 | train_criterion | MSELoss          | 0      | train\n",
      "2 | val_criterion   | MSELoss          | 0      | train\n",
      "3 | train_metrics   | MetricCollection | 0      | train\n",
      "4 | val_metrics     | MetricCollection | 0      | train\n",
      "5 | rnn             | LSTM             | 9.3 K  | train\n",
      "6 | V               | Linear           | 26     | train\n",
      "-------------------------------------------------------------\n",
      "9.3 K     Trainable params\n",
      "0         Non-trainable params\n",
      "9.3 K     Total params\n",
      "0.037     Total estimated model params size (MB)\n",
      "7         Modules in train mode\n",
      "0         Modules in eval mode\n"
     ]
    },
    {
     "name": "stdout",
     "output_type": "stream",
     "text": [
      "Epoch 99: 100%|██████████| 5/5 [00:00<00:00, 94.31it/s, train_loss=0.0834] "
     ]
    },
    {
     "name": "stderr",
     "output_type": "stream",
     "text": [
      "`Trainer.fit` stopped: `max_epochs=100` reached.\n"
     ]
    },
    {
     "name": "stdout",
     "output_type": "stream",
     "text": [
      "Epoch 99: 100%|██████████| 5/5 [00:00<00:00, 94.31it/s, train_loss=0.0834]\n",
      " saved.\n"
     ]
    },
    {
     "name": "stderr",
     "output_type": "stream",
     "text": [
      "GPU available: False, used: False\n",
      "TPU available: False, using: 0 TPU cores\n",
      "HPU available: False, using: 0 HPUs\n"
     ]
    },
    {
     "name": "stdout",
     "output_type": "stream",
     "text": [
      "Predicting DataLoader 0: 100%|██████████| 1/1 [00:00<?, ?it/s]\n",
      "std_p: 0.59, corr: 0.75, rmse: 0.63, mae_v: 0.49,sm: 95.48 - ExtraTF \n",
      "std_p: 0.71, corr: 0.87, rmse: 0.50, mae_v: 0.40,sm: 72.80 - RandomRF \n",
      "std_p: 0.45, corr: 0.82, rmse: 0.62, mae_v: 0.54,sm: 101.83 - SVR \n",
      "std_p: 0.94, corr: 0.88, rmse: 0.46, mae_v: 0.40,sm: 70.65 - LSTM \n",
      "std_p: 0.69, corr: 0.00, rmse: 1.17, mae_v: 0.98,sm: 148.82 - WBBLSTM \n",
      "✔️ Done with 88107 | 6\n",
      "\n",
      "\n",
      "=== Station 88107 | 9 ===\n",
      "!!!@@@------Training ExtraTF… saved.\n",
      "!!!@@@------Training RandomRF… saved.\n"
     ]
    },
    {
     "name": "stderr",
     "output_type": "stream",
     "text": [
      "ignoring user defined `output_chunk_length`. RNNModel uses a fixed `output_chunk_length=1`.\n",
      "GPU available: False, used: False\n",
      "TPU available: False, using: 0 TPU cores\n",
      "HPU available: False, using: 0 HPUs\n",
      "\n",
      "  | Name            | Type             | Params | Mode \n",
      "-------------------------------------------------------------\n",
      "0 | criterion       | MSELoss          | 0      | train\n",
      "1 | train_criterion | MSELoss          | 0      | train\n",
      "2 | val_criterion   | MSELoss          | 0      | train\n",
      "3 | train_metrics   | MetricCollection | 0      | train\n",
      "4 | val_metrics     | MetricCollection | 0      | train\n",
      "5 | rnn             | LSTM             | 9.3 K  | train\n",
      "6 | V               | Linear           | 26     | train\n",
      "-------------------------------------------------------------\n",
      "9.3 K     Trainable params\n",
      "0         Non-trainable params\n",
      "9.3 K     Total params\n",
      "0.037     Total estimated model params size (MB)\n",
      "7         Modules in train mode\n",
      "0         Modules in eval mode\n"
     ]
    },
    {
     "name": "stdout",
     "output_type": "stream",
     "text": [
      "!!!@@@------Training SVR… saved.\n",
      "Epoch 99: 100%|██████████| 10/10 [00:00<00:00, 94.22it/s, train_loss=0.0198] "
     ]
    },
    {
     "name": "stderr",
     "output_type": "stream",
     "text": [
      "`Trainer.fit` stopped: `max_epochs=100` reached.\n"
     ]
    },
    {
     "name": "stdout",
     "output_type": "stream",
     "text": [
      "Epoch 99: 100%|██████████| 10/10 [00:00<00:00, 92.64it/s, train_loss=0.0198]"
     ]
    },
    {
     "name": "stderr",
     "output_type": "stream",
     "text": [
      "GPU available: False, used: False\n"
     ]
    },
    {
     "name": "stdout",
     "output_type": "stream",
     "text": [
      "\n",
      " saved.\n"
     ]
    },
    {
     "name": "stderr",
     "output_type": "stream",
     "text": [
      "TPU available: False, using: 0 TPU cores\n",
      "HPU available: False, using: 0 HPUs\n"
     ]
    },
    {
     "name": "stdout",
     "output_type": "stream",
     "text": [
      "Predicting DataLoader 0: 100%|██████████| 1/1 [00:00<00:00, 121.15it/s]\n",
      "!!!@@@------Training WBBLSTM…"
     ]
    },
    {
     "name": "stderr",
     "output_type": "stream",
     "text": [
      "ignoring user defined `output_chunk_length`. RNNModel uses a fixed `output_chunk_length=1`.\n",
      "GPU available: False, used: False\n",
      "TPU available: False, using: 0 TPU cores\n",
      "HPU available: False, using: 0 HPUs\n",
      "\n",
      "  | Name            | Type             | Params | Mode \n",
      "-------------------------------------------------------------\n",
      "0 | criterion       | MSELoss          | 0      | train\n",
      "1 | train_criterion | MSELoss          | 0      | train\n",
      "2 | val_criterion   | MSELoss          | 0      | train\n",
      "3 | train_metrics   | MetricCollection | 0      | train\n",
      "4 | val_metrics     | MetricCollection | 0      | train\n",
      "5 | rnn             | LSTM             | 9.3 K  | train\n",
      "6 | V               | Linear           | 26     | train\n",
      "-------------------------------------------------------------\n",
      "9.3 K     Trainable params\n",
      "0         Non-trainable params\n",
      "9.3 K     Total params\n",
      "0.037     Total estimated model params size (MB)\n",
      "7         Modules in train mode\n",
      "0         Modules in eval mode\n"
     ]
    },
    {
     "name": "stdout",
     "output_type": "stream",
     "text": [
      "Epoch 99: 100%|██████████| 5/5 [00:00<00:00, 85.22it/s, train_loss=0.0975] "
     ]
    },
    {
     "name": "stderr",
     "output_type": "stream",
     "text": [
      "`Trainer.fit` stopped: `max_epochs=100` reached.\n"
     ]
    },
    {
     "name": "stdout",
     "output_type": "stream",
     "text": [
      "Epoch 99: 100%|██████████| 5/5 [00:00<00:00, 83.36it/s, train_loss=0.0975]\n",
      " saved.\n"
     ]
    },
    {
     "name": "stderr",
     "output_type": "stream",
     "text": [
      "GPU available: False, used: False\n",
      "TPU available: False, using: 0 TPU cores\n",
      "HPU available: False, using: 0 HPUs\n"
     ]
    },
    {
     "name": "stdout",
     "output_type": "stream",
     "text": [
      "Predicting DataLoader 0: 100%|██████████| 1/1 [00:00<00:00, 52.69it/s]\n",
      "negative corr\n",
      "std_p: 0.73, corr: 0.19, rmse: 1.21, mae_v: 1.02,sm: 144.67 - ExtraTF \n",
      "std_p: 0.74, corr: 0.78, rmse: 0.61, mae_v: 0.49,sm: 91.29 - RandomRF \n",
      "std_p: 0.44, corr: 0.74, rmse: 0.70, mae_v: 0.59,sm: 114.73 - SVR \n",
      "std_p: 0.84, corr: 0.88, rmse: 0.46, mae_v: 0.40,sm: 77.45 - LSTM \n",
      "std_p: 0.48, corr: 0.23, rmse: 0.97, mae_v: 0.83,sm: 151.40 - WBBLSTM \n",
      "✔️ Done with 88107 | 9\n",
      "\n",
      "\n",
      "=== Station 88107 | 12 ===\n",
      "!!!@@@------Training ExtraTF… saved.\n",
      "!!!@@@------Training RandomRF… saved.\n"
     ]
    },
    {
     "name": "stderr",
     "output_type": "stream",
     "text": [
      "ignoring user defined `output_chunk_length`. RNNModel uses a fixed `output_chunk_length=1`.\n",
      "GPU available: False, used: False\n",
      "TPU available: False, using: 0 TPU cores\n",
      "HPU available: False, using: 0 HPUs\n",
      "\n",
      "  | Name            | Type             | Params | Mode \n",
      "-------------------------------------------------------------\n",
      "0 | criterion       | MSELoss          | 0      | train\n",
      "1 | train_criterion | MSELoss          | 0      | train\n",
      "2 | val_criterion   | MSELoss          | 0      | train\n",
      "3 | train_metrics   | MetricCollection | 0      | train\n",
      "4 | val_metrics     | MetricCollection | 0      | train\n",
      "5 | rnn             | LSTM             | 9.3 K  | train\n",
      "6 | V               | Linear           | 26     | train\n",
      "-------------------------------------------------------------\n",
      "9.3 K     Trainable params\n",
      "0         Non-trainable params\n",
      "9.3 K     Total params\n",
      "0.037     Total estimated model params size (MB)\n",
      "7         Modules in train mode\n",
      "0         Modules in eval mode\n"
     ]
    },
    {
     "name": "stdout",
     "output_type": "stream",
     "text": [
      "!!!@@@------Training SVR… saved.\n",
      "Epoch 99: 100%|██████████| 10/10 [00:00<00:00, 117.79it/s, train_loss=0.0273]"
     ]
    },
    {
     "name": "stderr",
     "output_type": "stream",
     "text": [
      "`Trainer.fit` stopped: `max_epochs=100` reached.\n"
     ]
    },
    {
     "name": "stdout",
     "output_type": "stream",
     "text": [
      "Epoch 99: 100%|██████████| 10/10 [00:00<00:00, 99.21it/s, train_loss=0.0273] \n",
      " saved.\n"
     ]
    },
    {
     "name": "stderr",
     "output_type": "stream",
     "text": [
      "GPU available: False, used: False\n",
      "TPU available: False, using: 0 TPU cores\n",
      "HPU available: False, using: 0 HPUs\n"
     ]
    },
    {
     "name": "stdout",
     "output_type": "stream",
     "text": [
      "Predicting DataLoader 0: 100%|██████████| 1/1 [00:00<00:00, 85.42it/s]"
     ]
    },
    {
     "name": "stderr",
     "output_type": "stream",
     "text": [
      "ignoring user defined `output_chunk_length`. RNNModel uses a fixed `output_chunk_length=1`.\n"
     ]
    },
    {
     "name": "stdout",
     "output_type": "stream",
     "text": [
      "\n",
      "!!!@@@------Training WBBLSTM…"
     ]
    },
    {
     "name": "stderr",
     "output_type": "stream",
     "text": [
      "GPU available: False, used: False\n",
      "TPU available: False, using: 0 TPU cores\n",
      "HPU available: False, using: 0 HPUs\n",
      "\n",
      "  | Name            | Type             | Params | Mode \n",
      "-------------------------------------------------------------\n",
      "0 | criterion       | MSELoss          | 0      | train\n",
      "1 | train_criterion | MSELoss          | 0      | train\n",
      "2 | val_criterion   | MSELoss          | 0      | train\n",
      "3 | train_metrics   | MetricCollection | 0      | train\n",
      "4 | val_metrics     | MetricCollection | 0      | train\n",
      "5 | rnn             | LSTM             | 9.3 K  | train\n",
      "6 | V               | Linear           | 26     | train\n",
      "-------------------------------------------------------------\n",
      "9.3 K     Trainable params\n",
      "0         Non-trainable params\n",
      "9.3 K     Total params\n",
      "0.037     Total estimated model params size (MB)\n",
      "7         Modules in train mode\n",
      "0         Modules in eval mode\n"
     ]
    },
    {
     "name": "stdout",
     "output_type": "stream",
     "text": [
      "Epoch 99: 100%|██████████| 4/4 [00:00<00:00, 83.63it/s, train_loss=0.105]  "
     ]
    },
    {
     "name": "stderr",
     "output_type": "stream",
     "text": [
      "`Trainer.fit` stopped: `max_epochs=100` reached.\n"
     ]
    },
    {
     "name": "stdout",
     "output_type": "stream",
     "text": [
      "Epoch 99: 100%|██████████| 4/4 [00:00<00:00, 81.90it/s, train_loss=0.105]\n",
      " saved.\n"
     ]
    },
    {
     "name": "stderr",
     "output_type": "stream",
     "text": [
      "GPU available: False, used: False\n",
      "TPU available: False, using: 0 TPU cores\n",
      "HPU available: False, using: 0 HPUs\n"
     ]
    },
    {
     "name": "stdout",
     "output_type": "stream",
     "text": [
      "Predicting DataLoader 0: 100%|██████████| 1/1 [00:00<00:00, 123.08it/s]\n",
      "std_p: 0.71, corr: 0.28, rmse: 1.39, mae_v: 1.20,sm: 168.01 - ExtraTF \n",
      "std_p: 0.68, corr: 0.78, rmse: 0.61, mae_v: 0.50,sm: 101.80 - RandomRF \n",
      "std_p: 0.44, corr: 0.70, rmse: 0.69, mae_v: 0.56,sm: 122.24 - SVR \n",
      "std_p: 0.79, corr: 0.84, rmse: 0.61, mae_v: 0.51,sm: 108.20 - LSTM \n",
      "std_p: 0.50, corr: 0.42, rmse: 1.32, mae_v: 1.11,sm: 154.84 - WBBLSTM \n",
      "✔️ Done with 88107 | 12\n",
      "\n",
      "\n",
      "=== Station 88107 | 24 ===\n",
      "!!!@@@------Training ExtraTF… saved.\n",
      "!!!@@@------Training RandomRF… saved.\n"
     ]
    },
    {
     "name": "stderr",
     "output_type": "stream",
     "text": [
      "ignoring user defined `output_chunk_length`. RNNModel uses a fixed `output_chunk_length=1`.\n",
      "GPU available: False, used: False\n",
      "TPU available: False, using: 0 TPU cores\n",
      "HPU available: False, using: 0 HPUs\n",
      "\n",
      "  | Name            | Type             | Params | Mode \n",
      "-------------------------------------------------------------\n",
      "0 | criterion       | MSELoss          | 0      | train\n",
      "1 | train_criterion | MSELoss          | 0      | train\n",
      "2 | val_criterion   | MSELoss          | 0      | train\n",
      "3 | train_metrics   | MetricCollection | 0      | train\n",
      "4 | val_metrics     | MetricCollection | 0      | train\n",
      "5 | rnn             | LSTM             | 9.3 K  | train\n",
      "6 | V               | Linear           | 26     | train\n",
      "-------------------------------------------------------------\n",
      "9.3 K     Trainable params\n",
      "0         Non-trainable params\n",
      "9.3 K     Total params\n",
      "0.037     Total estimated model params size (MB)\n",
      "7         Modules in train mode\n",
      "0         Modules in eval mode\n"
     ]
    },
    {
     "name": "stdout",
     "output_type": "stream",
     "text": [
      "!!!@@@------Training SVR… saved.\n",
      "Epoch 99: 100%|██████████| 9/9 [00:00<00:00, 93.99it/s, train_loss=0.0208] "
     ]
    },
    {
     "name": "stderr",
     "output_type": "stream",
     "text": [
      "`Trainer.fit` stopped: `max_epochs=100` reached.\n"
     ]
    },
    {
     "name": "stdout",
     "output_type": "stream",
     "text": [
      "Epoch 99: 100%|██████████| 9/9 [00:00<00:00, 93.99it/s, train_loss=0.0208]\n",
      " saved.\n"
     ]
    },
    {
     "name": "stderr",
     "output_type": "stream",
     "text": [
      "GPU available: False, used: False\n",
      "TPU available: False, using: 0 TPU cores\n",
      "HPU available: False, using: 0 HPUs\n"
     ]
    },
    {
     "name": "stdout",
     "output_type": "stream",
     "text": [
      "Predicting DataLoader 0: 100%|██████████| 1/1 [00:00<00:00, 133.58it/s]\n",
      "!!!@@@------Training WBBLSTM…"
     ]
    },
    {
     "name": "stderr",
     "output_type": "stream",
     "text": [
      "ignoring user defined `output_chunk_length`. RNNModel uses a fixed `output_chunk_length=1`.\n",
      "GPU available: False, used: False\n",
      "TPU available: False, using: 0 TPU cores\n",
      "HPU available: False, using: 0 HPUs\n",
      "\n",
      "  | Name            | Type             | Params | Mode \n",
      "-------------------------------------------------------------\n",
      "0 | criterion       | MSELoss          | 0      | train\n",
      "1 | train_criterion | MSELoss          | 0      | train\n",
      "2 | val_criterion   | MSELoss          | 0      | train\n",
      "3 | train_metrics   | MetricCollection | 0      | train\n",
      "4 | val_metrics     | MetricCollection | 0      | train\n",
      "5 | rnn             | LSTM             | 9.3 K  | train\n",
      "6 | V               | Linear           | 26     | train\n",
      "-------------------------------------------------------------\n",
      "9.3 K     Trainable params\n",
      "0         Non-trainable params\n",
      "9.3 K     Total params\n",
      "0.037     Total estimated model params size (MB)\n",
      "7         Modules in train mode\n",
      "0         Modules in eval mode\n"
     ]
    },
    {
     "name": "stdout",
     "output_type": "stream",
     "text": [
      "Epoch 99: 100%|██████████| 4/4 [00:00<00:00, 85.95it/s, train_loss=0.0988] "
     ]
    },
    {
     "name": "stderr",
     "output_type": "stream",
     "text": [
      "`Trainer.fit` stopped: `max_epochs=100` reached.\n"
     ]
    },
    {
     "name": "stdout",
     "output_type": "stream",
     "text": [
      "Epoch 99: 100%|██████████| 4/4 [00:00<00:00, 85.95it/s, train_loss=0.0988]\n",
      " saved.\n"
     ]
    },
    {
     "name": "stderr",
     "output_type": "stream",
     "text": [
      "GPU available: False, used: False\n",
      "TPU available: False, using: 0 TPU cores\n",
      "HPU available: False, using: 0 HPUs\n"
     ]
    },
    {
     "name": "stdout",
     "output_type": "stream",
     "text": [
      "Predicting DataLoader 0: 100%|██████████| 1/1 [00:00<00:00, 115.14it/s]\n",
      "std_p: 1.18, corr: 0.68, rmse: 0.87, mae_v: 0.71,sm: 99.44 - ExtraTF \n",
      "std_p: 0.85, corr: 0.82, rmse: 0.53, mae_v: 0.39,sm: 70.30 - RandomRF \n",
      "std_p: 0.48, corr: 0.75, rmse: 0.62, mae_v: 0.49,sm: 90.51 - SVR \n",
      "std_p: 0.63, corr: 0.71, rmse: 0.86, mae_v: 0.75,sm: 132.13 - LSTM \n",
      "std_p: 0.45, corr: 0.51, rmse: 0.81, mae_v: 0.57,sm: 79.50 - WBBLSTM \n",
      "✔️ Done with 88107 | 24\n",
      "\n",
      "📄 Results saved as CSV: results\\results_summary.csv\n"
     ]
    }
   ],
   "source": [
    "results = {}  \n",
    "base_dir = \"results\"\n",
    "os.makedirs(base_dir, exist_ok=True)\n",
    "\n",
    "df = load_data('./finaldata.csv')\n",
    "stations = df['station'].unique()\n",
    "summary = []\n",
    "\n",
    "def model_score(stats):\n",
    "    std_o, std_p, corr, rmse, mape_val, _ = stats\n",
    "    std_diff = abs(std_o - std_p)\n",
    "    return (\n",
    "        rmse + mape_val + std_diff - corr  \n",
    "    )\n",
    "\n",
    "plot_start = pd.Timestamp(\"2017-01-01\")\n",
    "plot_end   = pd.Timestamp(\"2024-04-01\")\n",
    "\n",
    "for st in stations:\n",
    "    df_st = df[df['station'] == st].copy()\n",
    "    for ts in [1,3,6,9,12,24]:\n",
    "        plt.figure(figsize=(12, 4))\n",
    "        results[st] = {}\n",
    "        data = make_features(df_st, ts)\n",
    "        print(f\"\\n=== Station {st} | {ts} ===\")\n",
    "        target_series = TimeSeries.from_series(data[\"spi_deseason\"])\n",
    "        covariates = TimeSeries.from_dataframe(\n",
    "            data[[\"rainfall\"] + [f\"spi_lag_{i}\" for i in range(1, 13)]]\n",
    "        )\n",
    "        target_series, covariates = target_series.slice_intersect(covariates), covariates.slice_intersect(target_series)\n",
    "\n",
    "        train, val = target_series.split_before(0.8)\n",
    "        target_series.slice(plot_start, plot_end).plot(label=\"Observed\", lw=2)\n",
    "\n",
    "        model_folder = os.path.join(base_dir, f\"{st}/{ts}\")\n",
    "        os.makedirs(model_folder, exist_ok=True)\n",
    "\n",
    "        model_stats = {}\n",
    "        forecasts = {}\n",
    "        for name, mk in model_constructors.items():\n",
    "            model_path = os.path.join(model_folder, name)\n",
    "            if os.path.exists(model_path):\n",
    "                print(f\"Model {name} already trained. Skipping.\")\n",
    "                model_class = {\n",
    "                    'LSTM': RNNModel,\n",
    "                    'SVR': RegressionModel,\n",
    "                    'RandomRF': RandomForest,\n",
    "                    'ExtraTF': XGBModel,\n",
    "                    'WBBLSTM': WBBLSTMModel\n",
    "                }[name]\n",
    "                print(f\"!!!@@@-----Loading {name} model from {model_path}…\")\n",
    "                model = model_class.load(model_path)\n",
    "\n",
    "            else:\n",
    "                print(f\"!!!@@@------Training {name}…\", end='')\n",
    "                model = mk()\n",
    "                model.fit(series=train, future_covariates=covariates)\n",
    "                model.save(model_path)\n",
    "\n",
    "                print(\" saved.\")\n",
    "\n",
    "            forecast = model.predict(len(val), series=train, future_covariates=covariates)\n",
    "            forecast_zoom = forecast.slice(plot_start, plot_end)\n",
    "            forecast_zoom.plot(label=name, lw=1.8)\n",
    "            o = val.values().flatten()\n",
    "            p = forecast.values().flatten()\n",
    "\n",
    "            corr = pearsonr(o, p)[0]\n",
    "            if corr < 0:\n",
    "                print('negative corr')\n",
    "                p = -p\n",
    "                corr = -corr\n",
    "\n",
    "\n",
    "            rm   = np.sqrt(mean_squared_error(o, p))\n",
    "            mae_v= mean_absolute_error(o, p)\n",
    "            sm   = np.mean(2 * np.abs(o-p) / (np.abs(o)+np.abs(p))) * 100\n",
    "\n",
    "            model_stats[name] = (np.std(o), np.std(p), corr, rm, mae_v, sm)\n",
    "            \n",
    "            forecasts[name] = forecast\n",
    "\n",
    "\n",
    "        plt.title(f\"Model Comparison — Station {st} | Timescale: SPI-{ts}\", fontsize=14)\n",
    "        plt.xlabel(\"Time\")\n",
    "        plt.ylabel(\"SPI Value\")\n",
    "        plt.grid(True)\n",
    "        plt.legend()\n",
    "        plt.tight_layout()\n",
    "        plt.savefig(os.path.join(model_folder, f\"all_models_{st}_{ts}.png\"), dpi=300)\n",
    "        plt.close()\n",
    "        results[st][f\"spi_{ts}\"] = model_stats\n",
    "        for model_name, stats in model_stats.items():\n",
    "                        std_o, std_p, corr, rmse, mae, smape = stats\n",
    "                        score = model_score(stats)\n",
    "                        summary.append({\n",
    "                            'Station': st,\n",
    "                            'Timescale': ts,\n",
    "                            'Model': model_name,\n",
    "                            'STD_Obs': std_o,\n",
    "                            'STD_Pred': std_p,\n",
    "                            'Corr': corr,\n",
    "                            'RMSE': rmse,\n",
    "                            'MAE': mae,\n",
    "                            'SMAPE': smape,\n",
    "                            'Score': score,\n",
    "                        })\n",
    "\n",
    "        # Taylor Diagram\n",
    "        ref_std = list(model_stats.values())[0][0]\n",
    "        fig = plt.figure(figsize=(6, 6))\n",
    "        taylor = TaylorDiagram(ref_std, fig, label='Observed')\n",
    "        for name, (std_o, std_p, corr, rmse,mae_v,sm) in model_stats.items():\n",
    "            print(f\"std_p: {std_p:.2f}, corr: {corr:.2f}, rmse: {rmse:.2f}, mae_v: {mae_v:.2f},sm: {sm:.2f} - {name} \")\n",
    "            if np.isnan(std_p) or np.isnan(corr) or std_p == 0:\n",
    "                print(f\"⚠️ Skipping {name} due to invalid metrics.\")\n",
    "                continue\n",
    "            taylor.add_sample(std_p, corr, label=name)\n",
    "        taylor.add_contours()\n",
    "        plt.legend()\n",
    "        plt.title(f\"Taylor Diagram: Station {st} | {ts}\")\n",
    "        plt.tight_layout()\n",
    "        fig.savefig(os.path.join(model_folder, f\"taylor_{st}_{ts}.png\"))\n",
    "        plt.close()\n",
    "\n",
    "        # Best model\n",
    "        best_model = min(model_stats.items(), key=lambda x: model_score(x[1]))[0]\n",
    "\n",
    "        # Plot val vs pred\n",
    "        _, val = target_series.split_before(0.8)\n",
    "        time_idx = val.time_index\n",
    "        pred = forecasts[best_model]\n",
    "        val_df  = val.to_dataframe()  \n",
    "        pred_df = pred.to_dataframe()\n",
    "        plt.figure(figsize=(12, 4))\n",
    "        val.plot(label=\"Observed\")\n",
    "        pred.plot(label=f\"Forecast - {best_model}\")\n",
    "        plt.title(f\"Validation vs Prediction — {st} | {ts}\")\n",
    "        plt.grid(True)\n",
    "        plt.legend()\n",
    "        plt.tight_layout()\n",
    "        plt.savefig(os.path.join(model_folder, f\"val_vs_pred_{st}_{ts}.png\"))\n",
    "        plt.close()\n",
    "\n",
    "\n",
    "\n",
    "        print(f\"✔️ Done with {st} | {ts}\\n\")\n",
    "    df_summary = pd.DataFrame(summary)\n",
    "    # Identify best model (custom score and RMSE)\n",
    "    df_summary['Best_Model'] = df_summary.groupby(['Station', 'Timescale'])['Score'].transform(\n",
    "        lambda x: x == x.min()\n",
    "    )\n",
    "    df_summary['Best_RMSE'] = df_summary.groupby(['Station', 'Timescale'])['RMSE'].transform(\n",
    "        lambda x: x == x.min()\n",
    "    )\n",
    "    df_summary['Winner'] = df_summary.apply(\n",
    "    lambda row: '✔️' if row['Best_Model'] else '', axis=1\n",
    ")\n",
    "\n",
    "    # Save CSV\n",
    "    df_summary_path = os.path.join(base_dir, 'results_summary.csv')\n",
    "    df_summary.to_csv(df_summary_path, index=False)\n",
    "    print(f\"📄 Results saved as CSV: {df_summary_path}\")\n"
   ]
  },
  {
   "cell_type": "markdown",
   "id": "c489fa27",
   "metadata": {},
   "source": [
    "forecasting with best model"
   ]
  },
  {
   "cell_type": "code",
   "execution_count": null,
   "id": "94cc4433",
   "metadata": {},
   "outputs": [],
   "source": [
    "        # spi_df = future.pd_dataframe().reset_index()\n",
    "        # spi_df['year'] = pd.to_datetime(spi_df['date']).dt.year\n",
    "        # spi_df['month'] = pd.to_datetime(spi_df['date']).dt.month\n",
    "\n",
    "        # # SPI heatmap\n",
    "        # heatmap_data = spi_df.pivot_table(index='year', columns='month', values=\"spi_deseason\")\n",
    "        # plt.figure(figsize=(12, 8))\n",
    "        # sns.heatmap(heatmap_data, cmap='rocket', center=0, annot=True, fmt=\".2f\")\n",
    "        # plt.title(f\"SPI Heatmap — {ts} — {st}\")\n",
    "        # plt.xlabel(\"Month\")\n",
    "        # plt.ylabel(\"Year\")\n",
    "        # plt.tight_layout()\n",
    "        # plt.grid(False)\n",
    "        # plt.savefig(os.path.join(base_dir, f\"{st}/heatmap_{ts}.png\"))\n",
    "        # plt.show()\n",
    "\n",
    "\n",
    "        # spi_df['category'] = pd.cut(spi_df[\"spi_deseason\"], bins=[-np.inf, -1, 1, np.inf], labels=['Dry', 'Normal', 'Wet'])\n",
    "        # colors = {'Dry': 'red', 'Normal': 'gray', 'Wet': 'blue'}\n",
    "\n",
    "        # plt.figure(figsize=(14, 6))\n",
    "        # for category, color in colors.items():\n",
    "        #     mask = spi_df['category'] == category\n",
    "        #     plt.scatter(spi_df['date'][mask], spi_df['spi_deseason'][mask], c=color, label=category)\n",
    "\n",
    "        # plt.axhline(0, color='black', lw=1, linestyle='--')\n",
    "        # plt.title(f\"SPI Categories: Dry / Normal / Wet — {st} | {ts}\")\n",
    "        # plt.xlabel(\"Date\")\n",
    "        # plt.ylabel(\"SPI Value\")\n",
    "        # plt.grid(True)\n",
    "        # plt.tight_layout()\n",
    "        # plt.legend()\n",
    "        # plt.savefig(os.path.join(base_dir, f\"{st}/scatter_{ts}.png\"))\n",
    "        # plt.show()\n",
    "\n",
    "\n",
    "        # # Use a simple threshold detector\n",
    "        # detector = ThresholdAD(low_threshold=-1.5, high_threshold=1.5)\n",
    "        # anomalies = detector.detect(full_series)\n",
    "\n",
    "        # # Plot\n",
    "        # full_series.plot(label=\"SPI\")\n",
    "        # anomalies.plot(label=\"Anomalies\", color='red', marker='o')\n",
    "        # plt.legend()\n",
    "        # plt.title(f\"Darts Anomaly Detection — {station_id} | {col}\")\n",
    "        # plt.show()\n",
    "\n",
    "#     # best.fit(series=target_series, future_covariates=covariates)\n",
    "        #     best.fit(series=target_series)\n",
    "\n",
    "        \n",
    "\n",
    "        # cov_df = covariates.pd_dataframe()  # or however you get a pandas DataFrame\n",
    "        # cov_df['month'] = cov_df.index.month\n",
    "\n",
    "        # # Compute monthly means for each column except 'month'\n",
    "        # monthly_means = cov_df.groupby('month').mean()\n",
    "\n",
    "        # # 2) Build the future date index from May 2024 to April 2051\n",
    "        # last_hist = covariates.end_time()         # e.g. Timestamp('2024-04-01 00:00:00')\n",
    "        # start_future = last_hist + MonthEnd(1)    # gives end of month, but for MS freq it lines up\n",
    "        # future_idx = pd.date_range(start=start_future,\n",
    "        #                         end=\"2051-04-01\",\n",
    "        #                         freq=\"MS\")\n",
    "\n",
    "        # # 3) Create a DataFrame for future covariates by mapping each future month to its climatology\n",
    "        # df_future = pd.DataFrame(index=future_idx)\n",
    "\n",
    "        # # For each covariate column, fill with the corresponding monthly mean\n",
    "        # for col in monthly_means.columns:\n",
    "        #     df_future[col] = [monthly_means.loc[m, col] for m in df_future.index.month]\n",
    "\n",
    "        # # 4) Convert to a Darts TimeSeries\n",
    "        # full_df = pd.concat([covariates.pd_dataframe(), df_future])\n",
    "        # future_covariates = TimeSeries.from_dataframe(full_df)\n",
    "        # future_covariates = TimeSeries.from_dataframe(df_future)\n",
    "        # Forecast to 2050\n",
    "        # horizon = (pd.Timestamp(\"2050-12-01\") - target_series.end_time()).days // 30\n",
    "        # future = best.predict(horizon, series=target_series,future_covariates=future_covariates)\n",
    "        # future = best.predict(horizon, series=target_series)\n",
    "\n",
    "\n",
    "        # if not isinstance(future.time_index, pd.DatetimeIndex):\n",
    "        #     future = TimeSeries.from_times_and_values(\n",
    "        #         pd.date_range(\n",
    "        #             start=target_series.end_time() + pd.DateOffset(months=1),\n",
    "        #             periods=len(future),\n",
    "        #             freq=\"MS\"\n",
    "        #         ),\n",
    "        #         future.values(),\n",
    "        #         columns=target_series.components\n",
    "        #     )\n",
    "\n",
    "        # historical = target_series\n",
    "        # full_series = historical.append(future)\n",
    "\n",
    "        # plt.figure(figsize=(12, 4))\n",
    "        # full_series.plot(label=\"SPI\")\n",
    "        # plt.axvline(x=historical.end_time(), color='r', linestyle='--', label=\"Forecast Start\")\n",
    "        # plt.title(f\"Forecast 2050 {st} | {ts}: {best_model}\")\n",
    "\n",
    "        # plt.xlabel(\"Time\")\n",
    "        # plt.ylabel(\"SPI\")\n",
    "        # plt.grid(True)\n",
    "        # plt.legend()\n",
    "        # plt.tight_layout()\n",
    "        # plt.savefig(os.path.join(model_folder, f\"{st}/Forecast_{ts}.png\"))\n",
    "        # plt.show()"
   ]
  },
  {
   "cell_type": "markdown",
   "id": "e478a3e1",
   "metadata": {},
   "source": [
    "Loop over stations & timescales, \n",
    " forecast"
   ]
  },
  {
   "cell_type": "markdown",
   "id": "bfdf9ee0",
   "metadata": {},
   "source": [
    "then auto slide creation or pdf"
   ]
  },
  {
   "cell_type": "code",
   "execution_count": null,
   "id": "f5d1a857",
   "metadata": {},
   "outputs": [],
   "source": [
    "ppt_path = os.path.join(base_dir, \"SPI_Results_Summary.pptx\")\n",
    "prs = Presentation()\n",
    "\n",
    "title_slide_layout = prs.slide_layouts[0]\n",
    "blank_slide_layout = prs.slide_layouts[6]\n",
    "\n",
    "# Title slide\n",
    "slide = prs.slides.add_slide(title_slide_layout)\n",
    "slide.shapes.title.text = \"SPI Forecast & Evaluation Summary\"\n",
    "# slide.placeholders[1].text = \"Auto-generated using python-pptx\\nIncludes Taylor Diagrams, Heatmaps, Model Metrics & Forecasts\"\n",
    "\n",
    "# image_summaries = {\n",
    "#     \"val_vs_pred\": \"Comparison of predicted vs. actual SPI values. Good alignment indicates accurate forecasting.\",\n",
    "#     \"heatmap\": \"Heatmap of forecast performance over time. Brighter regions indicate higher error or uncertainty.\",\n",
    "#     \"taylor\": \"Taylor diagram summarizing model skill. Closer proximity to reference indicates better performance.\",\n",
    "#     \"scatter\": \"Scatter plot of predicted vs. observed SPI. Closer points to diagonal line show better predictions.\"\n",
    "# }\n",
    "\n",
    "def generate_summary(img_type, model_metrics):\n",
    "    \"\"\"Create a smart summary based on image type and model metrics.\"\"\"\n",
    "    if not model_metrics:\n",
    "        return \"Performance data not available.\"\n",
    "\n",
    "    # Pick the best model based on RMSE (you can use another metric too)\n",
    "    best_model, (std_o, std_p, corr, rmse, mape,sm) = min(model_metrics.items(), key=lambda x: x[1][3])  # sort by RMSE\n",
    "\n",
    "    # Interpret performance\n",
    "    if rmse < 0.3 and mape < 10 and corr > 0.85:\n",
    "        perf = \"excellent\"\n",
    "    elif rmse < 0.6 and mape < 20 and corr > 0.65:\n",
    "        perf = \"reasonable\"\n",
    "    else:\n",
    "        perf = \"poor\"\n",
    "\n",
    "    # Now create summaries\n",
    "    if img_type == \"val_vs_pred\":\n",
    "        return f\"Predicted vs. observed SPI using {best_model}. Alignment is {perf}, with RMSE={rmse:.2f}, Corr={corr:.2f}.\"\n",
    "    elif img_type == \"heatmap\":\n",
    "        return f\"Heatmap of error over time for {best_model}. Performance is {perf}, with average MAPE={mape:.1f}%.\"\n",
    "    elif img_type == \"taylor\":\n",
    "        return f\"Taylor diagram showing model spread vs. observed. {best_model} shows {perf} alignment with reference point.\"\n",
    "    elif img_type == \"scatter\":\n",
    "        return f\"Scatter plot for {best_model}. {perf.capitalize()} correlation between predictions and observations (Corr={corr:.2f}).\"\n",
    "    else:\n",
    "        return \"Performance visualization.\"\n",
    "\n",
    "# Loop through all stations\n",
    "for station_id in sorted(os.listdir(base_dir)):\n",
    "    station_path = os.path.join(base_dir, station_id)\n",
    "    if not os.path.isdir(station_path):\n",
    "        continue\n",
    "\n",
    "    for col in results.get(int(station_id), {}):  # Ensure `station_id` matches results keys\n",
    "        # Add slide for this station/SPI\n",
    "        slide = prs.slides.add_slide(blank_slide_layout)\n",
    "        # Add title\n",
    "        title_box = slide.shapes.add_textbox(Inches(0.5), Inches(0.3), Inches(9), Inches(0.5))\n",
    "        tf = title_box.text_frame\n",
    "        tf.text = f\"Station {station_id} — {col}\"\n",
    "        tf.paragraphs[0].font.size = Pt(24)\n",
    "        tf.paragraphs[0].font.bold = True\n",
    "\n",
    "        # Add metrics table\n",
    "        metrics = results[int(station_id)][col]\n",
    "        rows, cols = len(metrics) + 1, 6\n",
    "        table = slide.shapes.add_table(rows, cols, Inches(0.5), Inches(1), Inches(8), Inches(0.6 + rows * 0.4)).table\n",
    "        table.cell(0, 0).text = \"Model\"\n",
    "        table.cell(0, 1).text = \"RMSE\"\n",
    "        table.cell(0, 2).text = \"MAPE\"\n",
    "        table.cell(0, 3).text = \"Corr\"\n",
    "        table.cell(0, 4).text = \"Std. Dev (Pred)\"\n",
    "        table.cell(0, 5).text = \"smape\"\n",
    "\n",
    "        for i, (model_name, (std_o, std_p, corr, rmse, mape,sm)) in enumerate(metrics.items(), start=1):\n",
    "            table.cell(i, 0).text = model_name\n",
    "            table.cell(i, 1).text = f\"{rmse:.3f}\"\n",
    "            table.cell(i, 2).text = f\"{mape:.2f}%\"\n",
    "            table.cell(i, 3).text = f\"{corr:.2f}\"\n",
    "            table.cell(i, 4).text = f\"{std_p:.2f}\"\n",
    "            table.cell(i, 5).text = f\"{sm:.2f}\"\n",
    "\n",
    "        # Add first two images\n",
    "        # image_files = [\"taylor\",\"val_vs_pred\",  \"heatmap\", \"scatter\"]\n",
    "        image_files = [\"taylor\",\"val_vs_pred\",\"Forecast\", \"heatmap\",  \"scatter\"]\n",
    "        img_slide_count = 0\n",
    "        img_group = []\n",
    "\n",
    "        for img_type in image_files:\n",
    "            img_path = os.path.join(station_path, f\"{img_type}_{col}.png\")\n",
    "            if not os.path.exists(img_path):\n",
    "                continue\n",
    "\n",
    "            # Create a new slide for each image\n",
    "            current_slide = prs.slides.add_slide(blank_slide_layout)\n",
    "\n",
    "            # Add slide title\n",
    "            sub_title_box = current_slide.shapes.add_textbox(Inches(0.5), Inches(0.3), Inches(9), Inches(0.5))\n",
    "            sub_tf = sub_title_box.text_frame\n",
    "            sub_tf.text = f\"Station {station_id} — {col} ({img_type.replace('_', ' ').title()})\"\n",
    "            sub_tf.paragraphs[0].font.size = Pt(20)\n",
    "            sub_tf.paragraphs[0].font.bold = True\n",
    "\n",
    "            # Add image\n",
    "            x = Inches(0.5)\n",
    "            y_img = Inches(1.0)\n",
    "            current_slide.shapes.add_picture(img_path, x, y_img, width=Inches(8.5))  # Full width if needed\n",
    "\n",
    "            # Add summary text\n",
    "            y_text = y_img + Inches(5.8)\n",
    "            model_metrics = results[int(station_id)][col]\n",
    "            summary_text = generate_summary(img_type, model_metrics)\n",
    "\n",
    "            textbox = current_slide.shapes.add_textbox(x, y_text, width=Inches(8.5), height=Inches(1))\n",
    "            tf = textbox.text_frame\n",
    "            tf.text = summary_text\n",
    "            tf.paragraphs[0].font.size = Pt(12)\n",
    "\n",
    "        # for img_type in image_files:\n",
    "        #     img_path = os.path.join(station_path, f\"{img_type}_{col}.png\")\n",
    "        #     if os.path.exists(img_path):\n",
    "        #         img_group.append(img_path)\n",
    "\n",
    "        # # Split image group into chunks of 2\n",
    "        # for i in range(0, len(img_group), 2):\n",
    "        #     if i == 0:\n",
    "        #         # Use the first slide already created\n",
    "        #         current_slide = slide\n",
    "        #     else:\n",
    "        #         current_slide = prs.slides.add_slide(blank_slide_layout)\n",
    "\n",
    "        #         # Add title for extra image slides\n",
    "        #         sub_title_box = current_slide.shapes.add_textbox(Inches(0.5), Inches(0.3), Inches(9), Inches(0.5))\n",
    "        #         sub_tf = sub_title_box.text_frame\n",
    "        #         sub_tf.text = f\"Station {station_id} — {col} (Images {i + 1}–{min(i+2, len(img_group))})\"\n",
    "        #         sub_tf.paragraphs[0].font.size = Pt(20)\n",
    "        #         sub_tf.paragraphs[0].font.bold = True\n",
    "\n",
    "        #     for j, img_path in enumerate(img_group[i:i+2]):\n",
    "        #         x = Inches(0.5 + j * 5)  # Side by side\n",
    "        #         y_img  = Inches(2.7 if i == 0 else 1.0)\n",
    "        #         y_text = y_img + Inches(3.6)  # Position text below image\n",
    "        #         current_slide.shapes.add_picture(img_path, x, y_img, width=Inches(4.5))\n",
    "\n",
    "        #         # Extract image type to get its description\n",
    "        #         img_filename = os.path.basename(img_path)\n",
    "        #         img_type = img_filename.split(\"_\")[0]\n",
    "\n",
    "        #         model_metrics = results[int(station_id)][col]\n",
    "        #         summary_text = generate_summary(img_type, model_metrics)\n",
    "\n",
    "\n",
    "        #         textbox = current_slide.shapes.add_textbox(x, y_text, width=Inches(4.5), height=Inches(1))\n",
    "        #         tf = textbox.text_frame\n",
    "        #         tf.text = summary_text\n",
    "        #         tf.paragraphs[0].font.size = Pt(12)\n",
    "\n",
    "# Save presentation\n",
    "prs.save(ppt_path)\n",
    "print(f\"✅ Presentation saved to: {ppt_path}\")"
   ]
  },
  {
   "cell_type": "code",
   "execution_count": null,
   "id": "680435b0",
   "metadata": {},
   "outputs": [],
   "source": [
    "import os\n",
    "from docx import Document\n",
    "from docx.shared import Inches, Pt\n",
    "from docx.enum.text import WD_ALIGN_PARAGRAPH\n",
    "base_dir = \"all_results\"\n",
    "\n",
    "doc = Document()\n",
    "doc.add_heading(\"SPI Forecast & Evaluation Summary\", 0)\n",
    "spi_periods = [\"1\", \"3\", \"6\", \"9\", \"12\", \"24\"]\n",
    "\n",
    "\n",
    "def generate_summary(img_type, model_metrics):\n",
    "    if not model_metrics:\n",
    "        return None\n",
    "\n",
    "    best_model, (std_o, std_p, corr, rmse, mape, sm) = min(model_metrics.items(), key=lambda x: x[1][3])\n",
    "    if rmse < 0.3 and mape < 10 and corr > 0.85:\n",
    "        perf = \"excellent\"\n",
    "    elif rmse < 0.6 and mape < 20 and corr > 0.65:\n",
    "        perf = \"reasonable\"\n",
    "    else:\n",
    "        perf = \"poor\"\n",
    "\n",
    "    if img_type == \"val_vs_pred\":\n",
    "        return f\"{best_model}: RMSE={rmse:.2f}, Corr={corr:.2f} — {perf} performance.\"\n",
    "    elif img_type == \"heatmap\":\n",
    "        return f\"{best_model} temporal map: Avg. MAPE={mape:.1f}% — {perf} performance.\"\n",
    "    elif img_type == \"taylor\":\n",
    "        return f\"{best_model} Taylor diagram — {perf} skill alignment.\"\n",
    "    return None\n",
    "\n",
    "# Inputs\n",
    "image_types  = {\n",
    "    \"taylor\": \"Taylor Diagram\",\n",
    "    \"heatmap\": \"Temporal Map\",\n",
    "    \"val_vs_pred\": \"Validation vs. Prediction\"\n",
    "}\n",
    "\n",
    "# def add_image(doc, img_path, caption, width=Inches(2.9)):\n",
    "#     if not os.path.exists(img_path):\n",
    "#         return\n",
    "#     doc.add_picture(img_path, width=width)\n",
    "#     last_paragraph = doc.paragraphs[-1]\n",
    "#     last_paragraph.alignment = WD_ALIGN_PARAGRAPH.CENTER\n",
    "#     caption_paragraph = doc.add_paragraph(caption)\n",
    "#     caption_paragraph.alignment = WD_ALIGN_PARAGRAPH.CENTER\n",
    "#     caption_paragraph.style.font.size = Pt(9)\n",
    "\n",
    "from PIL import Image\n",
    "\n",
    "def crop_bottom_whitespace(image_path, save_path=None, crop_ratio=0.3):\n",
    "    \"\"\"Crop the bottom portion of the image.\"\"\"\n",
    "    try:\n",
    "        img = Image.open(image_path)\n",
    "        width, height = img.size\n",
    "        cropped_img = img.crop((0, 0, width, int(height * (1 - crop_ratio))))\n",
    "        cropped_img.save(save_path or image_path)\n",
    "    except Exception as e:\n",
    "        print(f\"⚠️ Error cropping {image_path}: {e}\")\n",
    "\n",
    "# Loop through station folders\n",
    "for station_id in sorted(os.listdir(base_dir)):\n",
    "    station_path = os.path.join(base_dir, station_id)\n",
    "    if not os.path.isdir(station_path) or not station_id.isdigit():\n",
    "        continue\n",
    "\n",
    "    doc.add_heading(f\"Station {station_id}\", level=1)\n",
    "\n",
    "    for spi in spi_periods:\n",
    "        doc.add_heading(f\"SPI-{spi}\", level=2)\n",
    "\n",
    "        table = doc.add_table(rows=1, cols=3)\n",
    "        table.autofit = True\n",
    "        row = table.rows[0]\n",
    "\n",
    "        for i, prefix in enumerate([\"taylor\", \"heatmap\", \"val_vs_pred\"]):\n",
    "            file_name = f\"{prefix}_SPI_{spi}.png\"\n",
    "            img_path = os.path.join(station_path, file_name)\n",
    "\n",
    "            # Crop white space from Taylor diagram if needed\n",
    "            if prefix == \"taylor\" and os.path.exists(img_path):\n",
    "                crop_bottom_whitespace(img_path)\n",
    "\n",
    "            if os.path.exists(img_path):\n",
    "                paragraph = row.cells[i].paragraphs[0]\n",
    "                run = paragraph.add_run()\n",
    "                run.add_picture(img_path, width=Inches(2.2))\n",
    "                row.cells[i].paragraphs[0].alignment = WD_ALIGN_PARAGRAPH.CENTER\n",
    "\n",
    "        doc.add_paragraph()  # slight space between rows\n",
    "\n",
    "    doc.add_page_break()\n",
    "\n",
    "doc_path = os.path.join(base_dir, \"SPI_Results_Summary.docx\")\n",
    "doc.save(doc_path)\n",
    "print(f\"✅ Word document saved to: {doc_path}\")\n"
   ]
  },
  {
   "cell_type": "markdown",
   "id": "1bdb6bbd",
   "metadata": {},
   "source": [
    "Iran Stations Distributions"
   ]
  },
  {
   "cell_type": "code",
   "execution_count": null,
   "id": "b8473505",
   "metadata": {},
   "outputs": [],
   "source": [
    "import geopandas as gpd\n",
    "import pandas as pd\n",
    "import matplotlib.pyplot as plt\n",
    "from matplotlib.patches import ConnectionPatch, Rectangle\n",
    "from shapely.geometry import Point\n",
    "import numpy as np\n",
    "from scipy.interpolate import Rbf\n",
    "from matplotlib.offsetbox import OffsetImage, AnnotationBbox\n",
    "import matplotlib.image as mpimg\n",
    "from matplotlib.path import Path\n",
    "\n",
    "# === Load shapefiles ===\n",
    "iran = gpd.read_file('materials/iran.shp')   \n",
    "sea = gpd.read_file('materials/seas.shp') \n",
    "\n",
    "# === Load and prepare station data ===\n",
    "stations_df = pd.read_csv('../main_data.csv')\n",
    "stations = stations_df[['station_id', 'station_name', 'station_elevation', 'lat', 'lon']].drop_duplicates()\n",
    "geometry = [Point(xy) for xy in zip(stations['lon'], stations['lat'])]\n",
    "geo_df = gpd.GeoDataFrame(stations, geometry=geometry, crs='EPSG:4326')\n",
    "\n",
    "buffer = 0.3  # Optional: adds margin around stations\n",
    "xmin, xmax = geo_df.geometry.x.min() - buffer, geo_df.geometry.x.max() + buffer\n",
    "ymin, ymax = geo_df.geometry.y.min() - buffer, geo_df.geometry.y.max() + buffer\n",
    "\n",
    "\n",
    "# === Interpolate elevation ===\n",
    "x = geo_df.geometry.x.values\n",
    "y = geo_df.geometry.y.values\n",
    "z = geo_df['station_elevation'].values\n",
    "grid_res = 500\n",
    "# xi = np.linspace(iran.total_bounds[0], iran.total_bounds[2], grid_res)\n",
    "# yi = np.linspace(iran.total_bounds[1], iran.total_bounds[3], grid_res)\n",
    "xi = np.linspace(xmin, xmax, grid_res)\n",
    "yi = np.linspace(ymin, ymax, grid_res)\n",
    "xi, yi = np.meshgrid(xi, yi)\n",
    "rbf = Rbf(x, y, z, function='linear')\n",
    "zi = rbf(xi, yi)\n",
    "\n",
    "# Create a mask from the Iran polygon\n",
    "iran_shape = iran.unary_union  # In case it's a multi-polygon\n",
    "mask = np.ones_like(zi, dtype=bool)\n",
    "\n",
    "# Build a Path object for masking\n",
    "# iran_path = Path(iran_shape.exterior.coords[:])\n",
    "\n",
    "# Go through each grid point and mask if it's outside\n",
    "for i in range(zi.shape[0]):\n",
    "    for j in range(zi.shape[1]):\n",
    "        point = (xi[0, j], yi[i, 0])  # Get X, Y of this pixel\n",
    "        if iran_shape.contains(Point(point)):\n",
    "            mask[i, j] = False\n",
    "\n",
    "# Apply mask to elevation\n",
    "zi_masked = np.ma.masked_array(zi, mask=mask)\n",
    "\n",
    "# === Define zoom region ===\n",
    "# # Set the zoom box manually for a region (e.g., Ardabil or any other)\n",
    "# zoom_xmin, zoom_xmax = 46.5, 49.5\n",
    "# zoom_ymin, zoom_ymax = 37.0, 39.0\n",
    "\n",
    "# === Setup figure ===\n",
    "fig = plt.figure(figsize=(5, 8))\n",
    "\n",
    "# --- Left: Full map of Iran ---\n",
    "ax_iran = fig.add_axes([0.02, 0.65, 0.5, 0.5])  # Top-left corner\n",
    "sea.plot(ax=ax_iran, color='lightblue')\n",
    "iran.plot(ax=ax_iran, color='lightgray', edgecolor='black')\n",
    "ax_iran.set_xticks([]); ax_iran.set_yticks([]); ax_iran.set_title('Iran Overview', fontsize=12)\n",
    "\n",
    "# # Draw zoom rectangle on Iran map\n",
    "# rect = Rectangle((zoom_xmin, zoom_ymin), zoom_xmax - zoom_xmin, zoom_ymax - zoom_ymin,\n",
    "#                  linewidth=2, edgecolor='red', facecolor='none', linestyle='--')\n",
    "# ax_iran.add_patch(rect)\n",
    "\n",
    "ax_iran.plot([xmin, xmax, xmax, xmin, xmin],\n",
    "             [ymin, ymin, ymax, ymax, ymin],\n",
    "             color='red', linestyle='--', linewidth=2)\n",
    "\n",
    "# --- Right: Zoomed-in elevation with stations ---\n",
    "ax_zoom = fig.add_axes([0.02, 0.05, 0.8, 0.8])  # Right side\n",
    "\n",
    "iran.plot(ax=ax_zoom, facecolor='none', edgecolor='black', linewidth=1.2)\n",
    "\n",
    "elev_img = ax_zoom.imshow(zi_masked, extent=(xi.min(), xi.max(), yi.min(), yi.max()),\n",
    "                          origin='lower', cmap='terrain', alpha=0.8)\n",
    "\n",
    "# # Set zoom limits\n",
    "# ax_zoom.set_xlim(zoom_xmin, zoom_xmax)\n",
    "# ax_zoom.set_ylim(zoom_ymin, zoom_ymax)\n",
    "\n",
    "geo_df.plot(ax=ax_zoom, color='black', markersize=20, marker='^', zorder=3)\n",
    "\n",
    "for idx, row in geo_df.iterrows():\n",
    "    ax_zoom.text(row.geometry.x + 0.05, row.geometry.y, \n",
    "                 str(row['station_id']), fontsize=8, color='black')\n",
    "# ax_zoom.set_title('Zoomed Region: Elevation & Stations', fontsize=12)\n",
    "# ax_zoom.set_xticks([]); ax_zoom.set_yticks([])\n",
    "ax_zoom.set_xlim(xmin, xmax)\n",
    "ax_zoom.set_ylim(ymin, ymax)\n",
    "# ax_zoom.set_xticks([]); ax_zoom.set_yticks([])\n",
    "\n",
    "# --- Colorbar ---\n",
    "cbar = fig.colorbar(elev_img, ax=ax_zoom, orientation='vertical', pad=0.09, fraction=0.03)\n",
    "# cbar.set_label('Elevation (m)')\n",
    "\n",
    "# --- Compass Rose (top right of zoom view) ---\n",
    "compass_img = mpimg.imread('materials/vecteezy_nautical-compass-icon_.jpg')\n",
    "ax_compass = fig.add_axes([0.68, 0.77, 0.2, 0.2])  # Adjust position/size here\n",
    "ax_compass.imshow(compass_img)\n",
    "ax_compass.axis('off')  # Hide axes frame\n",
    "ax_compass.set_title(\"N\", fontsize=10, pad=-10)\n",
    "# imagebox = OffsetImage(compass_img, zoom=0.06)\n",
    "# ab = AnnotationBbox(imagebox, (0.91, 0.91), xycoords='axes fraction', frameon=False,)\n",
    "# ax_zoom.add_artist(ab)\n",
    "\n",
    "# --- Add lines from Iran map to zoomed region ---\n",
    "# Calculate rectangle corners\n",
    "corner1 = (xmin, ymin)\n",
    "corner2 = (xmax, ymax)\n",
    "\n",
    "# Line from bottom-left corner of zoom box\n",
    "con1 = ConnectionPatch(xyA=corner1, xyB=corner1, coordsA=\"data\", coordsB=\"data\",\n",
    "                       axesA=ax_iran, axesB=ax_zoom, color=\"red\", linestyle='--')\n",
    "fig.add_artist(con1)\n",
    "\n",
    "# Line from top-right corner of zoom box\n",
    "con2 = ConnectionPatch(xyA=corner2, xyB=corner2, coordsA=\"data\", coordsB=\"data\",\n",
    "                       axesA=ax_iran, axesB=ax_zoom, color=\"red\", linestyle='--')\n",
    "fig.add_artist(con2)\n",
    "\n",
    "plt.tight_layout()\n",
    "plt.savefig(\"iran_stations.png\", dpi=600, bbox_inches='tight')\n",
    "plt.show()\n",
    "\n"
   ]
  },
  {
   "cell_type": "code",
   "execution_count": null,
   "id": "0e069888",
   "metadata": {},
   "outputs": [],
   "source": [
    "import pandas as pd\n",
    "\n",
    "# Load the data\n",
    "df = pd.read_csv(\"../main_data.csv\")\n",
    "\n",
    "# Group by station and calculate averages\n",
    "summary = df.groupby(['station_id', 'station_name', 'region_name', 'station_elevation'])[\n",
    "    ['tm_m', 'tmax_m', 'tmin_m', 'rrr24']\n",
    "].mean().reset_index()\n",
    "\n",
    "# Rename columns for clarity\n",
    "summary.columns = [\n",
    "    'Station ID', 'Station Name', 'Region', 'Elevation (m)',\n",
    "    'Avg Temp (°C)', 'Avg Max Temp (°C)', 'Avg Min Temp (°C)', 'Avg Rainfall (mm/month)'\n",
    "]\n",
    "\n",
    "# Optional: Export to Excel or Word\n",
    "summary.to_excel(\"climate_summary.xlsx\", index=False)\n",
    "\n",
    "# Or, export to Word using python-docx (optional)\n",
    "from docx import Document\n",
    "\n",
    "doc = Document()\n",
    "doc.add_heading('Climate Summary of Stations', 0)\n",
    "\n",
    "table = doc.add_table(rows=1, cols=len(summary.columns))\n",
    "table.style = 'Table Grid'\n",
    "\n",
    "# Add headers\n",
    "hdr_cells = table.rows[0].cells\n",
    "for i, column in enumerate(summary.columns):\n",
    "    hdr_cells[i].text = column\n",
    "\n",
    "# Add data rows\n",
    "for _, row in summary.iterrows():\n",
    "    row_cells = table.add_row().cells\n",
    "    for i, item in enumerate(row):\n",
    "        row_cells[i].text = str(round(item, 2)) if isinstance(item, float) else str(item)\n",
    "\n",
    "doc.save(\"climate_summary.docx\")\n"
   ]
  }
 ],
 "metadata": {
  "kernelspec": {
   "display_name": "Python 3",
   "language": "python",
   "name": "python3"
  },
  "language_info": {
   "codemirror_mode": {
    "name": "ipython",
    "version": 3
   },
   "file_extension": ".py",
   "mimetype": "text/x-python",
   "name": "python",
   "nbconvert_exporter": "python",
   "pygments_lexer": "ipython3",
   "version": "3.10.4"
  }
 },
 "nbformat": 4,
 "nbformat_minor": 5
}
